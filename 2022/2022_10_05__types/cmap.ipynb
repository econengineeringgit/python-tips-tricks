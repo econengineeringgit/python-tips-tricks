{
 "cells": [
  {
   "cell_type": "code",
   "execution_count": null,
   "id": "d5ecbde4",
   "metadata": {},
   "outputs": [],
   "source": [
    "import seaborn as sns\n",
    "import matplotlib.pyplot as plt"
   ]
  },
  {
   "cell_type": "code",
   "execution_count": null,
   "id": "b0e78468",
   "metadata": {},
   "outputs": [],
   "source": [
    "sns.diverging_palette(289, 260, s=66, l=36, as_cmap=True)"
   ]
  },
  {
   "cell_type": "code",
   "execution_count": 3,
   "id": "c7729f5f",
   "metadata": {},
   "outputs": [
    {
     "ename": "NameError",
     "evalue": "name 'interact' is not defined",
     "output_type": "error",
     "traceback": [
      "\u001b[1;31m---------------------------------------------------------------------------\u001b[0m",
      "\u001b[1;31mNameError\u001b[0m                                 Traceback (most recent call last)",
      "Cell \u001b[1;32mIn [3], line 1\u001b[0m\n\u001b[1;32m----> 1\u001b[0m sns\u001b[38;5;241m.\u001b[39mchoose_diverging_palette()\n",
      "File \u001b[1;32mq:\\08_docs\\005_oktatás_kurzus\\01_econ\\003__pythontipsandtricks__\\2022_10_05__types\\venv\\lib\\site-packages\\seaborn\\widgets.py:359\u001b[0m, in \u001b[0;36mchoose_diverging_palette\u001b[1;34m(as_cmap)\u001b[0m\n\u001b[0;32m    356\u001b[0m \u001b[38;5;28;01mif\u001b[39;00m as_cmap:\n\u001b[0;32m    357\u001b[0m     cmap \u001b[38;5;241m=\u001b[39m _init_mutable_colormap()\n\u001b[1;32m--> 359\u001b[0m \u001b[38;5;129m@interact\u001b[39m\n\u001b[0;32m    360\u001b[0m \u001b[38;5;28;01mdef\u001b[39;00m \u001b[38;5;21mchoose_diverging_palette\u001b[39m(\n\u001b[0;32m    361\u001b[0m     h_neg\u001b[38;5;241m=\u001b[39mIntSlider(\u001b[38;5;28mmin\u001b[39m\u001b[38;5;241m=\u001b[39m\u001b[38;5;241m0\u001b[39m,\n\u001b[0;32m    362\u001b[0m                     \u001b[38;5;28mmax\u001b[39m\u001b[38;5;241m=\u001b[39m\u001b[38;5;241m359\u001b[39m,\n\u001b[0;32m    363\u001b[0m                     value\u001b[38;5;241m=\u001b[39m\u001b[38;5;241m220\u001b[39m),\n\u001b[0;32m    364\u001b[0m     h_pos\u001b[38;5;241m=\u001b[39mIntSlider(\u001b[38;5;28mmin\u001b[39m\u001b[38;5;241m=\u001b[39m\u001b[38;5;241m0\u001b[39m,\n\u001b[0;32m    365\u001b[0m                     \u001b[38;5;28mmax\u001b[39m\u001b[38;5;241m=\u001b[39m\u001b[38;5;241m359\u001b[39m,\n\u001b[0;32m    366\u001b[0m                     value\u001b[38;5;241m=\u001b[39m\u001b[38;5;241m10\u001b[39m),\n\u001b[0;32m    367\u001b[0m     s\u001b[38;5;241m=\u001b[39mIntSlider(\u001b[38;5;28mmin\u001b[39m\u001b[38;5;241m=\u001b[39m\u001b[38;5;241m0\u001b[39m, \u001b[38;5;28mmax\u001b[39m\u001b[38;5;241m=\u001b[39m\u001b[38;5;241m99\u001b[39m, value\u001b[38;5;241m=\u001b[39m\u001b[38;5;241m74\u001b[39m),\n\u001b[0;32m    368\u001b[0m     l\u001b[38;5;241m=\u001b[39mIntSlider(\u001b[38;5;28mmin\u001b[39m\u001b[38;5;241m=\u001b[39m\u001b[38;5;241m0\u001b[39m, \u001b[38;5;28mmax\u001b[39m\u001b[38;5;241m=\u001b[39m\u001b[38;5;241m99\u001b[39m, value\u001b[38;5;241m=\u001b[39m\u001b[38;5;241m50\u001b[39m),  \u001b[38;5;66;03m# noqa: E741\u001b[39;00m\n\u001b[0;32m    369\u001b[0m     sep\u001b[38;5;241m=\u001b[39mIntSlider(\u001b[38;5;28mmin\u001b[39m\u001b[38;5;241m=\u001b[39m\u001b[38;5;241m1\u001b[39m, \u001b[38;5;28mmax\u001b[39m\u001b[38;5;241m=\u001b[39m\u001b[38;5;241m50\u001b[39m, value\u001b[38;5;241m=\u001b[39m\u001b[38;5;241m10\u001b[39m),\n\u001b[0;32m    370\u001b[0m     n\u001b[38;5;241m=\u001b[39m(\u001b[38;5;241m2\u001b[39m, \u001b[38;5;241m16\u001b[39m),\n\u001b[0;32m    371\u001b[0m     center\u001b[38;5;241m=\u001b[39m[\u001b[38;5;124m\"\u001b[39m\u001b[38;5;124mlight\u001b[39m\u001b[38;5;124m\"\u001b[39m, \u001b[38;5;124m\"\u001b[39m\u001b[38;5;124mdark\u001b[39m\u001b[38;5;124m\"\u001b[39m]\n\u001b[0;32m    372\u001b[0m ):\n\u001b[0;32m    373\u001b[0m     \u001b[38;5;28;01mif\u001b[39;00m as_cmap:\n\u001b[0;32m    374\u001b[0m         colors \u001b[38;5;241m=\u001b[39m diverging_palette(h_neg, h_pos, s, l, sep, \u001b[38;5;241m256\u001b[39m, center)\n",
      "\u001b[1;31mNameError\u001b[0m: name 'interact' is not defined"
     ]
    }
   ],
   "source": [
    "sns.choose_diverging_palette()"
   ]
  },
  {
   "cell_type": "code",
   "execution_count": null,
   "id": "3a24235b",
   "metadata": {},
   "outputs": [],
   "source": [
    "from matplotlib import markers\n",
    "# get all possible shapes\n",
    "all_shapes = markers.MarkerStyle.markers.keys()\n",
    "# print list of shapes\n",
    "all_shapes\n",
    "# ['.', ',', 'o', 'v', '^', '<', '>', '1', '2', '3', '4', '8', 's', 'p', '*', 'h', 'H', '+', 'x', 'D', 'd', '|', '_', 'P', 'X',\n",
    "# 0, 1, 2, 3, 4, 5, 6, 7, 8, 9, 10, 11, 'None', None, ' ', '']"
   ]
  },
  {
   "cell_type": "code",
   "execution_count": null,
   "id": "85e5dc51",
   "metadata": {},
   "outputs": [],
   "source": [
    "df = sns.load_dataset('iris')\n",
    " \n",
    "# change shape of marker\n",
    "sns.regplot(x=df[\"sepal_length\"], y=df[\"sepal_width\"], marker=\"_\", fit_reg=False)\n",
    "\n",
    "plt.show()"
   ]
  },
  {
   "cell_type": "code",
   "execution_count": null,
   "id": "7da5f935",
   "metadata": {},
   "outputs": [],
   "source": []
  }
 ],
 "metadata": {
  "kernelspec": {
   "display_name": "Python 3 (ipykernel)",
   "language": "python",
   "name": "python3"
  },
  "language_info": {
   "codemirror_mode": {
    "name": "ipython",
    "version": 3
   },
   "file_extension": ".py",
   "mimetype": "text/x-python",
   "name": "python",
   "nbconvert_exporter": "python",
   "pygments_lexer": "ipython3",
   "version": "3.8.10"
  }
 },
 "nbformat": 4,
 "nbformat_minor": 5
}
