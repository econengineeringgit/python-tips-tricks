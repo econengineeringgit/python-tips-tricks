{
 "cells": [
  {
   "cell_type": "code",
   "execution_count": 2,
   "metadata": {},
   "outputs": [],
   "source": [
    "# Imports\n",
    "from pathlib import Path\n",
    "\n",
    "import pandas as pd\n",
    "import numpy as np\n",
    "import plotly.express as px"
   ]
  },
  {
   "cell_type": "markdown",
   "metadata": {},
   "source": [
    "## Pandas VS Excel\n",
    "\n",
    "| Excel     | pandas      |\n",
    "| ------------- | ------------- |\n",
    "| spreadsheets | DataFrame |a\n",
    "| column | Series |\n",
    "| row headings | Index |\n",
    "| empty cell | NaN |\n",
    "\n",
    "[Link](https://pandas.pydata.org/pandas-docs/stable/getting_started/comparison/comparison_with_spreadsheets.html)"
   ]
  },
  {
   "cell_type": "code",
   "execution_count": 3,
   "metadata": {},
   "outputs": [
    {
     "data": {
      "text/html": [
       "<div>\n",
       "<style scoped>\n",
       "    .dataframe tbody tr th:only-of-type {\n",
       "        vertical-align: middle;\n",
       "    }\n",
       "\n",
       "    .dataframe tbody tr th {\n",
       "        vertical-align: top;\n",
       "    }\n",
       "\n",
       "    .dataframe thead th {\n",
       "        text-align: right;\n",
       "    }\n",
       "</style>\n",
       "<table border=\"1\" class=\"dataframe\">\n",
       "  <thead>\n",
       "    <tr style=\"text-align: right;\">\n",
       "      <th></th>\n",
       "      <th>A</th>\n",
       "      <th>B</th>\n",
       "      <th>C</th>\n",
       "    </tr>\n",
       "  </thead>\n",
       "  <tbody>\n",
       "    <tr>\n",
       "      <th>0</th>\n",
       "      <td>23</td>\n",
       "      <td>foo</td>\n",
       "      <td>A0</td>\n",
       "    </tr>\n",
       "    <tr>\n",
       "      <th>1</th>\n",
       "      <td>5</td>\n",
       "      <td>bar</td>\n",
       "      <td>B0</td>\n",
       "    </tr>\n",
       "    <tr>\n",
       "      <th>2</th>\n",
       "      <td>-12</td>\n",
       "      <td>baz</td>\n",
       "      <td>C0</td>\n",
       "    </tr>\n",
       "  </tbody>\n",
       "</table>\n",
       "</div>"
      ],
      "text/plain": [
       "    A    B   C\n",
       "0  23  foo  A0\n",
       "1   5  bar  B0\n",
       "2 -12  baz  C0"
      ]
     },
     "execution_count": 3,
     "metadata": {},
     "output_type": "execute_result"
    }
   ],
   "source": [
    "# Same dataset as in example.xlsx\n",
    "\n",
    "example = pd.DataFrame({\n",
    "    'A': [23, 5, -12],\n",
    "    'B': ['foo', 'bar', 'baz'],\n",
    "    'C': ['A0', 'B0', 'C0']\n",
    "})\n",
    "\n",
    "example"
   ]
  },
  {
   "cell_type": "code",
   "execution_count": 6,
   "metadata": {},
   "outputs": [
    {
     "name": "stdout",
     "output_type": "stream",
     "text": [
      "<class 'pandas.core.frame.DataFrame'>\n",
      "Index: 3 entries, 101 to 103\n",
      "Data columns (total 3 columns):\n",
      " #   Column  Non-Null Count  Dtype \n",
      "---  ------  --------------  ----- \n",
      " 0   A       3 non-null      int64 \n",
      " 1   B       3 non-null      object\n",
      " 2   C       3 non-null      object\n",
      "dtypes: int64(1), object(2)\n",
      "memory usage: 96.0+ bytes\n"
     ]
    }
   ],
   "source": [
    "example.info()"
   ]
  },
  {
   "cell_type": "code",
   "execution_count": 7,
   "metadata": {},
   "outputs": [
    {
     "data": {
      "text/html": [
       "<div>\n",
       "<style scoped>\n",
       "    .dataframe tbody tr th:only-of-type {\n",
       "        vertical-align: middle;\n",
       "    }\n",
       "\n",
       "    .dataframe tbody tr th {\n",
       "        vertical-align: top;\n",
       "    }\n",
       "\n",
       "    .dataframe thead th {\n",
       "        text-align: right;\n",
       "    }\n",
       "</style>\n",
       "<table border=\"1\" class=\"dataframe\">\n",
       "  <thead>\n",
       "    <tr style=\"text-align: right;\">\n",
       "      <th></th>\n",
       "      <th>A</th>\n",
       "      <th>B</th>\n",
       "      <th>C</th>\n",
       "    </tr>\n",
       "  </thead>\n",
       "  <tbody>\n",
       "    <tr>\n",
       "      <th>a</th>\n",
       "      <td>23</td>\n",
       "      <td>foo</td>\n",
       "      <td>A0</td>\n",
       "    </tr>\n",
       "    <tr>\n",
       "      <th>b</th>\n",
       "      <td>5</td>\n",
       "      <td>bar</td>\n",
       "      <td>B0</td>\n",
       "    </tr>\n",
       "    <tr>\n",
       "      <th>c</th>\n",
       "      <td>-12</td>\n",
       "      <td>baz</td>\n",
       "      <td>C0</td>\n",
       "    </tr>\n",
       "  </tbody>\n",
       "</table>\n",
       "</div>"
      ],
      "text/plain": [
       "    A    B   C\n",
       "a  23  foo  A0\n",
       "b   5  bar  B0\n",
       "c -12  baz  C0"
      ]
     },
     "execution_count": 7,
     "metadata": {},
     "output_type": "execute_result"
    }
   ],
   "source": [
    "# Custom indexing\n",
    "\n",
    "example.index = [\"a\", \"b\", \"c\"]\n",
    "example"
   ]
  },
  {
   "cell_type": "code",
   "execution_count": 8,
   "metadata": {},
   "outputs": [
    {
     "data": {
      "text/html": [
       "<div>\n",
       "<style scoped>\n",
       "    .dataframe tbody tr th:only-of-type {\n",
       "        vertical-align: middle;\n",
       "    }\n",
       "\n",
       "    .dataframe tbody tr th {\n",
       "        vertical-align: top;\n",
       "    }\n",
       "\n",
       "    .dataframe thead th {\n",
       "        text-align: right;\n",
       "    }\n",
       "</style>\n",
       "<table border=\"1\" class=\"dataframe\">\n",
       "  <thead>\n",
       "    <tr style=\"text-align: right;\">\n",
       "      <th></th>\n",
       "      <th>X</th>\n",
       "      <th>Y</th>\n",
       "      <th>Z</th>\n",
       "    </tr>\n",
       "  </thead>\n",
       "  <tbody>\n",
       "    <tr>\n",
       "      <th>a</th>\n",
       "      <td>23</td>\n",
       "      <td>foo</td>\n",
       "      <td>A0</td>\n",
       "    </tr>\n",
       "    <tr>\n",
       "      <th>b</th>\n",
       "      <td>5</td>\n",
       "      <td>bar</td>\n",
       "      <td>B0</td>\n",
       "    </tr>\n",
       "    <tr>\n",
       "      <th>c</th>\n",
       "      <td>-12</td>\n",
       "      <td>baz</td>\n",
       "      <td>C0</td>\n",
       "    </tr>\n",
       "  </tbody>\n",
       "</table>\n",
       "</div>"
      ],
      "text/plain": [
       "    X    Y   Z\n",
       "a  23  foo  A0\n",
       "b   5  bar  B0\n",
       "c -12  baz  C0"
      ]
     },
     "execution_count": 8,
     "metadata": {},
     "output_type": "execute_result"
    }
   ],
   "source": [
    "# Custom column names\n",
    "\n",
    "example.columns = ['X', 'Y', 'Z']\n",
    "example"
   ]
  },
  {
   "cell_type": "code",
   "execution_count": 9,
   "metadata": {},
   "outputs": [
    {
     "data": {
      "text/plain": [
       "a    23\n",
       "b     5\n",
       "c   -12\n",
       "Name: X, dtype: int64"
      ]
     },
     "execution_count": 9,
     "metadata": {},
     "output_type": "execute_result"
    }
   ],
   "source": [
    "# Selecting a column\n",
    "example['X']"
   ]
  },
  {
   "cell_type": "code",
   "execution_count": 10,
   "metadata": {},
   "outputs": [
    {
     "data": {
      "text/plain": [
       "X      5\n",
       "Y    bar\n",
       "Z     B0\n",
       "Name: b, dtype: object"
      ]
     },
     "execution_count": 10,
     "metadata": {},
     "output_type": "execute_result"
    }
   ],
   "source": [
    "# iloc\n",
    "example.iloc[1]"
   ]
  },
  {
   "cell_type": "code",
   "execution_count": 11,
   "metadata": {},
   "outputs": [
    {
     "data": {
      "text/plain": [
       "X      5\n",
       "Y    bar\n",
       "Z     B0\n",
       "Name: b, dtype: object"
      ]
     },
     "execution_count": 11,
     "metadata": {},
     "output_type": "execute_result"
    }
   ],
   "source": [
    "# loc\n",
    "example.loc[\"b\"]"
   ]
  },
  {
   "cell_type": "code",
   "execution_count": 12,
   "metadata": {},
   "outputs": [
    {
     "data": {
      "text/html": [
       "<div>\n",
       "<style scoped>\n",
       "    .dataframe tbody tr th:only-of-type {\n",
       "        vertical-align: middle;\n",
       "    }\n",
       "\n",
       "    .dataframe tbody tr th {\n",
       "        vertical-align: top;\n",
       "    }\n",
       "\n",
       "    .dataframe thead th {\n",
       "        text-align: right;\n",
       "    }\n",
       "</style>\n",
       "<table border=\"1\" class=\"dataframe\">\n",
       "  <thead>\n",
       "    <tr style=\"text-align: right;\">\n",
       "      <th></th>\n",
       "      <th>X</th>\n",
       "      <th>Y</th>\n",
       "      <th>Z</th>\n",
       "    </tr>\n",
       "  </thead>\n",
       "  <tbody>\n",
       "    <tr>\n",
       "      <th>a</th>\n",
       "      <td>23</td>\n",
       "      <td>foo</td>\n",
       "      <td>A0</td>\n",
       "    </tr>\n",
       "    <tr>\n",
       "      <th>b</th>\n",
       "      <td>5</td>\n",
       "      <td>bar</td>\n",
       "      <td>B0</td>\n",
       "    </tr>\n",
       "  </tbody>\n",
       "</table>\n",
       "</div>"
      ],
      "text/plain": [
       "    X    Y   Z\n",
       "a  23  foo  A0\n",
       "b   5  bar  B0"
      ]
     },
     "execution_count": 12,
     "metadata": {},
     "output_type": "execute_result"
    }
   ],
   "source": [
    "example.loc[\"a\":\"b\"] "
   ]
  },
  {
   "cell_type": "code",
   "execution_count": 13,
   "metadata": {},
   "outputs": [
    {
     "data": {
      "text/plain": [
       "'C0'"
      ]
     },
     "execution_count": 13,
     "metadata": {},
     "output_type": "execute_result"
    }
   ],
   "source": [
    "example.loc[\"c\", 'Z']"
   ]
  },
  {
   "cell_type": "markdown",
   "metadata": {},
   "source": [
    "## Data about placenames in Hungary\n",
    "- GeoNames dataset: https://www.geonames.org/\n",
    "- (Almost) every placenames in Hungary (datasource: KSH) https://www.geonames.org/countries/HU/hungary.html: **[HU.txt](data/HU.txt)**\n",
    "- Feature codes (Codes and descriptions) http://www.geonames.org/export/codes.html: **[feature_codes.tsv](data/feature_codes.tsv)**"
   ]
  },
  {
   "cell_type": "markdown",
   "metadata": {},
   "source": [
    "# Data Transformation and Cleaning"
   ]
  },
  {
   "cell_type": "code",
   "execution_count": 14,
   "metadata": {},
   "outputs": [],
   "source": [
    "data_path = Path(\"data\")"
   ]
  },
  {
   "cell_type": "code",
   "execution_count": 15,
   "metadata": {},
   "outputs": [
    {
     "name": "stdout",
     "output_type": "stream",
     "text": [
      "<class 'pandas.core.frame.DataFrame'>\n",
      "Index: 24618 entries, 672629 to 12749917\n",
      "Data columns (total 18 columns):\n",
      " #   Column             Non-Null Count  Dtype  \n",
      "---  ------             --------------  -----  \n",
      " 0   name               24618 non-null  object \n",
      " 1   asciiname          24618 non-null  object \n",
      " 2   alternatenames     8032 non-null   object \n",
      " 3   latitude           24618 non-null  float64\n",
      " 4   longitude          24618 non-null  float64\n",
      " 5   feature_class      24618 non-null  object \n",
      " 6   feature_code       24618 non-null  object \n",
      " 7   country_code       24618 non-null  object \n",
      " 8   cc2                42 non-null     object \n",
      " 9   admin1_code        24584 non-null  float64\n",
      " 10  admin2_code        275 non-null    float64\n",
      " 11  admin3_code        0 non-null      float64\n",
      " 12  admin4_code        0 non-null      float64\n",
      " 13  population         24618 non-null  int64  \n",
      " 14  elevation          122 non-null    float64\n",
      " 15  dem                24618 non-null  int64  \n",
      " 16  timezone           24618 non-null  object \n",
      " 17  modification_date  24618 non-null  object \n",
      "dtypes: float64(7), int64(2), object(9)\n",
      "memory usage: 3.6+ MB\n"
     ]
    }
   ],
   "source": [
    "# Load HU.txt\n",
    "\n",
    "columns = [\"geonameid\",\n",
    "            \"name\", \n",
    "            \"asciiname\",\n",
    "            \"alternatenames\", \n",
    "            \"latitude\",\n",
    "            \"longitude\", \n",
    "            \"feature_class\", \n",
    "            \"feature_code\", \n",
    "            \"country_code\", \n",
    "            \"cc2\",\n",
    "            \"admin1_code\",\n",
    "            \"admin2_code\",\n",
    "            \"admin3_code\",\n",
    "            \"admin4_code\", \n",
    "            \"population\",\n",
    "            \"elevation\", \n",
    "            \"dem\", \n",
    "            \"timezone\",\n",
    "            \"modification_date\"\n",
    "        ]\n",
    "\n",
    "hu_df = pd.read_csv(data_path / \"HU.txt\", sep=\"\\t\", header=None, names=columns, index_col=0)\n",
    "hu_df.info()"
   ]
  },
  {
   "cell_type": "code",
   "execution_count": 16,
   "metadata": {},
   "outputs": [
    {
     "data": {
      "text/html": [
       "<div>\n",
       "<style scoped>\n",
       "    .dataframe tbody tr th:only-of-type {\n",
       "        vertical-align: middle;\n",
       "    }\n",
       "\n",
       "    .dataframe tbody tr th {\n",
       "        vertical-align: top;\n",
       "    }\n",
       "\n",
       "    .dataframe thead th {\n",
       "        text-align: right;\n",
       "    }\n",
       "</style>\n",
       "<table border=\"1\" class=\"dataframe\">\n",
       "  <thead>\n",
       "    <tr style=\"text-align: right;\">\n",
       "      <th></th>\n",
       "      <th>name</th>\n",
       "      <th>asciiname</th>\n",
       "      <th>alternatenames</th>\n",
       "      <th>latitude</th>\n",
       "      <th>longitude</th>\n",
       "      <th>feature_class</th>\n",
       "      <th>feature_code</th>\n",
       "      <th>country_code</th>\n",
       "      <th>cc2</th>\n",
       "      <th>admin1_code</th>\n",
       "      <th>admin2_code</th>\n",
       "      <th>admin3_code</th>\n",
       "      <th>admin4_code</th>\n",
       "      <th>population</th>\n",
       "      <th>elevation</th>\n",
       "      <th>dem</th>\n",
       "      <th>timezone</th>\n",
       "      <th>modification_date</th>\n",
       "    </tr>\n",
       "    <tr>\n",
       "      <th>geonameid</th>\n",
       "      <th></th>\n",
       "      <th></th>\n",
       "      <th></th>\n",
       "      <th></th>\n",
       "      <th></th>\n",
       "      <th></th>\n",
       "      <th></th>\n",
       "      <th></th>\n",
       "      <th></th>\n",
       "      <th></th>\n",
       "      <th></th>\n",
       "      <th></th>\n",
       "      <th></th>\n",
       "      <th></th>\n",
       "      <th></th>\n",
       "      <th></th>\n",
       "      <th></th>\n",
       "      <th></th>\n",
       "    </tr>\n",
       "  </thead>\n",
       "  <tbody>\n",
       "    <tr>\n",
       "      <th>672629</th>\n",
       "      <td>Maros</td>\n",
       "      <td>Maros</td>\n",
       "      <td>Marisus,Mures,Mures River,Muresh,Muresul,Mureş...</td>\n",
       "      <td>46.25000</td>\n",
       "      <td>20.20000</td>\n",
       "      <td>H</td>\n",
       "      <td>STM</td>\n",
       "      <td>HU</td>\n",
       "      <td>HU,RO</td>\n",
       "      <td>0.0</td>\n",
       "      <td>NaN</td>\n",
       "      <td>NaN</td>\n",
       "      <td>NaN</td>\n",
       "      <td>0</td>\n",
       "      <td>NaN</td>\n",
       "      <td>81</td>\n",
       "      <td>Europe/Budapest</td>\n",
       "      <td>2021-02-18</td>\n",
       "    </tr>\n",
       "    <tr>\n",
       "      <th>677528</th>\n",
       "      <td>Gémesi Révház</td>\n",
       "      <td>Gemesi Revhaz</td>\n",
       "      <td>NaN</td>\n",
       "      <td>46.33472</td>\n",
       "      <td>18.89167</td>\n",
       "      <td>P</td>\n",
       "      <td>PPL</td>\n",
       "      <td>HU</td>\n",
       "      <td>NaN</td>\n",
       "      <td>0.0</td>\n",
       "      <td>NaN</td>\n",
       "      <td>NaN</td>\n",
       "      <td>NaN</td>\n",
       "      <td>0</td>\n",
       "      <td>NaN</td>\n",
       "      <td>102</td>\n",
       "      <td>Europe/Budapest</td>\n",
       "      <td>2014-07-08</td>\n",
       "    </tr>\n",
       "    <tr>\n",
       "      <th>680145</th>\n",
       "      <td>Fekete-Körös</td>\n",
       "      <td>Fekete-Koros</td>\n",
       "      <td>Black Koros,Black Körös,Crisu Negru,Crisul Neg...</td>\n",
       "      <td>46.70000</td>\n",
       "      <td>21.26667</td>\n",
       "      <td>H</td>\n",
       "      <td>STM</td>\n",
       "      <td>HU</td>\n",
       "      <td>NaN</td>\n",
       "      <td>0.0</td>\n",
       "      <td>NaN</td>\n",
       "      <td>NaN</td>\n",
       "      <td>NaN</td>\n",
       "      <td>0</td>\n",
       "      <td>NaN</td>\n",
       "      <td>88</td>\n",
       "      <td>Europe/Budapest</td>\n",
       "      <td>2012-01-18</td>\n",
       "    </tr>\n",
       "    <tr>\n",
       "      <th>680147</th>\n",
       "      <td>Fehér-Körös</td>\n",
       "      <td>Feher-Koros</td>\n",
       "      <td>Crisu Alb,Crisul Alb,Crişu Alb,Crişul Alb,Fehe...</td>\n",
       "      <td>46.93333</td>\n",
       "      <td>20.96667</td>\n",
       "      <td>H</td>\n",
       "      <td>STM</td>\n",
       "      <td>HU</td>\n",
       "      <td>NaN</td>\n",
       "      <td>0.0</td>\n",
       "      <td>NaN</td>\n",
       "      <td>NaN</td>\n",
       "      <td>NaN</td>\n",
       "      <td>0</td>\n",
       "      <td>NaN</td>\n",
       "      <td>80</td>\n",
       "      <td>Europe/Budapest</td>\n",
       "      <td>2012-01-18</td>\n",
       "    </tr>\n",
       "    <tr>\n",
       "      <th>680300</th>\n",
       "      <td>Kraszna-csatorna</td>\n",
       "      <td>Kraszna-csatorna</td>\n",
       "      <td>Canalul Crasna,Canalul Crasnei,Kraszna-csatorna</td>\n",
       "      <td>48.13333</td>\n",
       "      <td>22.31667</td>\n",
       "      <td>H</td>\n",
       "      <td>CNL</td>\n",
       "      <td>HU</td>\n",
       "      <td>NaN</td>\n",
       "      <td>0.0</td>\n",
       "      <td>NaN</td>\n",
       "      <td>NaN</td>\n",
       "      <td>NaN</td>\n",
       "      <td>0</td>\n",
       "      <td>NaN</td>\n",
       "      <td>112</td>\n",
       "      <td>Europe/Budapest</td>\n",
       "      <td>2014-07-08</td>\n",
       "    </tr>\n",
       "  </tbody>\n",
       "</table>\n",
       "</div>"
      ],
      "text/plain": [
       "                       name         asciiname  \\\n",
       "geonameid                                       \n",
       "672629                Maros             Maros   \n",
       "677528        Gémesi Révház     Gemesi Revhaz   \n",
       "680145         Fekete-Körös      Fekete-Koros   \n",
       "680147          Fehér-Körös       Feher-Koros   \n",
       "680300     Kraszna-csatorna  Kraszna-csatorna   \n",
       "\n",
       "                                              alternatenames  latitude  \\\n",
       "geonameid                                                                \n",
       "672629     Marisus,Mures,Mures River,Muresh,Muresul,Mureş...  46.25000   \n",
       "677528                                                   NaN  46.33472   \n",
       "680145     Black Koros,Black Körös,Crisu Negru,Crisul Neg...  46.70000   \n",
       "680147     Crisu Alb,Crisul Alb,Crişu Alb,Crişul Alb,Fehe...  46.93333   \n",
       "680300       Canalul Crasna,Canalul Crasnei,Kraszna-csatorna  48.13333   \n",
       "\n",
       "           longitude feature_class feature_code country_code    cc2  \\\n",
       "geonameid                                                             \n",
       "672629      20.20000             H          STM           HU  HU,RO   \n",
       "677528      18.89167             P          PPL           HU    NaN   \n",
       "680145      21.26667             H          STM           HU    NaN   \n",
       "680147      20.96667             H          STM           HU    NaN   \n",
       "680300      22.31667             H          CNL           HU    NaN   \n",
       "\n",
       "           admin1_code  admin2_code  admin3_code  admin4_code  population  \\\n",
       "geonameid                                                                   \n",
       "672629             0.0          NaN          NaN          NaN           0   \n",
       "677528             0.0          NaN          NaN          NaN           0   \n",
       "680145             0.0          NaN          NaN          NaN           0   \n",
       "680147             0.0          NaN          NaN          NaN           0   \n",
       "680300             0.0          NaN          NaN          NaN           0   \n",
       "\n",
       "           elevation  dem         timezone modification_date  \n",
       "geonameid                                                     \n",
       "672629           NaN   81  Europe/Budapest        2021-02-18  \n",
       "677528           NaN  102  Europe/Budapest        2014-07-08  \n",
       "680145           NaN   88  Europe/Budapest        2012-01-18  \n",
       "680147           NaN   80  Europe/Budapest        2012-01-18  \n",
       "680300           NaN  112  Europe/Budapest        2014-07-08  "
      ]
     },
     "execution_count": 16,
     "metadata": {},
     "output_type": "execute_result"
    }
   ],
   "source": [
    "hu_df.head()"
   ]
  },
  {
   "cell_type": "code",
   "execution_count": 17,
   "metadata": {},
   "outputs": [
    {
     "name": "stdout",
     "output_type": "stream",
     "text": [
      "<class 'pandas.core.frame.DataFrame'>\n",
      "Index: 680 entries, ADM1 to VINS\n",
      "Data columns (total 2 columns):\n",
      " #   Column      Non-Null Count  Dtype \n",
      "---  ------      --------------  ----- \n",
      " 0   short_desc  680 non-null    object\n",
      " 1   long_desc   621 non-null    object\n",
      "dtypes: object(2)\n",
      "memory usage: 15.9+ KB\n"
     ]
    }
   ],
   "source": [
    "# Load feature codes\n",
    "\n",
    "features_df = pd.read_csv(data_path / \"feature_codes.tsv\", sep=\"\\t\", header=None, names=[\"feature_code\", \"short_desc\", \"long_desc\"], index_col=0)\n",
    "features_df.info()"
   ]
  },
  {
   "cell_type": "code",
   "execution_count": 18,
   "metadata": {},
   "outputs": [
    {
     "data": {
      "text/html": [
       "<div>\n",
       "<style scoped>\n",
       "    .dataframe tbody tr th:only-of-type {\n",
       "        vertical-align: middle;\n",
       "    }\n",
       "\n",
       "    .dataframe tbody tr th {\n",
       "        vertical-align: top;\n",
       "    }\n",
       "\n",
       "    .dataframe thead th {\n",
       "        text-align: right;\n",
       "    }\n",
       "</style>\n",
       "<table border=\"1\" class=\"dataframe\">\n",
       "  <thead>\n",
       "    <tr style=\"text-align: right;\">\n",
       "      <th></th>\n",
       "      <th>short_desc</th>\n",
       "      <th>long_desc</th>\n",
       "    </tr>\n",
       "    <tr>\n",
       "      <th>feature_code</th>\n",
       "      <th></th>\n",
       "      <th></th>\n",
       "    </tr>\n",
       "  </thead>\n",
       "  <tbody>\n",
       "    <tr>\n",
       "      <th>SCRB</th>\n",
       "      <td>scrubland</td>\n",
       "      <td>an area of low trees, bushes, and shrubs stunt...</td>\n",
       "    </tr>\n",
       "    <tr>\n",
       "      <th>TREE</th>\n",
       "      <td>tree(s)</td>\n",
       "      <td>a conspicuous tree used as a landmark</td>\n",
       "    </tr>\n",
       "    <tr>\n",
       "      <th>TUND</th>\n",
       "      <td>tundra</td>\n",
       "      <td>a marshy, treeless, high latitude plain, domin...</td>\n",
       "    </tr>\n",
       "    <tr>\n",
       "      <th>VIN</th>\n",
       "      <td>vineyard</td>\n",
       "      <td>a planting of grapevines</td>\n",
       "    </tr>\n",
       "    <tr>\n",
       "      <th>VINS</th>\n",
       "      <td>vineyards</td>\n",
       "      <td>plantings of grapevines</td>\n",
       "    </tr>\n",
       "  </tbody>\n",
       "</table>\n",
       "</div>"
      ],
      "text/plain": [
       "             short_desc                                          long_desc\n",
       "feature_code                                                              \n",
       "SCRB          scrubland  an area of low trees, bushes, and shrubs stunt...\n",
       "TREE            tree(s)              a conspicuous tree used as a landmark\n",
       "TUND             tundra  a marshy, treeless, high latitude plain, domin...\n",
       "VIN            vineyard                           a planting of grapevines\n",
       "VINS          vineyards                            plantings of grapevines"
      ]
     },
     "execution_count": 18,
     "metadata": {},
     "output_type": "execute_result"
    }
   ],
   "source": [
    "features_df.tail()"
   ]
  },
  {
   "cell_type": "markdown",
   "metadata": {},
   "source": [
    "## Null values"
   ]
  },
  {
   "cell_type": "code",
   "execution_count": 24,
   "metadata": {},
   "outputs": [
    {
     "data": {
      "text/html": [
       "<div>\n",
       "<style scoped>\n",
       "    .dataframe tbody tr th:only-of-type {\n",
       "        vertical-align: middle;\n",
       "    }\n",
       "\n",
       "    .dataframe tbody tr th {\n",
       "        vertical-align: top;\n",
       "    }\n",
       "\n",
       "    .dataframe thead th {\n",
       "        text-align: right;\n",
       "    }\n",
       "</style>\n",
       "<table border=\"1\" class=\"dataframe\">\n",
       "  <thead>\n",
       "    <tr style=\"text-align: right;\">\n",
       "      <th></th>\n",
       "      <th>name</th>\n",
       "      <th>asciiname</th>\n",
       "      <th>alternatenames</th>\n",
       "      <th>latitude</th>\n",
       "      <th>longitude</th>\n",
       "      <th>feature_class</th>\n",
       "      <th>feature_code</th>\n",
       "      <th>cc2</th>\n",
       "      <th>population</th>\n",
       "      <th>elevation</th>\n",
       "      <th>timezone</th>\n",
       "      <th>modification_date</th>\n",
       "    </tr>\n",
       "    <tr>\n",
       "      <th>geonameid</th>\n",
       "      <th></th>\n",
       "      <th></th>\n",
       "      <th></th>\n",
       "      <th></th>\n",
       "      <th></th>\n",
       "      <th></th>\n",
       "      <th></th>\n",
       "      <th></th>\n",
       "      <th></th>\n",
       "      <th></th>\n",
       "      <th></th>\n",
       "      <th></th>\n",
       "    </tr>\n",
       "  </thead>\n",
       "  <tbody>\n",
       "    <tr>\n",
       "      <th>672629</th>\n",
       "      <td>Maros</td>\n",
       "      <td>Maros</td>\n",
       "      <td>Marisus,Mures,Mures River,Muresh,Muresul,Mureş...</td>\n",
       "      <td>46.25000</td>\n",
       "      <td>20.20000</td>\n",
       "      <td>H</td>\n",
       "      <td>STM</td>\n",
       "      <td>HU,RO</td>\n",
       "      <td>0</td>\n",
       "      <td>NaN</td>\n",
       "      <td>Europe/Budapest</td>\n",
       "      <td>2021-02-18</td>\n",
       "    </tr>\n",
       "    <tr>\n",
       "      <th>677528</th>\n",
       "      <td>Gémesi Révház</td>\n",
       "      <td>Gemesi Revhaz</td>\n",
       "      <td>NaN</td>\n",
       "      <td>46.33472</td>\n",
       "      <td>18.89167</td>\n",
       "      <td>P</td>\n",
       "      <td>PPL</td>\n",
       "      <td>HU</td>\n",
       "      <td>0</td>\n",
       "      <td>NaN</td>\n",
       "      <td>Europe/Budapest</td>\n",
       "      <td>2014-07-08</td>\n",
       "    </tr>\n",
       "    <tr>\n",
       "      <th>680145</th>\n",
       "      <td>Fekete-Körös</td>\n",
       "      <td>Fekete-Koros</td>\n",
       "      <td>Black Koros,Black Körös,Crisu Negru,Crisul Neg...</td>\n",
       "      <td>46.70000</td>\n",
       "      <td>21.26667</td>\n",
       "      <td>H</td>\n",
       "      <td>STM</td>\n",
       "      <td>HU</td>\n",
       "      <td>0</td>\n",
       "      <td>NaN</td>\n",
       "      <td>Europe/Budapest</td>\n",
       "      <td>2012-01-18</td>\n",
       "    </tr>\n",
       "    <tr>\n",
       "      <th>680147</th>\n",
       "      <td>Fehér-Körös</td>\n",
       "      <td>Feher-Koros</td>\n",
       "      <td>Crisu Alb,Crisul Alb,Crişu Alb,Crişul Alb,Fehe...</td>\n",
       "      <td>46.93333</td>\n",
       "      <td>20.96667</td>\n",
       "      <td>H</td>\n",
       "      <td>STM</td>\n",
       "      <td>HU</td>\n",
       "      <td>0</td>\n",
       "      <td>NaN</td>\n",
       "      <td>Europe/Budapest</td>\n",
       "      <td>2012-01-18</td>\n",
       "    </tr>\n",
       "    <tr>\n",
       "      <th>680300</th>\n",
       "      <td>Kraszna-csatorna</td>\n",
       "      <td>Kraszna-csatorna</td>\n",
       "      <td>Canalul Crasna,Canalul Crasnei,Kraszna-csatorna</td>\n",
       "      <td>48.13333</td>\n",
       "      <td>22.31667</td>\n",
       "      <td>H</td>\n",
       "      <td>CNL</td>\n",
       "      <td>HU</td>\n",
       "      <td>0</td>\n",
       "      <td>NaN</td>\n",
       "      <td>Europe/Budapest</td>\n",
       "      <td>2014-07-08</td>\n",
       "    </tr>\n",
       "  </tbody>\n",
       "</table>\n",
       "</div>"
      ],
      "text/plain": [
       "                       name         asciiname  \\\n",
       "geonameid                                       \n",
       "672629                Maros             Maros   \n",
       "677528        Gémesi Révház     Gemesi Revhaz   \n",
       "680145         Fekete-Körös      Fekete-Koros   \n",
       "680147          Fehér-Körös       Feher-Koros   \n",
       "680300     Kraszna-csatorna  Kraszna-csatorna   \n",
       "\n",
       "                                              alternatenames  latitude  \\\n",
       "geonameid                                                                \n",
       "672629     Marisus,Mures,Mures River,Muresh,Muresul,Mureş...  46.25000   \n",
       "677528                                                   NaN  46.33472   \n",
       "680145     Black Koros,Black Körös,Crisu Negru,Crisul Neg...  46.70000   \n",
       "680147     Crisu Alb,Crisul Alb,Crişu Alb,Crişul Alb,Fehe...  46.93333   \n",
       "680300       Canalul Crasna,Canalul Crasnei,Kraszna-csatorna  48.13333   \n",
       "\n",
       "           longitude feature_class feature_code    cc2  population  elevation  \\\n",
       "geonameid                                                                       \n",
       "672629      20.20000             H          STM  HU,RO           0        NaN   \n",
       "677528      18.89167             P          PPL     HU           0        NaN   \n",
       "680145      21.26667             H          STM     HU           0        NaN   \n",
       "680147      20.96667             H          STM     HU           0        NaN   \n",
       "680300      22.31667             H          CNL     HU           0        NaN   \n",
       "\n",
       "                  timezone modification_date  \n",
       "geonameid                                     \n",
       "672629     Europe/Budapest        2021-02-18  \n",
       "677528     Europe/Budapest        2014-07-08  \n",
       "680145     Europe/Budapest        2012-01-18  \n",
       "680147     Europe/Budapest        2012-01-18  \n",
       "680300     Europe/Budapest        2014-07-08  "
      ]
     },
     "execution_count": 24,
     "metadata": {},
     "output_type": "execute_result"
    }
   ],
   "source": [
    "hu_df.head()"
   ]
  },
  {
   "cell_type": "code",
   "execution_count": 20,
   "metadata": {},
   "outputs": [],
   "source": [
    "# Remove unnecessary columns\n",
    "\n",
    "hu_df.drop(columns=[\"country_code\", \"admin1_code\", \"admin2_code\", \"admin3_code\", \"admin4_code\", \"dem\"], inplace=True)"
   ]
  },
  {
   "cell_type": "code",
   "execution_count": 23,
   "metadata": {},
   "outputs": [],
   "source": [
    "# Replace NaN with HU in cc2 column\n",
    "\n",
    "hu_df[\"cc2\"].fillna(\"HU\", inplace=True)"
   ]
  },
  {
   "cell_type": "code",
   "execution_count": 25,
   "metadata": {},
   "outputs": [
    {
     "data": {
      "text/html": [
       "<div>\n",
       "<style scoped>\n",
       "    .dataframe tbody tr th:only-of-type {\n",
       "        vertical-align: middle;\n",
       "    }\n",
       "\n",
       "    .dataframe tbody tr th {\n",
       "        vertical-align: top;\n",
       "    }\n",
       "\n",
       "    .dataframe thead th {\n",
       "        text-align: right;\n",
       "    }\n",
       "</style>\n",
       "<table border=\"1\" class=\"dataframe\">\n",
       "  <thead>\n",
       "    <tr style=\"text-align: right;\">\n",
       "      <th></th>\n",
       "      <th>name</th>\n",
       "      <th>elevation</th>\n",
       "    </tr>\n",
       "    <tr>\n",
       "      <th>geonameid</th>\n",
       "      <th></th>\n",
       "      <th></th>\n",
       "    </tr>\n",
       "  </thead>\n",
       "  <tbody>\n",
       "    <tr>\n",
       "      <th>719276</th>\n",
       "      <td>Kékes</td>\n",
       "      <td>1014.0</td>\n",
       "    </tr>\n",
       "    <tr>\n",
       "      <th>719996</th>\n",
       "      <td>Hidas-bérc</td>\n",
       "      <td>973.0</td>\n",
       "    </tr>\n",
       "    <tr>\n",
       "      <th>3052404</th>\n",
       "      <td>Galya-tető</td>\n",
       "      <td>964.0</td>\n",
       "    </tr>\n",
       "    <tr>\n",
       "      <th>12196238</th>\n",
       "      <td>Szilvási-kő</td>\n",
       "      <td>961.0</td>\n",
       "    </tr>\n",
       "    <tr>\n",
       "      <th>719745</th>\n",
       "      <td>Istállós-kő</td>\n",
       "      <td>958.0</td>\n",
       "    </tr>\n",
       "    <tr>\n",
       "      <th>...</th>\n",
       "      <td>...</td>\n",
       "      <td>...</td>\n",
       "    </tr>\n",
       "    <tr>\n",
       "      <th>11054702</th>\n",
       "      <td>Lipótváros</td>\n",
       "      <td>0.0</td>\n",
       "    </tr>\n",
       "    <tr>\n",
       "      <th>11054703</th>\n",
       "      <td>Hungaroring</td>\n",
       "      <td>0.0</td>\n",
       "    </tr>\n",
       "    <tr>\n",
       "      <th>11054704</th>\n",
       "      <td>Józsefváros</td>\n",
       "      <td>0.0</td>\n",
       "    </tr>\n",
       "    <tr>\n",
       "      <th>11073218</th>\n",
       "      <td>King's Hotel</td>\n",
       "      <td>0.0</td>\n",
       "    </tr>\n",
       "    <tr>\n",
       "      <th>9036032</th>\n",
       "      <td>Zenit Budapest Palace</td>\n",
       "      <td>0.0</td>\n",
       "    </tr>\n",
       "  </tbody>\n",
       "</table>\n",
       "<p>122 rows × 2 columns</p>\n",
       "</div>"
      ],
      "text/plain": [
       "                            name  elevation\n",
       "geonameid                                  \n",
       "719276                     Kékes     1014.0\n",
       "719996                Hidas-bérc      973.0\n",
       "3052404               Galya-tető      964.0\n",
       "12196238             Szilvási-kő      961.0\n",
       "719745               Istállós-kő      958.0\n",
       "...                          ...        ...\n",
       "11054702              Lipótváros        0.0\n",
       "11054703             Hungaroring        0.0\n",
       "11054704             Józsefváros        0.0\n",
       "11073218            King's Hotel        0.0\n",
       "9036032    Zenit Budapest Palace        0.0\n",
       "\n",
       "[122 rows x 2 columns]"
      ]
     },
     "execution_count": 25,
     "metadata": {},
     "output_type": "execute_result"
    }
   ],
   "source": [
    "# Deal with elevation\n",
    "\n",
    "# Select rows where elevation is not null\n",
    "elevations = hu_df.loc[hu_df[\"elevation\"].notnull(), [\"name\", \"elevation\"]]\n",
    "\n",
    "# Sort by elevation in descending order\n",
    "elevations = elevations.sort_values(by=\"elevation\", ascending=False)\n",
    "\n",
    "elevations\n"
   ]
  },
  {
   "cell_type": "code",
   "execution_count": 26,
   "metadata": {},
   "outputs": [
    {
     "data": {
      "text/html": [
       "<div>\n",
       "<style scoped>\n",
       "    .dataframe tbody tr th:only-of-type {\n",
       "        vertical-align: middle;\n",
       "    }\n",
       "\n",
       "    .dataframe tbody tr th {\n",
       "        vertical-align: top;\n",
       "    }\n",
       "\n",
       "    .dataframe thead th {\n",
       "        text-align: right;\n",
       "    }\n",
       "</style>\n",
       "<table border=\"1\" class=\"dataframe\">\n",
       "  <thead>\n",
       "    <tr style=\"text-align: right;\">\n",
       "      <th></th>\n",
       "      <th>name</th>\n",
       "      <th>elevation</th>\n",
       "    </tr>\n",
       "    <tr>\n",
       "      <th>geonameid</th>\n",
       "      <th></th>\n",
       "      <th></th>\n",
       "    </tr>\n",
       "  </thead>\n",
       "  <tbody>\n",
       "    <tr>\n",
       "      <th>11103601</th>\n",
       "      <td>Marmara Hotel</td>\n",
       "      <td>0.0</td>\n",
       "    </tr>\n",
       "    <tr>\n",
       "      <th>10942063</th>\n",
       "      <td>SAS Club</td>\n",
       "      <td>0.0</td>\n",
       "    </tr>\n",
       "    <tr>\n",
       "      <th>10942605</th>\n",
       "      <td>Opera Garden Hotel &amp; Apartments</td>\n",
       "      <td>0.0</td>\n",
       "    </tr>\n",
       "    <tr>\n",
       "      <th>11103599</th>\n",
       "      <td>Danubius Grand Margitsziget Hotel</td>\n",
       "      <td>0.0</td>\n",
       "    </tr>\n",
       "    <tr>\n",
       "      <th>10942606</th>\n",
       "      <td>Opera Residence</td>\n",
       "      <td>0.0</td>\n",
       "    </tr>\n",
       "    <tr>\n",
       "      <th>11000645</th>\n",
       "      <td>Timon</td>\n",
       "      <td>0.0</td>\n",
       "    </tr>\n",
       "    <tr>\n",
       "      <th>11001704</th>\n",
       "      <td>Hotel Palota (h)</td>\n",
       "      <td>0.0</td>\n",
       "    </tr>\n",
       "    <tr>\n",
       "      <th>11054702</th>\n",
       "      <td>Lipótváros</td>\n",
       "      <td>0.0</td>\n",
       "    </tr>\n",
       "    <tr>\n",
       "      <th>11054703</th>\n",
       "      <td>Hungaroring</td>\n",
       "      <td>0.0</td>\n",
       "    </tr>\n",
       "    <tr>\n",
       "      <th>11054704</th>\n",
       "      <td>Józsefváros</td>\n",
       "      <td>0.0</td>\n",
       "    </tr>\n",
       "    <tr>\n",
       "      <th>11073218</th>\n",
       "      <td>King's Hotel</td>\n",
       "      <td>0.0</td>\n",
       "    </tr>\n",
       "    <tr>\n",
       "      <th>9036032</th>\n",
       "      <td>Zenit Budapest Palace</td>\n",
       "      <td>0.0</td>\n",
       "    </tr>\n",
       "  </tbody>\n",
       "</table>\n",
       "</div>"
      ],
      "text/plain": [
       "                                        name  elevation\n",
       "geonameid                                              \n",
       "11103601                       Marmara Hotel        0.0\n",
       "10942063                            SAS Club        0.0\n",
       "10942605     Opera Garden Hotel & Apartments        0.0\n",
       "11103599   Danubius Grand Margitsziget Hotel        0.0\n",
       "10942606                     Opera Residence        0.0\n",
       "11000645                               Timon        0.0\n",
       "11001704                    Hotel Palota (h)        0.0\n",
       "11054702                          Lipótváros        0.0\n",
       "11054703                         Hungaroring        0.0\n",
       "11054704                         Józsefváros        0.0\n",
       "11073218                        King's Hotel        0.0\n",
       "9036032                Zenit Budapest Palace        0.0"
      ]
     },
     "execution_count": 26,
     "metadata": {},
     "output_type": "execute_result"
    }
   ],
   "source": [
    "# View where elevation is 0\n",
    "sea_level = elevations.loc[elevations[\"elevation\"] == 0]\n",
    "sea_level"
   ]
  },
  {
   "cell_type": "code",
   "execution_count": 27,
   "metadata": {},
   "outputs": [],
   "source": [
    "# Replace 0 with NaN\n",
    "hu_df.loc[hu_df[\"elevation\"] == 0, \"elevation\"] = np.nan"
   ]
  },
  {
   "cell_type": "code",
   "execution_count": 30,
   "metadata": {},
   "outputs": [
    {
     "data": {
      "text/html": [
       "<div>\n",
       "<style scoped>\n",
       "    .dataframe tbody tr th:only-of-type {\n",
       "        vertical-align: middle;\n",
       "    }\n",
       "\n",
       "    .dataframe tbody tr th {\n",
       "        vertical-align: top;\n",
       "    }\n",
       "\n",
       "    .dataframe thead th {\n",
       "        text-align: right;\n",
       "    }\n",
       "</style>\n",
       "<table border=\"1\" class=\"dataframe\">\n",
       "  <thead>\n",
       "    <tr style=\"text-align: right;\">\n",
       "      <th></th>\n",
       "      <th>name</th>\n",
       "      <th>asciiname</th>\n",
       "      <th>alternatenames</th>\n",
       "      <th>latitude</th>\n",
       "      <th>longitude</th>\n",
       "      <th>feature_class</th>\n",
       "      <th>feature_code</th>\n",
       "      <th>cc2</th>\n",
       "      <th>population</th>\n",
       "      <th>elevation</th>\n",
       "      <th>timezone</th>\n",
       "      <th>modification_date</th>\n",
       "    </tr>\n",
       "    <tr>\n",
       "      <th>geonameid</th>\n",
       "      <th></th>\n",
       "      <th></th>\n",
       "      <th></th>\n",
       "      <th></th>\n",
       "      <th></th>\n",
       "      <th></th>\n",
       "      <th></th>\n",
       "      <th></th>\n",
       "      <th></th>\n",
       "      <th></th>\n",
       "      <th></th>\n",
       "      <th></th>\n",
       "    </tr>\n",
       "  </thead>\n",
       "  <tbody>\n",
       "    <tr>\n",
       "      <th>672629</th>\n",
       "      <td>Maros</td>\n",
       "      <td>Maros</td>\n",
       "      <td>[Marisus, Mures, Mures River, Muresh, Muresul,...</td>\n",
       "      <td>46.25000</td>\n",
       "      <td>20.20000</td>\n",
       "      <td>H</td>\n",
       "      <td>STM</td>\n",
       "      <td>HU,RO</td>\n",
       "      <td>0</td>\n",
       "      <td>NaN</td>\n",
       "      <td>Europe/Budapest</td>\n",
       "      <td>2021-02-18</td>\n",
       "    </tr>\n",
       "    <tr>\n",
       "      <th>677528</th>\n",
       "      <td>Gémesi Révház</td>\n",
       "      <td>Gemesi Revhaz</td>\n",
       "      <td>NaN</td>\n",
       "      <td>46.33472</td>\n",
       "      <td>18.89167</td>\n",
       "      <td>P</td>\n",
       "      <td>PPL</td>\n",
       "      <td>HU</td>\n",
       "      <td>0</td>\n",
       "      <td>NaN</td>\n",
       "      <td>Europe/Budapest</td>\n",
       "      <td>2014-07-08</td>\n",
       "    </tr>\n",
       "    <tr>\n",
       "      <th>680145</th>\n",
       "      <td>Fekete-Körös</td>\n",
       "      <td>Fekete-Koros</td>\n",
       "      <td>[Black Koros, Black Körös, Crisu Negru, Crisul...</td>\n",
       "      <td>46.70000</td>\n",
       "      <td>21.26667</td>\n",
       "      <td>H</td>\n",
       "      <td>STM</td>\n",
       "      <td>HU</td>\n",
       "      <td>0</td>\n",
       "      <td>NaN</td>\n",
       "      <td>Europe/Budapest</td>\n",
       "      <td>2012-01-18</td>\n",
       "    </tr>\n",
       "    <tr>\n",
       "      <th>680147</th>\n",
       "      <td>Fehér-Körös</td>\n",
       "      <td>Feher-Koros</td>\n",
       "      <td>[Crisu Alb, Crisul Alb, Crişu Alb, Crişul Alb,...</td>\n",
       "      <td>46.93333</td>\n",
       "      <td>20.96667</td>\n",
       "      <td>H</td>\n",
       "      <td>STM</td>\n",
       "      <td>HU</td>\n",
       "      <td>0</td>\n",
       "      <td>NaN</td>\n",
       "      <td>Europe/Budapest</td>\n",
       "      <td>2012-01-18</td>\n",
       "    </tr>\n",
       "    <tr>\n",
       "      <th>680300</th>\n",
       "      <td>Kraszna-csatorna</td>\n",
       "      <td>Kraszna-csatorna</td>\n",
       "      <td>[Canalul Crasna, Canalul Crasnei, Kraszna-csat...</td>\n",
       "      <td>48.13333</td>\n",
       "      <td>22.31667</td>\n",
       "      <td>H</td>\n",
       "      <td>CNL</td>\n",
       "      <td>HU</td>\n",
       "      <td>0</td>\n",
       "      <td>NaN</td>\n",
       "      <td>Europe/Budapest</td>\n",
       "      <td>2014-07-08</td>\n",
       "    </tr>\n",
       "  </tbody>\n",
       "</table>\n",
       "</div>"
      ],
      "text/plain": [
       "                       name         asciiname  \\\n",
       "geonameid                                       \n",
       "672629                Maros             Maros   \n",
       "677528        Gémesi Révház     Gemesi Revhaz   \n",
       "680145         Fekete-Körös      Fekete-Koros   \n",
       "680147          Fehér-Körös       Feher-Koros   \n",
       "680300     Kraszna-csatorna  Kraszna-csatorna   \n",
       "\n",
       "                                              alternatenames  latitude  \\\n",
       "geonameid                                                                \n",
       "672629     [Marisus, Mures, Mures River, Muresh, Muresul,...  46.25000   \n",
       "677528                                                   NaN  46.33472   \n",
       "680145     [Black Koros, Black Körös, Crisu Negru, Crisul...  46.70000   \n",
       "680147     [Crisu Alb, Crisul Alb, Crişu Alb, Crişul Alb,...  46.93333   \n",
       "680300     [Canalul Crasna, Canalul Crasnei, Kraszna-csat...  48.13333   \n",
       "\n",
       "           longitude feature_class feature_code    cc2  population  elevation  \\\n",
       "geonameid                                                                       \n",
       "672629      20.20000             H          STM  HU,RO           0        NaN   \n",
       "677528      18.89167             P          PPL     HU           0        NaN   \n",
       "680145      21.26667             H          STM     HU           0        NaN   \n",
       "680147      20.96667             H          STM     HU           0        NaN   \n",
       "680300      22.31667             H          CNL     HU           0        NaN   \n",
       "\n",
       "                  timezone modification_date  \n",
       "geonameid                                     \n",
       "672629     Europe/Budapest        2021-02-18  \n",
       "677528     Europe/Budapest        2014-07-08  \n",
       "680145     Europe/Budapest        2012-01-18  \n",
       "680147     Europe/Budapest        2012-01-18  \n",
       "680300     Europe/Budapest        2014-07-08  "
      ]
     },
     "execution_count": 30,
     "metadata": {},
     "output_type": "execute_result"
    }
   ],
   "source": [
    "hu_df.head()"
   ]
  },
  {
   "cell_type": "markdown",
   "metadata": {},
   "source": [
    "## Operations on columns"
   ]
  },
  {
   "cell_type": "code",
   "execution_count": 29,
   "metadata": {},
   "outputs": [],
   "source": [
    "# Convert alternatenames to list of strings\n",
    "\n",
    "hu_df[\"alternatenames\"] = hu_df[\"alternatenames\"].str.split(\",\")"
   ]
  },
  {
   "cell_type": "code",
   "execution_count": 31,
   "metadata": {},
   "outputs": [],
   "source": [
    "def check_alternatename(row):\n",
    "    if row is not np.nan:\n",
    "        return len(row)\n",
    "    else:\n",
    "        return 0"
   ]
  },
  {
   "cell_type": "code",
   "execution_count": 32,
   "metadata": {},
   "outputs": [],
   "source": [
    "# Apply with function\n",
    "\n",
    "hu_df[\"alternatenames_count_function\"] = hu_df[\"alternatenames\"].apply(check_alternatename)"
   ]
  },
  {
   "cell_type": "code",
   "execution_count": 33,
   "metadata": {},
   "outputs": [],
   "source": [
    "# Apply with lambda function\n",
    "\n",
    "hu_df[\"alternatenames_count\"] = hu_df[\"alternatenames\"].apply(lambda x: len(x) if x is not np.nan else 0)\n"
   ]
  },
  {
   "cell_type": "code",
   "execution_count": 34,
   "metadata": {},
   "outputs": [
    {
     "data": {
      "text/html": [
       "<div>\n",
       "<style scoped>\n",
       "    .dataframe tbody tr th:only-of-type {\n",
       "        vertical-align: middle;\n",
       "    }\n",
       "\n",
       "    .dataframe tbody tr th {\n",
       "        vertical-align: top;\n",
       "    }\n",
       "\n",
       "    .dataframe thead th {\n",
       "        text-align: right;\n",
       "    }\n",
       "</style>\n",
       "<table border=\"1\" class=\"dataframe\">\n",
       "  <thead>\n",
       "    <tr style=\"text-align: right;\">\n",
       "      <th></th>\n",
       "      <th>name</th>\n",
       "      <th>alternatenames</th>\n",
       "      <th>alternatenames_count_function</th>\n",
       "      <th>alternatenames_count</th>\n",
       "    </tr>\n",
       "    <tr>\n",
       "      <th>geonameid</th>\n",
       "      <th></th>\n",
       "      <th></th>\n",
       "      <th></th>\n",
       "      <th></th>\n",
       "    </tr>\n",
       "  </thead>\n",
       "  <tbody>\n",
       "    <tr>\n",
       "      <th>672629</th>\n",
       "      <td>Maros</td>\n",
       "      <td>[Marisus, Mures, Mures River, Muresh, Muresul,...</td>\n",
       "      <td>10</td>\n",
       "      <td>10</td>\n",
       "    </tr>\n",
       "    <tr>\n",
       "      <th>677528</th>\n",
       "      <td>Gémesi Révház</td>\n",
       "      <td>NaN</td>\n",
       "      <td>0</td>\n",
       "      <td>0</td>\n",
       "    </tr>\n",
       "    <tr>\n",
       "      <th>680145</th>\n",
       "      <td>Fekete-Körös</td>\n",
       "      <td>[Black Koros, Black Körös, Crisu Negru, Crisul...</td>\n",
       "      <td>10</td>\n",
       "      <td>10</td>\n",
       "    </tr>\n",
       "    <tr>\n",
       "      <th>680147</th>\n",
       "      <td>Fehér-Körös</td>\n",
       "      <td>[Crisu Alb, Crisul Alb, Crişu Alb, Crişul Alb,...</td>\n",
       "      <td>12</td>\n",
       "      <td>12</td>\n",
       "    </tr>\n",
       "    <tr>\n",
       "      <th>680300</th>\n",
       "      <td>Kraszna-csatorna</td>\n",
       "      <td>[Canalul Crasna, Canalul Crasnei, Kraszna-csat...</td>\n",
       "      <td>3</td>\n",
       "      <td>3</td>\n",
       "    </tr>\n",
       "  </tbody>\n",
       "</table>\n",
       "</div>"
      ],
      "text/plain": [
       "                       name  \\\n",
       "geonameid                     \n",
       "672629                Maros   \n",
       "677528        Gémesi Révház   \n",
       "680145         Fekete-Körös   \n",
       "680147          Fehér-Körös   \n",
       "680300     Kraszna-csatorna   \n",
       "\n",
       "                                              alternatenames  \\\n",
       "geonameid                                                      \n",
       "672629     [Marisus, Mures, Mures River, Muresh, Muresul,...   \n",
       "677528                                                   NaN   \n",
       "680145     [Black Koros, Black Körös, Crisu Negru, Crisul...   \n",
       "680147     [Crisu Alb, Crisul Alb, Crişu Alb, Crişul Alb,...   \n",
       "680300     [Canalul Crasna, Canalul Crasnei, Kraszna-csat...   \n",
       "\n",
       "           alternatenames_count_function  alternatenames_count  \n",
       "geonameid                                                       \n",
       "672629                                10                    10  \n",
       "677528                                 0                     0  \n",
       "680145                                10                    10  \n",
       "680147                                12                    12  \n",
       "680300                                 3                     3  "
      ]
     },
     "execution_count": 34,
     "metadata": {},
     "output_type": "execute_result"
    }
   ],
   "source": [
    "hu_df[[\"name\", \"alternatenames\", \"alternatenames_count_function\", \"alternatenames_count\"]].head()"
   ]
  },
  {
   "cell_type": "markdown",
   "metadata": {},
   "source": [
    "## Join dataframes\n",
    "\n",
    "- Multiple options:\n",
    "  - concat()\n",
    "  - merge()\n",
    "  - join()"
   ]
  },
  {
   "cell_type": "code",
   "execution_count": 35,
   "metadata": {},
   "outputs": [],
   "source": [
    "left = pd.DataFrame(\n",
    "    {\"A\": [\"A0\", \"A1\", \"A2\"], \"B\": [\"B0\", \"B1\", \"B2\"]}, index=[\"K0\", \"K1\", \"K2\"]\n",
    ")\n",
    "\n",
    "right = pd.DataFrame(\n",
    "    {\"C\": [\"C0\", \"C2\", \"C3\"], \"D\": [\"D0\", \"D2\", \"D3\"]}, index=[\"K0\", \"K2\", \"K3\"]\n",
    ")"
   ]
  },
  {
   "cell_type": "code",
   "execution_count": 36,
   "metadata": {},
   "outputs": [
    {
     "data": {
      "text/html": [
       "<div>\n",
       "<style scoped>\n",
       "    .dataframe tbody tr th:only-of-type {\n",
       "        vertical-align: middle;\n",
       "    }\n",
       "\n",
       "    .dataframe tbody tr th {\n",
       "        vertical-align: top;\n",
       "    }\n",
       "\n",
       "    .dataframe thead th {\n",
       "        text-align: right;\n",
       "    }\n",
       "</style>\n",
       "<table border=\"1\" class=\"dataframe\">\n",
       "  <thead>\n",
       "    <tr style=\"text-align: right;\">\n",
       "      <th></th>\n",
       "      <th>A</th>\n",
       "      <th>B</th>\n",
       "    </tr>\n",
       "  </thead>\n",
       "  <tbody>\n",
       "    <tr>\n",
       "      <th>K0</th>\n",
       "      <td>A0</td>\n",
       "      <td>B0</td>\n",
       "    </tr>\n",
       "    <tr>\n",
       "      <th>K1</th>\n",
       "      <td>A1</td>\n",
       "      <td>B1</td>\n",
       "    </tr>\n",
       "    <tr>\n",
       "      <th>K2</th>\n",
       "      <td>A2</td>\n",
       "      <td>B2</td>\n",
       "    </tr>\n",
       "  </tbody>\n",
       "</table>\n",
       "</div>"
      ],
      "text/plain": [
       "     A   B\n",
       "K0  A0  B0\n",
       "K1  A1  B1\n",
       "K2  A2  B2"
      ]
     },
     "execution_count": 36,
     "metadata": {},
     "output_type": "execute_result"
    }
   ],
   "source": [
    "left"
   ]
  },
  {
   "cell_type": "code",
   "execution_count": 37,
   "metadata": {},
   "outputs": [
    {
     "data": {
      "text/html": [
       "<div>\n",
       "<style scoped>\n",
       "    .dataframe tbody tr th:only-of-type {\n",
       "        vertical-align: middle;\n",
       "    }\n",
       "\n",
       "    .dataframe tbody tr th {\n",
       "        vertical-align: top;\n",
       "    }\n",
       "\n",
       "    .dataframe thead th {\n",
       "        text-align: right;\n",
       "    }\n",
       "</style>\n",
       "<table border=\"1\" class=\"dataframe\">\n",
       "  <thead>\n",
       "    <tr style=\"text-align: right;\">\n",
       "      <th></th>\n",
       "      <th>C</th>\n",
       "      <th>D</th>\n",
       "    </tr>\n",
       "  </thead>\n",
       "  <tbody>\n",
       "    <tr>\n",
       "      <th>K0</th>\n",
       "      <td>C0</td>\n",
       "      <td>D0</td>\n",
       "    </tr>\n",
       "    <tr>\n",
       "      <th>K2</th>\n",
       "      <td>C2</td>\n",
       "      <td>D2</td>\n",
       "    </tr>\n",
       "    <tr>\n",
       "      <th>K3</th>\n",
       "      <td>C3</td>\n",
       "      <td>D3</td>\n",
       "    </tr>\n",
       "  </tbody>\n",
       "</table>\n",
       "</div>"
      ],
      "text/plain": [
       "     C   D\n",
       "K0  C0  D0\n",
       "K2  C2  D2\n",
       "K3  C3  D3"
      ]
     },
     "execution_count": 37,
     "metadata": {},
     "output_type": "execute_result"
    }
   ],
   "source": [
    "right"
   ]
  },
  {
   "cell_type": "code",
   "execution_count": 38,
   "metadata": {},
   "outputs": [
    {
     "data": {
      "text/html": [
       "<div>\n",
       "<style scoped>\n",
       "    .dataframe tbody tr th:only-of-type {\n",
       "        vertical-align: middle;\n",
       "    }\n",
       "\n",
       "    .dataframe tbody tr th {\n",
       "        vertical-align: top;\n",
       "    }\n",
       "\n",
       "    .dataframe thead th {\n",
       "        text-align: right;\n",
       "    }\n",
       "</style>\n",
       "<table border=\"1\" class=\"dataframe\">\n",
       "  <thead>\n",
       "    <tr style=\"text-align: right;\">\n",
       "      <th></th>\n",
       "      <th>A</th>\n",
       "      <th>B</th>\n",
       "      <th>C</th>\n",
       "      <th>D</th>\n",
       "    </tr>\n",
       "  </thead>\n",
       "  <tbody>\n",
       "    <tr>\n",
       "      <th>K0</th>\n",
       "      <td>A0</td>\n",
       "      <td>B0</td>\n",
       "      <td>C0</td>\n",
       "      <td>D0</td>\n",
       "    </tr>\n",
       "    <tr>\n",
       "      <th>K1</th>\n",
       "      <td>A1</td>\n",
       "      <td>B1</td>\n",
       "      <td>NaN</td>\n",
       "      <td>NaN</td>\n",
       "    </tr>\n",
       "    <tr>\n",
       "      <th>K2</th>\n",
       "      <td>A2</td>\n",
       "      <td>B2</td>\n",
       "      <td>C2</td>\n",
       "      <td>D2</td>\n",
       "    </tr>\n",
       "  </tbody>\n",
       "</table>\n",
       "</div>"
      ],
      "text/plain": [
       "     A   B    C    D\n",
       "K0  A0  B0   C0   D0\n",
       "K1  A1  B1  NaN  NaN\n",
       "K2  A2  B2   C2   D2"
      ]
     },
     "execution_count": 38,
     "metadata": {},
     "output_type": "execute_result"
    }
   ],
   "source": [
    "# left join\n",
    "left.join(right)"
   ]
  },
  {
   "cell_type": "code",
   "execution_count": 39,
   "metadata": {},
   "outputs": [
    {
     "data": {
      "text/html": [
       "<div>\n",
       "<style scoped>\n",
       "    .dataframe tbody tr th:only-of-type {\n",
       "        vertical-align: middle;\n",
       "    }\n",
       "\n",
       "    .dataframe tbody tr th {\n",
       "        vertical-align: top;\n",
       "    }\n",
       "\n",
       "    .dataframe thead th {\n",
       "        text-align: right;\n",
       "    }\n",
       "</style>\n",
       "<table border=\"1\" class=\"dataframe\">\n",
       "  <thead>\n",
       "    <tr style=\"text-align: right;\">\n",
       "      <th></th>\n",
       "      <th>A</th>\n",
       "      <th>B</th>\n",
       "      <th>C</th>\n",
       "      <th>D</th>\n",
       "    </tr>\n",
       "  </thead>\n",
       "  <tbody>\n",
       "    <tr>\n",
       "      <th>K0</th>\n",
       "      <td>A0</td>\n",
       "      <td>B0</td>\n",
       "      <td>C0</td>\n",
       "      <td>D0</td>\n",
       "    </tr>\n",
       "    <tr>\n",
       "      <th>K2</th>\n",
       "      <td>A2</td>\n",
       "      <td>B2</td>\n",
       "      <td>C2</td>\n",
       "      <td>D2</td>\n",
       "    </tr>\n",
       "    <tr>\n",
       "      <th>K3</th>\n",
       "      <td>NaN</td>\n",
       "      <td>NaN</td>\n",
       "      <td>C3</td>\n",
       "      <td>D3</td>\n",
       "    </tr>\n",
       "  </tbody>\n",
       "</table>\n",
       "</div>"
      ],
      "text/plain": [
       "      A    B   C   D\n",
       "K0   A0   B0  C0  D0\n",
       "K2   A2   B2  C2  D2\n",
       "K3  NaN  NaN  C3  D3"
      ]
     },
     "execution_count": 39,
     "metadata": {},
     "output_type": "execute_result"
    }
   ],
   "source": [
    "# right join\n",
    "left.join(right, how=\"right\")"
   ]
  },
  {
   "cell_type": "code",
   "execution_count": 40,
   "metadata": {},
   "outputs": [
    {
     "data": {
      "text/html": [
       "<div>\n",
       "<style scoped>\n",
       "    .dataframe tbody tr th:only-of-type {\n",
       "        vertical-align: middle;\n",
       "    }\n",
       "\n",
       "    .dataframe tbody tr th {\n",
       "        vertical-align: top;\n",
       "    }\n",
       "\n",
       "    .dataframe thead th {\n",
       "        text-align: right;\n",
       "    }\n",
       "</style>\n",
       "<table border=\"1\" class=\"dataframe\">\n",
       "  <thead>\n",
       "    <tr style=\"text-align: right;\">\n",
       "      <th></th>\n",
       "      <th>A</th>\n",
       "      <th>B</th>\n",
       "      <th>C</th>\n",
       "      <th>D</th>\n",
       "    </tr>\n",
       "  </thead>\n",
       "  <tbody>\n",
       "    <tr>\n",
       "      <th>K0</th>\n",
       "      <td>A0</td>\n",
       "      <td>B0</td>\n",
       "      <td>C0</td>\n",
       "      <td>D0</td>\n",
       "    </tr>\n",
       "    <tr>\n",
       "      <th>K2</th>\n",
       "      <td>A2</td>\n",
       "      <td>B2</td>\n",
       "      <td>C2</td>\n",
       "      <td>D2</td>\n",
       "    </tr>\n",
       "  </tbody>\n",
       "</table>\n",
       "</div>"
      ],
      "text/plain": [
       "     A   B   C   D\n",
       "K0  A0  B0  C0  D0\n",
       "K2  A2  B2  C2  D2"
      ]
     },
     "execution_count": 40,
     "metadata": {},
     "output_type": "execute_result"
    }
   ],
   "source": [
    "# inner join\n",
    "left.join(right, how=\"inner\")"
   ]
  },
  {
   "cell_type": "code",
   "execution_count": 41,
   "metadata": {},
   "outputs": [
    {
     "data": {
      "text/html": [
       "<div>\n",
       "<style scoped>\n",
       "    .dataframe tbody tr th:only-of-type {\n",
       "        vertical-align: middle;\n",
       "    }\n",
       "\n",
       "    .dataframe tbody tr th {\n",
       "        vertical-align: top;\n",
       "    }\n",
       "\n",
       "    .dataframe thead th {\n",
       "        text-align: right;\n",
       "    }\n",
       "</style>\n",
       "<table border=\"1\" class=\"dataframe\">\n",
       "  <thead>\n",
       "    <tr style=\"text-align: right;\">\n",
       "      <th></th>\n",
       "      <th>A</th>\n",
       "      <th>B</th>\n",
       "      <th>C</th>\n",
       "      <th>D</th>\n",
       "    </tr>\n",
       "  </thead>\n",
       "  <tbody>\n",
       "    <tr>\n",
       "      <th>K0</th>\n",
       "      <td>A0</td>\n",
       "      <td>B0</td>\n",
       "      <td>C0</td>\n",
       "      <td>D0</td>\n",
       "    </tr>\n",
       "    <tr>\n",
       "      <th>K1</th>\n",
       "      <td>A1</td>\n",
       "      <td>B1</td>\n",
       "      <td>NaN</td>\n",
       "      <td>NaN</td>\n",
       "    </tr>\n",
       "    <tr>\n",
       "      <th>K2</th>\n",
       "      <td>A2</td>\n",
       "      <td>B2</td>\n",
       "      <td>C2</td>\n",
       "      <td>D2</td>\n",
       "    </tr>\n",
       "    <tr>\n",
       "      <th>K3</th>\n",
       "      <td>NaN</td>\n",
       "      <td>NaN</td>\n",
       "      <td>C3</td>\n",
       "      <td>D3</td>\n",
       "    </tr>\n",
       "  </tbody>\n",
       "</table>\n",
       "</div>"
      ],
      "text/plain": [
       "      A    B    C    D\n",
       "K0   A0   B0   C0   D0\n",
       "K1   A1   B1  NaN  NaN\n",
       "K2   A2   B2   C2   D2\n",
       "K3  NaN  NaN   C3   D3"
      ]
     },
     "execution_count": 41,
     "metadata": {},
     "output_type": "execute_result"
    }
   ],
   "source": [
    "# outer join\n",
    "left.join(right, how=\"outer\")"
   ]
  },
  {
   "cell_type": "code",
   "execution_count": 42,
   "metadata": {},
   "outputs": [
    {
     "data": {
      "text/html": [
       "<div>\n",
       "<style scoped>\n",
       "    .dataframe tbody tr th:only-of-type {\n",
       "        vertical-align: middle;\n",
       "    }\n",
       "\n",
       "    .dataframe tbody tr th {\n",
       "        vertical-align: top;\n",
       "    }\n",
       "\n",
       "    .dataframe thead th {\n",
       "        text-align: right;\n",
       "    }\n",
       "</style>\n",
       "<table border=\"1\" class=\"dataframe\">\n",
       "  <thead>\n",
       "    <tr style=\"text-align: right;\">\n",
       "      <th></th>\n",
       "      <th>name</th>\n",
       "      <th>asciiname</th>\n",
       "      <th>alternatenames</th>\n",
       "      <th>latitude</th>\n",
       "      <th>longitude</th>\n",
       "      <th>feature_class</th>\n",
       "      <th>feature_code</th>\n",
       "      <th>cc2</th>\n",
       "      <th>population</th>\n",
       "      <th>elevation</th>\n",
       "      <th>timezone</th>\n",
       "      <th>modification_date</th>\n",
       "      <th>alternatenames_count_function</th>\n",
       "      <th>alternatenames_count</th>\n",
       "    </tr>\n",
       "    <tr>\n",
       "      <th>geonameid</th>\n",
       "      <th></th>\n",
       "      <th></th>\n",
       "      <th></th>\n",
       "      <th></th>\n",
       "      <th></th>\n",
       "      <th></th>\n",
       "      <th></th>\n",
       "      <th></th>\n",
       "      <th></th>\n",
       "      <th></th>\n",
       "      <th></th>\n",
       "      <th></th>\n",
       "      <th></th>\n",
       "      <th></th>\n",
       "    </tr>\n",
       "  </thead>\n",
       "  <tbody>\n",
       "    <tr>\n",
       "      <th>672629</th>\n",
       "      <td>Maros</td>\n",
       "      <td>Maros</td>\n",
       "      <td>[Marisus, Mures, Mures River, Muresh, Muresul,...</td>\n",
       "      <td>46.25000</td>\n",
       "      <td>20.20000</td>\n",
       "      <td>H</td>\n",
       "      <td>STM</td>\n",
       "      <td>HU,RO</td>\n",
       "      <td>0</td>\n",
       "      <td>NaN</td>\n",
       "      <td>Europe/Budapest</td>\n",
       "      <td>2021-02-18</td>\n",
       "      <td>10</td>\n",
       "      <td>10</td>\n",
       "    </tr>\n",
       "    <tr>\n",
       "      <th>677528</th>\n",
       "      <td>Gémesi Révház</td>\n",
       "      <td>Gemesi Revhaz</td>\n",
       "      <td>NaN</td>\n",
       "      <td>46.33472</td>\n",
       "      <td>18.89167</td>\n",
       "      <td>P</td>\n",
       "      <td>PPL</td>\n",
       "      <td>HU</td>\n",
       "      <td>0</td>\n",
       "      <td>NaN</td>\n",
       "      <td>Europe/Budapest</td>\n",
       "      <td>2014-07-08</td>\n",
       "      <td>0</td>\n",
       "      <td>0</td>\n",
       "    </tr>\n",
       "    <tr>\n",
       "      <th>680145</th>\n",
       "      <td>Fekete-Körös</td>\n",
       "      <td>Fekete-Koros</td>\n",
       "      <td>[Black Koros, Black Körös, Crisu Negru, Crisul...</td>\n",
       "      <td>46.70000</td>\n",
       "      <td>21.26667</td>\n",
       "      <td>H</td>\n",
       "      <td>STM</td>\n",
       "      <td>HU</td>\n",
       "      <td>0</td>\n",
       "      <td>NaN</td>\n",
       "      <td>Europe/Budapest</td>\n",
       "      <td>2012-01-18</td>\n",
       "      <td>10</td>\n",
       "      <td>10</td>\n",
       "    </tr>\n",
       "    <tr>\n",
       "      <th>680147</th>\n",
       "      <td>Fehér-Körös</td>\n",
       "      <td>Feher-Koros</td>\n",
       "      <td>[Crisu Alb, Crisul Alb, Crişu Alb, Crişul Alb,...</td>\n",
       "      <td>46.93333</td>\n",
       "      <td>20.96667</td>\n",
       "      <td>H</td>\n",
       "      <td>STM</td>\n",
       "      <td>HU</td>\n",
       "      <td>0</td>\n",
       "      <td>NaN</td>\n",
       "      <td>Europe/Budapest</td>\n",
       "      <td>2012-01-18</td>\n",
       "      <td>12</td>\n",
       "      <td>12</td>\n",
       "    </tr>\n",
       "    <tr>\n",
       "      <th>680300</th>\n",
       "      <td>Kraszna-csatorna</td>\n",
       "      <td>Kraszna-csatorna</td>\n",
       "      <td>[Canalul Crasna, Canalul Crasnei, Kraszna-csat...</td>\n",
       "      <td>48.13333</td>\n",
       "      <td>22.31667</td>\n",
       "      <td>H</td>\n",
       "      <td>CNL</td>\n",
       "      <td>HU</td>\n",
       "      <td>0</td>\n",
       "      <td>NaN</td>\n",
       "      <td>Europe/Budapest</td>\n",
       "      <td>2014-07-08</td>\n",
       "      <td>3</td>\n",
       "      <td>3</td>\n",
       "    </tr>\n",
       "  </tbody>\n",
       "</table>\n",
       "</div>"
      ],
      "text/plain": [
       "                       name         asciiname  \\\n",
       "geonameid                                       \n",
       "672629                Maros             Maros   \n",
       "677528        Gémesi Révház     Gemesi Revhaz   \n",
       "680145         Fekete-Körös      Fekete-Koros   \n",
       "680147          Fehér-Körös       Feher-Koros   \n",
       "680300     Kraszna-csatorna  Kraszna-csatorna   \n",
       "\n",
       "                                              alternatenames  latitude  \\\n",
       "geonameid                                                                \n",
       "672629     [Marisus, Mures, Mures River, Muresh, Muresul,...  46.25000   \n",
       "677528                                                   NaN  46.33472   \n",
       "680145     [Black Koros, Black Körös, Crisu Negru, Crisul...  46.70000   \n",
       "680147     [Crisu Alb, Crisul Alb, Crişu Alb, Crişul Alb,...  46.93333   \n",
       "680300     [Canalul Crasna, Canalul Crasnei, Kraszna-csat...  48.13333   \n",
       "\n",
       "           longitude feature_class feature_code    cc2  population  elevation  \\\n",
       "geonameid                                                                       \n",
       "672629      20.20000             H          STM  HU,RO           0        NaN   \n",
       "677528      18.89167             P          PPL     HU           0        NaN   \n",
       "680145      21.26667             H          STM     HU           0        NaN   \n",
       "680147      20.96667             H          STM     HU           0        NaN   \n",
       "680300      22.31667             H          CNL     HU           0        NaN   \n",
       "\n",
       "                  timezone modification_date  alternatenames_count_function  \\\n",
       "geonameid                                                                     \n",
       "672629     Europe/Budapest        2021-02-18                             10   \n",
       "677528     Europe/Budapest        2014-07-08                              0   \n",
       "680145     Europe/Budapest        2012-01-18                             10   \n",
       "680147     Europe/Budapest        2012-01-18                             12   \n",
       "680300     Europe/Budapest        2014-07-08                              3   \n",
       "\n",
       "           alternatenames_count  \n",
       "geonameid                        \n",
       "672629                       10  \n",
       "677528                        0  \n",
       "680145                       10  \n",
       "680147                       12  \n",
       "680300                        3  "
      ]
     },
     "execution_count": 42,
     "metadata": {},
     "output_type": "execute_result"
    }
   ],
   "source": [
    "hu_df.head()"
   ]
  },
  {
   "cell_type": "code",
   "execution_count": 43,
   "metadata": {},
   "outputs": [
    {
     "data": {
      "text/html": [
       "<div>\n",
       "<style scoped>\n",
       "    .dataframe tbody tr th:only-of-type {\n",
       "        vertical-align: middle;\n",
       "    }\n",
       "\n",
       "    .dataframe tbody tr th {\n",
       "        vertical-align: top;\n",
       "    }\n",
       "\n",
       "    .dataframe thead th {\n",
       "        text-align: right;\n",
       "    }\n",
       "</style>\n",
       "<table border=\"1\" class=\"dataframe\">\n",
       "  <thead>\n",
       "    <tr style=\"text-align: right;\">\n",
       "      <th></th>\n",
       "      <th>short_desc</th>\n",
       "      <th>long_desc</th>\n",
       "    </tr>\n",
       "    <tr>\n",
       "      <th>feature_code</th>\n",
       "      <th></th>\n",
       "      <th></th>\n",
       "    </tr>\n",
       "  </thead>\n",
       "  <tbody>\n",
       "    <tr>\n",
       "      <th>ADM1</th>\n",
       "      <td>first-order administrative division</td>\n",
       "      <td>a primary administrative division of a country...</td>\n",
       "    </tr>\n",
       "    <tr>\n",
       "      <th>ADM1H</th>\n",
       "      <td>historical first-order administrative division</td>\n",
       "      <td>a former first-order administrative division</td>\n",
       "    </tr>\n",
       "    <tr>\n",
       "      <th>ADM2</th>\n",
       "      <td>second-order administrative division</td>\n",
       "      <td>a subdivision of a first-order administrative ...</td>\n",
       "    </tr>\n",
       "    <tr>\n",
       "      <th>ADM2H</th>\n",
       "      <td>historical second-order administrative division</td>\n",
       "      <td>a former second-order administrative division</td>\n",
       "    </tr>\n",
       "    <tr>\n",
       "      <th>ADM3</th>\n",
       "      <td>third-order administrative division</td>\n",
       "      <td>a subdivision of a second-order administrative...</td>\n",
       "    </tr>\n",
       "  </tbody>\n",
       "</table>\n",
       "</div>"
      ],
      "text/plain": [
       "                                                   short_desc  \\\n",
       "feature_code                                                    \n",
       "ADM1                      first-order administrative division   \n",
       "ADM1H          historical first-order administrative division   \n",
       "ADM2                     second-order administrative division   \n",
       "ADM2H         historical second-order administrative division   \n",
       "ADM3                      third-order administrative division   \n",
       "\n",
       "                                                      long_desc  \n",
       "feature_code                                                     \n",
       "ADM1          a primary administrative division of a country...  \n",
       "ADM1H              a former first-order administrative division  \n",
       "ADM2          a subdivision of a first-order administrative ...  \n",
       "ADM2H             a former second-order administrative division  \n",
       "ADM3          a subdivision of a second-order administrative...  "
      ]
     },
     "execution_count": 43,
     "metadata": {},
     "output_type": "execute_result"
    }
   ],
   "source": [
    "features_df.head()"
   ]
  },
  {
   "cell_type": "code",
   "execution_count": 44,
   "metadata": {},
   "outputs": [
    {
     "data": {
      "text/html": [
       "<div>\n",
       "<style scoped>\n",
       "    .dataframe tbody tr th:only-of-type {\n",
       "        vertical-align: middle;\n",
       "    }\n",
       "\n",
       "    .dataframe tbody tr th {\n",
       "        vertical-align: top;\n",
       "    }\n",
       "\n",
       "    .dataframe thead th {\n",
       "        text-align: right;\n",
       "    }\n",
       "</style>\n",
       "<table border=\"1\" class=\"dataframe\">\n",
       "  <thead>\n",
       "    <tr style=\"text-align: right;\">\n",
       "      <th></th>\n",
       "      <th>name</th>\n",
       "      <th>asciiname</th>\n",
       "      <th>alternatenames</th>\n",
       "      <th>latitude</th>\n",
       "      <th>longitude</th>\n",
       "      <th>feature_class</th>\n",
       "      <th>feature_code</th>\n",
       "      <th>cc2</th>\n",
       "      <th>population</th>\n",
       "      <th>elevation</th>\n",
       "      <th>timezone</th>\n",
       "      <th>modification_date</th>\n",
       "      <th>alternatenames_count_function</th>\n",
       "      <th>alternatenames_count</th>\n",
       "      <th>short_desc</th>\n",
       "    </tr>\n",
       "    <tr>\n",
       "      <th>geonameid</th>\n",
       "      <th></th>\n",
       "      <th></th>\n",
       "      <th></th>\n",
       "      <th></th>\n",
       "      <th></th>\n",
       "      <th></th>\n",
       "      <th></th>\n",
       "      <th></th>\n",
       "      <th></th>\n",
       "      <th></th>\n",
       "      <th></th>\n",
       "      <th></th>\n",
       "      <th></th>\n",
       "      <th></th>\n",
       "      <th></th>\n",
       "    </tr>\n",
       "  </thead>\n",
       "  <tbody>\n",
       "    <tr>\n",
       "      <th>672629</th>\n",
       "      <td>Maros</td>\n",
       "      <td>Maros</td>\n",
       "      <td>[Marisus, Mures, Mures River, Muresh, Muresul,...</td>\n",
       "      <td>46.25000</td>\n",
       "      <td>20.20000</td>\n",
       "      <td>H</td>\n",
       "      <td>STM</td>\n",
       "      <td>HU,RO</td>\n",
       "      <td>0</td>\n",
       "      <td>NaN</td>\n",
       "      <td>Europe/Budapest</td>\n",
       "      <td>2021-02-18</td>\n",
       "      <td>10</td>\n",
       "      <td>10</td>\n",
       "      <td>stream</td>\n",
       "    </tr>\n",
       "    <tr>\n",
       "      <th>677528</th>\n",
       "      <td>Gémesi Révház</td>\n",
       "      <td>Gemesi Revhaz</td>\n",
       "      <td>NaN</td>\n",
       "      <td>46.33472</td>\n",
       "      <td>18.89167</td>\n",
       "      <td>P</td>\n",
       "      <td>PPL</td>\n",
       "      <td>HU</td>\n",
       "      <td>0</td>\n",
       "      <td>NaN</td>\n",
       "      <td>Europe/Budapest</td>\n",
       "      <td>2014-07-08</td>\n",
       "      <td>0</td>\n",
       "      <td>0</td>\n",
       "      <td>populated place</td>\n",
       "    </tr>\n",
       "    <tr>\n",
       "      <th>680145</th>\n",
       "      <td>Fekete-Körös</td>\n",
       "      <td>Fekete-Koros</td>\n",
       "      <td>[Black Koros, Black Körös, Crisu Negru, Crisul...</td>\n",
       "      <td>46.70000</td>\n",
       "      <td>21.26667</td>\n",
       "      <td>H</td>\n",
       "      <td>STM</td>\n",
       "      <td>HU</td>\n",
       "      <td>0</td>\n",
       "      <td>NaN</td>\n",
       "      <td>Europe/Budapest</td>\n",
       "      <td>2012-01-18</td>\n",
       "      <td>10</td>\n",
       "      <td>10</td>\n",
       "      <td>stream</td>\n",
       "    </tr>\n",
       "    <tr>\n",
       "      <th>680147</th>\n",
       "      <td>Fehér-Körös</td>\n",
       "      <td>Feher-Koros</td>\n",
       "      <td>[Crisu Alb, Crisul Alb, Crişu Alb, Crişul Alb,...</td>\n",
       "      <td>46.93333</td>\n",
       "      <td>20.96667</td>\n",
       "      <td>H</td>\n",
       "      <td>STM</td>\n",
       "      <td>HU</td>\n",
       "      <td>0</td>\n",
       "      <td>NaN</td>\n",
       "      <td>Europe/Budapest</td>\n",
       "      <td>2012-01-18</td>\n",
       "      <td>12</td>\n",
       "      <td>12</td>\n",
       "      <td>stream</td>\n",
       "    </tr>\n",
       "    <tr>\n",
       "      <th>680300</th>\n",
       "      <td>Kraszna-csatorna</td>\n",
       "      <td>Kraszna-csatorna</td>\n",
       "      <td>[Canalul Crasna, Canalul Crasnei, Kraszna-csat...</td>\n",
       "      <td>48.13333</td>\n",
       "      <td>22.31667</td>\n",
       "      <td>H</td>\n",
       "      <td>CNL</td>\n",
       "      <td>HU</td>\n",
       "      <td>0</td>\n",
       "      <td>NaN</td>\n",
       "      <td>Europe/Budapest</td>\n",
       "      <td>2014-07-08</td>\n",
       "      <td>3</td>\n",
       "      <td>3</td>\n",
       "      <td>canal</td>\n",
       "    </tr>\n",
       "    <tr>\n",
       "      <th>...</th>\n",
       "      <td>...</td>\n",
       "      <td>...</td>\n",
       "      <td>...</td>\n",
       "      <td>...</td>\n",
       "      <td>...</td>\n",
       "      <td>...</td>\n",
       "      <td>...</td>\n",
       "      <td>...</td>\n",
       "      <td>...</td>\n",
       "      <td>...</td>\n",
       "      <td>...</td>\n",
       "      <td>...</td>\n",
       "      <td>...</td>\n",
       "      <td>...</td>\n",
       "      <td>...</td>\n",
       "    </tr>\n",
       "    <tr>\n",
       "      <th>12749913</th>\n",
       "      <td>Orczynegyed</td>\n",
       "      <td>Orczynegyed</td>\n",
       "      <td>[Orczy negyed]</td>\n",
       "      <td>47.48541</td>\n",
       "      <td>19.08847</td>\n",
       "      <td>P</td>\n",
       "      <td>PPLX</td>\n",
       "      <td>HU</td>\n",
       "      <td>9223</td>\n",
       "      <td>NaN</td>\n",
       "      <td>Europe/Budapest</td>\n",
       "      <td>2024-03-17</td>\n",
       "      <td>1</td>\n",
       "      <td>1</td>\n",
       "      <td>section of populated place</td>\n",
       "    </tr>\n",
       "    <tr>\n",
       "      <th>12749914</th>\n",
       "      <td>Palotanegyed</td>\n",
       "      <td>Palotanegyed</td>\n",
       "      <td>[Palota negyed]</td>\n",
       "      <td>47.49269</td>\n",
       "      <td>19.06522</td>\n",
       "      <td>P</td>\n",
       "      <td>PPLX</td>\n",
       "      <td>HU</td>\n",
       "      <td>9705</td>\n",
       "      <td>NaN</td>\n",
       "      <td>Europe/Budapest</td>\n",
       "      <td>2024-03-17</td>\n",
       "      <td>1</td>\n",
       "      <td>1</td>\n",
       "      <td>section of populated place</td>\n",
       "    </tr>\n",
       "    <tr>\n",
       "      <th>12749915</th>\n",
       "      <td>Századosnegyed</td>\n",
       "      <td>Szazadosnegyed</td>\n",
       "      <td>[Szazados negyed, Százados negyed]</td>\n",
       "      <td>47.49319</td>\n",
       "      <td>19.10676</td>\n",
       "      <td>P</td>\n",
       "      <td>PPLX</td>\n",
       "      <td>HU</td>\n",
       "      <td>3774</td>\n",
       "      <td>NaN</td>\n",
       "      <td>Europe/Budapest</td>\n",
       "      <td>2024-03-17</td>\n",
       "      <td>2</td>\n",
       "      <td>2</td>\n",
       "      <td>section of populated place</td>\n",
       "    </tr>\n",
       "    <tr>\n",
       "      <th>12749916</th>\n",
       "      <td>Tisztviselőtelep</td>\n",
       "      <td>Tisztviselotelep</td>\n",
       "      <td>NaN</td>\n",
       "      <td>47.48077</td>\n",
       "      <td>19.09660</td>\n",
       "      <td>P</td>\n",
       "      <td>PPLX</td>\n",
       "      <td>HU</td>\n",
       "      <td>2277</td>\n",
       "      <td>NaN</td>\n",
       "      <td>Europe/Budapest</td>\n",
       "      <td>2024-03-17</td>\n",
       "      <td>0</td>\n",
       "      <td>0</td>\n",
       "      <td>section of populated place</td>\n",
       "    </tr>\n",
       "    <tr>\n",
       "      <th>12749917</th>\n",
       "      <td>Istvánmező</td>\n",
       "      <td>Istvanmezo</td>\n",
       "      <td>NaN</td>\n",
       "      <td>47.50470</td>\n",
       "      <td>19.09554</td>\n",
       "      <td>P</td>\n",
       "      <td>PPLX</td>\n",
       "      <td>HU</td>\n",
       "      <td>11794</td>\n",
       "      <td>NaN</td>\n",
       "      <td>Europe/Budapest</td>\n",
       "      <td>2024-03-17</td>\n",
       "      <td>0</td>\n",
       "      <td>0</td>\n",
       "      <td>section of populated place</td>\n",
       "    </tr>\n",
       "  </tbody>\n",
       "</table>\n",
       "<p>24618 rows × 15 columns</p>\n",
       "</div>"
      ],
      "text/plain": [
       "                       name         asciiname  \\\n",
       "geonameid                                       \n",
       "672629                Maros             Maros   \n",
       "677528        Gémesi Révház     Gemesi Revhaz   \n",
       "680145         Fekete-Körös      Fekete-Koros   \n",
       "680147          Fehér-Körös       Feher-Koros   \n",
       "680300     Kraszna-csatorna  Kraszna-csatorna   \n",
       "...                     ...               ...   \n",
       "12749913        Orczynegyed       Orczynegyed   \n",
       "12749914       Palotanegyed      Palotanegyed   \n",
       "12749915     Századosnegyed    Szazadosnegyed   \n",
       "12749916   Tisztviselőtelep  Tisztviselotelep   \n",
       "12749917         Istvánmező        Istvanmezo   \n",
       "\n",
       "                                              alternatenames  latitude  \\\n",
       "geonameid                                                                \n",
       "672629     [Marisus, Mures, Mures River, Muresh, Muresul,...  46.25000   \n",
       "677528                                                   NaN  46.33472   \n",
       "680145     [Black Koros, Black Körös, Crisu Negru, Crisul...  46.70000   \n",
       "680147     [Crisu Alb, Crisul Alb, Crişu Alb, Crişul Alb,...  46.93333   \n",
       "680300     [Canalul Crasna, Canalul Crasnei, Kraszna-csat...  48.13333   \n",
       "...                                                      ...       ...   \n",
       "12749913                                      [Orczy negyed]  47.48541   \n",
       "12749914                                     [Palota negyed]  47.49269   \n",
       "12749915                  [Szazados negyed, Százados negyed]  47.49319   \n",
       "12749916                                                 NaN  47.48077   \n",
       "12749917                                                 NaN  47.50470   \n",
       "\n",
       "           longitude feature_class feature_code    cc2  population  elevation  \\\n",
       "geonameid                                                                       \n",
       "672629      20.20000             H          STM  HU,RO           0        NaN   \n",
       "677528      18.89167             P          PPL     HU           0        NaN   \n",
       "680145      21.26667             H          STM     HU           0        NaN   \n",
       "680147      20.96667             H          STM     HU           0        NaN   \n",
       "680300      22.31667             H          CNL     HU           0        NaN   \n",
       "...              ...           ...          ...    ...         ...        ...   \n",
       "12749913    19.08847             P         PPLX     HU        9223        NaN   \n",
       "12749914    19.06522             P         PPLX     HU        9705        NaN   \n",
       "12749915    19.10676             P         PPLX     HU        3774        NaN   \n",
       "12749916    19.09660             P         PPLX     HU        2277        NaN   \n",
       "12749917    19.09554             P         PPLX     HU       11794        NaN   \n",
       "\n",
       "                  timezone modification_date  alternatenames_count_function  \\\n",
       "geonameid                                                                     \n",
       "672629     Europe/Budapest        2021-02-18                             10   \n",
       "677528     Europe/Budapest        2014-07-08                              0   \n",
       "680145     Europe/Budapest        2012-01-18                             10   \n",
       "680147     Europe/Budapest        2012-01-18                             12   \n",
       "680300     Europe/Budapest        2014-07-08                              3   \n",
       "...                    ...               ...                            ...   \n",
       "12749913   Europe/Budapest        2024-03-17                              1   \n",
       "12749914   Europe/Budapest        2024-03-17                              1   \n",
       "12749915   Europe/Budapest        2024-03-17                              2   \n",
       "12749916   Europe/Budapest        2024-03-17                              0   \n",
       "12749917   Europe/Budapest        2024-03-17                              0   \n",
       "\n",
       "           alternatenames_count                  short_desc  \n",
       "geonameid                                                    \n",
       "672629                       10                      stream  \n",
       "677528                        0             populated place  \n",
       "680145                       10                      stream  \n",
       "680147                       12                      stream  \n",
       "680300                        3                       canal  \n",
       "...                         ...                         ...  \n",
       "12749913                      1  section of populated place  \n",
       "12749914                      1  section of populated place  \n",
       "12749915                      2  section of populated place  \n",
       "12749916                      0  section of populated place  \n",
       "12749917                      0  section of populated place  \n",
       "\n",
       "[24618 rows x 15 columns]"
      ]
     },
     "execution_count": 44,
     "metadata": {},
     "output_type": "execute_result"
    }
   ],
   "source": [
    "# Join feature codes\n",
    "\n",
    "hu_df = hu_df.join(features_df[\"short_desc\"], on=\"feature_code\", how=\"left\")\n",
    "\n",
    "hu_df\n"
   ]
  },
  {
   "cell_type": "code",
   "execution_count": 45,
   "metadata": {},
   "outputs": [
    {
     "data": {
      "text/html": [
       "<div>\n",
       "<style scoped>\n",
       "    .dataframe tbody tr th:only-of-type {\n",
       "        vertical-align: middle;\n",
       "    }\n",
       "\n",
       "    .dataframe tbody tr th {\n",
       "        vertical-align: top;\n",
       "    }\n",
       "\n",
       "    .dataframe thead th {\n",
       "        text-align: right;\n",
       "    }\n",
       "</style>\n",
       "<table border=\"1\" class=\"dataframe\">\n",
       "  <thead>\n",
       "    <tr style=\"text-align: right;\">\n",
       "      <th></th>\n",
       "      <th>feature_code</th>\n",
       "      <th>count</th>\n",
       "      <th>short_desc</th>\n",
       "      <th>long_desc</th>\n",
       "    </tr>\n",
       "  </thead>\n",
       "  <tbody>\n",
       "    <tr>\n",
       "      <th>0</th>\n",
       "      <td>PPL</td>\n",
       "      <td>9819</td>\n",
       "      <td>populated place</td>\n",
       "      <td>a city, town, village, or other agglomeration ...</td>\n",
       "    </tr>\n",
       "    <tr>\n",
       "      <th>1</th>\n",
       "      <td>PPLX</td>\n",
       "      <td>5954</td>\n",
       "      <td>section of populated place</td>\n",
       "      <td>NaN</td>\n",
       "    </tr>\n",
       "    <tr>\n",
       "      <th>2</th>\n",
       "      <td>HLL</td>\n",
       "      <td>2217</td>\n",
       "      <td>hill</td>\n",
       "      <td>a rounded elevation of limited extent rising a...</td>\n",
       "    </tr>\n",
       "    <tr>\n",
       "      <th>3</th>\n",
       "      <td>AREA</td>\n",
       "      <td>1831</td>\n",
       "      <td>area</td>\n",
       "      <td>a tract of land without homogeneous character ...</td>\n",
       "    </tr>\n",
       "    <tr>\n",
       "      <th>4</th>\n",
       "      <td>RSTN</td>\n",
       "      <td>928</td>\n",
       "      <td>railroad station</td>\n",
       "      <td>a facility comprising ticket office, platforms...</td>\n",
       "    </tr>\n",
       "    <tr>\n",
       "      <th>5</th>\n",
       "      <td>HTL</td>\n",
       "      <td>704</td>\n",
       "      <td>hotel</td>\n",
       "      <td>a building providing lodging and/or meals for ...</td>\n",
       "    </tr>\n",
       "    <tr>\n",
       "      <th>6</th>\n",
       "      <td>RSTP</td>\n",
       "      <td>698</td>\n",
       "      <td>railroad stop</td>\n",
       "      <td>a place lacking station facilities where train...</td>\n",
       "    </tr>\n",
       "    <tr>\n",
       "      <th>7</th>\n",
       "      <td>STM</td>\n",
       "      <td>537</td>\n",
       "      <td>stream</td>\n",
       "      <td>a body of running water moving to a lower leve...</td>\n",
       "    </tr>\n",
       "    <tr>\n",
       "      <th>8</th>\n",
       "      <td>LK</td>\n",
       "      <td>285</td>\n",
       "      <td>lake</td>\n",
       "      <td>a large inland body of standing water</td>\n",
       "    </tr>\n",
       "    <tr>\n",
       "      <th>9</th>\n",
       "      <td>MT</td>\n",
       "      <td>274</td>\n",
       "      <td>mountain</td>\n",
       "      <td>an elevation standing high above the surroundi...</td>\n",
       "    </tr>\n",
       "    <tr>\n",
       "      <th>10</th>\n",
       "      <td>ADM2</td>\n",
       "      <td>197</td>\n",
       "      <td>second-order administrative division</td>\n",
       "      <td>a subdivision of a first-order administrative ...</td>\n",
       "    </tr>\n",
       "    <tr>\n",
       "      <th>11</th>\n",
       "      <td>PPLA2</td>\n",
       "      <td>135</td>\n",
       "      <td>seat of a second-order administrative division</td>\n",
       "      <td>NaN</td>\n",
       "    </tr>\n",
       "    <tr>\n",
       "      <th>12</th>\n",
       "      <td>CNL</td>\n",
       "      <td>102</td>\n",
       "      <td>canal</td>\n",
       "      <td>an artificial watercourse</td>\n",
       "    </tr>\n",
       "    <tr>\n",
       "      <th>13</th>\n",
       "      <td>VAL</td>\n",
       "      <td>85</td>\n",
       "      <td>valley</td>\n",
       "      <td>an elongated depression usually traversed by a...</td>\n",
       "    </tr>\n",
       "    <tr>\n",
       "      <th>14</th>\n",
       "      <td>PPLL</td>\n",
       "      <td>78</td>\n",
       "      <td>populated locality</td>\n",
       "      <td>an area similar to a locality but with a small...</td>\n",
       "    </tr>\n",
       "    <tr>\n",
       "      <th>15</th>\n",
       "      <td>RGN</td>\n",
       "      <td>53</td>\n",
       "      <td>region</td>\n",
       "      <td>an area distinguished by one or more observabl...</td>\n",
       "    </tr>\n",
       "    <tr>\n",
       "      <th>16</th>\n",
       "      <td>FRST</td>\n",
       "      <td>49</td>\n",
       "      <td>forest(s)</td>\n",
       "      <td>an area dominated by tree vegetation</td>\n",
       "    </tr>\n",
       "    <tr>\n",
       "      <th>17</th>\n",
       "      <td>STMC</td>\n",
       "      <td>39</td>\n",
       "      <td>canalized stream</td>\n",
       "      <td>a stream that has been substantially ditched, ...</td>\n",
       "    </tr>\n",
       "    <tr>\n",
       "      <th>18</th>\n",
       "      <td>ISL</td>\n",
       "      <td>38</td>\n",
       "      <td>island</td>\n",
       "      <td>a tract of land, smaller than a continent, sur...</td>\n",
       "    </tr>\n",
       "    <tr>\n",
       "      <th>19</th>\n",
       "      <td>TOWR</td>\n",
       "      <td>36</td>\n",
       "      <td>tower</td>\n",
       "      <td>a high conspicuous structure, typically much h...</td>\n",
       "    </tr>\n",
       "  </tbody>\n",
       "</table>\n",
       "</div>"
      ],
      "text/plain": [
       "   feature_code  count                                      short_desc  \\\n",
       "0           PPL   9819                                 populated place   \n",
       "1          PPLX   5954                      section of populated place   \n",
       "2           HLL   2217                                            hill   \n",
       "3          AREA   1831                                            area   \n",
       "4          RSTN    928                                railroad station   \n",
       "5           HTL    704                                           hotel   \n",
       "6          RSTP    698                                   railroad stop   \n",
       "7           STM    537                                          stream   \n",
       "8            LK    285                                            lake   \n",
       "9            MT    274                                        mountain   \n",
       "10         ADM2    197            second-order administrative division   \n",
       "11        PPLA2    135  seat of a second-order administrative division   \n",
       "12          CNL    102                                           canal   \n",
       "13          VAL     85                                          valley   \n",
       "14         PPLL     78                              populated locality   \n",
       "15          RGN     53                                          region   \n",
       "16         FRST     49                                       forest(s)   \n",
       "17         STMC     39                                canalized stream   \n",
       "18          ISL     38                                          island   \n",
       "19         TOWR     36                                           tower   \n",
       "\n",
       "                                            long_desc  \n",
       "0   a city, town, village, or other agglomeration ...  \n",
       "1                                                 NaN  \n",
       "2   a rounded elevation of limited extent rising a...  \n",
       "3   a tract of land without homogeneous character ...  \n",
       "4   a facility comprising ticket office, platforms...  \n",
       "5   a building providing lodging and/or meals for ...  \n",
       "6   a place lacking station facilities where train...  \n",
       "7   a body of running water moving to a lower leve...  \n",
       "8               a large inland body of standing water  \n",
       "9   an elevation standing high above the surroundi...  \n",
       "10  a subdivision of a first-order administrative ...  \n",
       "11                                                NaN  \n",
       "12                          an artificial watercourse  \n",
       "13  an elongated depression usually traversed by a...  \n",
       "14  an area similar to a locality but with a small...  \n",
       "15  an area distinguished by one or more observabl...  \n",
       "16               an area dominated by tree vegetation  \n",
       "17  a stream that has been substantially ditched, ...  \n",
       "18  a tract of land, smaller than a continent, sur...  \n",
       "19  a high conspicuous structure, typically much h...  "
      ]
     },
     "execution_count": 45,
     "metadata": {},
     "output_type": "execute_result"
    }
   ],
   "source": [
    "# Number of places per feature code\n",
    "\n",
    "feature_counts = hu_df[\"feature_code\"].value_counts().reset_index()\n",
    "feature_counts.columns = [\"feature_code\", \"count\"]\n",
    "feature_counts = feature_counts.merge(features_df, on=\"feature_code\")\n",
    "feature_counts.head(20)"
   ]
  },
  {
   "cell_type": "markdown",
   "metadata": {},
   "source": [
    "# Extra: Plotting geo data with Plotly"
   ]
  },
  {
   "cell_type": "code",
   "execution_count": 46,
   "metadata": {},
   "outputs": [
    {
     "data": {
      "text/html": [
       "<div>\n",
       "<style scoped>\n",
       "    .dataframe tbody tr th:only-of-type {\n",
       "        vertical-align: middle;\n",
       "    }\n",
       "\n",
       "    .dataframe tbody tr th {\n",
       "        vertical-align: top;\n",
       "    }\n",
       "\n",
       "    .dataframe thead th {\n",
       "        text-align: right;\n",
       "    }\n",
       "</style>\n",
       "<table border=\"1\" class=\"dataframe\">\n",
       "  <thead>\n",
       "    <tr style=\"text-align: right;\">\n",
       "      <th></th>\n",
       "      <th>name</th>\n",
       "      <th>asciiname</th>\n",
       "      <th>alternatenames</th>\n",
       "      <th>latitude</th>\n",
       "      <th>longitude</th>\n",
       "      <th>feature_class</th>\n",
       "      <th>feature_code</th>\n",
       "      <th>cc2</th>\n",
       "      <th>population</th>\n",
       "      <th>elevation</th>\n",
       "      <th>timezone</th>\n",
       "      <th>modification_date</th>\n",
       "      <th>alternatenames_count_function</th>\n",
       "      <th>alternatenames_count</th>\n",
       "      <th>short_desc</th>\n",
       "    </tr>\n",
       "    <tr>\n",
       "      <th>geonameid</th>\n",
       "      <th></th>\n",
       "      <th></th>\n",
       "      <th></th>\n",
       "      <th></th>\n",
       "      <th></th>\n",
       "      <th></th>\n",
       "      <th></th>\n",
       "      <th></th>\n",
       "      <th></th>\n",
       "      <th></th>\n",
       "      <th></th>\n",
       "      <th></th>\n",
       "      <th></th>\n",
       "      <th></th>\n",
       "      <th></th>\n",
       "    </tr>\n",
       "  </thead>\n",
       "  <tbody>\n",
       "    <tr>\n",
       "      <th>715429</th>\n",
       "      <td>Szeged</td>\n",
       "      <td>Szeged</td>\n",
       "      <td>[Kiskundorozsma, QZD, Seged, Segedin, Seghedin...</td>\n",
       "      <td>46.25300</td>\n",
       "      <td>20.14824</td>\n",
       "      <td>P</td>\n",
       "      <td>PPLA</td>\n",
       "      <td>HU</td>\n",
       "      <td>160766</td>\n",
       "      <td>NaN</td>\n",
       "      <td>Europe/Budapest</td>\n",
       "      <td>2022-08-14</td>\n",
       "      <td>12</td>\n",
       "      <td>12</td>\n",
       "      <td>seat of a first-order administrative division</td>\n",
       "    </tr>\n",
       "    <tr>\n",
       "      <th>717582</th>\n",
       "      <td>Miskolc</td>\n",
       "      <td>Miskolc</td>\n",
       "      <td>[Bukkszentlaszlo, Bükkszentlászló, MCQ, Mishko...</td>\n",
       "      <td>48.10306</td>\n",
       "      <td>20.77806</td>\n",
       "      <td>P</td>\n",
       "      <td>PPLA</td>\n",
       "      <td>HU</td>\n",
       "      <td>154521</td>\n",
       "      <td>NaN</td>\n",
       "      <td>Europe/Budapest</td>\n",
       "      <td>2022-08-14</td>\n",
       "      <td>33</td>\n",
       "      <td>33</td>\n",
       "      <td>seat of a first-order administrative division</td>\n",
       "    </tr>\n",
       "    <tr>\n",
       "      <th>721472</th>\n",
       "      <td>Debrecen</td>\n",
       "      <td>Debrecen</td>\n",
       "      <td>[DEB, Debrecen, Debrecena, Debrecenas, Debrece...</td>\n",
       "      <td>47.53167</td>\n",
       "      <td>21.62444</td>\n",
       "      <td>P</td>\n",
       "      <td>PPLA</td>\n",
       "      <td>HU</td>\n",
       "      <td>202402</td>\n",
       "      <td>NaN</td>\n",
       "      <td>Europe/Budapest</td>\n",
       "      <td>2022-12-29</td>\n",
       "      <td>40</td>\n",
       "      <td>40</td>\n",
       "      <td>seat of a first-order administrative division</td>\n",
       "    </tr>\n",
       "    <tr>\n",
       "      <th>3042638</th>\n",
       "      <td>Zalaegerszeg</td>\n",
       "      <td>Zalaegerszeg</td>\n",
       "      <td>[Egersee, Jegersek, Zalaederseg, Zalaegerseg, ...</td>\n",
       "      <td>46.84000</td>\n",
       "      <td>16.84389</td>\n",
       "      <td>P</td>\n",
       "      <td>PPLA</td>\n",
       "      <td>HU</td>\n",
       "      <td>61898</td>\n",
       "      <td>NaN</td>\n",
       "      <td>Europe/Budapest</td>\n",
       "      <td>2021-08-08</td>\n",
       "      <td>25</td>\n",
       "      <td>25</td>\n",
       "      <td>seat of a first-order administrative division</td>\n",
       "    </tr>\n",
       "    <tr>\n",
       "      <th>3042929</th>\n",
       "      <td>Veszprém</td>\n",
       "      <td>Veszprem</td>\n",
       "      <td>[Comitatul Veszprem, Comitatul Veszprém, Gyula...</td>\n",
       "      <td>47.09327</td>\n",
       "      <td>17.91149</td>\n",
       "      <td>P</td>\n",
       "      <td>PPLA</td>\n",
       "      <td>HU</td>\n",
       "      <td>56927</td>\n",
       "      <td>NaN</td>\n",
       "      <td>Europe/Budapest</td>\n",
       "      <td>2022-08-14</td>\n",
       "      <td>38</td>\n",
       "      <td>38</td>\n",
       "      <td>seat of a first-order administrative division</td>\n",
       "    </tr>\n",
       "    <tr>\n",
       "      <th>3044310</th>\n",
       "      <td>Szombathely</td>\n",
       "      <td>Szombathely</td>\n",
       "      <td>[Sabaria, Sambotel, Savaria, Sombatgej, Sombat...</td>\n",
       "      <td>47.23088</td>\n",
       "      <td>16.62155</td>\n",
       "      <td>P</td>\n",
       "      <td>PPLA</td>\n",
       "      <td>HU</td>\n",
       "      <td>78025</td>\n",
       "      <td>230.0</td>\n",
       "      <td>Europe/Budapest</td>\n",
       "      <td>2022-08-14</td>\n",
       "      <td>31</td>\n",
       "      <td>31</td>\n",
       "      <td>seat of a first-order administrative division</td>\n",
       "    </tr>\n",
       "    <tr>\n",
       "      <th>3044774</th>\n",
       "      <td>Székesfehérvár</td>\n",
       "      <td>Szekesfehervar</td>\n",
       "      <td>[Alba Regalis, Alba Regia, Albareale, Sekesfeh...</td>\n",
       "      <td>47.18995</td>\n",
       "      <td>18.41034</td>\n",
       "      <td>P</td>\n",
       "      <td>PPLA</td>\n",
       "      <td>HU</td>\n",
       "      <td>101600</td>\n",
       "      <td>NaN</td>\n",
       "      <td>Europe/Budapest</td>\n",
       "      <td>2023-09-09</td>\n",
       "      <td>37</td>\n",
       "      <td>37</td>\n",
       "      <td>seat of a first-order administrative division</td>\n",
       "    </tr>\n",
       "    <tr>\n",
       "      <th>3046526</th>\n",
       "      <td>Pécs</td>\n",
       "      <td>Pecs</td>\n",
       "      <td>[Cinquechiese, Fuenfkirchen, Funfkirchen, Fünf...</td>\n",
       "      <td>46.07250</td>\n",
       "      <td>18.23083</td>\n",
       "      <td>P</td>\n",
       "      <td>PPLA</td>\n",
       "      <td>HU</td>\n",
       "      <td>145347</td>\n",
       "      <td>NaN</td>\n",
       "      <td>Europe/Budapest</td>\n",
       "      <td>2023-02-09</td>\n",
       "      <td>65</td>\n",
       "      <td>65</td>\n",
       "      <td>seat of a first-order administrative division</td>\n",
       "    </tr>\n",
       "    <tr>\n",
       "      <th>3050434</th>\n",
       "      <td>Kecskemét</td>\n",
       "      <td>Kecskemet</td>\n",
       "      <td>[Aegopolis, Heteny, Hetenyegyhaza, Hetény, Het...</td>\n",
       "      <td>46.90618</td>\n",
       "      <td>19.69128</td>\n",
       "      <td>P</td>\n",
       "      <td>PPLA</td>\n",
       "      <td>HU</td>\n",
       "      <td>109847</td>\n",
       "      <td>NaN</td>\n",
       "      <td>Europe/Budapest</td>\n",
       "      <td>2021-05-28</td>\n",
       "      <td>27</td>\n",
       "      <td>27</td>\n",
       "      <td>seat of a first-order administrative division</td>\n",
       "    </tr>\n",
       "    <tr>\n",
       "      <th>3052009</th>\n",
       "      <td>Győr</td>\n",
       "      <td>Gyor</td>\n",
       "      <td>[Arrabona, D'er, D'jor, D'or, Deras, Djor, Dz'...</td>\n",
       "      <td>47.68333</td>\n",
       "      <td>17.63512</td>\n",
       "      <td>P</td>\n",
       "      <td>PPLA</td>\n",
       "      <td>HU</td>\n",
       "      <td>129301</td>\n",
       "      <td>NaN</td>\n",
       "      <td>Europe/Budapest</td>\n",
       "      <td>2023-09-17</td>\n",
       "      <td>54</td>\n",
       "      <td>54</td>\n",
       "      <td>seat of a first-order administrative division</td>\n",
       "    </tr>\n",
       "    <tr>\n",
       "      <th>3054643</th>\n",
       "      <td>Budapest</td>\n",
       "      <td>Budapest</td>\n",
       "      <td>[BUD, Boedapes, Boedapest, Boudapes, Boudapest...</td>\n",
       "      <td>47.49835</td>\n",
       "      <td>19.04045</td>\n",
       "      <td>P</td>\n",
       "      <td>PPLC</td>\n",
       "      <td>HU</td>\n",
       "      <td>1741041</td>\n",
       "      <td>NaN</td>\n",
       "      <td>Europe/Budapest</td>\n",
       "      <td>2022-02-21</td>\n",
       "      <td>78</td>\n",
       "      <td>78</td>\n",
       "      <td>capital of a political entity</td>\n",
       "    </tr>\n",
       "  </tbody>\n",
       "</table>\n",
       "</div>"
      ],
      "text/plain": [
       "                     name       asciiname  \\\n",
       "geonameid                                   \n",
       "715429             Szeged          Szeged   \n",
       "717582            Miskolc         Miskolc   \n",
       "721472           Debrecen        Debrecen   \n",
       "3042638      Zalaegerszeg    Zalaegerszeg   \n",
       "3042929          Veszprém        Veszprem   \n",
       "3044310       Szombathely     Szombathely   \n",
       "3044774    Székesfehérvár  Szekesfehervar   \n",
       "3046526              Pécs            Pecs   \n",
       "3050434         Kecskemét       Kecskemet   \n",
       "3052009              Győr            Gyor   \n",
       "3054643          Budapest        Budapest   \n",
       "\n",
       "                                              alternatenames  latitude  \\\n",
       "geonameid                                                                \n",
       "715429     [Kiskundorozsma, QZD, Seged, Segedin, Seghedin...  46.25300   \n",
       "717582     [Bukkszentlaszlo, Bükkszentlászló, MCQ, Mishko...  48.10306   \n",
       "721472     [DEB, Debrecen, Debrecena, Debrecenas, Debrece...  47.53167   \n",
       "3042638    [Egersee, Jegersek, Zalaederseg, Zalaegerseg, ...  46.84000   \n",
       "3042929    [Comitatul Veszprem, Comitatul Veszprém, Gyula...  47.09327   \n",
       "3044310    [Sabaria, Sambotel, Savaria, Sombatgej, Sombat...  47.23088   \n",
       "3044774    [Alba Regalis, Alba Regia, Albareale, Sekesfeh...  47.18995   \n",
       "3046526    [Cinquechiese, Fuenfkirchen, Funfkirchen, Fünf...  46.07250   \n",
       "3050434    [Aegopolis, Heteny, Hetenyegyhaza, Hetény, Het...  46.90618   \n",
       "3052009    [Arrabona, D'er, D'jor, D'or, Deras, Djor, Dz'...  47.68333   \n",
       "3054643    [BUD, Boedapes, Boedapest, Boudapes, Boudapest...  47.49835   \n",
       "\n",
       "           longitude feature_class feature_code cc2  population  elevation  \\\n",
       "geonameid                                                                    \n",
       "715429      20.14824             P         PPLA  HU      160766        NaN   \n",
       "717582      20.77806             P         PPLA  HU      154521        NaN   \n",
       "721472      21.62444             P         PPLA  HU      202402        NaN   \n",
       "3042638     16.84389             P         PPLA  HU       61898        NaN   \n",
       "3042929     17.91149             P         PPLA  HU       56927        NaN   \n",
       "3044310     16.62155             P         PPLA  HU       78025      230.0   \n",
       "3044774     18.41034             P         PPLA  HU      101600        NaN   \n",
       "3046526     18.23083             P         PPLA  HU      145347        NaN   \n",
       "3050434     19.69128             P         PPLA  HU      109847        NaN   \n",
       "3052009     17.63512             P         PPLA  HU      129301        NaN   \n",
       "3054643     19.04045             P         PPLC  HU     1741041        NaN   \n",
       "\n",
       "                  timezone modification_date  alternatenames_count_function  \\\n",
       "geonameid                                                                     \n",
       "715429     Europe/Budapest        2022-08-14                             12   \n",
       "717582     Europe/Budapest        2022-08-14                             33   \n",
       "721472     Europe/Budapest        2022-12-29                             40   \n",
       "3042638    Europe/Budapest        2021-08-08                             25   \n",
       "3042929    Europe/Budapest        2022-08-14                             38   \n",
       "3044310    Europe/Budapest        2022-08-14                             31   \n",
       "3044774    Europe/Budapest        2023-09-09                             37   \n",
       "3046526    Europe/Budapest        2023-02-09                             65   \n",
       "3050434    Europe/Budapest        2021-05-28                             27   \n",
       "3052009    Europe/Budapest        2023-09-17                             54   \n",
       "3054643    Europe/Budapest        2022-02-21                             78   \n",
       "\n",
       "           alternatenames_count                                     short_desc  \n",
       "geonameid                                                                       \n",
       "715429                       12  seat of a first-order administrative division  \n",
       "717582                       33  seat of a first-order administrative division  \n",
       "721472                       40  seat of a first-order administrative division  \n",
       "3042638                      25  seat of a first-order administrative division  \n",
       "3042929                      38  seat of a first-order administrative division  \n",
       "3044310                      31  seat of a first-order administrative division  \n",
       "3044774                      37  seat of a first-order administrative division  \n",
       "3046526                      65  seat of a first-order administrative division  \n",
       "3050434                      27  seat of a first-order administrative division  \n",
       "3052009                      54  seat of a first-order administrative division  \n",
       "3054643                      78                  capital of a political entity  "
      ]
     },
     "execution_count": 46,
     "metadata": {},
     "output_type": "execute_result"
    }
   ],
   "source": [
    "# Plot cities with population size\n",
    "\n",
    "to_plot = [\"Budapest\", \"Szeged\", \"Debrecen\", \"Miskolc\", \"Győr\", \"Pécs\", \"Kecskemét\", \"Székesfehérvár\", \"Szombathely\", \"Veszprém\", \"Zalaegerszeg\"]\n",
    "\n",
    "# Select Cities (feature_class = P)\n",
    "p_df = hu_df.loc[hu_df[\"feature_class\"] == \"P\"]\n",
    "\n",
    "# Select cities in to_plot list\n",
    "cities_df = p_df.loc[p_df[\"name\"].isin(to_plot)]\n",
    "\n",
    "cities_df"
   ]
  },
  {
   "cell_type": "code",
   "execution_count": 47,
   "metadata": {},
   "outputs": [
    {
     "data": {
      "application/vnd.plotly.v1+json": {
       "config": {
        "plotlyServerURL": "https://plot.ly"
       },
       "data": [
        {
         "geo": "geo",
         "hovertemplate": "<b>%{hovertext}</b><br><br>population=%{marker.size}<br>latitude=%{lat}<br>longitude=%{lon}<extra></extra>",
         "hovertext": [
          "Szeged",
          "Miskolc",
          "Debrecen",
          "Zalaegerszeg",
          "Veszprém",
          "Szombathely",
          "Székesfehérvár",
          "Pécs",
          "Kecskemét",
          "Győr",
          "Budapest"
         ],
         "lat": [
          46.253,
          48.10306,
          47.53167,
          46.84,
          47.09327,
          47.23088,
          47.18995,
          46.0725,
          46.90618,
          47.68333,
          47.49835
         ],
         "legendgroup": "",
         "lon": [
          20.14824,
          20.77806,
          21.62444,
          16.84389,
          17.91149,
          16.62155,
          18.41034,
          18.23083,
          19.69128,
          17.63512,
          19.04045
         ],
         "marker": {
          "color": "#636efa",
          "size": [
           160766,
           154521,
           202402,
           61898,
           56927,
           78025,
           101600,
           145347,
           109847,
           129301,
           1741041
          ],
          "sizemode": "area",
          "sizeref": 4352.6025,
          "symbol": "circle"
         },
         "mode": "markers",
         "name": "",
         "showlegend": false,
         "type": "scattergeo"
        }
       ],
       "layout": {
        "geo": {
         "center": {},
         "domain": {
          "x": [
           0,
           1
          ],
          "y": [
           0,
           1
          ]
         },
         "projection": {
          "type": "natural earth"
         },
         "scope": "europe"
        },
        "legend": {
         "itemsizing": "constant",
         "tracegroupgap": 0
        },
        "margin": {
         "t": 60
        },
        "template": {
         "data": {
          "bar": [
           {
            "error_x": {
             "color": "#2a3f5f"
            },
            "error_y": {
             "color": "#2a3f5f"
            },
            "marker": {
             "line": {
              "color": "#E5ECF6",
              "width": 0.5
             },
             "pattern": {
              "fillmode": "overlay",
              "size": 10,
              "solidity": 0.2
             }
            },
            "type": "bar"
           }
          ],
          "barpolar": [
           {
            "marker": {
             "line": {
              "color": "#E5ECF6",
              "width": 0.5
             },
             "pattern": {
              "fillmode": "overlay",
              "size": 10,
              "solidity": 0.2
             }
            },
            "type": "barpolar"
           }
          ],
          "carpet": [
           {
            "aaxis": {
             "endlinecolor": "#2a3f5f",
             "gridcolor": "white",
             "linecolor": "white",
             "minorgridcolor": "white",
             "startlinecolor": "#2a3f5f"
            },
            "baxis": {
             "endlinecolor": "#2a3f5f",
             "gridcolor": "white",
             "linecolor": "white",
             "minorgridcolor": "white",
             "startlinecolor": "#2a3f5f"
            },
            "type": "carpet"
           }
          ],
          "choropleth": [
           {
            "colorbar": {
             "outlinewidth": 0,
             "ticks": ""
            },
            "type": "choropleth"
           }
          ],
          "contour": [
           {
            "colorbar": {
             "outlinewidth": 0,
             "ticks": ""
            },
            "colorscale": [
             [
              0,
              "#0d0887"
             ],
             [
              0.1111111111111111,
              "#46039f"
             ],
             [
              0.2222222222222222,
              "#7201a8"
             ],
             [
              0.3333333333333333,
              "#9c179e"
             ],
             [
              0.4444444444444444,
              "#bd3786"
             ],
             [
              0.5555555555555556,
              "#d8576b"
             ],
             [
              0.6666666666666666,
              "#ed7953"
             ],
             [
              0.7777777777777778,
              "#fb9f3a"
             ],
             [
              0.8888888888888888,
              "#fdca26"
             ],
             [
              1,
              "#f0f921"
             ]
            ],
            "type": "contour"
           }
          ],
          "contourcarpet": [
           {
            "colorbar": {
             "outlinewidth": 0,
             "ticks": ""
            },
            "type": "contourcarpet"
           }
          ],
          "heatmap": [
           {
            "colorbar": {
             "outlinewidth": 0,
             "ticks": ""
            },
            "colorscale": [
             [
              0,
              "#0d0887"
             ],
             [
              0.1111111111111111,
              "#46039f"
             ],
             [
              0.2222222222222222,
              "#7201a8"
             ],
             [
              0.3333333333333333,
              "#9c179e"
             ],
             [
              0.4444444444444444,
              "#bd3786"
             ],
             [
              0.5555555555555556,
              "#d8576b"
             ],
             [
              0.6666666666666666,
              "#ed7953"
             ],
             [
              0.7777777777777778,
              "#fb9f3a"
             ],
             [
              0.8888888888888888,
              "#fdca26"
             ],
             [
              1,
              "#f0f921"
             ]
            ],
            "type": "heatmap"
           }
          ],
          "heatmapgl": [
           {
            "colorbar": {
             "outlinewidth": 0,
             "ticks": ""
            },
            "colorscale": [
             [
              0,
              "#0d0887"
             ],
             [
              0.1111111111111111,
              "#46039f"
             ],
             [
              0.2222222222222222,
              "#7201a8"
             ],
             [
              0.3333333333333333,
              "#9c179e"
             ],
             [
              0.4444444444444444,
              "#bd3786"
             ],
             [
              0.5555555555555556,
              "#d8576b"
             ],
             [
              0.6666666666666666,
              "#ed7953"
             ],
             [
              0.7777777777777778,
              "#fb9f3a"
             ],
             [
              0.8888888888888888,
              "#fdca26"
             ],
             [
              1,
              "#f0f921"
             ]
            ],
            "type": "heatmapgl"
           }
          ],
          "histogram": [
           {
            "marker": {
             "pattern": {
              "fillmode": "overlay",
              "size": 10,
              "solidity": 0.2
             }
            },
            "type": "histogram"
           }
          ],
          "histogram2d": [
           {
            "colorbar": {
             "outlinewidth": 0,
             "ticks": ""
            },
            "colorscale": [
             [
              0,
              "#0d0887"
             ],
             [
              0.1111111111111111,
              "#46039f"
             ],
             [
              0.2222222222222222,
              "#7201a8"
             ],
             [
              0.3333333333333333,
              "#9c179e"
             ],
             [
              0.4444444444444444,
              "#bd3786"
             ],
             [
              0.5555555555555556,
              "#d8576b"
             ],
             [
              0.6666666666666666,
              "#ed7953"
             ],
             [
              0.7777777777777778,
              "#fb9f3a"
             ],
             [
              0.8888888888888888,
              "#fdca26"
             ],
             [
              1,
              "#f0f921"
             ]
            ],
            "type": "histogram2d"
           }
          ],
          "histogram2dcontour": [
           {
            "colorbar": {
             "outlinewidth": 0,
             "ticks": ""
            },
            "colorscale": [
             [
              0,
              "#0d0887"
             ],
             [
              0.1111111111111111,
              "#46039f"
             ],
             [
              0.2222222222222222,
              "#7201a8"
             ],
             [
              0.3333333333333333,
              "#9c179e"
             ],
             [
              0.4444444444444444,
              "#bd3786"
             ],
             [
              0.5555555555555556,
              "#d8576b"
             ],
             [
              0.6666666666666666,
              "#ed7953"
             ],
             [
              0.7777777777777778,
              "#fb9f3a"
             ],
             [
              0.8888888888888888,
              "#fdca26"
             ],
             [
              1,
              "#f0f921"
             ]
            ],
            "type": "histogram2dcontour"
           }
          ],
          "mesh3d": [
           {
            "colorbar": {
             "outlinewidth": 0,
             "ticks": ""
            },
            "type": "mesh3d"
           }
          ],
          "parcoords": [
           {
            "line": {
             "colorbar": {
              "outlinewidth": 0,
              "ticks": ""
             }
            },
            "type": "parcoords"
           }
          ],
          "pie": [
           {
            "automargin": true,
            "type": "pie"
           }
          ],
          "scatter": [
           {
            "fillpattern": {
             "fillmode": "overlay",
             "size": 10,
             "solidity": 0.2
            },
            "type": "scatter"
           }
          ],
          "scatter3d": [
           {
            "line": {
             "colorbar": {
              "outlinewidth": 0,
              "ticks": ""
             }
            },
            "marker": {
             "colorbar": {
              "outlinewidth": 0,
              "ticks": ""
             }
            },
            "type": "scatter3d"
           }
          ],
          "scattercarpet": [
           {
            "marker": {
             "colorbar": {
              "outlinewidth": 0,
              "ticks": ""
             }
            },
            "type": "scattercarpet"
           }
          ],
          "scattergeo": [
           {
            "marker": {
             "colorbar": {
              "outlinewidth": 0,
              "ticks": ""
             }
            },
            "type": "scattergeo"
           }
          ],
          "scattergl": [
           {
            "marker": {
             "colorbar": {
              "outlinewidth": 0,
              "ticks": ""
             }
            },
            "type": "scattergl"
           }
          ],
          "scattermapbox": [
           {
            "marker": {
             "colorbar": {
              "outlinewidth": 0,
              "ticks": ""
             }
            },
            "type": "scattermapbox"
           }
          ],
          "scatterpolar": [
           {
            "marker": {
             "colorbar": {
              "outlinewidth": 0,
              "ticks": ""
             }
            },
            "type": "scatterpolar"
           }
          ],
          "scatterpolargl": [
           {
            "marker": {
             "colorbar": {
              "outlinewidth": 0,
              "ticks": ""
             }
            },
            "type": "scatterpolargl"
           }
          ],
          "scatterternary": [
           {
            "marker": {
             "colorbar": {
              "outlinewidth": 0,
              "ticks": ""
             }
            },
            "type": "scatterternary"
           }
          ],
          "surface": [
           {
            "colorbar": {
             "outlinewidth": 0,
             "ticks": ""
            },
            "colorscale": [
             [
              0,
              "#0d0887"
             ],
             [
              0.1111111111111111,
              "#46039f"
             ],
             [
              0.2222222222222222,
              "#7201a8"
             ],
             [
              0.3333333333333333,
              "#9c179e"
             ],
             [
              0.4444444444444444,
              "#bd3786"
             ],
             [
              0.5555555555555556,
              "#d8576b"
             ],
             [
              0.6666666666666666,
              "#ed7953"
             ],
             [
              0.7777777777777778,
              "#fb9f3a"
             ],
             [
              0.8888888888888888,
              "#fdca26"
             ],
             [
              1,
              "#f0f921"
             ]
            ],
            "type": "surface"
           }
          ],
          "table": [
           {
            "cells": {
             "fill": {
              "color": "#EBF0F8"
             },
             "line": {
              "color": "white"
             }
            },
            "header": {
             "fill": {
              "color": "#C8D4E3"
             },
             "line": {
              "color": "white"
             }
            },
            "type": "table"
           }
          ]
         },
         "layout": {
          "annotationdefaults": {
           "arrowcolor": "#2a3f5f",
           "arrowhead": 0,
           "arrowwidth": 1
          },
          "autotypenumbers": "strict",
          "coloraxis": {
           "colorbar": {
            "outlinewidth": 0,
            "ticks": ""
           }
          },
          "colorscale": {
           "diverging": [
            [
             0,
             "#8e0152"
            ],
            [
             0.1,
             "#c51b7d"
            ],
            [
             0.2,
             "#de77ae"
            ],
            [
             0.3,
             "#f1b6da"
            ],
            [
             0.4,
             "#fde0ef"
            ],
            [
             0.5,
             "#f7f7f7"
            ],
            [
             0.6,
             "#e6f5d0"
            ],
            [
             0.7,
             "#b8e186"
            ],
            [
             0.8,
             "#7fbc41"
            ],
            [
             0.9,
             "#4d9221"
            ],
            [
             1,
             "#276419"
            ]
           ],
           "sequential": [
            [
             0,
             "#0d0887"
            ],
            [
             0.1111111111111111,
             "#46039f"
            ],
            [
             0.2222222222222222,
             "#7201a8"
            ],
            [
             0.3333333333333333,
             "#9c179e"
            ],
            [
             0.4444444444444444,
             "#bd3786"
            ],
            [
             0.5555555555555556,
             "#d8576b"
            ],
            [
             0.6666666666666666,
             "#ed7953"
            ],
            [
             0.7777777777777778,
             "#fb9f3a"
            ],
            [
             0.8888888888888888,
             "#fdca26"
            ],
            [
             1,
             "#f0f921"
            ]
           ],
           "sequentialminus": [
            [
             0,
             "#0d0887"
            ],
            [
             0.1111111111111111,
             "#46039f"
            ],
            [
             0.2222222222222222,
             "#7201a8"
            ],
            [
             0.3333333333333333,
             "#9c179e"
            ],
            [
             0.4444444444444444,
             "#bd3786"
            ],
            [
             0.5555555555555556,
             "#d8576b"
            ],
            [
             0.6666666666666666,
             "#ed7953"
            ],
            [
             0.7777777777777778,
             "#fb9f3a"
            ],
            [
             0.8888888888888888,
             "#fdca26"
            ],
            [
             1,
             "#f0f921"
            ]
           ]
          },
          "colorway": [
           "#636efa",
           "#EF553B",
           "#00cc96",
           "#ab63fa",
           "#FFA15A",
           "#19d3f3",
           "#FF6692",
           "#B6E880",
           "#FF97FF",
           "#FECB52"
          ],
          "font": {
           "color": "#2a3f5f"
          },
          "geo": {
           "bgcolor": "white",
           "lakecolor": "white",
           "landcolor": "#E5ECF6",
           "showlakes": true,
           "showland": true,
           "subunitcolor": "white"
          },
          "hoverlabel": {
           "align": "left"
          },
          "hovermode": "closest",
          "mapbox": {
           "style": "light"
          },
          "paper_bgcolor": "white",
          "plot_bgcolor": "#E5ECF6",
          "polar": {
           "angularaxis": {
            "gridcolor": "white",
            "linecolor": "white",
            "ticks": ""
           },
           "bgcolor": "#E5ECF6",
           "radialaxis": {
            "gridcolor": "white",
            "linecolor": "white",
            "ticks": ""
           }
          },
          "scene": {
           "xaxis": {
            "backgroundcolor": "#E5ECF6",
            "gridcolor": "white",
            "gridwidth": 2,
            "linecolor": "white",
            "showbackground": true,
            "ticks": "",
            "zerolinecolor": "white"
           },
           "yaxis": {
            "backgroundcolor": "#E5ECF6",
            "gridcolor": "white",
            "gridwidth": 2,
            "linecolor": "white",
            "showbackground": true,
            "ticks": "",
            "zerolinecolor": "white"
           },
           "zaxis": {
            "backgroundcolor": "#E5ECF6",
            "gridcolor": "white",
            "gridwidth": 2,
            "linecolor": "white",
            "showbackground": true,
            "ticks": "",
            "zerolinecolor": "white"
           }
          },
          "shapedefaults": {
           "line": {
            "color": "#2a3f5f"
           }
          },
          "ternary": {
           "aaxis": {
            "gridcolor": "white",
            "linecolor": "white",
            "ticks": ""
           },
           "baxis": {
            "gridcolor": "white",
            "linecolor": "white",
            "ticks": ""
           },
           "bgcolor": "#E5ECF6",
           "caxis": {
            "gridcolor": "white",
            "linecolor": "white",
            "ticks": ""
           }
          },
          "title": {
           "x": 0.05
          },
          "xaxis": {
           "automargin": true,
           "gridcolor": "white",
           "linecolor": "white",
           "ticks": "",
           "title": {
            "standoff": 15
           },
           "zerolinecolor": "white",
           "zerolinewidth": 2
          },
          "yaxis": {
           "automargin": true,
           "gridcolor": "white",
           "linecolor": "white",
           "ticks": "",
           "title": {
            "standoff": 15
           },
           "zerolinecolor": "white",
           "zerolinewidth": 2
          }
         }
        }
       }
      }
     },
     "metadata": {},
     "output_type": "display_data"
    }
   ],
   "source": [
    "# Plot cities_df with plotly using population as size\n",
    "\n",
    "fig = px.scatter_geo(cities_df, lat=\"latitude\", lon=\"longitude\", hover_name=\"name\", size=\"population\", projection=\"natural earth\", scope=\"europe\")\n",
    "\n",
    "fig.show()"
   ]
  },
  {
   "cell_type": "code",
   "execution_count": 48,
   "metadata": {},
   "outputs": [
    {
     "data": {
      "application/vnd.plotly.v1+json": {
       "config": {
        "plotlyServerURL": "https://plot.ly"
       },
       "data": [
        {
         "geo": "geo",
         "hovertemplate": "<b>%{hovertext}</b><br><br>latitude=%{lat}<br>longitude=%{lon}<extra></extra>",
         "hovertext": [
          "Maros",
          "Fekete-Körös",
          "Fehér-Körös",
          "Kraszna",
          "Zagyva",
          "Vidi-ér",
          "Vér-patak",
          "Vermes-patak",
          "Veker-ér",
          "Vasonca",
          "Vár-patak",
          "Vadász-patak",
          "Túr",
          "Tóvölgyi Patak",
          "Török-patak",
          "Tolcsva",
          "Tócó",
          "Tinóka-ér",
          "Tilalmas Patak",
          "Teresznek Patak",
          "Tekeres-patak",
          "Tarnóca",
          "Tardona",
          "Tardi Patak",
          "Tapolnok-patak",
          "Tápió",
          "Tápéi Ér",
          "Takta",
          "Szuha",
          "Szoros-patak",
          "Szóláti-patak",
          "Szőke Ér",
          "Szinva",
          "Szilvás Patak",
          "Szilvás-patak",
          "Szerencs-patak",
          "Szenke-patak",
          "Szénégető-patak",
          "Szarv-ágy",
          "Szarka-Kúti-patak",
          "Szardai Patak",
          "Száraz Patak",
          "Szamos",
          "Szalajka",
          "Sulymos Fok",
          "Sulymos-ér",
          "Süldős Ér",
          "Sejpes Ér",
          "Sas-patak",
          "Sárkány-ér",
          "Ruszka",
          "Rozsnak-patak",
          "Ronyva",
          "Rét-patak",
          "Rét-patak",
          "Rakaca",
          "Radvány-patak",
          "Puszta-ér",
          "Pókaháza Ér",
          "Parádi-Tarna",
          "Ózdi-patak",
          "Ostoros-patak",
          "Ormos-patak",
          "Ökörföldi Lapos",
          "Nyögő-patak",
          "Nyíri-patak",
          "Novaji-patak",
          "Nagy-völgyi-patak",
          "Nagysas-patak",
          "Nagy-ér",
          "Nagy-ér",
          "Mogyorós-patak",
          "Mocsolyás-patak",
          "Mercse-patak",
          "Ménes-patak",
          "Meleg Folyás",
          "Marazd-ér",
          "Magdolna-ér",
          "Leleszi-patak",
          "Lator-patak",
          "Laskó",
          "Lajos-patak",
          "Kurca",
          "Kulcsár-völgyi-patak",
          "Kulcsár-völgy",
          "Kösély",
          "Körös",
          "Kondoros",
          "Hosszú-foki-főcsatorna",
          "Kis-tisza",
          "Kis-Tisza",
          "Kispatak",
          "Kis-patak",
          "Crişu Mic",
          "Kis-híd-patak",
          "Királd-patak",
          "Kincses Ér",
          "Kígyós-patak",
          "Kígyós Ér",
          "Keserű Patak",
          "Keleméri-patak",
          "Karcsa",
          "Kánya-patak",
          "Kácsi-patak",
          "Juhász-patak",
          "Jósva",
          "Hotyka-patak",
          "Hosszú-patak",
          "Hasdát",
          "Hór-patak",
          "Holt-Sebes-Körös",
          "Holt Patak",
          "Hódos-patak",
          "Hejő",
          "Harica",
          "Harangod",
          "Hangony",
          "Gyöngyös",
          "Görbe-ér",
          "Gönci-patak",
          "Geszti-patak",
          "Garadna",
          "Füzes-ér",
          "Forrás-patak",
          "Folyás-ér",
          "Fenéki Ér",
          "Fehér-patak",
          "Eger-patak",
          "Dusnok-ér",
          "Dohányos-ér",
          "Demecseri Főfolyás",
          "Debréte-patak",
          "Daracs-patak",
          "Csörgős-patak",
          "Csonkás-patak",
          "Csincse",
          "Cser-patak",
          "Csernely",
          "Cseresnyés-patak",
          "Cserepes-ér",
          "Csente-ér",
          "Csataér",
          "Charoda",
          "Bükk Pataka",
          "Bózsva",
          "Bors-patak",
          "Bolyai-patak",
          "Bogdányi Ér",
          "Bódvaj",
          "Bisó",
          "Barcău",
          "Berek-patak",
          "Berek-ér",
          "Bene-patak",
          "Bélus-patak",
          "Bekecs-patak",
          "Bátor-patak",
          "Barát-ér",
          "Bán-patak",
          "Balla-patak",
          "Aranyos-patak",
          "Aranyad-ér",
          "Ágér",
          "Sajó",
          "Hernád",
          "Bodva",
          "Bodrog",
          "Zsitva-patak",
          "Zsiger-patak",
          "Zél Patak",
          "Zátonyi-Duna",
          "Zámori-patak",
          "Zala",
          "Zajki Patak",
          "Vörös-víz",
          "Vörös-patak",
          "Völgységi-patak",
          "Vizslás-patak",
          "Villány-Pogányi-vízfolyás",
          "Vidák-árok",
          "Vezseny-ér",
          "Versegi Patak",
          "Vékony-ér",
          "Vázsonyi-séd",
          "Vasas-Belvárdi-vízfolyás",
          "Varga-tói-patak",
          "Varasdi-patak",
          "Valkonyai Patak",
          "Váli-víz",
          "Úrházi-patak",
          "Únyi-patak",
          "Túr-víz",
          "Torna",
          "Tordosa",
          "Tömörke Patak",
          "Toka-patak",
          "Tóér",
          "Titok-berki-árok",
          "Tita-patak",
          "Tiszta-víz",
          "Tetves-patak",
          "Tékes-patak",
          "Tekeres-berki-patak",
          "Tece-patak",
          "Tauscher Bach",
          "Taszári Patak",
          "Tarna",
          "Tarján-patak",
          "Tarján-patak",
          "Taranyi-Rinya",
          "Tapolca-patak",
          "Tákó-ér",
          "Szünösei Patak",
          "Szuha-patak",
          "Szölnöki-patak",
          "Sződrákosi-patak",
          "Szilas-patak",
          "Szilágyi-patak",
          "Szikegy-ér",
          "Szigeti-patak",
          "Szévíz",
          "Szerdahelyi-patak",
          "Szép-patak",
          "Széplak-patak",
          "Szentmihályfai-patak",
          "Szentmártoni-patak",
          "Szentlélek-patak",
          "Szent László-patak",
          "Szentjakabi-patak",
          "Szent György-patak",
          "Szentgyörgyi-ér",
          "Szén-patak",
          "Szendi-ér",
          "Széles Víz",
          "Száraz-patak",
          "Száraz-patak",
          "Szapud-árok",
          "Szanda-patak",
          "Szakony-patak",
          "Szabási-Rinya",
          "Surján-patak",
          "Surányi-patak",
          "Sós-patak",
          "Sorok",
          "Sormás-patak",
          "Sormás-patak",
          "Som-berek-séd",
          "Somaly-patak",
          "Sokorói-Bakony-ér",
          "Sinkár-patak",
          "Senye Patak",
          "Séd",
          "Sárvíz",
          "Sárosd-Seregélyesi-vízfolyás",
          "Sápi-patak",
          "Sándor-ér",
          "Saj-völgyi-patak",
          "Sajgó-patak",
          "Rinya",
          "Rigyáci-patak",
          "Rigóc",
          "Rét-patak",
          "Rétkerti Patak",
          "Rét-folyás",
          "Reinersdorfer Bach",
          "Rédei-Nagy-patak",
          "Rátka-patak",
          "Ráskói-patak",
          "Rák-patak",
          "Rákos-patak",
          "Rákos Ér",
          "Rába",
          "Pusztapatak",
          "Pösze",
          "Pós-patak",
          "Pogány-völgyi-víz",
          "Pernec-patak",
          "Perint",
          "Pécsi-víz",
          "Pápai-Bakony-ér",
          "Pándzsa",
          "Palotai-patak",
          "Örvényesi-séd",
          "Öreg-séd",
          "Öregárok",
          "Orci-patak",
          "Ökrös Patak",
          "Okrádi-patak",
          "Okor",
          "Nyugati-Gyöngyös",
          "Nyeste-Nyárs-patak",
          "Nyerges-patak",
          "Nyerges-patak",
          "Nyerges Patak",
          "Nyék Patak",
          "Nyáras-patak",
          "Nógrádi-patak",
          "Nógrádi-patak",
          "Nemesnépi Patak",
          "Nagy-völgyi-patak",
          "Nagyséd",
          "Nagy-patak",
          "Nagyér",
          "Nagy-ér",
          "Nadályos Patak",
          "Mucsi-Hidas-patak",
          "Mosom-patak",
          "Móri-víz",
          "Morgó-patak",
          "Mocsár-patak",
          "Miszla-patak",
          "Misa-réti-árok",
          "Metőc-patak",
          "Ménes-patak",
          "Meleg-víz",
          "Máróci Patak",
          "Marcal",
          "Mántai-patak",
          "Malom-völgyi-patak",
          "Malom-patak",
          "Malom-patak",
          "Malom-patak",
          "Malomi Patak",
          "Malomfolyás",
          "Malomér",
          "Magyaratád-Batéi Patak",
          "Magyalos Víz",
          "Lugos-patak",
          "Lósi-patak",
          "Loos Bach",
          "Lókos-patak",
          "Lóki-patak",
          "Ló-hegyi-patak",
          "Linkó-patak",
          "Ikva",
          "Lickó-patak",
          "Lesence",
          "Lepence-patak",
          "Lapincs",
          "Lánka-patak",
          "Laki Patak",
          "Lajvér-patak",
          "Lábodi-Rinya",
          "Kürtös-patak",
          "Középső-patak",
          "Kozár-Borzó",
          "Kő-völgyi-árok",
          "Köves Patak",
          "Kovács-patak",
          "Köszvényes-patak",
          "Körtvélyes Patak",
          "Körös-patak",
          "Kőrös Patak",
          "Korompa-patak",
          "Kőris-patak",
          "Kőrises-berki-vízfolyás",
          "Koppány",
          "Komáromi-ér",
          "Kodó",
          "Kócsod-patak",
          "Kis-Zagyva",
          "Kisvíz",
          "Kis-séd",
          "Kis-Rába",
          "Kispatak",
          "Mosoni-Duna",
          "Kis-malomér",
          "Kislengyeli-patak",
          "Kiskúti Patak",
          "Kis-Koppány",
          "Kiskondai-patak",
          "Mala Krka",
          "Kis-Hanta-patak",
          "Kis Gerence-patak",
          "Kis-Bittva",
          "Kígyós-patak",
          "Kígyós-patak",
          "Kigyós Patak",
          "Kétöles-patak",
          "Kertafalu-víz",
          "Kerka",
          "Keresztúri-patak",
          "Kenyérmezői-patak",
          "Kemence-patak",
          "Kardos-ér",
          "Kányaér",
          "Kánya-ér",
          "Kalicsa-patak",
          "Kajdacsi Patak",
          "Jégvermi-árok",
          "Jáki-Sorok",
          "Jaba",
          "Ivacsi Patak",
          "Ipoly",
          "Ilike-folyás",
          "Ikva",
          "Huszászi-patak",
          "Hosszú-víz",
          "Hosszúréti-patak",
          "Hosszú-patak",
          "Horgas-ér",
          "Hódos-ér",
          "Hideg-kúti-ér",
          "Hideg-ér",
          "Hidas-patak",
          "Hévíz-patak",
          "Herpenyő",
          "Hegyaljai-patak",
          "Hartyán-patak",
          "Hársas-patak",
          "Hársas-berki-patak",
          "Hangyajárási Patak",
          "Halastói-patak",
          "Hajta",
          "Haj-patak",
          "Hajmás-patak",
          "Hajagos",
          "Hagyárosi-patak",
          "Hábi-patak",
          "Gyöngyös-patak",
          "Gyöngyös",
          "Gyarmati Ér",
          "Gosztola",
          "Görbe Ér",
          "Gonoszdi-patak",
          "Gombás-patak",
          "Geszteréti Patak",
          "Gerence",
          "Galga",
          "Gaja",
          "Füzes-patak",
          "Forrás-patak",
          "Forrás-patak",
          "Folyás-patak",
          "Fogoly Patak",
          "Foglár",
          "Fintafai-patak",
          "Felső-Válicka",
          "Felső-Tápió",
          "Félegyházai-vízfolyás",
          "Fekete-víz",
          "Fekete-víz",
          "Fekete-séd",
          "Fekete-patak",
          "Erzsébeti-ér",
          "Éri-patak",
          "Emse-patak",
          "Éles-kúti-ér",
          "Egri Patak",
          "Egres-patak",
          "Eger-víz",
          "Dudari-patak",
          "Doroszlói-patak",
          "Donát-patak",
          "Dobroda",
          "Dobordali-patak",
          "Dézsa-patak",
          "Deseda",
          "Derék-patak",
          "Dera",
          "Darza-patak",
          "Darázsdói-patak",
          "Damásdi-patak",
          "Cuhai-Bakony-ér",
          "Cuha",
          "Csorszai Patak",
          "Csörnöc-Herpenyő",
          "Csőmőri-patak",
          "Csollányos Patak",
          "Csitár-patak",
          "Csikvándi-Bakony-ér",
          "Csikgát-patak",
          "Csikászó-patak",
          "Csigere-patak",
          "Csetényi-patak",
          "Cserta",
          "Cserhídi-patak",
          "Cserengát-patak",
          "Csépi-ér",
          "Csele-patak",
          "Császár-víz",
          "Csángota-ér",
          "Csámpai-patak",
          "Concó",
          "Cinca-patak",
          "Cinca-patak",
          "Cinca-csíkgát",
          "Cinca",
          "Cikolai-víz",
          "Burnót-patak",
          "Bükkös-patak",
          "Bükkösdi-víz",
          "Bükk Aljai Patak",
          "Bujáki-patak",
          "Büdös-gáti-víz",
          "Budnya-patak",
          "Búbereki-patak",
          "Bozsoki-patak",
          "Bozót-patak",
          "Bőszobi-patak",
          "Börzsöny-patak",
          "Borsi Patak",
          "Borsfai-patak",
          "Boronkai-patak",
          "Bittva",
          "Bikol",
          "Bezina-patak",
          "Bér-patak",
          "Bernát-patak",
          "Berki-patak",
          "Berki-patak",
          "Berek-patak",
          "Berek-patak",
          "Berceli Patak",
          "Benta",
          "Belső-réti-patak",
          "Békás-patak",
          "Béci-patak",
          "Báta",
          "Bárna",
          "Bánya-patak",
          "Bánya-ér",
          "Bakony Patak",
          "Bakónaki-patak",
          "Árendás-patak",
          "Aranyhegyi-patak",
          "Apát-kúti-patak",
          "Által-ér",
          "Alsó-Válicka",
          "Alsó-Tápió",
          "Almás-patak",
          "Ágói-patak",
          "Ablánc-patak",
          "Fényes-patak",
          "Rábca",
          "Sós-patak",
          "Németi-patak"
         ],
         "lat": [
          46.25,
          46.7,
          46.93333,
          48.15,
          47.16667,
          47.76667,
          47.8,
          48.08333,
          46.68333,
          48.35,
          47.79662,
          48.13333,
          48.06667,
          47.93333,
          48.48333,
          48.25,
          47.41667,
          47.18333,
          48.43333,
          48.18333,
          47.81667,
          47.65,
          48.26667,
          47.85,
          48.04641,
          47.3,
          46.28333,
          47.98333,
          48.21667,
          47.9,
          47.8,
          47.76667,
          48.1,
          48.15,
          48.13333,
          48.11667,
          47.98678,
          48.01667,
          47.61295,
          48.28333,
          47.93333,
          48.25,
          48.11156,
          48.16667,
          47.63333,
          46.26854,
          47.78333,
          47.73333,
          48.55,
          46.76222,
          48.38333,
          47.8,
          48.33333,
          48.46667,
          47.86667,
          48.43333,
          48.33333,
          47.21667,
          46.79877,
          47.91667,
          48.22266,
          47.71667,
          48.3,
          47.91667,
          48.21667,
          48.46667,
          47.8,
          48.05,
          48.3,
          47.35,
          46.58333,
          48.41667,
          48.06667,
          48.26667,
          48.5,
          48.10565,
          46.95,
          47.61667,
          47.98333,
          47.76667,
          47.58333,
          48.05244,
          46.53964,
          47.95,
          47.96667,
          47.4,
          46.7175,
          47.4,
          46.85,
          48.16667,
          47.53333,
          48.4,
          48.33333,
          47.21667,
          48.36667,
          48.28333,
          46.95,
          47.78333,
          47.7,
          48.48333,
          48.28333,
          48.36667,
          47.71667,
          47.8,
          48.51667,
          48.5,
          48.33333,
          48.46667,
          48.53333,
          47.8,
          46.91,
          48.25,
          48.21667,
          47.96667,
          48.21667,
          48.08333,
          48.28333,
          47.61295,
          46.70716,
          48.43333,
          47.9,
          48.1,
          47.16205,
          47.8,
          46.93333,
          47.06667,
          48.41667,
          47.63333,
          47.2,
          47.16205,
          48.10082,
          48.46667,
          48.05,
          48.36667,
          47.8,
          47.71667,
          48.05714,
          48.2,
          47.93333,
          47.66667,
          47.06667,
          47.28333,
          48.45,
          47.93868,
          48.45,
          48.38333,
          48,
          46.26556,
          47.85,
          48.46667,
          46.98333,
          47.82284,
          47.21667,
          47.65,
          48.25,
          48.11667,
          48.46667,
          47.16667,
          48.28333,
          47.91667,
          48.28333,
          46.43333,
          47.18333,
          47.93333,
          48,
          48.2,
          48.11667,
          46.08333,
          46.86533,
          46.86667,
          47.93325,
          47.34486,
          46.68481,
          46.45,
          46.5905,
          46.58158,
          46.38572,
          48,
          45.88078,
          46.25789,
          47.61667,
          47.70293,
          47.63091,
          46.98333,
          45.95764,
          48.04288,
          46.18461,
          46.46634,
          47.16499,
          47.43333,
          47.74752,
          46.52129,
          47.10969,
          47.57111,
          46.41667,
          47.77499,
          47.64465,
          46.32052,
          46.74882,
          47.2659,
          46.8,
          46.344,
          46.31543,
          47.7064,
          47.71667,
          46.36154,
          47.51111,
          48.00734,
          47.77622,
          46.12966,
          46.79191,
          47.46667,
          47.24151,
          47.76667,
          46.93531,
          47.72803,
          47.58052,
          47.70299,
          47.41217,
          46.64609,
          46.88333,
          47.33988,
          47.89366,
          47.0315,
          46.85482,
          46.63289,
          48.08575,
          47.18687,
          46.83333,
          46.26667,
          47.57867,
          47.85892,
          47.58483,
          47.13333,
          47.88558,
          47.81575,
          47.29479,
          47.97741,
          46.93333,
          46.26667,
          46.36233,
          47.21512,
          47.38184,
          47.1099,
          47.21416,
          46.12353,
          47.31667,
          46.53858,
          47.55277,
          47.77571,
          46.80148,
          47.15285,
          46.88553,
          47.13333,
          47.8,
          47.51667,
          47.77304,
          47.46667,
          45.95,
          46.47491,
          45.93333,
          46.70701,
          47.42851,
          46.70133,
          46.96667,
          46.68333,
          47.2809,
          46.95336,
          46.38333,
          47.50499,
          47.71667,
          47.68459,
          46.6,
          46.13333,
          47.38333,
          46.75,
          46.59943,
          47.1401,
          45.81222,
          47.35,
          47.6514,
          47.6,
          46.9,
          47.38954,
          47.75,
          46.36149,
          46.50346,
          46.62404,
          45.88333,
          45.98333,
          47.23911,
          48.15179,
          47.90845,
          47.76667,
          47.48847,
          46.1379,
          47.70303,
          47.66667,
          46.68333,
          46.63529,
          46.87459,
          48.11667,
          47.51667,
          46.76701,
          46.50867,
          46.36667,
          47.82072,
          47.21667,
          47.82132,
          46.88333,
          46.59474,
          47.85084,
          47.42201,
          48.11667,
          46.98333,
          46.5262,
          47.6136,
          46.46787,
          47.79361,
          47.78805,
          46.60391,
          46.55,
          46.86952,
          46.60066,
          47.59631,
          46.34857,
          47.7,
          46.93333,
          47.82158,
          47.70942,
          48.06102,
          46.91667,
          47.89091,
          47.66636,
          47.69849,
          46.23973,
          46.79456,
          47.76673,
          46.95964,
          47.4191,
          46.82128,
          46.12991,
          46.01918,
          46.55441,
          46.64172,
          47.23128,
          46.27484,
          47.77786,
          47.63333,
          46.76667,
          48.06667,
          47.21904,
          46.34821,
          47.83421,
          47.41191,
          46.60086,
          46.58619,
          47.58483,
          47.21276,
          47.4225,
          47.94808,
          47.6,
          47.401,
          47.6816,
          46.71184,
          47.69232,
          47.55233,
          46.72756,
          46.58333,
          46.86667,
          46.37409,
          46.78333,
          47.85081,
          47.35948,
          47.31667,
          47.46667,
          47.0736,
          46.87075,
          46.79513,
          46.66165,
          46.47705,
          46.85003,
          47.75,
          48.07143,
          47.64186,
          47.46374,
          46.58333,
          47.76721,
          46.56032,
          46.60805,
          47.15,
          46.82576,
          47.65,
          47.81807,
          47.31667,
          47.6923,
          46.95222,
          47.23486,
          47.41667,
          47.91059,
          47.29169,
          47.37237,
          47.48847,
          47.64919,
          46.4886,
          48.05811,
          47.24119,
          46.99847,
          47.72565,
          46.95708,
          46.35314,
          46.46667,
          46.85381,
          47.32549,
          47.65375,
          46.32704,
          47.32397,
          46.8721,
          46.36667,
          46.76754,
          45.93333,
          46.18333,
          46.58843,
          47.11105,
          46.62603,
          47.76625,
          46.80199,
          47.44621,
          47.55224,
          47.16699,
          47.45,
          47.56667,
          47.32523,
          47.65,
          46.46667,
          46.94587,
          46.41667,
          46.86667,
          47.35,
          46.08333,
          48.08873,
          45.78195,
          47.22737,
          47.95314,
          47.48333,
          46.5582,
          47.61368,
          47.38847,
          46.67552,
          47.61572,
          46.80646,
          47.36667,
          47.34826,
          46.53007,
          48.21667,
          47.96816,
          48.05,
          46.36006,
          48.06515,
          47.6426,
          47.40881,
          48.08383,
          47.82751,
          47.73743,
          47.39994,
          46.87545,
          47.23333,
          47.5931,
          46.28838,
          48.06667,
          47.48188,
          46.84288,
          47.18472,
          47.13429,
          46.87253,
          46.60257,
          46.75715,
          46.63199,
          47.62505,
          46.03087,
          47.18333,
          47.5,
          46.46667,
          47.74359,
          47.10643,
          47.03703,
          46.90814,
          47.30146,
          47.13333,
          46.81065,
          47.66874,
          45.98333,
          46.68391,
          47.81428,
          46.82523,
          46.55276,
          46.70073,
          47.28991,
          46.75306,
          47.80754,
          47.98375,
          46.66924,
          46.38688,
          46.6257,
          47.34105,
          47.75771,
          47.86667,
          47.69244,
          47.4361,
          46.40802,
          46.31492,
          47.54689,
          46.61308,
          47.85,
          47.31904,
          46.0763,
          47.47061,
          46.40185,
          46.31332,
          48.05442,
          47.92382,
          47.43076,
          47.48333,
          46.56077,
          47.68111,
          47.56667,
          47.78389,
          47.73333,
          46.60177,
          47.35,
          45.93333,
          47.54863,
          47.35751,
          47.72353,
          47.69018,
          47.7025,
          45.90005
         ],
         "legendgroup": "",
         "lon": [
          20.2,
          21.26667,
          20.96667,
          22.33333,
          20.2,
          21.36667,
          20.58333,
          20.16667,
          20.25,
          21.15,
          20.0232,
          20.96667,
          22.55,
          20.1,
          21.46667,
          21.45,
          21.6,
          20.23333,
          21.18333,
          20.26667,
          20.03333,
          20.1,
          20.65,
          20.65,
          22.61163,
          20.08333,
          20.23333,
          21.05,
          20.73333,
          20.53333,
          20.33333,
          21.36667,
          20.83333,
          20.45,
          20.41667,
          21.21667,
          22.56179,
          20.1,
          20.04695,
          21.53333,
          20.86667,
          21.45,
          22.34736,
          20.38333,
          20.76667,
          20.25472,
          21.38333,
          21,
          20.8,
          20.09159,
          21.2,
          20.3,
          21.61667,
          20.7,
          20.65,
          20.75,
          21.55,
          21.23333,
          20.12691,
          20.2,
          20.29462,
          20.56667,
          20.65,
          21.63333,
          20.71667,
          21.48333,
          20.51667,
          20.18333,
          21.26667,
          20.61667,
          20.15,
          21.18333,
          20.18333,
          20.41667,
          20.7,
          21.97742,
          20.68333,
          21.31667,
          20.15,
          20.76667,
          20.63333,
          20.02232,
          20.16901,
          20.81667,
          20.8,
          21.06667,
          20.18835,
          21.61667,
          21.38333,
          21.66667,
          20.6,
          21.61667,
          20.61667,
          21.63333,
          20.43333,
          20.43333,
          20.61667,
          20.23333,
          20.18333,
          21.16667,
          20.38333,
          21.7,
          20.65,
          20.76667,
          20.75,
          20.71667,
          21.55,
          21.55,
          21.31667,
          20.58333,
          20.98,
          21.38333,
          20.28333,
          20.88333,
          20.71667,
          21.13333,
          20.38333,
          20.04695,
          20.24509,
          21.2,
          20.73333,
          20.61667,
          20.00019,
          20.16667,
          21,
          20.83333,
          21.65,
          20.65,
          21.73333,
          20.00019,
          21.91763,
          20.86667,
          20.16667,
          20.6,
          20.13333,
          20.81667,
          22.83647,
          20.45,
          20.53333,
          21.13333,
          21.48333,
          20.38333,
          22.26667,
          20.0458,
          21.65,
          21.25,
          20.15,
          20.25696,
          22.36667,
          21.51667,
          21.11667,
          20.09211,
          20.25,
          20.08333,
          21.05,
          21.2,
          20.86667,
          21.73333,
          20.56667,
          20.15,
          21.18333,
          20.65,
          20.96667,
          21.11667,
          20.93333,
          20.78333,
          21.41667,
          17.23333,
          16.77167,
          16.7,
          17.38165,
          18.89155,
          17.24689,
          16.75,
          18.23081,
          16.67255,
          18.68263,
          19.83333,
          18.46386,
          17.96524,
          17.7,
          19.59507,
          18.07359,
          17.61667,
          18.46512,
          19.05857,
          18.4815,
          16.80539,
          18.87011,
          17.68333,
          18.66171,
          18.19271,
          17.25243,
          17.11901,
          17.88333,
          19.90484,
          18.07851,
          17.11509,
          18.26055,
          18.49245,
          17.75,
          17.94743,
          17.14117,
          19.19939,
          16.51667,
          17.93442,
          19.97456,
          19.83133,
          19.89918,
          17.33244,
          17.42558,
          17.38333,
          16.56012,
          19.68333,
          16.21472,
          19.13231,
          19.10505,
          19.35336,
          17.69615,
          16.73513,
          16.93333,
          16.57401,
          18.76808,
          16.96996,
          16.82044,
          18.30353,
          19.46976,
          18.84265,
          16.55,
          18.03333,
          18.37747,
          19.93619,
          18.13387,
          17.51667,
          18.98085,
          19.90676,
          16.96648,
          19.39467,
          16.23333,
          17.38333,
          17.90148,
          16.72648,
          17.66557,
          16.83519,
          16.8329,
          18.00493,
          17.7,
          18.35288,
          17.578,
          19.36998,
          16.99368,
          18.18044,
          16.9451,
          18.63333,
          19.38333,
          17.4,
          19.49592,
          18.73333,
          17.45,
          16.86756,
          17.53333,
          16.47526,
          17.76365,
          18.31419,
          16.41667,
          19.95,
          16.75362,
          17.60485,
          18.68333,
          19.15416,
          17.4,
          17.62818,
          18.01667,
          18.78333,
          16.9,
          17.56667,
          18.05428,
          16.67932,
          18.10083,
          17.36667,
          17.61511,
          19.1,
          17.81667,
          17.49781,
          18.66667,
          17.89069,
          18.56893,
          18.18024,
          17.96667,
          17.71667,
          16.54564,
          19.53365,
          18.76158,
          18.56667,
          17.91699,
          18.05835,
          19.59512,
          19.68333,
          16.45,
          16.45669,
          17.23916,
          19.56667,
          19.96667,
          19.0659,
          17.1571,
          18.56667,
          19.00113,
          18.36667,
          19.011,
          18.8,
          18.57086,
          18.8494,
          16.83975,
          19.5,
          17.21667,
          16.67962,
          17.51168,
          16.93494,
          18.90915,
          18.9018,
          18.71466,
          16.85,
          18.43526,
          17.16246,
          18.02225,
          17.97312,
          19.6,
          16.46667,
          19.02073,
          16.51159,
          19.18035,
          18.53333,
          18.92155,
          17.2931,
          16.56792,
          17.04579,
          17.40652,
          18.95124,
          16.27213,
          17.12629,
          16.98647,
          18.7778,
          17.35475,
          16.92573,
          16.72358,
          16.8687,
          17.26312,
          18.90479,
          18.96667,
          17.11667,
          19.55,
          17.48558,
          17.97438,
          18.94098,
          17.03127,
          17.92562,
          18.43128,
          18.13387,
          17.18622,
          16.93762,
          19.72523,
          19.18333,
          17.33845,
          17.03918,
          17.12144,
          17.63718,
          17.83844,
          16.71797,
          17.13333,
          18.2,
          18.16042,
          16.4,
          18.94279,
          17.56316,
          17.33333,
          18.8,
          17.3037,
          16.71503,
          17.40834,
          16.69682,
          16.59449,
          16.62699,
          18.68333,
          18.918,
          16.93382,
          17.59014,
          18.16667,
          19.07249,
          18.65707,
          18.14047,
          16.66667,
          18.10791,
          19.28333,
          18.84843,
          19.98333,
          16.9595,
          16.36933,
          16.8697,
          19.03333,
          18.80877,
          17.50612,
          17.82554,
          17.91699,
          17.89401,
          18.63809,
          19.05658,
          16.95076,
          16.64804,
          19.17097,
          16.31512,
          18.02562,
          16.65,
          16.65688,
          19.86233,
          18.08066,
          18.27704,
          17.2868,
          16.72838,
          18.15,
          17.2092,
          17.81667,
          17.3,
          16.51373,
          19.91514,
          18.2826,
          19.13151,
          16.9932,
          17.38342,
          19.71584,
          18.33869,
          18.83333,
          19.18333,
          18.44068,
          19.26667,
          18.56667,
          16.9961,
          16.71667,
          16.88333,
          19.76667,
          19.95,
          19.35286,
          18.21524,
          17.72201,
          18.91657,
          18.26667,
          18.65918,
          19.60756,
          17.90856,
          17.12866,
          19.60778,
          17.45894,
          17.85,
          16.53821,
          18.50498,
          19.56667,
          19.23507,
          19.33333,
          17.8343,
          19.10804,
          19.07865,
          17.37191,
          19.53982,
          18.85354,
          17.85458,
          17.8843,
          17.71552,
          16.93333,
          19.08194,
          17.02127,
          19,
          17.40806,
          18.26353,
          17.12818,
          17.48637,
          17.26774,
          16.63719,
          16.99001,
          18.31207,
          18.05575,
          18.6812,
          18.55,
          17.4,
          18.83333,
          18.00024,
          18.14012,
          18.30823,
          18.2453,
          17.2195,
          18.78333,
          17.5715,
          19.06857,
          17.91667,
          16.84119,
          19.58999,
          17.80551,
          16.7687,
          17.12342,
          16.48399,
          18.53066,
          18.90148,
          18.77779,
          17.80853,
          16.79533,
          17.44254,
          17.32301,
          18.43882,
          18.86667,
          19.64819,
          17.67291,
          16.89997,
          17.75157,
          17.02666,
          16.66781,
          19.4,
          18.93382,
          18.73203,
          18.79947,
          16.72826,
          18.7454,
          19.9541,
          18.80791,
          17.69036,
          17.4,
          17.04458,
          18.29917,
          19.05,
          18.96583,
          18.32611,
          16.63097,
          19.76667,
          17.83333,
          20.00409,
          16.77933,
          18.28294,
          17.60808,
          16.57285,
          18.34935
         ],
         "marker": {
          "color": "#636efa",
          "symbol": "circle"
         },
         "mode": "markers",
         "name": "",
         "showlegend": false,
         "type": "scattergeo"
        }
       ],
       "layout": {
        "geo": {
         "center": {},
         "domain": {
          "x": [
           0,
           1
          ],
          "y": [
           0,
           1
          ]
         },
         "projection": {
          "type": "natural earth"
         },
         "scope": "europe"
        },
        "legend": {
         "tracegroupgap": 0
        },
        "margin": {
         "t": 60
        },
        "template": {
         "data": {
          "bar": [
           {
            "error_x": {
             "color": "#2a3f5f"
            },
            "error_y": {
             "color": "#2a3f5f"
            },
            "marker": {
             "line": {
              "color": "#E5ECF6",
              "width": 0.5
             },
             "pattern": {
              "fillmode": "overlay",
              "size": 10,
              "solidity": 0.2
             }
            },
            "type": "bar"
           }
          ],
          "barpolar": [
           {
            "marker": {
             "line": {
              "color": "#E5ECF6",
              "width": 0.5
             },
             "pattern": {
              "fillmode": "overlay",
              "size": 10,
              "solidity": 0.2
             }
            },
            "type": "barpolar"
           }
          ],
          "carpet": [
           {
            "aaxis": {
             "endlinecolor": "#2a3f5f",
             "gridcolor": "white",
             "linecolor": "white",
             "minorgridcolor": "white",
             "startlinecolor": "#2a3f5f"
            },
            "baxis": {
             "endlinecolor": "#2a3f5f",
             "gridcolor": "white",
             "linecolor": "white",
             "minorgridcolor": "white",
             "startlinecolor": "#2a3f5f"
            },
            "type": "carpet"
           }
          ],
          "choropleth": [
           {
            "colorbar": {
             "outlinewidth": 0,
             "ticks": ""
            },
            "type": "choropleth"
           }
          ],
          "contour": [
           {
            "colorbar": {
             "outlinewidth": 0,
             "ticks": ""
            },
            "colorscale": [
             [
              0,
              "#0d0887"
             ],
             [
              0.1111111111111111,
              "#46039f"
             ],
             [
              0.2222222222222222,
              "#7201a8"
             ],
             [
              0.3333333333333333,
              "#9c179e"
             ],
             [
              0.4444444444444444,
              "#bd3786"
             ],
             [
              0.5555555555555556,
              "#d8576b"
             ],
             [
              0.6666666666666666,
              "#ed7953"
             ],
             [
              0.7777777777777778,
              "#fb9f3a"
             ],
             [
              0.8888888888888888,
              "#fdca26"
             ],
             [
              1,
              "#f0f921"
             ]
            ],
            "type": "contour"
           }
          ],
          "contourcarpet": [
           {
            "colorbar": {
             "outlinewidth": 0,
             "ticks": ""
            },
            "type": "contourcarpet"
           }
          ],
          "heatmap": [
           {
            "colorbar": {
             "outlinewidth": 0,
             "ticks": ""
            },
            "colorscale": [
             [
              0,
              "#0d0887"
             ],
             [
              0.1111111111111111,
              "#46039f"
             ],
             [
              0.2222222222222222,
              "#7201a8"
             ],
             [
              0.3333333333333333,
              "#9c179e"
             ],
             [
              0.4444444444444444,
              "#bd3786"
             ],
             [
              0.5555555555555556,
              "#d8576b"
             ],
             [
              0.6666666666666666,
              "#ed7953"
             ],
             [
              0.7777777777777778,
              "#fb9f3a"
             ],
             [
              0.8888888888888888,
              "#fdca26"
             ],
             [
              1,
              "#f0f921"
             ]
            ],
            "type": "heatmap"
           }
          ],
          "heatmapgl": [
           {
            "colorbar": {
             "outlinewidth": 0,
             "ticks": ""
            },
            "colorscale": [
             [
              0,
              "#0d0887"
             ],
             [
              0.1111111111111111,
              "#46039f"
             ],
             [
              0.2222222222222222,
              "#7201a8"
             ],
             [
              0.3333333333333333,
              "#9c179e"
             ],
             [
              0.4444444444444444,
              "#bd3786"
             ],
             [
              0.5555555555555556,
              "#d8576b"
             ],
             [
              0.6666666666666666,
              "#ed7953"
             ],
             [
              0.7777777777777778,
              "#fb9f3a"
             ],
             [
              0.8888888888888888,
              "#fdca26"
             ],
             [
              1,
              "#f0f921"
             ]
            ],
            "type": "heatmapgl"
           }
          ],
          "histogram": [
           {
            "marker": {
             "pattern": {
              "fillmode": "overlay",
              "size": 10,
              "solidity": 0.2
             }
            },
            "type": "histogram"
           }
          ],
          "histogram2d": [
           {
            "colorbar": {
             "outlinewidth": 0,
             "ticks": ""
            },
            "colorscale": [
             [
              0,
              "#0d0887"
             ],
             [
              0.1111111111111111,
              "#46039f"
             ],
             [
              0.2222222222222222,
              "#7201a8"
             ],
             [
              0.3333333333333333,
              "#9c179e"
             ],
             [
              0.4444444444444444,
              "#bd3786"
             ],
             [
              0.5555555555555556,
              "#d8576b"
             ],
             [
              0.6666666666666666,
              "#ed7953"
             ],
             [
              0.7777777777777778,
              "#fb9f3a"
             ],
             [
              0.8888888888888888,
              "#fdca26"
             ],
             [
              1,
              "#f0f921"
             ]
            ],
            "type": "histogram2d"
           }
          ],
          "histogram2dcontour": [
           {
            "colorbar": {
             "outlinewidth": 0,
             "ticks": ""
            },
            "colorscale": [
             [
              0,
              "#0d0887"
             ],
             [
              0.1111111111111111,
              "#46039f"
             ],
             [
              0.2222222222222222,
              "#7201a8"
             ],
             [
              0.3333333333333333,
              "#9c179e"
             ],
             [
              0.4444444444444444,
              "#bd3786"
             ],
             [
              0.5555555555555556,
              "#d8576b"
             ],
             [
              0.6666666666666666,
              "#ed7953"
             ],
             [
              0.7777777777777778,
              "#fb9f3a"
             ],
             [
              0.8888888888888888,
              "#fdca26"
             ],
             [
              1,
              "#f0f921"
             ]
            ],
            "type": "histogram2dcontour"
           }
          ],
          "mesh3d": [
           {
            "colorbar": {
             "outlinewidth": 0,
             "ticks": ""
            },
            "type": "mesh3d"
           }
          ],
          "parcoords": [
           {
            "line": {
             "colorbar": {
              "outlinewidth": 0,
              "ticks": ""
             }
            },
            "type": "parcoords"
           }
          ],
          "pie": [
           {
            "automargin": true,
            "type": "pie"
           }
          ],
          "scatter": [
           {
            "fillpattern": {
             "fillmode": "overlay",
             "size": 10,
             "solidity": 0.2
            },
            "type": "scatter"
           }
          ],
          "scatter3d": [
           {
            "line": {
             "colorbar": {
              "outlinewidth": 0,
              "ticks": ""
             }
            },
            "marker": {
             "colorbar": {
              "outlinewidth": 0,
              "ticks": ""
             }
            },
            "type": "scatter3d"
           }
          ],
          "scattercarpet": [
           {
            "marker": {
             "colorbar": {
              "outlinewidth": 0,
              "ticks": ""
             }
            },
            "type": "scattercarpet"
           }
          ],
          "scattergeo": [
           {
            "marker": {
             "colorbar": {
              "outlinewidth": 0,
              "ticks": ""
             }
            },
            "type": "scattergeo"
           }
          ],
          "scattergl": [
           {
            "marker": {
             "colorbar": {
              "outlinewidth": 0,
              "ticks": ""
             }
            },
            "type": "scattergl"
           }
          ],
          "scattermapbox": [
           {
            "marker": {
             "colorbar": {
              "outlinewidth": 0,
              "ticks": ""
             }
            },
            "type": "scattermapbox"
           }
          ],
          "scatterpolar": [
           {
            "marker": {
             "colorbar": {
              "outlinewidth": 0,
              "ticks": ""
             }
            },
            "type": "scatterpolar"
           }
          ],
          "scatterpolargl": [
           {
            "marker": {
             "colorbar": {
              "outlinewidth": 0,
              "ticks": ""
             }
            },
            "type": "scatterpolargl"
           }
          ],
          "scatterternary": [
           {
            "marker": {
             "colorbar": {
              "outlinewidth": 0,
              "ticks": ""
             }
            },
            "type": "scatterternary"
           }
          ],
          "surface": [
           {
            "colorbar": {
             "outlinewidth": 0,
             "ticks": ""
            },
            "colorscale": [
             [
              0,
              "#0d0887"
             ],
             [
              0.1111111111111111,
              "#46039f"
             ],
             [
              0.2222222222222222,
              "#7201a8"
             ],
             [
              0.3333333333333333,
              "#9c179e"
             ],
             [
              0.4444444444444444,
              "#bd3786"
             ],
             [
              0.5555555555555556,
              "#d8576b"
             ],
             [
              0.6666666666666666,
              "#ed7953"
             ],
             [
              0.7777777777777778,
              "#fb9f3a"
             ],
             [
              0.8888888888888888,
              "#fdca26"
             ],
             [
              1,
              "#f0f921"
             ]
            ],
            "type": "surface"
           }
          ],
          "table": [
           {
            "cells": {
             "fill": {
              "color": "#EBF0F8"
             },
             "line": {
              "color": "white"
             }
            },
            "header": {
             "fill": {
              "color": "#C8D4E3"
             },
             "line": {
              "color": "white"
             }
            },
            "type": "table"
           }
          ]
         },
         "layout": {
          "annotationdefaults": {
           "arrowcolor": "#2a3f5f",
           "arrowhead": 0,
           "arrowwidth": 1
          },
          "autotypenumbers": "strict",
          "coloraxis": {
           "colorbar": {
            "outlinewidth": 0,
            "ticks": ""
           }
          },
          "colorscale": {
           "diverging": [
            [
             0,
             "#8e0152"
            ],
            [
             0.1,
             "#c51b7d"
            ],
            [
             0.2,
             "#de77ae"
            ],
            [
             0.3,
             "#f1b6da"
            ],
            [
             0.4,
             "#fde0ef"
            ],
            [
             0.5,
             "#f7f7f7"
            ],
            [
             0.6,
             "#e6f5d0"
            ],
            [
             0.7,
             "#b8e186"
            ],
            [
             0.8,
             "#7fbc41"
            ],
            [
             0.9,
             "#4d9221"
            ],
            [
             1,
             "#276419"
            ]
           ],
           "sequential": [
            [
             0,
             "#0d0887"
            ],
            [
             0.1111111111111111,
             "#46039f"
            ],
            [
             0.2222222222222222,
             "#7201a8"
            ],
            [
             0.3333333333333333,
             "#9c179e"
            ],
            [
             0.4444444444444444,
             "#bd3786"
            ],
            [
             0.5555555555555556,
             "#d8576b"
            ],
            [
             0.6666666666666666,
             "#ed7953"
            ],
            [
             0.7777777777777778,
             "#fb9f3a"
            ],
            [
             0.8888888888888888,
             "#fdca26"
            ],
            [
             1,
             "#f0f921"
            ]
           ],
           "sequentialminus": [
            [
             0,
             "#0d0887"
            ],
            [
             0.1111111111111111,
             "#46039f"
            ],
            [
             0.2222222222222222,
             "#7201a8"
            ],
            [
             0.3333333333333333,
             "#9c179e"
            ],
            [
             0.4444444444444444,
             "#bd3786"
            ],
            [
             0.5555555555555556,
             "#d8576b"
            ],
            [
             0.6666666666666666,
             "#ed7953"
            ],
            [
             0.7777777777777778,
             "#fb9f3a"
            ],
            [
             0.8888888888888888,
             "#fdca26"
            ],
            [
             1,
             "#f0f921"
            ]
           ]
          },
          "colorway": [
           "#636efa",
           "#EF553B",
           "#00cc96",
           "#ab63fa",
           "#FFA15A",
           "#19d3f3",
           "#FF6692",
           "#B6E880",
           "#FF97FF",
           "#FECB52"
          ],
          "font": {
           "color": "#2a3f5f"
          },
          "geo": {
           "bgcolor": "white",
           "lakecolor": "white",
           "landcolor": "#E5ECF6",
           "showlakes": true,
           "showland": true,
           "subunitcolor": "white"
          },
          "hoverlabel": {
           "align": "left"
          },
          "hovermode": "closest",
          "mapbox": {
           "style": "light"
          },
          "paper_bgcolor": "white",
          "plot_bgcolor": "#E5ECF6",
          "polar": {
           "angularaxis": {
            "gridcolor": "white",
            "linecolor": "white",
            "ticks": ""
           },
           "bgcolor": "#E5ECF6",
           "radialaxis": {
            "gridcolor": "white",
            "linecolor": "white",
            "ticks": ""
           }
          },
          "scene": {
           "xaxis": {
            "backgroundcolor": "#E5ECF6",
            "gridcolor": "white",
            "gridwidth": 2,
            "linecolor": "white",
            "showbackground": true,
            "ticks": "",
            "zerolinecolor": "white"
           },
           "yaxis": {
            "backgroundcolor": "#E5ECF6",
            "gridcolor": "white",
            "gridwidth": 2,
            "linecolor": "white",
            "showbackground": true,
            "ticks": "",
            "zerolinecolor": "white"
           },
           "zaxis": {
            "backgroundcolor": "#E5ECF6",
            "gridcolor": "white",
            "gridwidth": 2,
            "linecolor": "white",
            "showbackground": true,
            "ticks": "",
            "zerolinecolor": "white"
           }
          },
          "shapedefaults": {
           "line": {
            "color": "#2a3f5f"
           }
          },
          "ternary": {
           "aaxis": {
            "gridcolor": "white",
            "linecolor": "white",
            "ticks": ""
           },
           "baxis": {
            "gridcolor": "white",
            "linecolor": "white",
            "ticks": ""
           },
           "bgcolor": "#E5ECF6",
           "caxis": {
            "gridcolor": "white",
            "linecolor": "white",
            "ticks": ""
           }
          },
          "title": {
           "x": 0.05
          },
          "xaxis": {
           "automargin": true,
           "gridcolor": "white",
           "linecolor": "white",
           "ticks": "",
           "title": {
            "standoff": 15
           },
           "zerolinecolor": "white",
           "zerolinewidth": 2
          },
          "yaxis": {
           "automargin": true,
           "gridcolor": "white",
           "linecolor": "white",
           "ticks": "",
           "title": {
            "standoff": 15
           },
           "zerolinecolor": "white",
           "zerolinewidth": 2
          }
         }
        }
       }
      }
     },
     "metadata": {},
     "output_type": "display_data"
    }
   ],
   "source": [
    "# Plot streams\n",
    "\n",
    "stream_df = hu_df.loc[hu_df[\"short_desc\"] == \"stream\"]\n",
    "\n",
    "fig = px.scatter_geo(stream_df, lat=\"latitude\", lon=\"longitude\", hover_name=\"name\", projection=\"natural earth\", scope=\"europe\")\n",
    "\n",
    "fig.show()"
   ]
  }
 ],
 "metadata": {
  "kernelspec": {
   "display_name": ".venv",
   "language": "python",
   "name": "python3"
  },
  "language_info": {
   "codemirror_mode": {
    "name": "ipython",
    "version": 3
   },
   "file_extension": ".py",
   "mimetype": "text/x-python",
   "name": "python",
   "nbconvert_exporter": "python",
   "pygments_lexer": "ipython3",
   "version": "3.8.0"
  }
 },
 "nbformat": 4,
 "nbformat_minor": 2
}
