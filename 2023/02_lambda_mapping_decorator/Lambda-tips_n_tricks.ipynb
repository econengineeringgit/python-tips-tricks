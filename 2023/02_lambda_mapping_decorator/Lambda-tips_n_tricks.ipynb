{
 "cells": [
  {
   "cell_type": "code",
   "execution_count": 5,
   "metadata": {},
   "outputs": [],
   "source": [
    "value = 9"
   ]
  },
  {
   "attachments": {},
   "cell_type": "markdown",
   "metadata": {},
   "source": [
    "Basic syntax of lambda function"
   ]
  },
  {
   "cell_type": "code",
   "execution_count": 6,
   "metadata": {},
   "outputs": [
    {
     "data": {
      "text/plain": [
       "18"
      ]
     },
     "execution_count": 6,
     "metadata": {},
     "output_type": "execute_result"
    }
   ],
   "source": [
    "x = lambda a : a * 2\n",
    "x(value)"
   ]
  },
  {
   "attachments": {},
   "cell_type": "markdown",
   "metadata": {},
   "source": [
    "Same with a fuction"
   ]
  },
  {
   "cell_type": "code",
   "execution_count": 9,
   "metadata": {},
   "outputs": [
    {
     "data": {
      "text/plain": [
       "18"
      ]
     },
     "execution_count": 9,
     "metadata": {},
     "output_type": "execute_result"
    }
   ],
   "source": [
    "def x(a):\n",
    "    return a * 2\n",
    "\n",
    "x(value)"
   ]
  },
  {
   "attachments": {},
   "cell_type": "markdown",
   "metadata": {},
   "source": [
    "Multiple inputs"
   ]
  },
  {
   "cell_type": "code",
   "execution_count": 7,
   "metadata": {},
   "outputs": [
    {
     "data": {
      "text/plain": [
       "25"
      ]
     },
     "execution_count": 7,
     "metadata": {},
     "output_type": "execute_result"
    }
   ],
   "source": [
    "x = lambda a, b : a**2 + 2*a*b + b**2\n",
    "x(2, 3)"
   ]
  },
  {
   "attachments": {},
   "cell_type": "markdown",
   "metadata": {},
   "source": [
    "Returning multiple outputs (in tuple)"
   ]
  },
  {
   "cell_type": "code",
   "execution_count": 4,
   "metadata": {},
   "outputs": [
    {
     "data": {
      "text/plain": [
       "(18, 27)"
      ]
     },
     "execution_count": 4,
     "metadata": {},
     "output_type": "execute_result"
    }
   ],
   "source": [
    "x = lambda a : (a * 2, a * 3)\n",
    "x(value)"
   ]
  },
  {
   "attachments": {},
   "cell_type": "markdown",
   "metadata": {},
   "source": [
    "Why should we use it?\n"
   ]
  },
  {
   "attachments": {},
   "cell_type": "markdown",
   "metadata": {},
   "source": [
    "Example 1:\n",
    "Returning the lambda funtion from a function"
   ]
  },
  {
   "cell_type": "code",
   "execution_count": 10,
   "metadata": {},
   "outputs": [],
   "source": [
    "def multiplier(n):\n",
    "    return lambda a : a * n"
   ]
  },
  {
   "cell_type": "code",
   "execution_count": 12,
   "metadata": {},
   "outputs": [
    {
     "name": "stdout",
     "output_type": "stream",
     "text": [
      "<function multiplier.<locals>.<lambda> at 0x000001796779A1F0>\n"
     ]
    },
    {
     "data": {
      "text/plain": [
       "18"
      ]
     },
     "execution_count": 12,
     "metadata": {},
     "output_type": "execute_result"
    }
   ],
   "source": [
    "\n",
    "doubler = multiplier(2)\n",
    "print(doubler)\n",
    "doubler(value)\n"
   ]
  },
  {
   "cell_type": "code",
   "execution_count": 13,
   "metadata": {},
   "outputs": [
    {
     "name": "stdout",
     "output_type": "stream",
     "text": [
      "<function multiplier.<locals>.<lambda> at 0x000001796779A280>\n"
     ]
    },
    {
     "data": {
      "text/plain": [
       "27"
      ]
     },
     "execution_count": 13,
     "metadata": {},
     "output_type": "execute_result"
    }
   ],
   "source": [
    "\n",
    "tripler = multiplier(3)\n",
    "print(tripler)\n",
    "tripler(value)"
   ]
  },
  {
   "attachments": {},
   "cell_type": "markdown",
   "metadata": {},
   "source": [
    "Example 2:\n",
    "Creating a function for sorting"
   ]
  },
  {
   "cell_type": "code",
   "execution_count": 14,
   "metadata": {},
   "outputs": [],
   "source": [
    "personList = [\n",
    "    {\n",
    "        \"name\" : \"Laszlo\",\n",
    "        \"age\" : 35,\n",
    "        \"job\" : \"engineer\"\n",
    "    },\n",
    "    {\n",
    "        \"name\" : \"Juci\",\n",
    "        \"age\" : 21,\n",
    "        \"job\" : \"student\"\n",
    "    },\n",
    "    {\n",
    "        \"name\" : \"Geza\",\n",
    "        \"age\" : 72,\n",
    "        \"job\" : \"retired\"\n",
    "    },\n",
    "    {\n",
    "        \"name\" : \"Magdi\",\n",
    "        \"age\" : 56,\n",
    "        \"job\" : \"kinesiologist\"\n",
    "    },\n",
    "    {\n",
    "        \"name\" : \"Zsofia\",\n",
    "        \"age\" : 27,\n",
    "        \"job\" : \"surgeon\"\n",
    "    },\n",
    "    {\n",
    "        \"name\" : \"Rebeka\",\n",
    "        \"age\" : 29,\n",
    "        \"job\" : \"psychologist\"\n",
    "    },\n",
    "    {\n",
    "        \"name\" : \"Laszlo\",\n",
    "        \"age\" : 35,\n",
    "        \"job\" : \"dancer\"\n",
    "    },\n",
    "    {\n",
    "        \"name\" : \"Attila\",\n",
    "        \"age\" : 43,\n",
    "        \"job\" : \"unemployed\"\n",
    "    }\n",
    "]\n"
   ]
  },
  {
   "cell_type": "code",
   "execution_count": 21,
   "metadata": {},
   "outputs": [],
   "source": [
    "# This part is your homework to understand ;)\n",
    "from json import dumps\n",
    "pformat = lambda x : dumps(x, indent= 2)\n",
    "printPersonListPretty = lambda x : [print(pformat(person)) for person in x]"
   ]
  },
  {
   "cell_type": "code",
   "execution_count": 22,
   "metadata": {},
   "outputs": [
    {
     "name": "stdout",
     "output_type": "stream",
     "text": [
      "\n",
      "Unsorted:\n",
      "{\n",
      "  \"name\": \"Laszlo\",\n",
      "  \"age\": 35,\n",
      "  \"job\": \"engineer\"\n",
      "}\n",
      "{\n",
      "  \"name\": \"Juci\",\n",
      "  \"age\": 21,\n",
      "  \"job\": \"student\"\n",
      "}\n",
      "{\n",
      "  \"name\": \"Geza\",\n",
      "  \"age\": 72,\n",
      "  \"job\": \"retired\"\n",
      "}\n",
      "{\n",
      "  \"name\": \"Magdi\",\n",
      "  \"age\": 56,\n",
      "  \"job\": \"kinesiologist\"\n",
      "}\n",
      "{\n",
      "  \"name\": \"Zsofia\",\n",
      "  \"age\": 27,\n",
      "  \"job\": \"surgeon\"\n",
      "}\n",
      "{\n",
      "  \"name\": \"Rebeka\",\n",
      "  \"age\": 29,\n",
      "  \"job\": \"psychologist\"\n",
      "}\n",
      "{\n",
      "  \"name\": \"Laszlo\",\n",
      "  \"age\": 35,\n",
      "  \"job\": \"dancer\"\n",
      "}\n",
      "{\n",
      "  \"name\": \"Attila\",\n",
      "  \"age\": 43,\n",
      "  \"job\": \"unemployed\"\n",
      "}\n"
     ]
    },
    {
     "data": {
      "text/plain": [
       "[None, None, None, None, None, None, None, None]"
      ]
     },
     "execution_count": 22,
     "metadata": {},
     "output_type": "execute_result"
    }
   ],
   "source": [
    "# Unsorted\n",
    "print(\"\\nUnsorted:\")\n",
    "printPersonListPretty(personList)"
   ]
  },
  {
   "cell_type": "code",
   "execution_count": 23,
   "metadata": {},
   "outputs": [
    {
     "ename": "TypeError",
     "evalue": "'<' not supported between instances of 'dict' and 'dict'",
     "output_type": "error",
     "traceback": [
      "\u001b[1;31m---------------------------------------------------------------------------\u001b[0m",
      "\u001b[1;31mTypeError\u001b[0m                                 Traceback (most recent call last)",
      "Cell \u001b[1;32mIn[23], line 2\u001b[0m\n\u001b[0;32m      1\u001b[0m \u001b[39m# Trying to sort the dictionary itself\u001b[39;00m\n\u001b[1;32m----> 2\u001b[0m personList\u001b[39m.\u001b[39;49msort()\n",
      "\u001b[1;31mTypeError\u001b[0m: '<' not supported between instances of 'dict' and 'dict'"
     ]
    }
   ],
   "source": [
    "# Trying to sort the dictionary itself\n",
    "personList.sort()"
   ]
  },
  {
   "cell_type": "code",
   "execution_count": 24,
   "metadata": {},
   "outputs": [
    {
     "name": "stdout",
     "output_type": "stream",
     "text": [
      "\n",
      "Sorted:\n",
      "{\n",
      "  \"name\": \"Juci\",\n",
      "  \"age\": 21,\n",
      "  \"job\": \"student\"\n",
      "}\n",
      "{\n",
      "  \"name\": \"Zsofia\",\n",
      "  \"age\": 27,\n",
      "  \"job\": \"surgeon\"\n",
      "}\n",
      "{\n",
      "  \"name\": \"Rebeka\",\n",
      "  \"age\": 29,\n",
      "  \"job\": \"psychologist\"\n",
      "}\n",
      "{\n",
      "  \"name\": \"Laszlo\",\n",
      "  \"age\": 35,\n",
      "  \"job\": \"engineer\"\n",
      "}\n",
      "{\n",
      "  \"name\": \"Laszlo\",\n",
      "  \"age\": 35,\n",
      "  \"job\": \"dancer\"\n",
      "}\n",
      "{\n",
      "  \"name\": \"Attila\",\n",
      "  \"age\": 43,\n",
      "  \"job\": \"unemployed\"\n",
      "}\n",
      "{\n",
      "  \"name\": \"Magdi\",\n",
      "  \"age\": 56,\n",
      "  \"job\": \"kinesiologist\"\n",
      "}\n",
      "{\n",
      "  \"name\": \"Geza\",\n",
      "  \"age\": 72,\n",
      "  \"job\": \"retired\"\n",
      "}\n"
     ]
    },
    {
     "data": {
      "text/plain": [
       "[None, None, None, None, None, None, None, None]"
      ]
     },
     "execution_count": 24,
     "metadata": {},
     "output_type": "execute_result"
    }
   ],
   "source": [
    "# Sorting with the function\n",
    "personList.sort(key= lambda x : x[\"age\"])\n",
    "\n",
    "print(\"\\nSorted:\")\n",
    "printPersonListPretty(personList)\n"
   ]
  },
  {
   "cell_type": "code",
   "execution_count": null,
   "metadata": {},
   "outputs": [],
   "source": []
  }
 ],
 "metadata": {
  "kernelspec": {
   "display_name": "Python 3",
   "language": "python",
   "name": "python3"
  },
  "language_info": {
   "codemirror_mode": {
    "name": "ipython",
    "version": 3
   },
   "file_extension": ".py",
   "mimetype": "text/x-python",
   "name": "python",
   "nbconvert_exporter": "python",
   "pygments_lexer": "ipython3",
   "version": "3.9.8"
  },
  "orig_nbformat": 4,
  "vscode": {
   "interpreter": {
    "hash": "4fa5804bb6814b1d870ed6e7230e40dab579c7842715afc4f30e62b61f19e51d"
   }
  }
 },
 "nbformat": 4,
 "nbformat_minor": 2
}
