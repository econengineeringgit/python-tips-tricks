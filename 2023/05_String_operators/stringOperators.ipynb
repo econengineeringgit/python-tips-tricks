{
 "cells": [
  {
   "attachments": {},
   "cell_type": "markdown",
   "metadata": {},
   "source": [
    "# String operators"
   ]
  },
  {
   "attachments": {},
   "cell_type": "markdown",
   "metadata": {},
   "source": [
    "## Basic behaviour of strings"
   ]
  },
  {
   "attachments": {},
   "cell_type": "markdown",
   "metadata": {},
   "source": [
    "concatenate two or more strings using the '+' operator."
   ]
  },
  {
   "cell_type": "code",
   "execution_count": 67,
   "metadata": {},
   "outputs": [
    {
     "name": "stdout",
     "output_type": "stream",
     "text": [
      "Hello World\n"
     ]
    }
   ],
   "source": [
    "string1 = \"Hello\"\n",
    "string2 = \"World\"\n",
    "string3 = string1 + \" \" + string2\n",
    "print(string3)"
   ]
  },
  {
   "attachments": {},
   "cell_type": "markdown",
   "metadata": {},
   "source": [
    "repeat a string a certain number of times using the '' operator."
   ]
  },
  {
   "cell_type": "code",
   "execution_count": 68,
   "metadata": {},
   "outputs": [
    {
     "name": "stdout",
     "output_type": "stream",
     "text": [
      "Hello Hello Hello \n"
     ]
    }
   ],
   "source": [
    "string1 = \"Hello \"\n",
    "string2 = string1 * 3\n",
    "print(string2)"
   ]
  },
  {
   "attachments": {},
   "cell_type": "markdown",
   "metadata": {},
   "source": [
    "length of a string"
   ]
  },
  {
   "cell_type": "code",
   "execution_count": 69,
   "metadata": {},
   "outputs": [
    {
     "name": "stdout",
     "output_type": "stream",
     "text": [
      "46\n"
     ]
    }
   ],
   "source": [
    "s = '''This is also a sting\n",
    "just in multiple lines...'''\n",
    "print(len(s))"
   ]
  },
  {
   "attachments": {},
   "cell_type": "markdown",
   "metadata": {},
   "source": [
    "check if a string is a substring of another string using the `in` operator."
   ]
  },
  {
   "cell_type": "code",
   "execution_count": 70,
   "metadata": {},
   "outputs": [
    {
     "name": "stdout",
     "output_type": "stream",
     "text": [
      "found!\n"
     ]
    }
   ],
   "source": [
    "string1 = \"Hello World\"\n",
    "if \"World\" in string1:\n",
    "    print(\"found!\")\n",
    "else:\n",
    "    print(\"not found :(\")"
   ]
  },
  {
   "attachments": {},
   "cell_type": "markdown",
   "metadata": {},
   "source": [
    "access individual characters using indexing."
   ]
  },
  {
   "cell_type": "code",
   "execution_count": 71,
   "metadata": {},
   "outputs": [
    {
     "name": "stdout",
     "output_type": "stream",
     "text": [
      "H\n",
      "d\n"
     ]
    }
   ],
   "source": [
    "# Print the first character\n",
    "print(string1[0])\n",
    "# Print the last character\n",
    "print(string1[-1])"
   ]
  },
  {
   "attachments": {},
   "cell_type": "markdown",
   "metadata": {},
   "source": [
    "extract a substring from a string using slicing."
   ]
  },
  {
   "cell_type": "code",
   "execution_count": 72,
   "metadata": {},
   "outputs": [
    {
     "name": "stdout",
     "output_type": "stream",
     "text": [
      "Hello\n",
      "World\n",
      "HloWrd\n",
      "dlroW olleH\n"
     ]
    }
   ],
   "source": [
    "# Print the first 5 characters\n",
    "print(string1[0:5])\n",
    "# Print all characters after the 6th character\n",
    "print(string1[6:])\n",
    "# Print every second character\n",
    "print(string1[::2])\n",
    "# Print the str in reverse order\n",
    "print(string1[::-1])"
   ]
  },
  {
   "attachments": {},
   "cell_type": "markdown",
   "metadata": {},
   "source": [
    "str is inmutable, so we can't change the value of a character in a string."
   ]
  },
  {
   "cell_type": "code",
   "execution_count": 73,
   "metadata": {},
   "outputs": [
    {
     "ename": "TypeError",
     "evalue": "'str' object does not support item assignment",
     "output_type": "error",
     "traceback": [
      "\u001b[1;31m---------------------------------------------------------------------------\u001b[0m",
      "\u001b[1;31mTypeError\u001b[0m                                 Traceback (most recent call last)",
      "Cell \u001b[1;32mIn[73], line 1\u001b[0m\n\u001b[1;32m----> 1\u001b[0m string1[\u001b[39m1\u001b[39;49m] \u001b[39m=\u001b[39m \u001b[39m'\u001b[39m\u001b[39ma\u001b[39m\u001b[39m'\u001b[39m  \u001b[39m# this will raise a TypeError\u001b[39;00m\n",
      "\u001b[1;31mTypeError\u001b[0m: 'str' object does not support item assignment"
     ]
    }
   ],
   "source": [
    "string1[1] = 'a'  # this will raise a TypeError"
   ]
  },
  {
   "attachments": {},
   "cell_type": "markdown",
   "metadata": {},
   "source": [
    "insert variables into a string using the '{}' operator and the 'format()' method."
   ]
  },
  {
   "cell_type": "code",
   "execution_count": null,
   "metadata": {},
   "outputs": [
    {
     "name": "stdout",
     "output_type": "stream",
     "text": [
      "My name is 'John',\n",
      "and I am 25 old.\n"
     ]
    }
   ],
   "source": [
    "name = \"John\"\n",
    "age = 25\n",
    "print(\"My name is '{}',\".format(name))\n",
    "print(f\"and I am {age} old.\")\n",
    "# Output:\n",
    "# My name is 'John',\n",
    "# and I am 25 years old."
   ]
  },
  {
   "attachments": {},
   "cell_type": "markdown",
   "metadata": {},
   "source": [
    "## String operators"
   ]
  },
  {
   "attachments": {},
   "cell_type": "markdown",
   "metadata": {},
   "source": [
    "case manipulation"
   ]
  },
  {
   "cell_type": "code",
   "execution_count": 75,
   "metadata": {},
   "outputs": [
    {
     "name": "stdout",
     "output_type": "stream",
     "text": [
      "Capitalized string: This is a sample string.\n",
      "Lowercase string: this is a sample string.\n",
      "Uppercase string: THIS IS A SAMPLE STRING.\n",
      "Swapped case string: tHIS IS A SAMPLE STRING.\n",
      "Title cased string: This Is A Sample String.\n"
     ]
    }
   ],
   "source": [
    "my_string = \"This is a sample string.\"\n",
    "\n",
    "# capitalize the first character of the string\n",
    "print(\"Capitalized string:\", my_string.capitalize())\n",
    "# convert the string to lowercase\n",
    "print(\"Lowercase string:\", my_string.lower())\n",
    "# convert the string to uppercase\n",
    "print(\"Uppercase string:\", my_string.upper())\n",
    "# swap the case of the string\n",
    "print(\"Swapped case string:\", my_string.swapcase())\n",
    "# capitalize the first letter of each word in the string\n",
    "print(\"Title cased string:\", my_string.title())"
   ]
  },
  {
   "attachments": {},
   "cell_type": "markdown",
   "metadata": {},
   "source": [
    "search in a str"
   ]
  },
  {
   "cell_type": "code",
   "execution_count": 78,
   "metadata": {},
   "outputs": [
    {
     "name": "stdout",
     "output_type": "stream",
     "text": [
      "Number of 's' in string: 4\n",
      "Find 'sample' in string: 10\n",
      "Index of 's' after 'sample': 10\n"
     ]
    }
   ],
   "source": [
    "print(\"Number of 's' in string:\", my_string.count(\"s\"))\n",
    "# NOTE: If the specified substring is not found within the larger string, \n",
    "# find() returns -1, while index() raises a ValueError exception.\n",
    "print(\"Find 'sample' in string:\", my_string.find(\"sample\"))\n",
    "print(\"Index of 's' after 'sample':\", my_string.index(\"sample\"))"
   ]
  },
  {
   "attachments": {},
   "cell_type": "markdown",
   "metadata": {},
   "source": [
    "replace something in the str"
   ]
  },
  {
   "cell_type": "code",
   "execution_count": 79,
   "metadata": {},
   "outputs": [
    {
     "name": "stdout",
     "output_type": "stream",
     "text": [
      "Replaced string: This is a example string.\n",
      "Without vowel: Thxs xs x sxmplx strxng.\n"
     ]
    }
   ],
   "source": [
    "my_string = \"This is a sample string.\"\n",
    "print(\"Replaced string:\", my_string.replace(\"sample\", \"example\"))\n",
    "\n",
    "vowel_table = str.maketrans(\"aeiouAEIOU\", \"xxxxxXXXXX\")\n",
    "print(\"Without vowel:\", my_string.translate(vowel_table))"
   ]
  },
  {
   "attachments": {},
   "cell_type": "markdown",
   "metadata": {},
   "source": [
    "str checking and comparison"
   ]
  },
  {
   "cell_type": "code",
   "execution_count": 80,
   "metadata": {},
   "outputs": [
    {
     "name": "stdout",
     "output_type": "stream",
     "text": [
      "String ends with 'ing.': True\n",
      "String starts with 'This': True\n"
     ]
    }
   ],
   "source": [
    "print(\"String ends with 'ing.':\", my_string.endswith(\"ing.\"))\n",
    "print(\"String starts with 'This':\", my_string.startswith(\"This\"))"
   ]
  },
  {
   "attachments": {},
   "cell_type": "markdown",
   "metadata": {},
   "source": [
    "str splitting and partitioning"
   ]
  },
  {
   "cell_type": "code",
   "execution_count": null,
   "metadata": {},
   "outputs": [
    {
     "name": "stdout",
     "output_type": "stream",
     "text": [
      "Split to space: ['This', 'is', 'a', 'sample', 'string.']\n",
      "Split to space: ['This', 'is a sample string.']\n",
      "Split to a text: ['This is a ', ' string.']\n",
      "Split to a text: ['This is a sample string.']\n",
      "Partitioned string: ('This is a ', 'sample', ' string.')\n",
      "Partitioned string: ('This is a sample string.', '', '')\n",
      "Splitlines: ['This is the first line.', 'This is the second line.']\n"
     ]
    }
   ],
   "source": [
    "# Split the str into a list of words\n",
    "print(\"Split to space:\", my_string.split())\n",
    "print(\"Split to space:\", my_string.split(maxsplit=1))\n",
    "print(\"Split to a text:\", my_string.split(\"sample\"))\n",
    "print(\"Split to a text:\", my_string.split(\"xyz\"))\n",
    "# Partition the str into three parts based on the first occurrence of a separator\n",
    "print(\"Partitioned string:\", my_string.partition(\"sample\"))\n",
    "print(\"Partitioned string:\", my_string.partition(\"xyz\"))\n",
    "# Split the str into a list of lines\n",
    "my_string_with_lines = \"This is the first line.\\nThis is the second line.\"\n",
    "print(\"Splitlines:\", my_string_with_lines.splitlines())"
   ]
  },
  {
   "attachments": {},
   "cell_type": "markdown",
   "metadata": {},
   "source": [
    "str joining and splitting"
   ]
  },
  {
   "cell_type": "code",
   "execution_count": null,
   "metadata": {},
   "outputs": [
    {
     "name": "stdout",
     "output_type": "stream",
     "text": [
      "Joined string: This is a sample string.\n"
     ]
    }
   ],
   "source": [
    "my_list = [\"This\", \"is\", \"a\", \"sample\", \"string.\"]\n",
    "print(\"Joined string:\", \" \".join(my_list))"
   ]
  },
  {
   "attachments": {},
   "cell_type": "markdown",
   "metadata": {},
   "source": [
    "str stripping"
   ]
  },
  {
   "cell_type": "code",
   "execution_count": 81,
   "metadata": {},
   "outputs": [
    {
     "name": "stdout",
     "output_type": "stream",
     "text": [
      "Stripped string: This is a sample string.\n",
      "Stripped string: This is a sample string.\n"
     ]
    }
   ],
   "source": [
    "string_to_strip = \"   This is a sample string.   \"\n",
    "print(\"Stripped string:\", string_to_strip.strip())\n",
    "string_to_strip = \"$$$This is a sample string.     \"\n",
    "print(\"Stripped string:\", string_to_strip.strip('$ '))"
   ]
  },
  {
   "attachments": {},
   "cell_type": "markdown",
   "metadata": {},
   "source": [
    "str left/right stripping"
   ]
  },
  {
   "cell_type": "code",
   "execution_count": null,
   "metadata": {},
   "outputs": [
    {
     "name": "stdout",
     "output_type": "stream",
     "text": [
      "Left-stripped string: 'This is a sample string.   '\n",
      "Right-stripped string: '   This is a sample string.'\n"
     ]
    }
   ],
   "source": [
    "string_to_strip = \"   This is a sample string.   \"\n",
    "print(f\"Left-stripped string: '{string_to_strip.lstrip()}'\")\n",
    "print(f\"Right-stripped string: '{string_to_strip.rstrip()}'\")"
   ]
  },
  {
   "attachments": {},
   "cell_type": "markdown",
   "metadata": {},
   "source": [
    "str prefix and suffix removal"
   ]
  },
  {
   "cell_type": "code",
   "execution_count": null,
   "metadata": {},
   "outputs": [
    {
     "name": "stdout",
     "output_type": "stream",
     "text": [
      "String with prefix removed: 'file.tmp'\n",
      "String with suffix removed: 'test_file'\n"
     ]
    }
   ],
   "source": [
    "string_to_strip = \"test_file.tmp\"\n",
    "print(f\"String with prefix removed: '{string_to_strip.removeprefix('test_')}'\")\n",
    "print(f\"String with suffix removed: '{string_to_strip.removesuffix('.tmp')}'\")"
   ]
  },
  {
   "attachments": {},
   "cell_type": "markdown",
   "metadata": {},
   "source": [
    "arrange the text"
   ]
  },
  {
   "cell_type": "code",
   "execution_count": null,
   "metadata": {},
   "outputs": [
    {
     "name": "stdout",
     "output_type": "stream",
     "text": [
      "Centered string: ***This is a sample string.***\n",
      "Justified string: This is a sample string.----------------\n",
      "Padded string: 000000000000000000000000012345\n"
     ]
    }
   ],
   "source": [
    "# center the string within a specified width\n",
    "print(\"Centered string:\", my_string.center(30, \"*\"))\n",
    "# left-justify the string and add padding with '-'\n",
    "print(\"Justified string:\", my_string.ljust(40, '-'))\n",
    "# pad the string with zeros on the left side\n",
    "string_to_zfill = \"12345\"\n",
    "print(\"Padded string:\", string_to_zfill.zfill(30))"
   ]
  },
  {
   "attachments": {},
   "cell_type": "markdown",
   "metadata": {},
   "source": [
    "strip a specific character"
   ]
  },
  {
   "cell_type": "code",
   "execution_count": null,
   "metadata": {},
   "outputs": [
    {
     "name": "stdout",
     "output_type": "stream",
     "text": [
      "Stripped string with specific character: This is a sample string.\n"
     ]
    }
   ],
   "source": [
    "string_to_clear = \"This is a sample string.----------------\"\n",
    "print(\"Stripped string with specific character:\", string_to_clear.strip(\"-\"))"
   ]
  },
  {
   "attachments": {},
   "cell_type": "markdown",
   "metadata": {},
   "source": [
    "str checking and comparison"
   ]
  },
  {
   "cell_type": "code",
   "execution_count": null,
   "metadata": {},
   "outputs": [
    {
     "name": "stdout",
     "output_type": "stream",
     "text": [
      "String contains only alphabetic characters: True\n",
      "String contains only alphanumeric characters: True\n",
      "String contains only decimal characters: True\n",
      "String is in lowercase: True\n",
      "my_var1 is a valid identifier: True\n",
      "1var is a valid identifier: False\n"
     ]
    }
   ],
   "source": [
    "# Example text for isalpha()\n",
    "my_string = \"HelloWorld\"\n",
    "print(\"String contains only alphabetic characters:\", my_string.isalpha())\n",
    "# Example text for isalnum()\n",
    "my_string = \"HelloWorld123\"\n",
    "print(\"String contains only alphanumeric characters:\", my_string.isalnum())\n",
    "# Example text for isdecimal()\n",
    "my_string = \"12345\"\n",
    "print(\"String contains only decimal characters:\", my_string.isdecimal())\n",
    "# Example text for islower()\n",
    "my_string = \"hello world\"\n",
    "print(\"String is in lowercase:\", my_string.islower())\n",
    "# Example text for isidentifier()\n",
    "my_string = \"my_var1\"\n",
    "print(f\"{my_string} is a valid identifier:\", my_string.isidentifier())\n",
    "my_string = \"1var\"\n",
    "print(f\"{my_string} is a valid identifier:\", my_string.isidentifier()) "
   ]
  },
  {
   "attachments": {},
   "cell_type": "markdown",
   "metadata": {},
   "source": [
    "More about strings in general: https://www.tutorialspoint.com/python/python_strings.htm\n",
    "\n",
    "More about string methods: https://docs.python.org/3/library/stdtypes.html#string-methods"
   ]
  }
 ],
 "metadata": {
  "kernelspec": {
   "display_name": "Python 3",
   "language": "python",
   "name": "python3"
  },
  "language_info": {
   "codemirror_mode": {
    "name": "ipython",
    "version": 3
   },
   "file_extension": ".py",
   "mimetype": "text/x-python",
   "name": "python",
   "nbconvert_exporter": "python",
   "pygments_lexer": "ipython3",
   "version": "3.10.5"
  },
  "orig_nbformat": 4,
  "vscode": {
   "interpreter": {
    "hash": "2b0358443a849d46ec51c482154053f2e8e1c4a1401040f02828ec2fdaa9e544"
   }
  }
 },
 "nbformat": 4,
 "nbformat_minor": 2
}
