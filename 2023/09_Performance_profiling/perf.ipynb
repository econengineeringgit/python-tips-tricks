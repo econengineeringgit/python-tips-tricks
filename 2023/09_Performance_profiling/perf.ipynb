{
 "cells": [
  {
   "attachments": {},
   "cell_type": "markdown",
   "metadata": {},
   "source": [
    "## Timing"
   ]
  },
  {
   "cell_type": "code",
   "execution_count": 2,
   "metadata": {},
   "outputs": [],
   "source": [
    "import timeit\n",
    "import time"
   ]
  },
  {
   "cell_type": "code",
   "execution_count": 2,
   "metadata": {},
   "outputs": [],
   "source": [
    "def time_consuming_task(t=5):\n",
    "    print(f\"\\tworking hard... (for {t} s)\")\n",
    "    time.sleep(t)"
   ]
  },
  {
   "attachments": {},
   "cell_type": "markdown",
   "metadata": {},
   "source": [
    "### timeit"
   ]
  },
  {
   "cell_type": "code",
   "execution_count": 3,
   "metadata": {},
   "outputs": [
    {
     "data": {
      "text/plain": [
       "{0, 1, 4, 6, 7, 8}"
      ]
     },
     "execution_count": 3,
     "metadata": {},
     "output_type": "execute_result"
    }
   ],
   "source": [
    "numbers = [7, 6, 1, 4, 1, 8, 0, 6]\n",
    "set(numbers)"
   ]
  },
  {
   "attachments": {},
   "cell_type": "markdown",
   "metadata": {},
   "source": [
    "Solutions for Jupyter notebooks:"
   ]
  },
  {
   "cell_type": "code",
   "execution_count": 4,
   "metadata": {},
   "outputs": [
    {
     "name": "stdout",
     "output_type": "stream",
     "text": [
      "190 ns ± 2.44 ns per loop (mean ± std. dev. of 7 runs, 10,000,000 loops each)\n"
     ]
    }
   ],
   "source": [
    "%timeit set(numbers) # Only in ipynb"
   ]
  },
  {
   "cell_type": "code",
   "execution_count": 5,
   "metadata": {},
   "outputs": [
    {
     "name": "stdout",
     "output_type": "stream",
     "text": [
      "182 ns ± 2.1 ns per loop (mean ± std. dev. of 7 runs, 10,000,000 loops each)\n"
     ]
    }
   ],
   "source": [
    "%timeit {*[7, 6, 1, 4, 1, 8, 0, 6]}"
   ]
  },
  {
   "cell_type": "code",
   "execution_count": 6,
   "metadata": {},
   "outputs": [
    {
     "data": {
      "text/plain": [
       "0.175687000000039"
      ]
     },
     "execution_count": 6,
     "metadata": {},
     "output_type": "execute_result"
    }
   ],
   "source": [
    "timeit.timeit('{*[7, 6, 1, 4, 1, 8, 0, 6]}')"
   ]
  },
  {
   "attachments": {},
   "cell_type": "markdown",
   "metadata": {},
   "source": [
    "### time decorator\n",
    "\n",
    "Measure the execution time of a function."
   ]
  },
  {
   "cell_type": "code",
   "execution_count": 7,
   "metadata": {},
   "outputs": [],
   "source": [
    "import functools\n",
    "\n",
    "\n",
    "def timer(func):\n",
    "    @functools.wraps(func)\n",
    "    def wrapper_timer(*args, **kwargs):\n",
    "        tic = time.perf_counter()\n",
    "        value = func(*args, **kwargs)\n",
    "        toc = time.perf_counter()\n",
    "        elapsed_time = toc - tic\n",
    "        print(f\"Elapsed time: {elapsed_time:0.4f} seconds\")\n",
    "        return value\n",
    "    return wrapper_timer"
   ]
  },
  {
   "cell_type": "code",
   "execution_count": 8,
   "metadata": {},
   "outputs": [
    {
     "name": "stdout",
     "output_type": "stream",
     "text": [
      "\tworking hard... (for 3 s)\n",
      "Elapsed time: 3.0124 seconds\n"
     ]
    }
   ],
   "source": [
    "@timer\n",
    "def do_task():\n",
    "    time_consuming_task(3)\n",
    "\n",
    "\n",
    "do_task()"
   ]
  },
  {
   "attachments": {},
   "cell_type": "markdown",
   "metadata": {},
   "source": [
    "Only the function with the decorator is measured. No information about the time spent in subfunctions."
   ]
  },
  {
   "cell_type": "code",
   "execution_count": 9,
   "metadata": {},
   "outputs": [
    {
     "name": "stdout",
     "output_type": "stream",
     "text": [
      "\tworking hard... (for 3 s)\n",
      "\tworking hard... (for 1 s)\n",
      "\tworking hard... (for 0.5 s)\n",
      "Elapsed time: 4.5152 seconds\n"
     ]
    }
   ],
   "source": [
    "@timer\n",
    "def do_tasks():\n",
    "    time_consuming_task(3)\n",
    "    time_consuming_task(1)\n",
    "    time_consuming_task(0.5)\n",
    "\n",
    "\n",
    "do_tasks()"
   ]
  },
  {
   "attachments": {},
   "cell_type": "markdown",
   "metadata": {},
   "source": [
    "Trick to add decorator to an already defined function:"
   ]
  },
  {
   "cell_type": "code",
   "execution_count": 12,
   "metadata": {},
   "outputs": [
    {
     "name": "stdout",
     "output_type": "stream",
     "text": [
      "\tworking hard... (for 3 s)\n",
      "Elapsed time: 3.0131 seconds\n",
      "\tworking hard... (for 1 s)\n",
      "Elapsed time: 1.0016 seconds\n",
      "\tworking hard... (for 0.5 s)\n",
      "Elapsed time: 0.5036 seconds\n",
      "Elapsed time: 4.5197 seconds\n"
     ]
    }
   ],
   "source": [
    "@timer\n",
    "def do_tasks_detailed():\n",
    "    timed_task = timer(time_consuming_task)\n",
    "    timed_task(3)\n",
    "    timed_task(1)\n",
    "    timed_task(0.5)\n",
    "\n",
    "\n",
    "do_tasks_detailed()"
   ]
  },
  {
   "attachments": {},
   "cell_type": "markdown",
   "metadata": {},
   "source": [
    "More detailed info of the function being executed:"
   ]
  },
  {
   "cell_type": "code",
   "execution_count": 13,
   "metadata": {},
   "outputs": [],
   "source": [
    "import functools\n",
    "\n",
    "\n",
    "def timer2(func):\n",
    "    @functools.wraps(func)\n",
    "    def wrapper_timer(*args, **kwargs):\n",
    "        tic = time.perf_counter()\n",
    "        value = func(*args, **kwargs)\n",
    "        toc = time.perf_counter()\n",
    "        elapsed_time = toc - tic\n",
    "        print(f\"Elapsed time in {func.__name__}({args=}, {kwargs=}): {elapsed_time:0.4f} seconds\")\n",
    "        return value\n",
    "    return wrapper_timer"
   ]
  },
  {
   "cell_type": "code",
   "execution_count": 14,
   "metadata": {},
   "outputs": [
    {
     "name": "stdout",
     "output_type": "stream",
     "text": [
      "\tworking hard... (for 3 s)\n",
      "Elapsed time in time_consuming_task(args=(3,), kwargs={}): 3.0144 seconds\n",
      "\tworking hard... (for 1 s)\n",
      "Elapsed time in time_consuming_task(args=(1,), kwargs={}): 1.0131 seconds\n",
      "\tworking hard... (for 0.5 s)\n",
      "Elapsed time in time_consuming_task(args=(0.5,), kwargs={}): 0.5142 seconds\n",
      "Elapsed time in do_tasks_detailed(args=(), kwargs={}): 4.5442 seconds\n"
     ]
    }
   ],
   "source": [
    "@timer2\n",
    "def do_tasks_detailed():\n",
    "    timed_task = timer2(time_consuming_task)\n",
    "    timed_task(3)\n",
    "    timed_task(1)\n",
    "    timed_task(0.5)\n",
    "\n",
    "\n",
    "do_tasks_detailed()"
   ]
  },
  {
   "cell_type": "code",
   "execution_count": null,
   "metadata": {},
   "outputs": [],
   "source": []
  },
  {
   "attachments": {},
   "cell_type": "markdown",
   "metadata": {},
   "source": [
    "# Profiling"
   ]
  },
  {
   "cell_type": "code",
   "execution_count": 10,
   "metadata": {},
   "outputs": [
    {
     "name": "stdout",
     "output_type": "stream",
     "text": [
      "         104 function calls in 1.507 seconds\n",
      "\n",
      "   Ordered by: standard name\n",
      "\n",
      "   ncalls  tottime  percall  cumtime  percall filename:lineno(function)\n",
      "        1    0.002    0.002    1.507    1.507 530314923.py:3(foo)\n",
      "        1    0.000    0.000    1.507    1.507 <string>:1(<module>)\n",
      "        1    0.000    0.000    1.507    1.507 {built-in method builtins.exec}\n",
      "      100    1.505    0.015    1.505    0.015 {built-in method time.sleep}\n",
      "        1    0.000    0.000    0.000    0.000 {method 'disable' of '_lsprof.Profiler' objects}\n",
      "\n",
      "\n"
     ]
    }
   ],
   "source": [
    "import cProfile\n",
    "\n",
    "\n",
    "def foo():\n",
    "    for i in range(1_000):\n",
    "        i**2\n",
    "        if i % 10 == 0:\n",
    "            time.sleep(0.0001)\n",
    "\n",
    "\n",
    "# Profile 1 function call\n",
    "cProfile.run('foo()')"
   ]
  },
  {
   "cell_type": "code",
   "execution_count": 7,
   "metadata": {},
   "outputs": [
    {
     "name": "stdout",
     "output_type": "stream",
     "text": [
      "None\n",
      "Wed Jun 14 16:39:08 2023    foo()\n",
      "\n",
      "         104 function calls in 1.514 seconds\n",
      "\n",
      "   Ordered by: internal time\n",
      "   List reduced from 5 to 3 due to restriction <3>\n",
      "\n",
      "   ncalls  tottime  percall  cumtime  percall filename:lineno(function)\n",
      "      100    1.511    0.015    1.511    0.015 {built-in method time.sleep}\n",
      "        1    0.002    0.002    1.514    1.514 C:\\Users\\peter.mizsak\\AppData\\Local\\Temp\\ipykernel_14516\\3324104090.py:4(foo)\n",
      "        1    0.000    0.000    1.514    1.514 <string>:1(<module>)\n",
      "\n",
      "\n",
      "<pstats.Stats object at 0x000001D4D8B51460>\n"
     ]
    }
   ],
   "source": [
    "import pstats\n",
    "\n",
    "res = cProfile.run('foo()', 'foo()')\n",
    "print(res)\n",
    "\n",
    "p = pstats.Stats('foo()')\n",
    "\n",
    "print(p.sort_stats('time').print_stats(3))"
   ]
  },
  {
   "attachments": {},
   "cell_type": "markdown",
   "metadata": {},
   "source": [
    "The `cprofile` module is used to profile the execution time of a program, providing detailed information on the execution time of each function.\n",
    "With the `pstats` module, the results of the profiling can be analyzed.\n",
    "\n",
    "The `cprofile` module can be used as a context manager or directly from the command line:\n",
    "\n",
    "\n",
    "### As a context manager: \n",
    "```python\n",
    "with cProfile.Profile() as pr:\n",
    "    #do something\n",
    "    pr.print_stats()\n",
    "```\n",
    "\n",
    "### Directly from the command line:\n",
    "\n",
    "```bash\n",
    "python -m cProfile -o output_file.prof script.py\n",
    "```"
   ]
  },
  {
   "attachments": {},
   "cell_type": "markdown",
   "metadata": {},
   "source": [
    "The results can be analyzed with the `pstats` module:\n",
    "\n",
    "```python\n",
    "import pstats\n",
    "p = pstats.Stats('output_file.prof')\n",
    "p.sort_stats('cumulative').print_stats(10)\n",
    "```\n"
   ]
  },
  {
   "attachments": {},
   "cell_type": "markdown",
   "metadata": {},
   "source": [
    "Context manager example:"
   ]
  },
  {
   "cell_type": "code",
   "execution_count": 9,
   "metadata": {},
   "outputs": [
    {
     "name": "stdout",
     "output_type": "stream",
     "text": [
      "         110 function calls in 1.511 seconds\n",
      "\n",
      "   Ordered by: standard name\n",
      "\n",
      "   ncalls  tottime  percall  cumtime  percall filename:lineno(function)\n",
      "        1    0.001    0.001    1.511    1.511 3324104090.py:4(foo)\n",
      "        1    0.000    0.000    0.000    0.000 cProfile.py:40(print_stats)\n",
      "        1    0.000    0.000    0.000    0.000 cProfile.py:50(create_stats)\n",
      "        1    0.000    0.000    0.000    0.000 pstats.py:118(load_stats)\n",
      "        1    0.000    0.000    0.000    0.000 pstats.py:89(__init__)\n",
      "        1    0.000    0.000    0.000    0.000 pstats.py:99(init)\n",
      "        1    0.000    0.000    0.000    0.000 {built-in method builtins.hasattr}\n",
      "        1    0.000    0.000    0.000    0.000 {built-in method builtins.isinstance}\n",
      "        1    0.000    0.000    0.000    0.000 {built-in method builtins.len}\n",
      "      100    1.509    0.015    1.509    0.015 {built-in method time.sleep}\n",
      "        1    0.000    0.000    0.000    0.000 {method 'disable' of '_lsprof.Profiler' objects}\n",
      "\n",
      "\n"
     ]
    }
   ],
   "source": [
    "with cProfile.Profile() as pr:\n",
    "    foo()\n",
    "    pr.print_stats()"
   ]
  }
 ],
 "metadata": {
  "kernelspec": {
   "display_name": "venv",
   "language": "python",
   "name": "python3"
  },
  "language_info": {
   "codemirror_mode": {
    "name": "ipython",
    "version": 3
   },
   "file_extension": ".py",
   "mimetype": "text/x-python",
   "name": "python",
   "nbconvert_exporter": "python",
   "pygments_lexer": "ipython3",
   "version": "3.8.10"
  },
  "orig_nbformat": 4
 },
 "nbformat": 4,
 "nbformat_minor": 2
}
