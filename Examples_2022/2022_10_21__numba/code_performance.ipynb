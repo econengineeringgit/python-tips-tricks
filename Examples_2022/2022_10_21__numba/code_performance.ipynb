{
 "cells": [
  {
   "cell_type": "markdown",
   "metadata": {},
   "source": [
    "# Measure code performance"
   ]
  },
  {
   "cell_type": "markdown",
   "metadata": {},
   "source": [
    "## 'time' module"
   ]
  },
  {
   "cell_type": "code",
   "execution_count": 2,
   "metadata": {},
   "outputs": [],
   "source": [
    "import time"
   ]
  },
  {
   "cell_type": "code",
   "execution_count": 11,
   "metadata": {},
   "outputs": [
    {
     "name": "stdout",
     "output_type": "stream",
     "text": [
      "The execution time is: 1.009079799999995\n"
     ]
    }
   ],
   "source": [
    "start_time = time.perf_counter()\n",
    "# start_time = time.perf_counter_ns()\n",
    "    \n",
    "time.sleep(1)\n",
    "\n",
    "end_time = time.perf_counter()\n",
    "execution_time = end_time - start_time\n",
    "print(f\"The execution time is: {execution_time}\")"
   ]
  },
  {
   "cell_type": "markdown",
   "metadata": {},
   "source": [
    "## 'timeit' module"
   ]
  },
  {
   "cell_type": "code",
   "execution_count": 12,
   "metadata": {},
   "outputs": [],
   "source": [
    "import timeit"
   ]
  },
  {
   "cell_type": "code",
   "execution_count": 16,
   "metadata": {},
   "outputs": [
    {
     "data": {
      "text/plain": [
       "1.4475568000000294"
      ]
     },
     "execution_count": 16,
     "metadata": {},
     "output_type": "execute_result"
    }
   ],
   "source": [
    "def test_fn():\n",
    "    for i in range(10):\n",
    "        asd = i**i\n",
    "\n",
    "timeit.timeit(lambda: test_fn(), number=1_000_000)"
   ]
  },
  {
   "cell_type": "markdown",
   "metadata": {},
   "source": [
    "From terminal"
   ]
  },
  {
   "cell_type": "code",
   "execution_count": 6,
   "metadata": {},
   "outputs": [
    {
     "name": "stdout",
     "output_type": "stream",
     "text": [
      "50000 loops, best of 5: 5.12 usec per loop\n"
     ]
    }
   ],
   "source": [
    "! python -m timeit \"for i in range(30): i**i\""
   ]
  },
  {
   "cell_type": "markdown",
   "metadata": {},
   "source": [
    "Only in Jupyter notebook"
   ]
  },
  {
   "cell_type": "code",
   "execution_count": 24,
   "metadata": {},
   "outputs": [
    {
     "name": "stdout",
     "output_type": "stream",
     "text": [
      "CPU times: total: 3.81 s\n",
      "Wall time: 3.82 s\n"
     ]
    }
   ],
   "source": [
    "%%time\n",
    "\n",
    "def test_fn():\n",
    "    for i in range(10_000):\n",
    "        i**i\n",
    "test_fn()"
   ]
  },
  {
   "cell_type": "code",
   "execution_count": 9,
   "metadata": {},
   "outputs": [
    {
     "name": "stdout",
     "output_type": "stream",
     "text": [
      "1.44 s ± 15.1 ms per loop (mean ± std. dev. of 7 runs, 1 loop each)\n"
     ]
    }
   ],
   "source": [
    "%%timeit\n",
    "\n",
    "def test_fn():\n",
    "    for i in range(10):\n",
    "        i**i\n",
    "for i in range(1_000_000):\n",
    "    test_fn()"
   ]
  },
  {
   "cell_type": "markdown",
   "metadata": {},
   "source": [
    "## Make a decorator!"
   ]
  },
  {
   "cell_type": "code",
   "execution_count": 15,
   "metadata": {},
   "outputs": [],
   "source": [
    "from functools import wraps\n",
    "from time import perf_counter\n",
    "\n",
    "def timing(f):\n",
    "    @wraps(f)\n",
    "    def wrap(*args, **kw):\n",
    "        ts = perf_counter()\n",
    "        result = f(*args, **kw)\n",
    "        te = perf_counter()\n",
    "        print(f'Function {f.__name__} took {te-ts:2.4f} seconds')\n",
    "        return result\n",
    "    return wrap"
   ]
  },
  {
   "cell_type": "code",
   "execution_count": 23,
   "metadata": {},
   "outputs": [
    {
     "name": "stdout",
     "output_type": "stream",
     "text": [
      "Function decor_test_fn took 3.8767 seconds\n"
     ]
    }
   ],
   "source": [
    "@timing\n",
    "def decor_test_fn():\n",
    "    '''Some docs.'''\n",
    "    for i in range(10_000):\n",
    "        i**i\n",
    "        \n",
    "decor_test_fn()"
   ]
  },
  {
   "cell_type": "markdown",
   "metadata": {},
   "source": [
    "## Profiling"
   ]
  },
  {
   "cell_type": "code",
   "execution_count": 1,
   "metadata": {},
   "outputs": [
    {
     "name": "stdout",
     "output_type": "stream",
     "text": [
      "         214 function calls (207 primitive calls) in 0.000 seconds\n",
      "\n",
      "   Ordered by: standard name\n",
      "\n",
      "   ncalls  tottime  percall  cumtime  percall filename:lineno(function)\n",
      "        1    0.000    0.000    0.000    0.000 <string>:1(<module>)\n",
      "        2    0.000    0.000    0.000    0.000 enum.py:313(__call__)\n",
      "        2    0.000    0.000    0.000    0.000 enum.py:631(__new__)\n",
      "        1    0.000    0.000    0.000    0.000 enum.py:938(__and__)\n",
      "        1    0.000    0.000    0.000    0.000 re.py:250(compile)\n",
      "        1    0.000    0.000    0.000    0.000 re.py:289(_compile)\n",
      "        1    0.000    0.000    0.000    0.000 sre_compile.py:249(_compile_charset)\n",
      "        1    0.000    0.000    0.000    0.000 sre_compile.py:276(_optimize_charset)\n",
      "        2    0.000    0.000    0.000    0.000 sre_compile.py:453(_get_iscased)\n",
      "        1    0.000    0.000    0.000    0.000 sre_compile.py:461(_get_literal_prefix)\n",
      "        1    0.000    0.000    0.000    0.000 sre_compile.py:492(_get_charset_prefix)\n",
      "        1    0.000    0.000    0.000    0.000 sre_compile.py:536(_compile_info)\n",
      "        2    0.000    0.000    0.000    0.000 sre_compile.py:595(isstring)\n",
      "        1    0.000    0.000    0.000    0.000 sre_compile.py:598(_code)\n",
      "      3/1    0.000    0.000    0.000    0.000 sre_compile.py:71(_compile)\n",
      "        1    0.000    0.000    0.000    0.000 sre_compile.py:759(compile)\n",
      "        3    0.000    0.000    0.000    0.000 sre_parse.py:111(__init__)\n",
      "        7    0.000    0.000    0.000    0.000 sre_parse.py:160(__len__)\n",
      "       18    0.000    0.000    0.000    0.000 sre_parse.py:164(__getitem__)\n",
      "        7    0.000    0.000    0.000    0.000 sre_parse.py:172(append)\n",
      "      3/1    0.000    0.000    0.000    0.000 sre_parse.py:174(getwidth)\n",
      "        1    0.000    0.000    0.000    0.000 sre_parse.py:224(__init__)\n",
      "        8    0.000    0.000    0.000    0.000 sre_parse.py:233(__next)\n",
      "        2    0.000    0.000    0.000    0.000 sre_parse.py:249(match)\n",
      "        6    0.000    0.000    0.000    0.000 sre_parse.py:254(get)\n",
      "        1    0.000    0.000    0.000    0.000 sre_parse.py:286(tell)\n",
      "        1    0.000    0.000    0.000    0.000 sre_parse.py:435(_parse_sub)\n",
      "        2    0.000    0.000    0.000    0.000 sre_parse.py:493(_parse)\n",
      "        1    0.000    0.000    0.000    0.000 sre_parse.py:76(__init__)\n",
      "        2    0.000    0.000    0.000    0.000 sre_parse.py:81(groups)\n",
      "        1    0.000    0.000    0.000    0.000 sre_parse.py:921(fix_flags)\n",
      "        1    0.000    0.000    0.000    0.000 sre_parse.py:937(parse)\n",
      "        1    0.000    0.000    0.000    0.000 {built-in method _sre.compile}\n",
      "        1    0.000    0.000    0.000    0.000 {built-in method builtins.exec}\n",
      "       25    0.000    0.000    0.000    0.000 {built-in method builtins.isinstance}\n",
      "    29/26    0.000    0.000    0.000    0.000 {built-in method builtins.len}\n",
      "        2    0.000    0.000    0.000    0.000 {built-in method builtins.max}\n",
      "        9    0.000    0.000    0.000    0.000 {built-in method builtins.min}\n",
      "        6    0.000    0.000    0.000    0.000 {built-in method builtins.ord}\n",
      "       48    0.000    0.000    0.000    0.000 {method 'append' of 'list' objects}\n",
      "        1    0.000    0.000    0.000    0.000 {method 'disable' of '_lsprof.Profiler' objects}\n",
      "        5    0.000    0.000    0.000    0.000 {method 'find' of 'bytearray' objects}\n",
      "        1    0.000    0.000    0.000    0.000 {method 'items' of 'dict' objects}\n",
      "\n",
      "\n"
     ]
    }
   ],
   "source": [
    "import cProfile\n",
    "import re\n",
    "cProfile.run('re.compile(\"foo|bar\")')"
   ]
  },
  {
   "cell_type": "markdown",
   "metadata": {},
   "source": [
    "```console\n",
    "python -m cProfile -s tottime .\\translate_Front.py\n",
    "```"
   ]
  },
  {
   "cell_type": "markdown",
   "metadata": {},
   "source": []
  }
 ],
 "metadata": {
  "kernelspec": {
   "display_name": "Python 3.8.10 64-bit",
   "language": "python",
   "name": "python3"
  },
  "language_info": {
   "codemirror_mode": {
    "name": "ipython",
    "version": 3
   },
   "file_extension": ".py",
   "mimetype": "text/x-python",
   "name": "python",
   "nbconvert_exporter": "python",
   "pygments_lexer": "ipython3",
   "version": "3.8.10"
  },
  "orig_nbformat": 4,
  "vscode": {
   "interpreter": {
    "hash": "570feb405e2e27c949193ac68f46852414290d515b0ba6e5d90d076ed2284471"
   }
  }
 },
 "nbformat": 4,
 "nbformat_minor": 2
}
