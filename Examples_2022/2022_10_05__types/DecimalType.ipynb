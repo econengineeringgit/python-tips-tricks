{
 "cells": [
  {
   "cell_type": "markdown",
   "id": "5816d749",
   "metadata": {},
   "source": [
    "# Decimal type in python3"
   ]
  },
  {
   "cell_type": "markdown",
   "id": "836c8c60",
   "metadata": {},
   "source": [
    "## 0. What is the problem with built-in float numbers?"
   ]
  },
  {
   "cell_type": "code",
   "execution_count": 1,
   "id": "a8c623e1",
   "metadata": {},
   "outputs": [
    {
     "name": "stdout",
     "output_type": "stream",
     "text": [
      "0.1 + 0.1 + 0.1 = 0.30000000000000004\n",
      "Is x = 0.3? False\n"
     ]
    }
   ],
   "source": [
    "x = 0.1 + 0.1 + 0.1\n",
    "\n",
    "print(f\"0.1 + 0.1 + 0.1 = {x}\")\n",
    "print(f\"Is x = 0.3? {x == 0.3}\")"
   ]
  },
  {
   "cell_type": "markdown",
   "id": "2da7ef0f",
   "metadata": {},
   "source": [
    "## 1. Solution"
   ]
  },
  {
   "cell_type": "code",
   "execution_count": 2,
   "id": "04576f32",
   "metadata": {
    "scrolled": true
   },
   "outputs": [
    {
     "name": "stdout",
     "output_type": "stream",
     "text": [
      "Decimal('0.1') + Decimal('0.1') + Decimal('0.1') = 0.3\n",
      "Is x = 0.3? True\n"
     ]
    }
   ],
   "source": [
    "from decimal import Decimal, getcontext\n",
    "\n",
    "x = Decimal('0.1') + Decimal('0.1') + Decimal('0.1')\n",
    "\n",
    "print(f\"Decimal('0.1') + Decimal('0.1') + Decimal('0.1') = {x}\")\n",
    "print(f\"Is x = 0.3? {float(x) == 0.3}\")"
   ]
  },
  {
   "cell_type": "markdown",
   "id": "60255001",
   "metadata": {},
   "source": [
    "## 2. Performance"
   ]
  },
  {
   "cell_type": "markdown",
   "id": "57f34393",
   "metadata": {},
   "source": [
    "### 2.0 Simple function with built-in float"
   ]
  },
  {
   "cell_type": "code",
   "execution_count": 3,
   "id": "c7b2a404",
   "metadata": {
    "scrolled": true
   },
   "outputs": [
    {
     "name": "stdout",
     "output_type": "stream",
     "text": [
      "Elapsed time: 1.8481860160827637s\n",
      "Result: 4.450840747566237e+305\n"
     ]
    }
   ],
   "source": [
    "def math_multiplication_power_loop(x,y):\n",
    "    number = []\n",
    "    \n",
    "    for i in range(40):\n",
    "        number.append((x*y)**i)\n",
    "    \n",
    "    return sum(number)\n",
    "\n",
    "import time\n",
    "\n",
    "start = time.time()\n",
    "for i in range(100_000):\n",
    "    result = math_multiplication_power_loop(12344, 5567.8)\n",
    "\n",
    "print(f\"Elapsed time: {time.time() - start}s\")\n",
    "print(f\"Result: {result}\")"
   ]
  },
  {
   "cell_type": "markdown",
   "id": "ae95e094",
   "metadata": {},
   "source": [
    "### 2.1 Simple function with Decimal"
   ]
  },
  {
   "cell_type": "code",
   "execution_count": 4,
   "id": "9ddd0b64",
   "metadata": {
    "scrolled": true
   },
   "outputs": [
    {
     "name": "stdout",
     "output_type": "stream",
     "text": [
      "Elapsed time: 12.986524105072021s\n",
      "Result: 4.450840747566235891918380373E+305\n"
     ]
    }
   ],
   "source": [
    "def math_multiplication_power_loop_decimal(x,y):\n",
    "    number = []\n",
    "    \n",
    "    for i in range(40):\n",
    "        number.append((Decimal(x)*Decimal(y))**Decimal(i))\n",
    "    \n",
    "    return sum(number)\n",
    "\n",
    "start = time.time()\n",
    "for i in range(100_000):\n",
    "    result = math_multiplication_power_loop_decimal(12344, 5567.8)\n",
    "    \n",
    "print(f\"Elapsed time: {time.time() - start}s\")\n",
    "print(f\"Result: {result}\")"
   ]
  },
  {
   "cell_type": "markdown",
   "id": "1d4e0292",
   "metadata": {},
   "source": [
    "#### 2.1.0 Simple function with Decimal with higher precision"
   ]
  },
  {
   "cell_type": "code",
   "execution_count": 5,
   "id": "d37a0d1c",
   "metadata": {},
   "outputs": [
    {
     "name": "stdout",
     "output_type": "stream",
     "text": [
      "Elapsed time: 16.095144510269165s\n",
      "Result: 4.4508407475662358919183803654064648855495046679648E+305\n"
     ]
    }
   ],
   "source": [
    "from decimal import getcontext\n",
    "\n",
    "getcontext().prec = 50\n",
    "\n",
    "start = time.time()\n",
    "for i in range(100_000):\n",
    "    result = math_multiplication_power_loop_decimal(12344, 5567.8)\n",
    "    \n",
    "print(f\"Elapsed time: {time.time() - start}s\")\n",
    "print(f\"Result: {result}\")"
   ]
  },
  {
   "cell_type": "markdown",
   "id": "3e3346f2",
   "metadata": {},
   "source": [
    "### 2.2 Simple function with njit"
   ]
  },
  {
   "cell_type": "code",
   "execution_count": 4,
   "id": "f7d18bf9",
   "metadata": {},
   "outputs": [
    {
     "name": "stdout",
     "output_type": "stream",
     "text": [
      "Elapsed time: 0.5792031288146973s\n",
      "Result: 4.450840747566245e+305\n"
     ]
    }
   ],
   "source": [
    "from numba import njit\n",
    "import time\n",
    "\n",
    "@njit(fastmath=True)\n",
    "def math_multiplication_power_loop_njit(x,y):\n",
    "    number = []\n",
    "    \n",
    "    for i in range(40):\n",
    "        number.append((x*y)**i)\n",
    "    \n",
    "    return sum(number)\n",
    "\n",
    "start = time.time()\n",
    "for i in range(100_000):\n",
    "    result = math_multiplication_power_loop_njit(12344, 5567.8)\n",
    "   \n",
    "print(f\"Elapsed time: {time.time() - start}s\")\n",
    "print(f\"Result: {result}\")"
   ]
  },
  {
   "cell_type": "markdown",
   "id": "0ac044ec",
   "metadata": {},
   "source": [
    "### 2.3 Simple function with njit and numpy"
   ]
  },
  {
   "cell_type": "code",
   "execution_count": 7,
   "id": "0762ea61",
   "metadata": {},
   "outputs": [
    {
     "name": "stdout",
     "output_type": "stream",
     "text": [
      "Elapsed time: 26.85703754425049s\n",
      "Result: 4.450840747566245e+305\n"
     ]
    }
   ],
   "source": [
    "import numpy as np\n",
    "\n",
    "@njit(fastmath=True)\n",
    "def math_multiplication_power_loop_njit_numpy(x,y):\n",
    "    number = np.empty(shape=(1,))\n",
    "    \n",
    "    for i in range(40):\n",
    "        number = np.append(number, (x*y)**i )\n",
    "    \n",
    "    return np.sum(number)\n",
    "\n",
    "start = time.time()\n",
    "for i in range(1_000_000):\n",
    "    result = math_multiplication_power_loop_njit_numpy(12344, 5567.8)\n",
    "\n",
    "print(f\"Elapsed time: {time.time() - start}s\")\n",
    "print(f\"Result: {result}\")"
   ]
  },
  {
   "cell_type": "markdown",
   "id": "24787782",
   "metadata": {},
   "source": [
    "## 3. Results\n",
    "\n",
    "1. Your mathematical function is fast\n",
    "   - If basic precision is good for you, do not change it!\n",
    "   - If basic precision is not enough, use Decimal. Prepare for small performance lose.\n",
    "2. Your mathematical function is slow\n",
    "    - If basic precision is good for you, use njit. Faster, same result.\n",
    "    - If basic precision is not enough, use Decimal. You cannot make it faster with njit.\n",
    "3. Numpy do not have higher precision then built-in float"
   ]
  },
  {
   "cell_type": "code",
   "execution_count": null,
   "id": "0ca599a6",
   "metadata": {},
   "outputs": [],
   "source": []
  }
 ],
 "metadata": {
  "kernelspec": {
   "display_name": "Python 3 (ipykernel)",
   "language": "python",
   "name": "python3"
  },
  "language_info": {
   "codemirror_mode": {
    "name": "ipython",
    "version": 3
   },
   "file_extension": ".py",
   "mimetype": "text/x-python",
   "name": "python",
   "nbconvert_exporter": "python",
   "pygments_lexer": "ipython3",
   "version": "3.8.10"
  }
 },
 "nbformat": 4,
 "nbformat_minor": 5
}
