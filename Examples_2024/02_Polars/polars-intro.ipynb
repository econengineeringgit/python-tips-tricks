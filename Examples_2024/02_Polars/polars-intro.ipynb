{
 "cells": [
  {
   "cell_type": "markdown",
   "id": "13be0192-0da1-4418-ac30-92bea29aa2e4",
   "metadata": {},
   "source": [
    "# ![polars](media/polars_github_logo_rect_dark_name.svg)"
   ]
  },
  {
   "cell_type": "markdown",
   "id": "21d164d3-b8f1-41e5-aa61-3b1b49185a86",
   "metadata": {},
   "source": [
    "## **Background**"
   ]
  },
  {
   "cell_type": "markdown",
   "id": "9c5c2796-c78c-4486-921e-595d7d0c22d9",
   "metadata": {},
   "source": [
    "- #### DataFrame library\n",
    "- #### Written in Rust\n",
    "- #### No external dependencies required\n",
    "- #### Apache Arrow data format\n",
    "    - https://editor.analyticsvidhya.com/uploads/57471columnar.jpg"
   ]
  },
  {
   "cell_type": "markdown",
   "id": "0377f59a-b743-4b2c-bd58-45cdc88c68fc",
   "metadata": {},
   "source": [
    "## **Use Cases**"
   ]
  },
  {
   "cell_type": "markdown",
   "id": "f018844b-64fd-469c-89c5-9adf872df382",
   "metadata": {},
   "source": [
    "- #### Data Cleaning, Transformation and Preparation\n",
    "- #### Data Analysis\n",
    "- #### Data Visualization\n",
    "- #### Time Series Analysis\n",
    "- #### Machine Learning\n",
    "- #### Data Import and Export"
   ]
  },
  {
   "cell_type": "markdown",
   "id": "42785e1b-1689-4f16-9829-930020b09524",
   "metadata": {},
   "source": [
    "## **Concepts**"
   ]
  },
  {
   "cell_type": "code",
   "execution_count": 102,
   "id": "0445fe47-140d-4308-aa64-98d8e6b3f456",
   "metadata": {},
   "outputs": [],
   "source": [
    "import polars as pl\n",
    "import numpy as np"
   ]
  },
  {
   "cell_type": "markdown",
   "id": "0bc29a15-51bc-4ec4-9c33-a4d42b98488f",
   "metadata": {},
   "source": [
    "### Data Types"
   ]
  },
  {
   "cell_type": "markdown",
   "id": "6cd1e778-294b-46cc-a9ec-8675f90cfa34",
   "metadata": {},
   "source": [
    "#### - Numeric\n",
    "    - Signed, unsigned integers (8,16,32,64)\n",
    "    - Float (32,64)\n",
    "#### - Nested\n",
    "    - Struct\n",
    "    - List\n",
    "#### - Temporal\n",
    "    - Date\n",
    "    - DateTime\n",
    "    - Duration\n",
    "    - Time\n",
    "#### - Other\n",
    "    - Boolean\n",
    "    - String\n",
    "    - Binary\n",
    "    - Object\n",
    "    - Categorical\n",
    "    - Enum"
   ]
  },
  {
   "cell_type": "markdown",
   "id": "de243c03-89b1-4cff-9b8b-513be81a36f3",
   "metadata": {},
   "source": [
    "### Data structures"
   ]
  },
  {
   "cell_type": "markdown",
   "id": "1d963872-0971-4cf7-89da-ac91984e3722",
   "metadata": {},
   "source": [
    "#### *Series*"
   ]
  },
  {
   "cell_type": "code",
   "execution_count": 103,
   "id": "962a715d-7e7c-43bc-b694-b2ecd3cc53f5",
   "metadata": {},
   "outputs": [
    {
     "data": {
      "text/html": [
       "<div><style>\n",
       ".dataframe > thead > tr,\n",
       ".dataframe > tbody > tr {\n",
       "  text-align: right;\n",
       "  white-space: pre-wrap;\n",
       "}\n",
       "</style>\n",
       "<small>shape: (5,)</small><table border=\"1\" class=\"dataframe\"><thead><tr><th>a</th></tr><tr><td>i64</td></tr></thead><tbody><tr><td>1</td></tr><tr><td>2</td></tr><tr><td>3</td></tr><tr><td>4</td></tr><tr><td>5</td></tr></tbody></table></div>"
      ],
      "text/plain": [
       "shape: (5,)\n",
       "Series: 'a' [i64]\n",
       "[\n",
       "\t1\n",
       "\t2\n",
       "\t3\n",
       "\t4\n",
       "\t5\n",
       "]"
      ]
     },
     "execution_count": 103,
     "metadata": {},
     "output_type": "execute_result"
    }
   ],
   "source": [
    "s = pl.Series(\"a\", [1, 2, 3, 4, 5])\n",
    "s"
   ]
  },
  {
   "cell_type": "code",
   "execution_count": 104,
   "id": "d7c34a31-cf6d-4dcc-afcf-8355f32cff58",
   "metadata": {},
   "outputs": [
    {
     "data": {
      "text/plain": [
       "3.0"
      ]
     },
     "execution_count": 104,
     "metadata": {},
     "output_type": "execute_result"
    }
   ],
   "source": [
    "s.mean()"
   ]
  },
  {
   "cell_type": "markdown",
   "id": "e315472e-d05a-4d4d-ac37-d1df6152c27c",
   "metadata": {},
   "source": [
    "#### *Data Frame*"
   ]
  },
  {
   "cell_type": "code",
   "execution_count": 105,
   "id": "0f33659a-aeb7-4124-8178-3d3dccec8650",
   "metadata": {},
   "outputs": [
    {
     "data": {
      "text/html": [
       "<div><style>\n",
       ".dataframe > thead > tr,\n",
       ".dataframe > tbody > tr {\n",
       "  text-align: right;\n",
       "  white-space: pre-wrap;\n",
       "}\n",
       "</style>\n",
       "<small>shape: (5, 4)</small><table border=\"1\" class=\"dataframe\"><thead><tr><th>nrs</th><th>names</th><th>random</th><th>groups</th></tr><tr><td>i64</td><td>str</td><td>f64</td><td>str</td></tr></thead><tbody><tr><td>1</td><td>&quot;foo&quot;</td><td>0.597686</td><td>&quot;A&quot;</td></tr><tr><td>2</td><td>&quot;ham&quot;</td><td>0.070548</td><td>&quot;A&quot;</td></tr><tr><td>3</td><td>&quot;spam&quot;</td><td>0.308382</td><td>&quot;B&quot;</td></tr><tr><td>null</td><td>&quot;egg&quot;</td><td>0.857725</td><td>&quot;C&quot;</td></tr><tr><td>5</td><td>null</td><td>0.467545</td><td>&quot;B&quot;</td></tr></tbody></table></div>"
      ],
      "text/plain": [
       "shape: (5, 4)\n",
       "┌──────┬───────┬──────────┬────────┐\n",
       "│ nrs  ┆ names ┆ random   ┆ groups │\n",
       "│ ---  ┆ ---   ┆ ---      ┆ ---    │\n",
       "│ i64  ┆ str   ┆ f64      ┆ str    │\n",
       "╞══════╪═══════╪══════════╪════════╡\n",
       "│ 1    ┆ foo   ┆ 0.597686 ┆ A      │\n",
       "│ 2    ┆ ham   ┆ 0.070548 ┆ A      │\n",
       "│ 3    ┆ spam  ┆ 0.308382 ┆ B      │\n",
       "│ null ┆ egg   ┆ 0.857725 ┆ C      │\n",
       "│ 5    ┆ null  ┆ 0.467545 ┆ B      │\n",
       "└──────┴───────┴──────────┴────────┘"
      ]
     },
     "execution_count": 105,
     "metadata": {},
     "output_type": "execute_result"
    }
   ],
   "source": [
    "df = pl.DataFrame(\n",
    "    {\n",
    "        \"nrs\": [1, 2, 3, None, 5],\n",
    "        \"names\": [\"foo\", \"ham\", \"spam\", \"egg\", None],\n",
    "        \"random\": np.random.rand(5),\n",
    "        \"groups\": [\"A\", \"A\", \"B\", \"C\", \"B\"],\n",
    "    }\n",
    ")\n",
    "df"
   ]
  },
  {
   "cell_type": "code",
   "execution_count": 106,
   "id": "dacbb079-b7ba-493e-85e4-f202b774f2ec",
   "metadata": {},
   "outputs": [
    {
     "data": {
      "text/html": [
       "<div><style>\n",
       ".dataframe > thead > tr,\n",
       ".dataframe > tbody > tr {\n",
       "  text-align: right;\n",
       "  white-space: pre-wrap;\n",
       "}\n",
       "</style>\n",
       "<small>shape: (2, 4)</small><table border=\"1\" class=\"dataframe\"><thead><tr><th>nrs</th><th>names</th><th>random</th><th>groups</th></tr><tr><td>i64</td><td>str</td><td>f64</td><td>str</td></tr></thead><tbody><tr><td>1</td><td>&quot;foo&quot;</td><td>0.597686</td><td>&quot;A&quot;</td></tr><tr><td>2</td><td>&quot;ham&quot;</td><td>0.070548</td><td>&quot;A&quot;</td></tr></tbody></table></div>"
      ],
      "text/plain": [
       "shape: (2, 4)\n",
       "┌─────┬───────┬──────────┬────────┐\n",
       "│ nrs ┆ names ┆ random   ┆ groups │\n",
       "│ --- ┆ ---   ┆ ---      ┆ ---    │\n",
       "│ i64 ┆ str   ┆ f64      ┆ str    │\n",
       "╞═════╪═══════╪══════════╪════════╡\n",
       "│ 1   ┆ foo   ┆ 0.597686 ┆ A      │\n",
       "│ 2   ┆ ham   ┆ 0.070548 ┆ A      │\n",
       "└─────┴───────┴──────────┴────────┘"
      ]
     },
     "execution_count": 106,
     "metadata": {},
     "output_type": "execute_result"
    }
   ],
   "source": [
    "df.head(2)"
   ]
  },
  {
   "cell_type": "code",
   "execution_count": 107,
   "id": "7bdd37af-c9c0-4f80-92c9-13df5a67f48d",
   "metadata": {},
   "outputs": [
    {
     "data": {
      "text/html": [
       "<div><style>\n",
       ".dataframe > thead > tr,\n",
       ".dataframe > tbody > tr {\n",
       "  text-align: right;\n",
       "  white-space: pre-wrap;\n",
       "}\n",
       "</style>\n",
       "<small>shape: (2, 4)</small><table border=\"1\" class=\"dataframe\"><thead><tr><th>nrs</th><th>names</th><th>random</th><th>groups</th></tr><tr><td>i64</td><td>str</td><td>f64</td><td>str</td></tr></thead><tbody><tr><td>null</td><td>&quot;egg&quot;</td><td>0.857725</td><td>&quot;C&quot;</td></tr><tr><td>5</td><td>null</td><td>0.467545</td><td>&quot;B&quot;</td></tr></tbody></table></div>"
      ],
      "text/plain": [
       "shape: (2, 4)\n",
       "┌──────┬───────┬──────────┬────────┐\n",
       "│ nrs  ┆ names ┆ random   ┆ groups │\n",
       "│ ---  ┆ ---   ┆ ---      ┆ ---    │\n",
       "│ i64  ┆ str   ┆ f64      ┆ str    │\n",
       "╞══════╪═══════╪══════════╪════════╡\n",
       "│ null ┆ egg   ┆ 0.857725 ┆ C      │\n",
       "│ 5    ┆ null  ┆ 0.467545 ┆ B      │\n",
       "└──────┴───────┴──────────┴────────┘"
      ]
     },
     "execution_count": 107,
     "metadata": {},
     "output_type": "execute_result"
    }
   ],
   "source": [
    "df.tail(2)"
   ]
  },
  {
   "cell_type": "code",
   "execution_count": 108,
   "id": "f79b55a4-f22d-446d-b917-a571fe4e8d8b",
   "metadata": {},
   "outputs": [
    {
     "data": {
      "text/html": [
       "<div><style>\n",
       ".dataframe > thead > tr,\n",
       ".dataframe > tbody > tr {\n",
       "  text-align: right;\n",
       "  white-space: pre-wrap;\n",
       "}\n",
       "</style>\n",
       "<small>shape: (9, 5)</small><table border=\"1\" class=\"dataframe\"><thead><tr><th>describe</th><th>nrs</th><th>names</th><th>random</th><th>groups</th></tr><tr><td>str</td><td>f64</td><td>str</td><td>f64</td><td>str</td></tr></thead><tbody><tr><td>&quot;count&quot;</td><td>4.0</td><td>&quot;4&quot;</td><td>5.0</td><td>&quot;5&quot;</td></tr><tr><td>&quot;null_count&quot;</td><td>1.0</td><td>&quot;1&quot;</td><td>0.0</td><td>&quot;0&quot;</td></tr><tr><td>&quot;mean&quot;</td><td>2.75</td><td>null</td><td>0.460377</td><td>null</td></tr><tr><td>&quot;std&quot;</td><td>1.707825</td><td>null</td><td>0.296589</td><td>null</td></tr><tr><td>&quot;min&quot;</td><td>1.0</td><td>&quot;egg&quot;</td><td>0.070548</td><td>&quot;A&quot;</td></tr><tr><td>&quot;25%&quot;</td><td>2.0</td><td>null</td><td>0.308382</td><td>null</td></tr><tr><td>&quot;50%&quot;</td><td>3.0</td><td>null</td><td>0.467545</td><td>null</td></tr><tr><td>&quot;75%&quot;</td><td>3.0</td><td>null</td><td>0.597686</td><td>null</td></tr><tr><td>&quot;max&quot;</td><td>5.0</td><td>&quot;spam&quot;</td><td>0.857725</td><td>&quot;C&quot;</td></tr></tbody></table></div>"
      ],
      "text/plain": [
       "shape: (9, 5)\n",
       "┌────────────┬──────────┬───────┬──────────┬────────┐\n",
       "│ describe   ┆ nrs      ┆ names ┆ random   ┆ groups │\n",
       "│ ---        ┆ ---      ┆ ---   ┆ ---      ┆ ---    │\n",
       "│ str        ┆ f64      ┆ str   ┆ f64      ┆ str    │\n",
       "╞════════════╪══════════╪═══════╪══════════╪════════╡\n",
       "│ count      ┆ 4.0      ┆ 4     ┆ 5.0      ┆ 5      │\n",
       "│ null_count ┆ 1.0      ┆ 1     ┆ 0.0      ┆ 0      │\n",
       "│ mean       ┆ 2.75     ┆ null  ┆ 0.460377 ┆ null   │\n",
       "│ std        ┆ 1.707825 ┆ null  ┆ 0.296589 ┆ null   │\n",
       "│ min        ┆ 1.0      ┆ egg   ┆ 0.070548 ┆ A      │\n",
       "│ 25%        ┆ 2.0      ┆ null  ┆ 0.308382 ┆ null   │\n",
       "│ 50%        ┆ 3.0      ┆ null  ┆ 0.467545 ┆ null   │\n",
       "│ 75%        ┆ 3.0      ┆ null  ┆ 0.597686 ┆ null   │\n",
       "│ max        ┆ 5.0      ┆ spam  ┆ 0.857725 ┆ C      │\n",
       "└────────────┴──────────┴───────┴──────────┴────────┘"
      ]
     },
     "execution_count": 108,
     "metadata": {},
     "output_type": "execute_result"
    }
   ],
   "source": [
    "df.describe()"
   ]
  },
  {
   "cell_type": "markdown",
   "id": "d2f42889-3ed3-43b5-8c11-28516ccfc67e",
   "metadata": {},
   "source": [
    "### Contexts"
   ]
  },
  {
   "cell_type": "markdown",
   "id": "9046792d-2c1c-4720-835c-4dc2a17008fa",
   "metadata": {},
   "source": [
    "#### Selection"
   ]
  },
  {
   "cell_type": "code",
   "execution_count": 109,
   "id": "b96f1d5c-84c5-4551-b184-10ce4e4759a8",
   "metadata": {
    "scrolled": true
   },
   "outputs": [
    {
     "data": {
      "text/html": [
       "<div><style>\n",
       ".dataframe > thead > tr,\n",
       ".dataframe > tbody > tr {\n",
       "  text-align: right;\n",
       "  white-space: pre-wrap;\n",
       "}\n",
       "</style>\n",
       "<small>shape: (5, 4)</small><table border=\"1\" class=\"dataframe\"><thead><tr><th>nrs</th><th>names</th><th>random</th><th>groups</th></tr><tr><td>i64</td><td>str</td><td>f64</td><td>str</td></tr></thead><tbody><tr><td>1</td><td>&quot;foo&quot;</td><td>0.597686</td><td>&quot;A&quot;</td></tr><tr><td>2</td><td>&quot;ham&quot;</td><td>0.070548</td><td>&quot;A&quot;</td></tr><tr><td>3</td><td>&quot;spam&quot;</td><td>0.308382</td><td>&quot;B&quot;</td></tr><tr><td>null</td><td>&quot;egg&quot;</td><td>0.857725</td><td>&quot;C&quot;</td></tr><tr><td>5</td><td>null</td><td>0.467545</td><td>&quot;B&quot;</td></tr></tbody></table></div>"
      ],
      "text/plain": [
       "shape: (5, 4)\n",
       "┌──────┬───────┬──────────┬────────┐\n",
       "│ nrs  ┆ names ┆ random   ┆ groups │\n",
       "│ ---  ┆ ---   ┆ ---      ┆ ---    │\n",
       "│ i64  ┆ str   ┆ f64      ┆ str    │\n",
       "╞══════╪═══════╪══════════╪════════╡\n",
       "│ 1    ┆ foo   ┆ 0.597686 ┆ A      │\n",
       "│ 2    ┆ ham   ┆ 0.070548 ┆ A      │\n",
       "│ 3    ┆ spam  ┆ 0.308382 ┆ B      │\n",
       "│ null ┆ egg   ┆ 0.857725 ┆ C      │\n",
       "│ 5    ┆ null  ┆ 0.467545 ┆ B      │\n",
       "└──────┴───────┴──────────┴────────┘"
      ]
     },
     "execution_count": 109,
     "metadata": {},
     "output_type": "execute_result"
    }
   ],
   "source": [
    "df"
   ]
  },
  {
   "cell_type": "code",
   "execution_count": 110,
   "id": "c54c94b4-6977-4595-8380-709ff9731505",
   "metadata": {},
   "outputs": [
    {
     "data": {
      "text/html": [
       "<div><style>\n",
       ".dataframe > thead > tr,\n",
       ".dataframe > tbody > tr {\n",
       "  text-align: right;\n",
       "  white-space: pre-wrap;\n",
       "}\n",
       "</style>\n",
       "<small>shape: (1, 1)</small><table border=\"1\" class=\"dataframe\"><thead><tr><th>nrs</th></tr><tr><td>i64</td></tr></thead><tbody><tr><td>11</td></tr></tbody></table></div>"
      ],
      "text/plain": [
       "shape: (1, 1)\n",
       "┌─────┐\n",
       "│ nrs │\n",
       "│ --- │\n",
       "│ i64 │\n",
       "╞═════╡\n",
       "│ 11  │\n",
       "└─────┘"
      ]
     },
     "execution_count": 110,
     "metadata": {},
     "output_type": "execute_result"
    }
   ],
   "source": [
    "q1 = df.select(\n",
    "    pl.sum(\"nrs\")\n",
    ")\n",
    "q1"
   ]
  },
  {
   "cell_type": "code",
   "execution_count": 111,
   "id": "603d249c-58bf-4173-9242-5387d2db9556",
   "metadata": {},
   "outputs": [
    {
     "data": {
      "text/html": [
       "<div><style>\n",
       ".dataframe > thead > tr,\n",
       ".dataframe > tbody > tr {\n",
       "  text-align: right;\n",
       "  white-space: pre-wrap;\n",
       "}\n",
       "</style>\n",
       "<small>shape: (1, 2)</small><table border=\"1\" class=\"dataframe\"><thead><tr><th>nrs</th><th>groups</th></tr><tr><td>i64</td><td>u32</td></tr></thead><tbody><tr><td>11</td><td>5</td></tr></tbody></table></div>"
      ],
      "text/plain": [
       "shape: (1, 2)\n",
       "┌─────┬────────┐\n",
       "│ nrs ┆ groups │\n",
       "│ --- ┆ ---    │\n",
       "│ i64 ┆ u32    │\n",
       "╞═════╪════════╡\n",
       "│ 11  ┆ 5      │\n",
       "└─────┴────────┘"
      ]
     },
     "execution_count": 111,
     "metadata": {},
     "output_type": "execute_result"
    }
   ],
   "source": [
    "q2 = df.select(\n",
    "    pl.sum(\"nrs\"),\n",
    "    pl.count(\"groups\"),\n",
    ")\n",
    "q2"
   ]
  },
  {
   "cell_type": "code",
   "execution_count": 113,
   "id": "42ebfd0e-29cb-4fa9-a7fe-d552a3c8f937",
   "metadata": {},
   "outputs": [
    {
     "data": {
      "text/html": [
       "<div><style>\n",
       ".dataframe > thead > tr,\n",
       ".dataframe > tbody > tr {\n",
       "  text-align: right;\n",
       "  white-space: pre-wrap;\n",
       "}\n",
       "</style>\n",
       "<small>shape: (5, 2)</small><table border=\"1\" class=\"dataframe\"><thead><tr><th>random</th><th>groups</th></tr><tr><td>f64</td><td>u32</td></tr></thead><tbody><tr><td>1.876734</td><td>5</td></tr><tr><td>0.22152</td><td>5</td></tr><tr><td>0.968319</td><td>5</td></tr><tr><td>2.693255</td><td>5</td></tr><tr><td>1.468092</td><td>5</td></tr></tbody></table></div>"
      ],
      "text/plain": [
       "shape: (5, 2)\n",
       "┌──────────┬────────┐\n",
       "│ random   ┆ groups │\n",
       "│ ---      ┆ ---    │\n",
       "│ f64      ┆ u32    │\n",
       "╞══════════╪════════╡\n",
       "│ 1.876734 ┆ 5      │\n",
       "│ 0.22152  ┆ 5      │\n",
       "│ 0.968319 ┆ 5      │\n",
       "│ 2.693255 ┆ 5      │\n",
       "│ 1.468092 ┆ 5      │\n",
       "└──────────┴────────┘"
      ]
     },
     "execution_count": 113,
     "metadata": {},
     "output_type": "execute_result"
    }
   ],
   "source": [
    "q4 = df.select(\n",
    "    pl.col(\"random\") * 3.14,\n",
    "    pl.count(\"groups\"),\n",
    ")\n",
    "q4"
   ]
  },
  {
   "cell_type": "code",
   "execution_count": 114,
   "id": "f22ea104-29eb-46b1-9ddb-b12bf238bbbf",
   "metadata": {},
   "outputs": [
    {
     "data": {
      "text/html": [
       "<div><style>\n",
       ".dataframe > thead > tr,\n",
       ".dataframe > tbody > tr {\n",
       "  text-align: right;\n",
       "  white-space: pre-wrap;\n",
       "}\n",
       "</style>\n",
       "<small>shape: (5, 5)</small><table border=\"1\" class=\"dataframe\"><thead><tr><th>nrs</th><th>names</th><th>random</th><th>groups</th><th>max</th></tr><tr><td>i64</td><td>str</td><td>f64</td><td>str</td><td>f64</td></tr></thead><tbody><tr><td>1</td><td>&quot;foo&quot;</td><td>0.597686</td><td>&quot;A&quot;</td><td>0.857725</td></tr><tr><td>2</td><td>&quot;ham&quot;</td><td>0.070548</td><td>&quot;A&quot;</td><td>0.857725</td></tr><tr><td>3</td><td>&quot;spam&quot;</td><td>0.308382</td><td>&quot;B&quot;</td><td>0.857725</td></tr><tr><td>null</td><td>&quot;egg&quot;</td><td>0.857725</td><td>&quot;C&quot;</td><td>0.857725</td></tr><tr><td>5</td><td>null</td><td>0.467545</td><td>&quot;B&quot;</td><td>0.857725</td></tr></tbody></table></div>"
      ],
      "text/plain": [
       "shape: (5, 5)\n",
       "┌──────┬───────┬──────────┬────────┬──────────┐\n",
       "│ nrs  ┆ names ┆ random   ┆ groups ┆ max      │\n",
       "│ ---  ┆ ---   ┆ ---      ┆ ---    ┆ ---      │\n",
       "│ i64  ┆ str   ┆ f64      ┆ str    ┆ f64      │\n",
       "╞══════╪═══════╪══════════╪════════╪══════════╡\n",
       "│ 1    ┆ foo   ┆ 0.597686 ┆ A      ┆ 0.857725 │\n",
       "│ 2    ┆ ham   ┆ 0.070548 ┆ A      ┆ 0.857725 │\n",
       "│ 3    ┆ spam  ┆ 0.308382 ┆ B      ┆ 0.857725 │\n",
       "│ null ┆ egg   ┆ 0.857725 ┆ C      ┆ 0.857725 │\n",
       "│ 5    ┆ null  ┆ 0.467545 ┆ B      ┆ 0.857725 │\n",
       "└──────┴───────┴──────────┴────────┴──────────┘"
      ]
     },
     "execution_count": 114,
     "metadata": {},
     "output_type": "execute_result"
    }
   ],
   "source": [
    "q5 = df.with_columns(\n",
    "    pl.col(\"random\").max().alias(\"max\"),\n",
    ")\n",
    "q5"
   ]
  },
  {
   "cell_type": "markdown",
   "id": "077c06f2-9ea1-46b2-b0ed-30cc1da374cb",
   "metadata": {},
   "source": [
    "#### Filtering"
   ]
  },
  {
   "cell_type": "code",
   "execution_count": 115,
   "id": "27974c84-ec6e-4359-aee8-8d8b580a3a9a",
   "metadata": {},
   "outputs": [
    {
     "data": {
      "text/html": [
       "<div><style>\n",
       ".dataframe > thead > tr,\n",
       ".dataframe > tbody > tr {\n",
       "  text-align: right;\n",
       "  white-space: pre-wrap;\n",
       "}\n",
       "</style>\n",
       "<small>shape: (5, 4)</small><table border=\"1\" class=\"dataframe\"><thead><tr><th>nrs</th><th>names</th><th>random</th><th>groups</th></tr><tr><td>i64</td><td>str</td><td>f64</td><td>str</td></tr></thead><tbody><tr><td>1</td><td>&quot;foo&quot;</td><td>0.597686</td><td>&quot;A&quot;</td></tr><tr><td>2</td><td>&quot;ham&quot;</td><td>0.070548</td><td>&quot;A&quot;</td></tr><tr><td>3</td><td>&quot;spam&quot;</td><td>0.308382</td><td>&quot;B&quot;</td></tr><tr><td>null</td><td>&quot;egg&quot;</td><td>0.857725</td><td>&quot;C&quot;</td></tr><tr><td>5</td><td>null</td><td>0.467545</td><td>&quot;B&quot;</td></tr></tbody></table></div>"
      ],
      "text/plain": [
       "shape: (5, 4)\n",
       "┌──────┬───────┬──────────┬────────┐\n",
       "│ nrs  ┆ names ┆ random   ┆ groups │\n",
       "│ ---  ┆ ---   ┆ ---      ┆ ---    │\n",
       "│ i64  ┆ str   ┆ f64      ┆ str    │\n",
       "╞══════╪═══════╪══════════╪════════╡\n",
       "│ 1    ┆ foo   ┆ 0.597686 ┆ A      │\n",
       "│ 2    ┆ ham   ┆ 0.070548 ┆ A      │\n",
       "│ 3    ┆ spam  ┆ 0.308382 ┆ B      │\n",
       "│ null ┆ egg   ┆ 0.857725 ┆ C      │\n",
       "│ 5    ┆ null  ┆ 0.467545 ┆ B      │\n",
       "└──────┴───────┴──────────┴────────┘"
      ]
     },
     "execution_count": 115,
     "metadata": {},
     "output_type": "execute_result"
    }
   ],
   "source": [
    "df"
   ]
  },
  {
   "cell_type": "code",
   "execution_count": 116,
   "id": "d93cbed0-8555-4bac-a68b-88a1c4aa92e6",
   "metadata": {},
   "outputs": [
    {
     "data": {
      "text/html": [
       "<div><style>\n",
       ".dataframe > thead > tr,\n",
       ".dataframe > tbody > tr {\n",
       "  text-align: right;\n",
       "  white-space: pre-wrap;\n",
       "}\n",
       "</style>\n",
       "<small>shape: (1, 4)</small><table border=\"1\" class=\"dataframe\"><thead><tr><th>nrs</th><th>names</th><th>random</th><th>groups</th></tr><tr><td>i64</td><td>str</td><td>f64</td><td>str</td></tr></thead><tbody><tr><td>1</td><td>&quot;foo&quot;</td><td>0.597686</td><td>&quot;A&quot;</td></tr></tbody></table></div>"
      ],
      "text/plain": [
       "shape: (1, 4)\n",
       "┌─────┬───────┬──────────┬────────┐\n",
       "│ nrs ┆ names ┆ random   ┆ groups │\n",
       "│ --- ┆ ---   ┆ ---      ┆ ---    │\n",
       "│ i64 ┆ str   ┆ f64      ┆ str    │\n",
       "╞═════╪═══════╪══════════╪════════╡\n",
       "│ 1   ┆ foo   ┆ 0.597686 ┆ A      │\n",
       "└─────┴───────┴──────────┴────────┘"
      ]
     },
     "execution_count": 116,
     "metadata": {},
     "output_type": "execute_result"
    }
   ],
   "source": [
    "f1 = df.filter(\n",
    "    pl.col(\"names\") == \"foo\"\n",
    ")\n",
    "f1"
   ]
  },
  {
   "cell_type": "code",
   "execution_count": 117,
   "id": "ab87a382-8a27-4e32-813c-fdb53a56a6bb",
   "metadata": {},
   "outputs": [
    {
     "data": {
      "text/html": [
       "<div><style>\n",
       ".dataframe > thead > tr,\n",
       ".dataframe > tbody > tr {\n",
       "  text-align: right;\n",
       "  white-space: pre-wrap;\n",
       "}\n",
       "</style>\n",
       "<small>shape: (2, 4)</small><table border=\"1\" class=\"dataframe\"><thead><tr><th>nrs</th><th>names</th><th>random</th><th>groups</th></tr><tr><td>i64</td><td>str</td><td>f64</td><td>str</td></tr></thead><tbody><tr><td>1</td><td>&quot;foo&quot;</td><td>0.597686</td><td>&quot;A&quot;</td></tr><tr><td>null</td><td>&quot;egg&quot;</td><td>0.857725</td><td>&quot;C&quot;</td></tr></tbody></table></div>"
      ],
      "text/plain": [
       "shape: (2, 4)\n",
       "┌──────┬───────┬──────────┬────────┐\n",
       "│ nrs  ┆ names ┆ random   ┆ groups │\n",
       "│ ---  ┆ ---   ┆ ---      ┆ ---    │\n",
       "│ i64  ┆ str   ┆ f64      ┆ str    │\n",
       "╞══════╪═══════╪══════════╪════════╡\n",
       "│ 1    ┆ foo   ┆ 0.597686 ┆ A      │\n",
       "│ null ┆ egg   ┆ 0.857725 ┆ C      │\n",
       "└──────┴───────┴──────────┴────────┘"
      ]
     },
     "execution_count": 117,
     "metadata": {},
     "output_type": "execute_result"
    }
   ],
   "source": [
    "f1 = df.filter(\n",
    "    pl.col(\"random\") > 0.5\n",
    ")\n",
    "f1"
   ]
  },
  {
   "cell_type": "markdown",
   "id": "e2197644-fed4-442f-a2b5-5611a80ce4cb",
   "metadata": {},
   "source": [
    "#### Group by / aggregation"
   ]
  },
  {
   "cell_type": "code",
   "execution_count": 118,
   "id": "2434d29f-47af-445a-badf-01e935e74133",
   "metadata": {},
   "outputs": [
    {
     "data": {
      "text/html": [
       "<div><style>\n",
       ".dataframe > thead > tr,\n",
       ".dataframe > tbody > tr {\n",
       "  text-align: right;\n",
       "  white-space: pre-wrap;\n",
       "}\n",
       "</style>\n",
       "<small>shape: (5, 4)</small><table border=\"1\" class=\"dataframe\"><thead><tr><th>nrs</th><th>names</th><th>random</th><th>groups</th></tr><tr><td>i64</td><td>str</td><td>f64</td><td>str</td></tr></thead><tbody><tr><td>1</td><td>&quot;foo&quot;</td><td>0.597686</td><td>&quot;A&quot;</td></tr><tr><td>2</td><td>&quot;ham&quot;</td><td>0.070548</td><td>&quot;A&quot;</td></tr><tr><td>3</td><td>&quot;spam&quot;</td><td>0.308382</td><td>&quot;B&quot;</td></tr><tr><td>null</td><td>&quot;egg&quot;</td><td>0.857725</td><td>&quot;C&quot;</td></tr><tr><td>5</td><td>null</td><td>0.467545</td><td>&quot;B&quot;</td></tr></tbody></table></div>"
      ],
      "text/plain": [
       "shape: (5, 4)\n",
       "┌──────┬───────┬──────────┬────────┐\n",
       "│ nrs  ┆ names ┆ random   ┆ groups │\n",
       "│ ---  ┆ ---   ┆ ---      ┆ ---    │\n",
       "│ i64  ┆ str   ┆ f64      ┆ str    │\n",
       "╞══════╪═══════╪══════════╪════════╡\n",
       "│ 1    ┆ foo   ┆ 0.597686 ┆ A      │\n",
       "│ 2    ┆ ham   ┆ 0.070548 ┆ A      │\n",
       "│ 3    ┆ spam  ┆ 0.308382 ┆ B      │\n",
       "│ null ┆ egg   ┆ 0.857725 ┆ C      │\n",
       "│ 5    ┆ null  ┆ 0.467545 ┆ B      │\n",
       "└──────┴───────┴──────────┴────────┘"
      ]
     },
     "execution_count": 118,
     "metadata": {},
     "output_type": "execute_result"
    }
   ],
   "source": [
    "df"
   ]
  },
  {
   "cell_type": "code",
   "execution_count": 119,
   "id": "0114d254-cf3e-4382-bcf5-4d6120c93beb",
   "metadata": {},
   "outputs": [
    {
     "data": {
      "text/html": [
       "<div><style>\n",
       ".dataframe > thead > tr,\n",
       ".dataframe > tbody > tr {\n",
       "  text-align: right;\n",
       "  white-space: pre-wrap;\n",
       "}\n",
       "</style>\n",
       "<small>shape: (3, 3)</small><table border=\"1\" class=\"dataframe\"><thead><tr><th>groups</th><th>sum nrs</th><th>count random</th></tr><tr><td>str</td><td>i64</td><td>u32</td></tr></thead><tbody><tr><td>&quot;A&quot;</td><td>3</td><td>2</td></tr><tr><td>&quot;B&quot;</td><td>8</td><td>2</td></tr><tr><td>&quot;C&quot;</td><td>0</td><td>1</td></tr></tbody></table></div>"
      ],
      "text/plain": [
       "shape: (3, 3)\n",
       "┌────────┬─────────┬──────────────┐\n",
       "│ groups ┆ sum nrs ┆ count random │\n",
       "│ ---    ┆ ---     ┆ ---          │\n",
       "│ str    ┆ i64     ┆ u32          │\n",
       "╞════════╪═════════╪══════════════╡\n",
       "│ A      ┆ 3       ┆ 2            │\n",
       "│ B      ┆ 8       ┆ 2            │\n",
       "│ C      ┆ 0       ┆ 1            │\n",
       "└────────┴─────────┴──────────────┘"
      ]
     },
     "execution_count": 119,
     "metadata": {},
     "output_type": "execute_result"
    }
   ],
   "source": [
    "g1 = df.group_by(\"groups\").agg(\n",
    "    pl.sum(\"nrs\").alias(\"sum nrs\"),\n",
    "    pl.col(\"random\").count().alias(\"count random\"),\n",
    ")\n",
    "g1"
   ]
  },
  {
   "cell_type": "markdown",
   "id": "996f2433-ba40-4969-a042-c6ec2c8e04fe",
   "metadata": {},
   "source": [
    "### Expressions"
   ]
  },
  {
   "cell_type": "code",
   "execution_count": null,
   "id": "367e09dc-8170-470c-bde7-f43b1300243c",
   "metadata": {},
   "outputs": [],
   "source": [
    "df"
   ]
  },
  {
   "cell_type": "markdown",
   "id": "4bd094aa-6916-4f10-ab27-ef65fd6e16ad",
   "metadata": {},
   "source": [
    "#### Operators"
   ]
  },
  {
   "cell_type": "code",
   "execution_count": 120,
   "id": "a3d71d82-5fab-4e08-98cf-5389041c5130",
   "metadata": {},
   "outputs": [
    {
     "data": {
      "text/html": [
       "<div><style>\n",
       ".dataframe > thead > tr,\n",
       ".dataframe > tbody > tr {\n",
       "  text-align: right;\n",
       "  white-space: pre-wrap;\n",
       "}\n",
       "</style>\n",
       "<small>shape: (5, 2)</small><table border=\"1\" class=\"dataframe\"><thead><tr><th>nrs + 5</th><th>nrs * random</th></tr><tr><td>i64</td><td>f64</td></tr></thead><tbody><tr><td>6</td><td>0.597686</td></tr><tr><td>7</td><td>0.141096</td></tr><tr><td>8</td><td>0.925145</td></tr><tr><td>null</td><td>null</td></tr><tr><td>10</td><td>2.337726</td></tr></tbody></table></div>"
      ],
      "text/plain": [
       "shape: (5, 2)\n",
       "┌─────────┬──────────────┐\n",
       "│ nrs + 5 ┆ nrs * random │\n",
       "│ ---     ┆ ---          │\n",
       "│ i64     ┆ f64          │\n",
       "╞═════════╪══════════════╡\n",
       "│ 6       ┆ 0.597686     │\n",
       "│ 7       ┆ 0.141096     │\n",
       "│ 8       ┆ 0.925145     │\n",
       "│ null    ┆ null         │\n",
       "│ 10      ┆ 2.337726     │\n",
       "└─────────┴──────────────┘"
      ]
     },
     "execution_count": 120,
     "metadata": {},
     "output_type": "execute_result"
    }
   ],
   "source": [
    "df_num = df.select(\n",
    "    (pl.col(\"nrs\") + 5).alias(\"nrs + 5\"),\n",
    "    (pl.col(\"nrs\") * pl.col(\"random\")).alias(\"nrs * random\"),\n",
    ")\n",
    "df_num"
   ]
  },
  {
   "cell_type": "code",
   "execution_count": 121,
   "id": "82d8e49b-5627-41c4-b1ab-011235aad623",
   "metadata": {},
   "outputs": [
    {
     "data": {
      "text/html": [
       "<div><style>\n",
       ".dataframe > thead > tr,\n",
       ".dataframe > tbody > tr {\n",
       "  text-align: right;\n",
       "  white-space: pre-wrap;\n",
       "}\n",
       "</style>\n",
       "<small>shape: (5, 4)</small><table border=\"1\" class=\"dataframe\"><thead><tr><th>nrs &gt; 1</th><th>nrs == 1</th><th>and_expr</th><th>or_expr</th></tr><tr><td>bool</td><td>bool</td><td>bool</td><td>bool</td></tr></thead><tbody><tr><td>false</td><td>true</td><td>false</td><td>false</td></tr><tr><td>true</td><td>false</td><td>true</td><td>true</td></tr><tr><td>true</td><td>false</td><td>true</td><td>true</td></tr><tr><td>null</td><td>null</td><td>false</td><td>null</td></tr><tr><td>true</td><td>false</td><td>true</td><td>true</td></tr></tbody></table></div>"
      ],
      "text/plain": [
       "shape: (5, 4)\n",
       "┌─────────┬──────────┬──────────┬─────────┐\n",
       "│ nrs > 1 ┆ nrs == 1 ┆ and_expr ┆ or_expr │\n",
       "│ ---     ┆ ---      ┆ ---      ┆ ---     │\n",
       "│ bool    ┆ bool     ┆ bool     ┆ bool    │\n",
       "╞═════════╪══════════╪══════════╪═════════╡\n",
       "│ false   ┆ true     ┆ false    ┆ false   │\n",
       "│ true    ┆ false    ┆ true     ┆ true    │\n",
       "│ true    ┆ false    ┆ true     ┆ true    │\n",
       "│ null    ┆ null     ┆ false    ┆ null    │\n",
       "│ true    ┆ false    ┆ true     ┆ true    │\n",
       "└─────────┴──────────┴──────────┴─────────┘"
      ]
     },
     "execution_count": 121,
     "metadata": {},
     "output_type": "execute_result"
    }
   ],
   "source": [
    "df_log = df.select(\n",
    "    (pl.col(\"nrs\") > 1).alias(\"nrs > 1\"),\n",
    "    (pl.col(\"nrs\") == 1).alias(\"nrs == 1\"),\n",
    "    ((pl.col(\"random\") <= 0.5) & (pl.col(\"nrs\") > 1)).alias(\"and_expr\"),\n",
    "    ((pl.col(\"random\") <= 0.5) | (pl.col(\"nrs\") > 1)).alias(\"or_expr\"), \n",
    ")\n",
    "df_log"
   ]
  },
  {
   "cell_type": "markdown",
   "id": "6c722eb7-238a-4638-8060-88b230a508c3",
   "metadata": {},
   "source": [
    "#### Column selection"
   ]
  },
  {
   "cell_type": "code",
   "execution_count": 122,
   "id": "8a79d04c-3ac2-4280-a520-d34f1ead1cc0",
   "metadata": {},
   "outputs": [
    {
     "data": {
      "text/html": [
       "<div><style>\n",
       ".dataframe > thead > tr,\n",
       ".dataframe > tbody > tr {\n",
       "  text-align: right;\n",
       "  white-space: pre-wrap;\n",
       "}\n",
       "</style>\n",
       "<small>shape: (5, 4)</small><table border=\"1\" class=\"dataframe\"><thead><tr><th>nrs</th><th>names</th><th>random</th><th>groups</th></tr><tr><td>i64</td><td>str</td><td>f64</td><td>str</td></tr></thead><tbody><tr><td>1</td><td>&quot;foo&quot;</td><td>0.597686</td><td>&quot;A&quot;</td></tr><tr><td>2</td><td>&quot;ham&quot;</td><td>0.070548</td><td>&quot;A&quot;</td></tr><tr><td>3</td><td>&quot;spam&quot;</td><td>0.308382</td><td>&quot;B&quot;</td></tr><tr><td>null</td><td>&quot;egg&quot;</td><td>0.857725</td><td>&quot;C&quot;</td></tr><tr><td>5</td><td>null</td><td>0.467545</td><td>&quot;B&quot;</td></tr></tbody></table></div>"
      ],
      "text/plain": [
       "shape: (5, 4)\n",
       "┌──────┬───────┬──────────┬────────┐\n",
       "│ nrs  ┆ names ┆ random   ┆ groups │\n",
       "│ ---  ┆ ---   ┆ ---      ┆ ---    │\n",
       "│ i64  ┆ str   ┆ f64      ┆ str    │\n",
       "╞══════╪═══════╪══════════╪════════╡\n",
       "│ 1    ┆ foo   ┆ 0.597686 ┆ A      │\n",
       "│ 2    ┆ ham   ┆ 0.070548 ┆ A      │\n",
       "│ 3    ┆ spam  ┆ 0.308382 ┆ B      │\n",
       "│ null ┆ egg   ┆ 0.857725 ┆ C      │\n",
       "│ 5    ┆ null  ┆ 0.467545 ┆ B      │\n",
       "└──────┴───────┴──────────┴────────┘"
      ]
     },
     "execution_count": 122,
     "metadata": {},
     "output_type": "execute_result"
    }
   ],
   "source": [
    "col_sel1 = df.select(pl.col(\"*\"))\n",
    "col_sel1"
   ]
  },
  {
   "cell_type": "code",
   "execution_count": 123,
   "id": "9ef38eb7-5c79-4698-8a27-e1522460d419",
   "metadata": {},
   "outputs": [
    {
     "data": {
      "text/html": [
       "<div><style>\n",
       ".dataframe > thead > tr,\n",
       ".dataframe > tbody > tr {\n",
       "  text-align: right;\n",
       "  white-space: pre-wrap;\n",
       "}\n",
       "</style>\n",
       "<small>shape: (5, 2)</small><table border=\"1\" class=\"dataframe\"><thead><tr><th>names</th><th>random</th></tr><tr><td>str</td><td>f64</td></tr></thead><tbody><tr><td>&quot;foo&quot;</td><td>0.597686</td></tr><tr><td>&quot;ham&quot;</td><td>0.070548</td></tr><tr><td>&quot;spam&quot;</td><td>0.308382</td></tr><tr><td>&quot;egg&quot;</td><td>0.857725</td></tr><tr><td>null</td><td>0.467545</td></tr></tbody></table></div>"
      ],
      "text/plain": [
       "shape: (5, 2)\n",
       "┌───────┬──────────┐\n",
       "│ names ┆ random   │\n",
       "│ ---   ┆ ---      │\n",
       "│ str   ┆ f64      │\n",
       "╞═══════╪══════════╡\n",
       "│ foo   ┆ 0.597686 │\n",
       "│ ham   ┆ 0.070548 │\n",
       "│ spam  ┆ 0.308382 │\n",
       "│ egg   ┆ 0.857725 │\n",
       "│ null  ┆ 0.467545 │\n",
       "└───────┴──────────┘"
      ]
     },
     "execution_count": 123,
     "metadata": {},
     "output_type": "execute_result"
    }
   ],
   "source": [
    "col_sel2 = df.select(pl.col(\"^random|names$\"))\n",
    "col_sel2"
   ]
  },
  {
   "cell_type": "code",
   "execution_count": 124,
   "id": "cbbfa673-fe94-4f0e-8a42-15f93d144207",
   "metadata": {},
   "outputs": [
    {
     "data": {
      "text/html": [
       "<div><style>\n",
       ".dataframe > thead > tr,\n",
       ".dataframe > tbody > tr {\n",
       "  text-align: right;\n",
       "  white-space: pre-wrap;\n",
       "}\n",
       "</style>\n",
       "<small>shape: (5, 2)</small><table border=\"1\" class=\"dataframe\"><thead><tr><th>names</th><th>groups</th></tr><tr><td>str</td><td>str</td></tr></thead><tbody><tr><td>&quot;foo&quot;</td><td>&quot;A&quot;</td></tr><tr><td>&quot;ham&quot;</td><td>&quot;A&quot;</td></tr><tr><td>&quot;spam&quot;</td><td>&quot;B&quot;</td></tr><tr><td>&quot;egg&quot;</td><td>&quot;C&quot;</td></tr><tr><td>null</td><td>&quot;B&quot;</td></tr></tbody></table></div>"
      ],
      "text/plain": [
       "shape: (5, 2)\n",
       "┌───────┬────────┐\n",
       "│ names ┆ groups │\n",
       "│ ---   ┆ ---    │\n",
       "│ str   ┆ str    │\n",
       "╞═══════╪════════╡\n",
       "│ foo   ┆ A      │\n",
       "│ ham   ┆ A      │\n",
       "│ spam  ┆ B      │\n",
       "│ egg   ┆ C      │\n",
       "│ null  ┆ B      │\n",
       "└───────┴────────┘"
      ]
     },
     "execution_count": 124,
     "metadata": {},
     "output_type": "execute_result"
    }
   ],
   "source": [
    "col_sel3 = df.select(pl.col(pl.Utf8))\n",
    "col_sel3"
   ]
  },
  {
   "cell_type": "markdown",
   "id": "8cdf4950-2c48-4f00-ad93-2ffecc0ae96e",
   "metadata": {},
   "source": [
    "#### String manipulation"
   ]
  },
  {
   "cell_type": "code",
   "execution_count": 125,
   "id": "f3676c08-3e15-4049-9019-5c72e0e8da86",
   "metadata": {},
   "outputs": [],
   "source": [
    "string_df = pl.DataFrame(\n",
    "    {\n",
    "        \"text\": [\"ptyhon\", \"polars is a dataframe library\", \"pandas\"]\n",
    "    }\n",
    ")"
   ]
  },
  {
   "cell_type": "code",
   "execution_count": 126,
   "id": "29108ca3-fa0a-4fc3-a0c1-df92fc2a43b6",
   "metadata": {},
   "outputs": [
    {
     "data": {
      "text/html": [
       "<div><style>\n",
       ".dataframe > thead > tr,\n",
       ".dataframe > tbody > tr {\n",
       "  text-align: right;\n",
       "  white-space: pre-wrap;\n",
       "}\n",
       "</style>\n",
       "<small>shape: (3, 2)</small><table border=\"1\" class=\"dataframe\"><thead><tr><th>text</th><th>contains</th></tr><tr><td>str</td><td>bool</td></tr></thead><tbody><tr><td>&quot;ptyhon&quot;</td><td>false</td></tr><tr><td>&quot;polars is a da…</td><td>true</td></tr><tr><td>&quot;pandas&quot;</td><td>false</td></tr></tbody></table></div>"
      ],
      "text/plain": [
       "shape: (3, 2)\n",
       "┌───────────────────────────────┬──────────┐\n",
       "│ text                          ┆ contains │\n",
       "│ ---                           ┆ ---      │\n",
       "│ str                           ┆ bool     │\n",
       "╞═══════════════════════════════╪══════════╡\n",
       "│ ptyhon                        ┆ false    │\n",
       "│ polars is a dataframe library ┆ true     │\n",
       "│ pandas                        ┆ false    │\n",
       "└───────────────────────────────┴──────────┘"
      ]
     },
     "execution_count": 126,
     "metadata": {},
     "output_type": "execute_result"
    }
   ],
   "source": [
    "s1 = string_df.select(\n",
    "    pl.col(\"text\"),\n",
    "    pl.col(\"text\").str.contains(\"python|polars\").alias(\"contains\"),\n",
    ")\n",
    "s1"
   ]
  },
  {
   "cell_type": "code",
   "execution_count": 127,
   "id": "d110d45b-400d-446e-96e3-0169fc288a8c",
   "metadata": {},
   "outputs": [
    {
     "data": {
      "text/html": [
       "<div><style>\n",
       ".dataframe > thead > tr,\n",
       ".dataframe > tbody > tr {\n",
       "  text-align: right;\n",
       "  white-space: pre-wrap;\n",
       "}\n",
       "</style>\n",
       "<small>shape: (3, 2)</small><table border=\"1\" class=\"dataframe\"><thead><tr><th>text</th><th>extract</th></tr><tr><td>str</td><td>str</td></tr></thead><tbody><tr><td>&quot;ptyhon&quot;</td><td>null</td></tr><tr><td>&quot;polars is a da…</td><td>null</td></tr><tr><td>&quot;pandas&quot;</td><td>&quot;pandas&quot;</td></tr></tbody></table></div>"
      ],
      "text/plain": [
       "shape: (3, 2)\n",
       "┌───────────────────────────────┬─────────┐\n",
       "│ text                          ┆ extract │\n",
       "│ ---                           ┆ ---     │\n",
       "│ str                           ┆ str     │\n",
       "╞═══════════════════════════════╪═════════╡\n",
       "│ ptyhon                        ┆ null    │\n",
       "│ polars is a dataframe library ┆ null    │\n",
       "│ pandas                        ┆ pandas  │\n",
       "└───────────────────────────────┴─────────┘"
      ]
     },
     "execution_count": 127,
     "metadata": {},
     "output_type": "execute_result"
    }
   ],
   "source": [
    "s2 = string_df.select(\n",
    "    pl.col(\"text\"),\n",
    "    pl.col(\"text\").str.extract(\"(pandas)\").alias(\"extract\"),\n",
    ")\n",
    "s2"
   ]
  },
  {
   "cell_type": "code",
   "execution_count": 128,
   "id": "56752c66-f840-4ec1-9fce-46c62ecef3c6",
   "metadata": {},
   "outputs": [
    {
     "data": {
      "text/html": [
       "<div><style>\n",
       ".dataframe > thead > tr,\n",
       ".dataframe > tbody > tr {\n",
       "  text-align: right;\n",
       "  white-space: pre-wrap;\n",
       "}\n",
       "</style>\n",
       "<small>shape: (3, 2)</small><table border=\"1\" class=\"dataframe\"><thead><tr><th>text</th><th>replace</th></tr><tr><td>str</td><td>str</td></tr></thead><tbody><tr><td>&quot;ptyhon&quot;</td><td>&quot;python&quot;</td></tr><tr><td>&quot;polars is a da…</td><td>&quot;polars is a da…</td></tr><tr><td>&quot;pandas&quot;</td><td>&quot;pandas&quot;</td></tr></tbody></table></div>"
      ],
      "text/plain": [
       "shape: (3, 2)\n",
       "┌───────────────────────────────┬───────────────────────────────┐\n",
       "│ text                          ┆ replace                       │\n",
       "│ ---                           ┆ ---                           │\n",
       "│ str                           ┆ str                           │\n",
       "╞═══════════════════════════════╪═══════════════════════════════╡\n",
       "│ ptyhon                        ┆ python                        │\n",
       "│ polars is a dataframe library ┆ polars is a dataframe library │\n",
       "│ pandas                        ┆ pandas                        │\n",
       "└───────────────────────────────┴───────────────────────────────┘"
      ]
     },
     "execution_count": 128,
     "metadata": {},
     "output_type": "execute_result"
    }
   ],
   "source": [
    "s3 = string_df.select(\n",
    "    pl.col(\"text\"),\n",
    "    pl.col(\"text\").str.replace(\"ptyhon\", \"python\").alias(\"replace\"),\n",
    ")\n",
    "s3"
   ]
  },
  {
   "cell_type": "markdown",
   "id": "8ffc62c8-a072-41bd-afef-cce48f08fd2f",
   "metadata": {},
   "source": [
    "#### Missing Data"
   ]
  },
  {
   "cell_type": "code",
   "execution_count": 129,
   "id": "55c86ca4-5395-412c-9bd7-402c33da8590",
   "metadata": {},
   "outputs": [
    {
     "data": {
      "text/html": [
       "<div><style>\n",
       ".dataframe > thead > tr,\n",
       ".dataframe > tbody > tr {\n",
       "  text-align: right;\n",
       "  white-space: pre-wrap;\n",
       "}\n",
       "</style>\n",
       "<small>shape: (5, 4)</small><table border=\"1\" class=\"dataframe\"><thead><tr><th>nrs</th><th>names</th><th>random</th><th>groups</th></tr><tr><td>i64</td><td>str</td><td>f64</td><td>str</td></tr></thead><tbody><tr><td>1</td><td>&quot;foo&quot;</td><td>0.597686</td><td>&quot;A&quot;</td></tr><tr><td>2</td><td>&quot;ham&quot;</td><td>0.070548</td><td>&quot;A&quot;</td></tr><tr><td>3</td><td>&quot;spam&quot;</td><td>0.308382</td><td>&quot;B&quot;</td></tr><tr><td>null</td><td>&quot;egg&quot;</td><td>0.857725</td><td>&quot;C&quot;</td></tr><tr><td>5</td><td>null</td><td>0.467545</td><td>&quot;B&quot;</td></tr></tbody></table></div>"
      ],
      "text/plain": [
       "shape: (5, 4)\n",
       "┌──────┬───────┬──────────┬────────┐\n",
       "│ nrs  ┆ names ┆ random   ┆ groups │\n",
       "│ ---  ┆ ---   ┆ ---      ┆ ---    │\n",
       "│ i64  ┆ str   ┆ f64      ┆ str    │\n",
       "╞══════╪═══════╪══════════╪════════╡\n",
       "│ 1    ┆ foo   ┆ 0.597686 ┆ A      │\n",
       "│ 2    ┆ ham   ┆ 0.070548 ┆ A      │\n",
       "│ 3    ┆ spam  ┆ 0.308382 ┆ B      │\n",
       "│ null ┆ egg   ┆ 0.857725 ┆ C      │\n",
       "│ 5    ┆ null  ┆ 0.467545 ┆ B      │\n",
       "└──────┴───────┴──────────┴────────┘"
      ]
     },
     "execution_count": 129,
     "metadata": {},
     "output_type": "execute_result"
    }
   ],
   "source": [
    "df"
   ]
  },
  {
   "cell_type": "code",
   "execution_count": 130,
   "id": "28756717-c1cf-41b0-82e4-27308a144cc8",
   "metadata": {},
   "outputs": [
    {
     "data": {
      "text/html": [
       "<div><style>\n",
       ".dataframe > thead > tr,\n",
       ".dataframe > tbody > tr {\n",
       "  text-align: right;\n",
       "  white-space: pre-wrap;\n",
       "}\n",
       "</style>\n",
       "<small>shape: (1, 4)</small><table border=\"1\" class=\"dataframe\"><thead><tr><th>nrs</th><th>names</th><th>random</th><th>groups</th></tr><tr><td>u32</td><td>u32</td><td>u32</td><td>u32</td></tr></thead><tbody><tr><td>1</td><td>1</td><td>0</td><td>0</td></tr></tbody></table></div>"
      ],
      "text/plain": [
       "shape: (1, 4)\n",
       "┌─────┬───────┬────────┬────────┐\n",
       "│ nrs ┆ names ┆ random ┆ groups │\n",
       "│ --- ┆ ---   ┆ ---    ┆ ---    │\n",
       "│ u32 ┆ u32   ┆ u32    ┆ u32    │\n",
       "╞═════╪═══════╪════════╪════════╡\n",
       "│ 1   ┆ 1     ┆ 0      ┆ 0      │\n",
       "└─────┴───────┴────────┴────────┘"
      ]
     },
     "execution_count": 130,
     "metadata": {},
     "output_type": "execute_result"
    }
   ],
   "source": [
    "df_null = df.null_count()\n",
    "df_null"
   ]
  },
  {
   "cell_type": "code",
   "execution_count": 131,
   "id": "27900903-5b97-47dc-ac75-6692c1e8e956",
   "metadata": {
    "scrolled": true
   },
   "outputs": [
    {
     "data": {
      "text/html": [
       "<div><style>\n",
       ".dataframe > thead > tr,\n",
       ".dataframe > tbody > tr {\n",
       "  text-align: right;\n",
       "  white-space: pre-wrap;\n",
       "}\n",
       "</style>\n",
       "<small>shape: (5, 4)</small><table border=\"1\" class=\"dataframe\"><thead><tr><th>nrs</th><th>names</th><th>random</th><th>groups</th></tr><tr><td>i64</td><td>str</td><td>f64</td><td>str</td></tr></thead><tbody><tr><td>1</td><td>&quot;foo&quot;</td><td>0.597686</td><td>&quot;A&quot;</td></tr><tr><td>2</td><td>&quot;ham&quot;</td><td>0.070548</td><td>&quot;A&quot;</td></tr><tr><td>3</td><td>&quot;spam&quot;</td><td>0.308382</td><td>&quot;B&quot;</td></tr><tr><td>12</td><td>&quot;egg&quot;</td><td>0.857725</td><td>&quot;C&quot;</td></tr><tr><td>5</td><td>null</td><td>0.467545</td><td>&quot;B&quot;</td></tr></tbody></table></div>"
      ],
      "text/plain": [
       "shape: (5, 4)\n",
       "┌─────┬───────┬──────────┬────────┐\n",
       "│ nrs ┆ names ┆ random   ┆ groups │\n",
       "│ --- ┆ ---   ┆ ---      ┆ ---    │\n",
       "│ i64 ┆ str   ┆ f64      ┆ str    │\n",
       "╞═════╪═══════╪══════════╪════════╡\n",
       "│ 1   ┆ foo   ┆ 0.597686 ┆ A      │\n",
       "│ 2   ┆ ham   ┆ 0.070548 ┆ A      │\n",
       "│ 3   ┆ spam  ┆ 0.308382 ┆ B      │\n",
       "│ 12  ┆ egg   ┆ 0.857725 ┆ C      │\n",
       "│ 5   ┆ null  ┆ 0.467545 ┆ B      │\n",
       "└─────┴───────┴──────────┴────────┘"
      ]
     },
     "execution_count": 131,
     "metadata": {},
     "output_type": "execute_result"
    }
   ],
   "source": [
    "df_fill_lit = df.with_columns(\n",
    "    pl.col(\"nrs\").fill_null(pl.lit(12)),\n",
    ")\n",
    "df_fill_lit"
   ]
  },
  {
   "cell_type": "code",
   "execution_count": 132,
   "id": "ba589519-3110-4df7-9729-c0a47e3263a5",
   "metadata": {},
   "outputs": [
    {
     "data": {
      "text/html": [
       "<div><style>\n",
       ".dataframe > thead > tr,\n",
       ".dataframe > tbody > tr {\n",
       "  text-align: right;\n",
       "  white-space: pre-wrap;\n",
       "}\n",
       "</style>\n",
       "<small>shape: (5, 4)</small><table border=\"1\" class=\"dataframe\"><thead><tr><th>nrs</th><th>names</th><th>random</th><th>groups</th></tr><tr><td>i64</td><td>str</td><td>f64</td><td>str</td></tr></thead><tbody><tr><td>1</td><td>&quot;foo&quot;</td><td>0.597686</td><td>&quot;A&quot;</td></tr><tr><td>2</td><td>&quot;ham&quot;</td><td>0.070548</td><td>&quot;A&quot;</td></tr><tr><td>3</td><td>&quot;spam&quot;</td><td>0.308382</td><td>&quot;B&quot;</td></tr><tr><td>null</td><td>&quot;egg&quot;</td><td>0.857725</td><td>&quot;C&quot;</td></tr><tr><td>5</td><td>&quot;egg&quot;</td><td>0.467545</td><td>&quot;B&quot;</td></tr></tbody></table></div>"
      ],
      "text/plain": [
       "shape: (5, 4)\n",
       "┌──────┬───────┬──────────┬────────┐\n",
       "│ nrs  ┆ names ┆ random   ┆ groups │\n",
       "│ ---  ┆ ---   ┆ ---      ┆ ---    │\n",
       "│ i64  ┆ str   ┆ f64      ┆ str    │\n",
       "╞══════╪═══════╪══════════╪════════╡\n",
       "│ 1    ┆ foo   ┆ 0.597686 ┆ A      │\n",
       "│ 2    ┆ ham   ┆ 0.070548 ┆ A      │\n",
       "│ 3    ┆ spam  ┆ 0.308382 ┆ B      │\n",
       "│ null ┆ egg   ┆ 0.857725 ┆ C      │\n",
       "│ 5    ┆ egg   ┆ 0.467545 ┆ B      │\n",
       "└──────┴───────┴──────────┴────────┘"
      ]
     },
     "execution_count": 132,
     "metadata": {},
     "output_type": "execute_result"
    }
   ],
   "source": [
    "df_fill_strat = df.with_columns(\n",
    "    pl.col(\"names\").fill_null(strategy=\"forward\"),\n",
    ")\n",
    "df_fill_strat"
   ]
  },
  {
   "cell_type": "code",
   "execution_count": 133,
   "id": "7192ae4d-249c-412d-8f69-69fd977d2d70",
   "metadata": {},
   "outputs": [
    {
     "data": {
      "text/html": [
       "<div><style>\n",
       ".dataframe > thead > tr,\n",
       ".dataframe > tbody > tr {\n",
       "  text-align: right;\n",
       "  white-space: pre-wrap;\n",
       "}\n",
       "</style>\n",
       "<small>shape: (5, 4)</small><table border=\"1\" class=\"dataframe\"><thead><tr><th>nrs</th><th>names</th><th>random</th><th>groups</th></tr><tr><td>f64</td><td>str</td><td>f64</td><td>str</td></tr></thead><tbody><tr><td>1.0</td><td>&quot;foo&quot;</td><td>0.597686</td><td>&quot;A&quot;</td></tr><tr><td>2.0</td><td>&quot;ham&quot;</td><td>0.070548</td><td>&quot;A&quot;</td></tr><tr><td>3.0</td><td>&quot;spam&quot;</td><td>0.308382</td><td>&quot;B&quot;</td></tr><tr><td>4.0</td><td>&quot;egg&quot;</td><td>0.857725</td><td>&quot;C&quot;</td></tr><tr><td>5.0</td><td>null</td><td>0.467545</td><td>&quot;B&quot;</td></tr></tbody></table></div>"
      ],
      "text/plain": [
       "shape: (5, 4)\n",
       "┌─────┬───────┬──────────┬────────┐\n",
       "│ nrs ┆ names ┆ random   ┆ groups │\n",
       "│ --- ┆ ---   ┆ ---      ┆ ---    │\n",
       "│ f64 ┆ str   ┆ f64      ┆ str    │\n",
       "╞═════╪═══════╪══════════╪════════╡\n",
       "│ 1.0 ┆ foo   ┆ 0.597686 ┆ A      │\n",
       "│ 2.0 ┆ ham   ┆ 0.070548 ┆ A      │\n",
       "│ 3.0 ┆ spam  ┆ 0.308382 ┆ B      │\n",
       "│ 4.0 ┆ egg   ┆ 0.857725 ┆ C      │\n",
       "│ 5.0 ┆ null  ┆ 0.467545 ┆ B      │\n",
       "└─────┴───────┴──────────┴────────┘"
      ]
     },
     "execution_count": 133,
     "metadata": {},
     "output_type": "execute_result"
    }
   ],
   "source": [
    "df_interpol = df.with_columns(\n",
    "    pl.col(\"nrs\").interpolate(),\n",
    ")\n",
    "df_interpol"
   ]
  },
  {
   "cell_type": "markdown",
   "id": "bcb22f7b-0153-4d1a-acf8-94dee94c1f94",
   "metadata": {},
   "source": [
    "#### List"
   ]
  },
  {
   "cell_type": "code",
   "execution_count": 134,
   "id": "68e0fe2a-962c-4da4-956c-d2061d0c66e0",
   "metadata": {
    "scrolled": true
   },
   "outputs": [
    {
     "data": {
      "text/html": [
       "<div><style>\n",
       ".dataframe > thead > tr,\n",
       ".dataframe > tbody > tr {\n",
       "  text-align: right;\n",
       "  white-space: pre-wrap;\n",
       "}\n",
       "</style>\n",
       "<small>shape: (3, 2)</small><table border=\"1\" class=\"dataframe\"><thead><tr><th>sensor</th><th>temperature</th></tr><tr><td>str</td><td>list[i64]</td></tr></thead><tbody><tr><td>&quot;Sensor 1&quot;</td><td>[21, 22, 999]</td></tr><tr><td>&quot;Sensor 2&quot;</td><td>[-1, null]</td></tr><tr><td>&quot;Sensor 3&quot;</td><td>[23, 23, … 21]</td></tr></tbody></table></div>"
      ],
      "text/plain": [
       "shape: (3, 2)\n",
       "┌──────────┬────────────────┐\n",
       "│ sensor   ┆ temperature    │\n",
       "│ ---      ┆ ---            │\n",
       "│ str      ┆ list[i64]      │\n",
       "╞══════════╪════════════════╡\n",
       "│ Sensor 1 ┆ [21, 22, 999]  │\n",
       "│ Sensor 2 ┆ [-1, null]     │\n",
       "│ Sensor 3 ┆ [23, 23, … 21] │\n",
       "└──────────┴────────────────┘"
      ]
     },
     "execution_count": 134,
     "metadata": {},
     "output_type": "execute_result"
    }
   ],
   "source": [
    "data = {\n",
    "    'sensor': [\"Sensor 1\", \"Sensor 2\", \"Sensor 3\"],\n",
    "    'temperature': [[21, 22, 999], [-1, None], [23, 23, 24, 22, 21]]\n",
    "}\n",
    "\n",
    "df_list = pl.DataFrame(data)\n",
    "df_list"
   ]
  },
  {
   "cell_type": "code",
   "execution_count": 135,
   "id": "761e54b7-eb8e-4700-9be5-5c669ca688fc",
   "metadata": {},
   "outputs": [
    {
     "data": {
      "text/html": [
       "<div><style>\n",
       ".dataframe > thead > tr,\n",
       ".dataframe > tbody > tr {\n",
       "  text-align: right;\n",
       "  white-space: pre-wrap;\n",
       "}\n",
       "</style>\n",
       "<small>shape: (3, 2)</small><table border=\"1\" class=\"dataframe\"><thead><tr><th>sensor</th><th>observations</th></tr><tr><td>str</td><td>u32</td></tr></thead><tbody><tr><td>&quot;Sensor 1&quot;</td><td>3</td></tr><tr><td>&quot;Sensor 2&quot;</td><td>2</td></tr><tr><td>&quot;Sensor 3&quot;</td><td>5</td></tr></tbody></table></div>"
      ],
      "text/plain": [
       "shape: (3, 2)\n",
       "┌──────────┬──────────────┐\n",
       "│ sensor   ┆ observations │\n",
       "│ ---      ┆ ---          │\n",
       "│ str      ┆ u32          │\n",
       "╞══════════╪══════════════╡\n",
       "│ Sensor 1 ┆ 3            │\n",
       "│ Sensor 2 ┆ 2            │\n",
       "│ Sensor 3 ┆ 5            │\n",
       "└──────────┴──────────────┘"
      ]
     },
     "execution_count": 135,
     "metadata": {},
     "output_type": "execute_result"
    }
   ],
   "source": [
    "l1 = df_list.select(\n",
    "    pl.col(\"sensor\"),\n",
    "    pl.col(\"temperature\").list.len().alias(\"observations\")\n",
    ")\n",
    "l1"
   ]
  },
  {
   "cell_type": "code",
   "execution_count": 136,
   "id": "6e0b0514-a529-46d6-abae-523cba860072",
   "metadata": {},
   "outputs": [
    {
     "data": {
      "text/html": [
       "<div><style>\n",
       ".dataframe > thead > tr,\n",
       ".dataframe > tbody > tr {\n",
       "  text-align: right;\n",
       "  white-space: pre-wrap;\n",
       "}\n",
       "</style>\n",
       "<small>shape: (3, 2)</small><table border=\"1\" class=\"dataframe\"><thead><tr><th>sensor</th><th>avg. temp</th></tr><tr><td>str</td><td>f64</td></tr></thead><tbody><tr><td>&quot;Sensor 1&quot;</td><td>347.333333</td></tr><tr><td>&quot;Sensor 2&quot;</td><td>-1.0</td></tr><tr><td>&quot;Sensor 3&quot;</td><td>22.6</td></tr></tbody></table></div>"
      ],
      "text/plain": [
       "shape: (3, 2)\n",
       "┌──────────┬────────────┐\n",
       "│ sensor   ┆ avg. temp  │\n",
       "│ ---      ┆ ---        │\n",
       "│ str      ┆ f64        │\n",
       "╞══════════╪════════════╡\n",
       "│ Sensor 1 ┆ 347.333333 │\n",
       "│ Sensor 2 ┆ -1.0       │\n",
       "│ Sensor 3 ┆ 22.6       │\n",
       "└──────────┴────────────┘"
      ]
     },
     "execution_count": 136,
     "metadata": {},
     "output_type": "execute_result"
    }
   ],
   "source": [
    "l2 = df_list.select(\n",
    "    pl.col(\"sensor\"),\n",
    "    pl.col(\"temperature\").list.mean().alias(\"avg. temp\")\n",
    ")\n",
    "l2"
   ]
  },
  {
   "cell_type": "code",
   "execution_count": 137,
   "id": "5f55edfe-64d3-43ec-bc1a-b5502aecbb04",
   "metadata": {},
   "outputs": [
    {
     "data": {
      "text/html": [
       "<div><style>\n",
       ".dataframe > thead > tr,\n",
       ".dataframe > tbody > tr {\n",
       "  text-align: right;\n",
       "  white-space: pre-wrap;\n",
       "}\n",
       "</style>\n",
       "<small>shape: (3, 2)</small><table border=\"1\" class=\"dataframe\"><thead><tr><th>sensor</th><th>temperature</th></tr><tr><td>str</td><td>list[i64]</td></tr></thead><tbody><tr><td>&quot;Sensor 1&quot;</td><td>[21, 22]</td></tr><tr><td>&quot;Sensor 2&quot;</td><td>[-1]</td></tr><tr><td>&quot;Sensor 3&quot;</td><td>[23, 23, … 21]</td></tr></tbody></table></div>"
      ],
      "text/plain": [
       "shape: (3, 2)\n",
       "┌──────────┬────────────────┐\n",
       "│ sensor   ┆ temperature    │\n",
       "│ ---      ┆ ---            │\n",
       "│ str      ┆ list[i64]      │\n",
       "╞══════════╪════════════════╡\n",
       "│ Sensor 1 ┆ [21, 22]       │\n",
       "│ Sensor 2 ┆ [-1]           │\n",
       "│ Sensor 3 ┆ [23, 23, … 21] │\n",
       "└──────────┴────────────────┘"
      ]
     },
     "execution_count": 137,
     "metadata": {},
     "output_type": "execute_result"
    }
   ],
   "source": [
    "l3 = df_list.select(\n",
    "    pl.col(\"sensor\"),\n",
    "    pl.col(\"temperature\").list.eval(pl.element().filter(pl.element() < 30)).drop_nulls()\n",
    ")\n",
    "l3"
   ]
  },
  {
   "cell_type": "code",
   "execution_count": 138,
   "id": "b5628e6e-d62e-4a5e-ba9a-8ffa14d00be1",
   "metadata": {
    "scrolled": true
   },
   "outputs": [
    {
     "data": {
      "text/html": [
       "<div><style>\n",
       ".dataframe > thead > tr,\n",
       ".dataframe > tbody > tr {\n",
       "  text-align: right;\n",
       "  white-space: pre-wrap;\n",
       "}\n",
       "</style>\n",
       "<small>shape: (3, 2)</small><table border=\"1\" class=\"dataframe\"><thead><tr><th>sensor</th><th>avg. temp</th></tr><tr><td>str</td><td>f64</td></tr></thead><tbody><tr><td>&quot;Sensor 1&quot;</td><td>21.5</td></tr><tr><td>&quot;Sensor 2&quot;</td><td>-1.0</td></tr><tr><td>&quot;Sensor 3&quot;</td><td>22.6</td></tr></tbody></table></div>"
      ],
      "text/plain": [
       "shape: (3, 2)\n",
       "┌──────────┬───────────┐\n",
       "│ sensor   ┆ avg. temp │\n",
       "│ ---      ┆ ---       │\n",
       "│ str      ┆ f64       │\n",
       "╞══════════╪═══════════╡\n",
       "│ Sensor 1 ┆ 21.5      │\n",
       "│ Sensor 2 ┆ -1.0      │\n",
       "│ Sensor 3 ┆ 22.6      │\n",
       "└──────────┴───────────┘"
      ]
     },
     "execution_count": 138,
     "metadata": {},
     "output_type": "execute_result"
    }
   ],
   "source": [
    "l4 = l3.select(\n",
    "    pl.col(\"sensor\"),\n",
    "    pl.col(\"temperature\").list.mean().alias(\"avg. temp\")\n",
    ")\n",
    "l4"
   ]
  },
  {
   "cell_type": "markdown",
   "id": "f687c58f-2ed8-41d3-959f-b08ee7487f11",
   "metadata": {},
   "source": [
    "### **IO**"
   ]
  },
  {
   "cell_type": "markdown",
   "id": "d163492d-0b08-4fff-976e-05bf6cd5da26",
   "metadata": {},
   "source": [
    "#### - CSV, Excel, Json\n",
    "#### - Parquet files\n",
    "#### - Databases"
   ]
  },
  {
   "cell_type": "markdown",
   "id": "b7fbbbcf-b124-4306-af36-afc21470841d",
   "metadata": {},
   "source": [
    "## **Example**"
   ]
  },
  {
   "cell_type": "code",
   "execution_count": 139,
   "id": "0dd9176c-5e4f-4416-a8ae-254dbf1a984b",
   "metadata": {},
   "outputs": [],
   "source": [
    "df_raw = pl.read_csv(\"data/netflix.csv\")"
   ]
  },
  {
   "cell_type": "code",
   "execution_count": 140,
   "id": "41b2195e-c373-4497-866d-cf5c3f9ae612",
   "metadata": {},
   "outputs": [
    {
     "data": {
      "text/html": [
       "<div><style>\n",
       ".dataframe > thead > tr,\n",
       ".dataframe > tbody > tr {\n",
       "  text-align: right;\n",
       "  white-space: pre-wrap;\n",
       "}\n",
       "</style>\n",
       "<small>shape: (5, 10)</small><table border=\"1\" class=\"dataframe\"><thead><tr><th>show_id</th><th>type</th><th>title</th><th>director</th><th>country</th><th>date_added</th><th>release_year</th><th>rating</th><th>duration</th><th>listed_in</th></tr><tr><td>str</td><td>str</td><td>str</td><td>str</td><td>str</td><td>str</td><td>i64</td><td>str</td><td>str</td><td>str</td></tr></thead><tbody><tr><td>&quot;s1&quot;</td><td>&quot;Movie&quot;</td><td>&quot;Dick Johnson I…</td><td>&quot;Kirsten Johnso…</td><td>&quot;United States&quot;</td><td>&quot;9/25/2021&quot;</td><td>2020</td><td>&quot;PG-13&quot;</td><td>&quot;90 min&quot;</td><td>&quot;Documentaries&quot;</td></tr><tr><td>&quot;s3&quot;</td><td>&quot;TV Show&quot;</td><td>&quot;Ganglands&quot;</td><td>&quot;Julien Leclerc…</td><td>&quot;France&quot;</td><td>&quot;9/24/2021&quot;</td><td>2021</td><td>&quot;TV-MA&quot;</td><td>&quot;1 Season&quot;</td><td>&quot;Crime TV Shows…</td></tr><tr><td>&quot;s6&quot;</td><td>&quot;TV Show&quot;</td><td>&quot;Midnight Mass&quot;</td><td>&quot;Mike Flanagan&quot;</td><td>&quot;United States&quot;</td><td>&quot;9/24/2021&quot;</td><td>2021</td><td>&quot;TV-MA&quot;</td><td>&quot;1 Season&quot;</td><td>&quot;TV Dramas, TV …</td></tr><tr><td>&quot;s14&quot;</td><td>&quot;Movie&quot;</td><td>&quot;Confessions of…</td><td>&quot;Bruno Garotti&quot;</td><td>&quot;Brazil&quot;</td><td>&quot;9/22/2021&quot;</td><td>2021</td><td>&quot;TV-PG&quot;</td><td>&quot;91 min&quot;</td><td>&quot;Children &amp; Fam…</td></tr><tr><td>&quot;s8&quot;</td><td>&quot;Movie&quot;</td><td>&quot;Sankofa&quot;</td><td>&quot;Haile Gerima&quot;</td><td>&quot;United States&quot;</td><td>&quot;9/24/2021&quot;</td><td>1993</td><td>&quot;TV-MA&quot;</td><td>&quot;125 min&quot;</td><td>&quot;Dramas, Indepe…</td></tr></tbody></table></div>"
      ],
      "text/plain": [
       "shape: (5, 10)\n",
       "┌─────────┬─────────┬───────────────────────┬─────────────────┬───┬──────────────┬────────┬──────────┬───────────────────────┐\n",
       "│ show_id ┆ type    ┆ title                 ┆ director        ┆ … ┆ release_year ┆ rating ┆ duration ┆ listed_in             │\n",
       "│ ---     ┆ ---     ┆ ---                   ┆ ---             ┆   ┆ ---          ┆ ---    ┆ ---      ┆ ---                   │\n",
       "│ str     ┆ str     ┆ str                   ┆ str             ┆   ┆ i64          ┆ str    ┆ str      ┆ str                   │\n",
       "╞═════════╪═════════╪═══════════════════════╪═════════════════╪═══╪══════════════╪════════╪══════════╪═══════════════════════╡\n",
       "│ s1      ┆ Movie   ┆ Dick Johnson Is Dead  ┆ Kirsten Johnson ┆ … ┆ 2020         ┆ PG-13  ┆ 90 min   ┆ Documentaries         │\n",
       "│ s3      ┆ TV Show ┆ Ganglands             ┆ Julien Leclercq ┆ … ┆ 2021         ┆ TV-MA  ┆ 1 Season ┆ Crime TV Shows,       │\n",
       "│         ┆         ┆                       ┆                 ┆   ┆              ┆        ┆          ┆ International TV…     │\n",
       "│ s6      ┆ TV Show ┆ Midnight Mass         ┆ Mike Flanagan   ┆ … ┆ 2021         ┆ TV-MA  ┆ 1 Season ┆ TV Dramas, TV Horror, │\n",
       "│         ┆         ┆                       ┆                 ┆   ┆              ┆        ┆          ┆ TV Mysteri…           │\n",
       "│ s14     ┆ Movie   ┆ Confessions of an     ┆ Bruno Garotti   ┆ … ┆ 2021         ┆ TV-PG  ┆ 91 min   ┆ Children & Family     │\n",
       "│         ┆         ┆ Invisible Girl        ┆                 ┆   ┆              ┆        ┆          ┆ Movies, Comedi…       │\n",
       "│ s8      ┆ Movie   ┆ Sankofa               ┆ Haile Gerima    ┆ … ┆ 1993         ┆ TV-MA  ┆ 125 min  ┆ Dramas, Independent   │\n",
       "│         ┆         ┆                       ┆                 ┆   ┆              ┆        ┆          ┆ Movies, Inte…         │\n",
       "└─────────┴─────────┴───────────────────────┴─────────────────┴───┴──────────────┴────────┴──────────┴───────────────────────┘"
      ]
     },
     "execution_count": 140,
     "metadata": {},
     "output_type": "execute_result"
    }
   ],
   "source": [
    "df_raw.head()"
   ]
  },
  {
   "cell_type": "code",
   "execution_count": 141,
   "id": "75ae6645-b47c-4b1a-85b6-cf29b431e5fe",
   "metadata": {},
   "outputs": [
    {
     "data": {
      "text/html": [
       "<div><style>\n",
       ".dataframe > thead > tr,\n",
       ".dataframe > tbody > tr {\n",
       "  text-align: right;\n",
       "  white-space: pre-wrap;\n",
       "}\n",
       "</style>\n",
       "<small>shape: (5, 10)</small><table border=\"1\" class=\"dataframe\"><thead><tr><th>show_id</th><th>type</th><th>title</th><th>director</th><th>country</th><th>date_added</th><th>release_year</th><th>rating</th><th>duration</th><th>listed_in</th></tr><tr><td>str</td><td>str</td><td>str</td><td>str</td><td>str</td><td>str</td><td>i64</td><td>str</td><td>str</td><td>str</td></tr></thead><tbody><tr><td>&quot;s8797&quot;</td><td>&quot;TV Show&quot;</td><td>&quot;Yunus Emre&quot;</td><td>&quot;Not Given&quot;</td><td>&quot;Turkey&quot;</td><td>&quot;1/17/2017&quot;</td><td>2016</td><td>&quot;TV-PG&quot;</td><td>&quot;2 Seasons&quot;</td><td>&quot;International …</td></tr><tr><td>&quot;s8798&quot;</td><td>&quot;TV Show&quot;</td><td>&quot;Zak Storm&quot;</td><td>&quot;Not Given&quot;</td><td>&quot;United States&quot;</td><td>&quot;9/13/2018&quot;</td><td>2016</td><td>&quot;TV-Y7&quot;</td><td>&quot;3 Seasons&quot;</td><td>&quot;Kids&#x27; TV&quot;</td></tr><tr><td>&quot;s8801&quot;</td><td>&quot;TV Show&quot;</td><td>&quot;Zindagi Gulzar…</td><td>&quot;Not Given&quot;</td><td>&quot;Pakistan&quot;</td><td>&quot;12/15/2016&quot;</td><td>2012</td><td>&quot;TV-PG&quot;</td><td>&quot;1 Season&quot;</td><td>&quot;International …</td></tr><tr><td>&quot;s8784&quot;</td><td>&quot;TV Show&quot;</td><td>&quot;Yoko&quot;</td><td>&quot;Not Given&quot;</td><td>&quot;Pakistan&quot;</td><td>&quot;6/23/2018&quot;</td><td>2016</td><td>&quot;TV-Y&quot;</td><td>&quot;1 Season&quot;</td><td>&quot;Kids&#x27; TV&quot;</td></tr><tr><td>&quot;s8786&quot;</td><td>&quot;TV Show&quot;</td><td>&quot;YOM&quot;</td><td>&quot;Not Given&quot;</td><td>&quot;Pakistan&quot;</td><td>&quot;6/7/2018&quot;</td><td>2016</td><td>&quot;TV-Y7&quot;</td><td>&quot;1 Season&quot;</td><td>&quot;Kids&#x27; TV&quot;</td></tr></tbody></table></div>"
      ],
      "text/plain": [
       "shape: (5, 10)\n",
       "┌─────────┬─────────┬────────────────────┬───────────┬───┬──────────────┬────────┬───────────┬────────────────────────────┐\n",
       "│ show_id ┆ type    ┆ title              ┆ director  ┆ … ┆ release_year ┆ rating ┆ duration  ┆ listed_in                  │\n",
       "│ ---     ┆ ---     ┆ ---                ┆ ---       ┆   ┆ ---          ┆ ---    ┆ ---       ┆ ---                        │\n",
       "│ str     ┆ str     ┆ str                ┆ str       ┆   ┆ i64          ┆ str    ┆ str       ┆ str                        │\n",
       "╞═════════╪═════════╪════════════════════╪═══════════╪═══╪══════════════╪════════╪═══════════╪════════════════════════════╡\n",
       "│ s8797   ┆ TV Show ┆ Yunus Emre         ┆ Not Given ┆ … ┆ 2016         ┆ TV-PG  ┆ 2 Seasons ┆ International TV Shows, TV │\n",
       "│         ┆         ┆                    ┆           ┆   ┆              ┆        ┆           ┆ Drama…                     │\n",
       "│ s8798   ┆ TV Show ┆ Zak Storm          ┆ Not Given ┆ … ┆ 2016         ┆ TV-Y7  ┆ 3 Seasons ┆ Kids' TV                   │\n",
       "│ s8801   ┆ TV Show ┆ Zindagi Gulzar Hai ┆ Not Given ┆ … ┆ 2012         ┆ TV-PG  ┆ 1 Season  ┆ International TV Shows,    │\n",
       "│         ┆         ┆                    ┆           ┆   ┆              ┆        ┆           ┆ Romantic…                  │\n",
       "│ s8784   ┆ TV Show ┆ Yoko               ┆ Not Given ┆ … ┆ 2016         ┆ TV-Y   ┆ 1 Season  ┆ Kids' TV                   │\n",
       "│ s8786   ┆ TV Show ┆ YOM                ┆ Not Given ┆ … ┆ 2016         ┆ TV-Y7  ┆ 1 Season  ┆ Kids' TV                   │\n",
       "└─────────┴─────────┴────────────────────┴───────────┴───┴──────────────┴────────┴───────────┴────────────────────────────┘"
      ]
     },
     "execution_count": 141,
     "metadata": {},
     "output_type": "execute_result"
    }
   ],
   "source": [
    "df_raw.tail()"
   ]
  },
  {
   "cell_type": "code",
   "execution_count": 142,
   "id": "d25abb8e-f4d0-4a9d-8951-d097b6ede076",
   "metadata": {},
   "outputs": [
    {
     "data": {
      "text/html": [
       "<div><style>\n",
       ".dataframe > thead > tr,\n",
       ".dataframe > tbody > tr {\n",
       "  text-align: right;\n",
       "  white-space: pre-wrap;\n",
       "}\n",
       "</style>\n",
       "<small>shape: (9, 11)</small><table border=\"1\" class=\"dataframe\"><thead><tr><th>describe</th><th>show_id</th><th>type</th><th>title</th><th>director</th><th>country</th><th>date_added</th><th>release_year</th><th>rating</th><th>duration</th><th>listed_in</th></tr><tr><td>str</td><td>str</td><td>str</td><td>str</td><td>str</td><td>str</td><td>str</td><td>f64</td><td>str</td><td>str</td><td>str</td></tr></thead><tbody><tr><td>&quot;count&quot;</td><td>&quot;8790&quot;</td><td>&quot;8790&quot;</td><td>&quot;8790&quot;</td><td>&quot;8790&quot;</td><td>&quot;8790&quot;</td><td>&quot;8790&quot;</td><td>8790.0</td><td>&quot;8790&quot;</td><td>&quot;8790&quot;</td><td>&quot;8790&quot;</td></tr><tr><td>&quot;null_count&quot;</td><td>&quot;0&quot;</td><td>&quot;0&quot;</td><td>&quot;0&quot;</td><td>&quot;0&quot;</td><td>&quot;0&quot;</td><td>&quot;0&quot;</td><td>0.0</td><td>&quot;0&quot;</td><td>&quot;0&quot;</td><td>&quot;0&quot;</td></tr><tr><td>&quot;mean&quot;</td><td>null</td><td>null</td><td>null</td><td>null</td><td>null</td><td>null</td><td>2014.183163</td><td>null</td><td>null</td><td>null</td></tr><tr><td>&quot;std&quot;</td><td>null</td><td>null</td><td>null</td><td>null</td><td>null</td><td>null</td><td>8.825466</td><td>null</td><td>null</td><td>null</td></tr><tr><td>&quot;min&quot;</td><td>&quot;s1&quot;</td><td>&quot;Movie&quot;</td><td>&quot;#Alive&quot;</td><td>&quot;A. L. Vijay&quot;</td><td>&quot;Argentina&quot;</td><td>&quot;1/1/2008&quot;</td><td>1925.0</td><td>&quot;G&quot;</td><td>&quot;1 Season&quot;</td><td>&quot;Action &amp; Adven…</td></tr><tr><td>&quot;25%&quot;</td><td>null</td><td>null</td><td>null</td><td>null</td><td>null</td><td>null</td><td>2013.0</td><td>null</td><td>null</td><td>null</td></tr><tr><td>&quot;50%&quot;</td><td>null</td><td>null</td><td>null</td><td>null</td><td>null</td><td>null</td><td>2017.0</td><td>null</td><td>null</td><td>null</td></tr><tr><td>&quot;75%&quot;</td><td>null</td><td>null</td><td>null</td><td>null</td><td>null</td><td>null</td><td>2019.0</td><td>null</td><td>null</td><td>null</td></tr><tr><td>&quot;max&quot;</td><td>&quot;s999&quot;</td><td>&quot;TV Show&quot;</td><td>&quot;최강전사 미니특공대 : 영…</td><td>&quot;Şenol Sönmez&quot;</td><td>&quot;Zimbabwe&quot;</td><td>&quot;9/9/2021&quot;</td><td>2021.0</td><td>&quot;UR&quot;</td><td>&quot;99 min&quot;</td><td>&quot;Thrillers&quot;</td></tr></tbody></table></div>"
      ],
      "text/plain": [
       "shape: (9, 11)\n",
       "┌────────────┬─────────┬─────────┬───────────────────────────────┬───┬──────────────┬────────┬──────────┬────────────────────┐\n",
       "│ describe   ┆ show_id ┆ type    ┆ title                         ┆ … ┆ release_year ┆ rating ┆ duration ┆ listed_in          │\n",
       "│ ---        ┆ ---     ┆ ---     ┆ ---                           ┆   ┆ ---          ┆ ---    ┆ ---      ┆ ---                │\n",
       "│ str        ┆ str     ┆ str     ┆ str                           ┆   ┆ f64          ┆ str    ┆ str      ┆ str                │\n",
       "╞════════════╪═════════╪═════════╪═══════════════════════════════╪═══╪══════════════╪════════╪══════════╪════════════════════╡\n",
       "│ count      ┆ 8790    ┆ 8790    ┆ 8790                          ┆ … ┆ 8790.0       ┆ 8790   ┆ 8790     ┆ 8790               │\n",
       "│ null_count ┆ 0       ┆ 0       ┆ 0                             ┆ … ┆ 0.0          ┆ 0      ┆ 0        ┆ 0                  │\n",
       "│ mean       ┆ null    ┆ null    ┆ null                          ┆ … ┆ 2014.183163  ┆ null   ┆ null     ┆ null               │\n",
       "│ std        ┆ null    ┆ null    ┆ null                          ┆ … ┆ 8.825466     ┆ null   ┆ null     ┆ null               │\n",
       "│ min        ┆ s1      ┆ Movie   ┆ #Alive                        ┆ … ┆ 1925.0       ┆ G      ┆ 1 Season ┆ Action & Adventure │\n",
       "│ 25%        ┆ null    ┆ null    ┆ null                          ┆ … ┆ 2013.0       ┆ null   ┆ null     ┆ null               │\n",
       "│ 50%        ┆ null    ┆ null    ┆ null                          ┆ … ┆ 2017.0       ┆ null   ┆ null     ┆ null               │\n",
       "│ 75%        ┆ null    ┆ null    ┆ null                          ┆ … ┆ 2019.0       ┆ null   ┆ null     ┆ null               │\n",
       "│ max        ┆ s999    ┆ TV Show ┆ 최강전사 미니특공대 : 영웅의  ┆ … ┆ 2021.0       ┆ UR     ┆ 99 min   ┆ Thrillers          │\n",
       "│            ┆         ┆         ┆ 탄생                          ┆   ┆              ┆        ┆          ┆                    │\n",
       "└────────────┴─────────┴─────────┴───────────────────────────────┴───┴──────────────┴────────┴──────────┴────────────────────┘"
      ]
     },
     "execution_count": 142,
     "metadata": {},
     "output_type": "execute_result"
    }
   ],
   "source": [
    "df_raw.describe()"
   ]
  },
  {
   "cell_type": "code",
   "execution_count": 143,
   "id": "321c7bb6-ec9f-43d5-8b59-1a563fbb7a1c",
   "metadata": {},
   "outputs": [
    {
     "name": "stdout",
     "output_type": "stream",
     "text": [
      "Rows: 8790\n",
      "Columns: 10\n",
      "$ show_id      <str> 's1', 's3', 's6', 's14', 's8', 's9', 's10', 's939', 's13', 's940'\n",
      "$ type         <str> 'Movie', 'TV Show', 'TV Show', 'Movie', 'Movie', 'TV Show', 'Movie', 'Movie', 'Movie', 'Movie'\n",
      "$ title        <str> 'Dick Johnson Is Dead', 'Ganglands', 'Midnight Mass', 'Confessions of an Invisible Girl', 'Sankofa', 'The Great British Baking Show', 'The Starling', 'Motu Patlu in the Game of Zones', 'Je Suis Karl', 'Motu Patlu in Wonderland'\n",
      "$ director     <str> 'Kirsten Johnson', 'Julien Leclercq', 'Mike Flanagan', 'Bruno Garotti', 'Haile Gerima', 'Andy Devonshire', 'Theodore Melfi', 'Suhas Kadav', 'Christian Schwochow', 'Suhas Kadav'\n",
      "$ country      <str> 'United States', 'France', 'United States', 'Brazil', 'United States', 'United Kingdom', 'United States', 'India', 'Germany', 'India'\n",
      "$ date_added   <str> '9/25/2021', '9/24/2021', '9/24/2021', '9/22/2021', '9/24/2021', '9/24/2021', '9/24/2021', '5/1/2021', '9/23/2021', '5/1/2021'\n",
      "$ release_year <i64> 2020, 2021, 2021, 2021, 1993, 2021, 2021, 2019, 2021, 2013\n",
      "$ rating       <str> 'PG-13', 'TV-MA', 'TV-MA', 'TV-PG', 'TV-MA', 'TV-14', 'PG-13', 'TV-Y7', 'TV-MA', 'TV-Y7'\n",
      "$ duration     <str> '90 min', '1 Season', '1 Season', '91 min', '125 min', '9 Seasons', '104 min', '87 min', '127 min', '76 min'\n",
      "$ listed_in    <str> 'Documentaries', 'Crime TV Shows, International TV Shows, TV Action & Adventure', 'TV Dramas, TV Horror, TV Mysteries', 'Children & Family Movies, Comedies', 'Dramas, Independent Movies, International Movies', 'British TV Shows, Reality TV', 'Comedies, Dramas', 'Children & Family Movies, Comedies, Music & Musicals', 'Dramas, International Movies', 'Children & Family Movies, Music & Musicals'\n",
      "\n"
     ]
    }
   ],
   "source": [
    "df_raw.glimpse()"
   ]
  },
  {
   "cell_type": "code",
   "execution_count": 144,
   "id": "50a68f57-557b-4230-8146-686acb1a74c5",
   "metadata": {},
   "outputs": [
    {
     "data": {
      "text/html": [
       "<div><style>\n",
       ".dataframe > thead > tr,\n",
       ".dataframe > tbody > tr {\n",
       "  text-align: right;\n",
       "  white-space: pre-wrap;\n",
       "}\n",
       "</style>\n",
       "<small>shape: (8_790, 10)</small><table border=\"1\" class=\"dataframe\"><thead><tr><th>show_id</th><th>type</th><th>title</th><th>director</th><th>country</th><th>date_added</th><th>release_year</th><th>rating</th><th>duration</th><th>listed_in</th></tr><tr><td>str</td><td>str</td><td>str</td><td>str</td><td>str</td><td>datetime[μs]</td><td>i64</td><td>str</td><td>str</td><td>str</td></tr></thead><tbody><tr><td>&quot;s1&quot;</td><td>&quot;Movie&quot;</td><td>&quot;Dick Johnson I…</td><td>&quot;Kirsten Johnso…</td><td>&quot;United States&quot;</td><td>2021-09-25 00:00:00</td><td>2020</td><td>&quot;PG-13&quot;</td><td>&quot;90 min&quot;</td><td>&quot;Documentaries&quot;</td></tr><tr><td>&quot;s3&quot;</td><td>&quot;TV Show&quot;</td><td>&quot;Ganglands&quot;</td><td>&quot;Julien Leclerc…</td><td>&quot;France&quot;</td><td>2021-09-24 00:00:00</td><td>2021</td><td>&quot;TV-MA&quot;</td><td>&quot;1 Season&quot;</td><td>&quot;Crime TV Shows…</td></tr><tr><td>&quot;s6&quot;</td><td>&quot;TV Show&quot;</td><td>&quot;Midnight Mass&quot;</td><td>&quot;Mike Flanagan&quot;</td><td>&quot;United States&quot;</td><td>2021-09-24 00:00:00</td><td>2021</td><td>&quot;TV-MA&quot;</td><td>&quot;1 Season&quot;</td><td>&quot;TV Dramas, TV …</td></tr><tr><td>&quot;s14&quot;</td><td>&quot;Movie&quot;</td><td>&quot;Confessions of…</td><td>&quot;Bruno Garotti&quot;</td><td>&quot;Brazil&quot;</td><td>2021-09-22 00:00:00</td><td>2021</td><td>&quot;TV-PG&quot;</td><td>&quot;91 min&quot;</td><td>&quot;Children &amp; Fam…</td></tr><tr><td>&quot;s8&quot;</td><td>&quot;Movie&quot;</td><td>&quot;Sankofa&quot;</td><td>&quot;Haile Gerima&quot;</td><td>&quot;United States&quot;</td><td>2021-09-24 00:00:00</td><td>1993</td><td>&quot;TV-MA&quot;</td><td>&quot;125 min&quot;</td><td>&quot;Dramas, Indepe…</td></tr><tr><td>&quot;s9&quot;</td><td>&quot;TV Show&quot;</td><td>&quot;The Great Brit…</td><td>&quot;Andy Devonshir…</td><td>&quot;United Kingdom…</td><td>2021-09-24 00:00:00</td><td>2021</td><td>&quot;TV-14&quot;</td><td>&quot;9 Seasons&quot;</td><td>&quot;British TV Sho…</td></tr><tr><td>&quot;s10&quot;</td><td>&quot;Movie&quot;</td><td>&quot;The Starling&quot;</td><td>&quot;Theodore Melfi…</td><td>&quot;United States&quot;</td><td>2021-09-24 00:00:00</td><td>2021</td><td>&quot;PG-13&quot;</td><td>&quot;104 min&quot;</td><td>&quot;Comedies, Dram…</td></tr><tr><td>&quot;s939&quot;</td><td>&quot;Movie&quot;</td><td>&quot;Motu Patlu in …</td><td>&quot;Suhas Kadav&quot;</td><td>&quot;India&quot;</td><td>2021-05-01 00:00:00</td><td>2019</td><td>&quot;TV-Y7&quot;</td><td>&quot;87 min&quot;</td><td>&quot;Children &amp; Fam…</td></tr><tr><td>&quot;s13&quot;</td><td>&quot;Movie&quot;</td><td>&quot;Je Suis Karl&quot;</td><td>&quot;Christian Schw…</td><td>&quot;Germany&quot;</td><td>2021-09-23 00:00:00</td><td>2021</td><td>&quot;TV-MA&quot;</td><td>&quot;127 min&quot;</td><td>&quot;Dramas, Intern…</td></tr><tr><td>&quot;s940&quot;</td><td>&quot;Movie&quot;</td><td>&quot;Motu Patlu in …</td><td>&quot;Suhas Kadav&quot;</td><td>&quot;India&quot;</td><td>2021-05-01 00:00:00</td><td>2013</td><td>&quot;TV-Y7&quot;</td><td>&quot;76 min&quot;</td><td>&quot;Children &amp; Fam…</td></tr><tr><td>&quot;s941&quot;</td><td>&quot;Movie&quot;</td><td>&quot;Motu Patlu: De…</td><td>&quot;Suhas Kadav&quot;</td><td>&quot;India&quot;</td><td>2021-05-01 00:00:00</td><td>2014</td><td>&quot;TV-Y7&quot;</td><td>&quot;76 min&quot;</td><td>&quot;Children &amp; Fam…</td></tr><tr><td>&quot;s942&quot;</td><td>&quot;Movie&quot;</td><td>&quot;Motu Patlu: Mi…</td><td>&quot;Suhas Kadav&quot;</td><td>&quot;India&quot;</td><td>2021-05-01 00:00:00</td><td>2013</td><td>&quot;TV-Y7&quot;</td><td>&quot;71 min&quot;</td><td>&quot;Children &amp; Fam…</td></tr><tr><td>&hellip;</td><td>&hellip;</td><td>&hellip;</td><td>&hellip;</td><td>&hellip;</td><td>&hellip;</td><td>&hellip;</td><td>&hellip;</td><td>&hellip;</td><td>&hellip;</td></tr><tr><td>&quot;s8750&quot;</td><td>&quot;TV Show&quot;</td><td>&quot;Winter Sun&quot;</td><td>&quot;Not Given&quot;</td><td>&quot;Turkey&quot;</td><td>2017-08-01 00:00:00</td><td>2014</td><td>&quot;TV-MA&quot;</td><td>&quot;1 Season&quot;</td><td>&quot;International …</td></tr><tr><td>&quot;s8756&quot;</td><td>&quot;TV Show&quot;</td><td>&quot;Women Behind B…</td><td>&quot;Not Given&quot;</td><td>&quot;United States&quot;</td><td>2016-11-01 00:00:00</td><td>2010</td><td>&quot;TV-14&quot;</td><td>&quot;3 Seasons&quot;</td><td>&quot;Crime TV Shows…</td></tr><tr><td>&quot;s8759&quot;</td><td>&quot;TV Show&quot;</td><td>&quot;World&#x27;s Busies…</td><td>&quot;Not Given&quot;</td><td>&quot;United Kingdom…</td><td>2019-02-01 00:00:00</td><td>2017</td><td>&quot;TV-PG&quot;</td><td>&quot;1 Season&quot;</td><td>&quot;British TV Sho…</td></tr><tr><td>&quot;s8776&quot;</td><td>&quot;TV Show&quot;</td><td>&quot;Yeh Meri Famil…</td><td>&quot;Not Given&quot;</td><td>&quot;India&quot;</td><td>2018-08-31 00:00:00</td><td>2018</td><td>&quot;TV-PG&quot;</td><td>&quot;1 Season&quot;</td><td>&quot;International …</td></tr><tr><td>&quot;s8781&quot;</td><td>&quot;TV Show&quot;</td><td>&quot;Yo-Kai Watch&quot;</td><td>&quot;Not Given&quot;</td><td>&quot;United States&quot;</td><td>2016-04-01 00:00:00</td><td>2015</td><td>&quot;TV-Y7&quot;</td><td>&quot;1 Season&quot;</td><td>&quot;Anime Series, …</td></tr><tr><td>&quot;s8785&quot;</td><td>&quot;Movie&quot;</td><td>&quot;Yoko and His F…</td><td>&quot;Not Given&quot;</td><td>&quot;Russia&quot;</td><td>2018-06-23 00:00:00</td><td>2015</td><td>&quot;TV-Y&quot;</td><td>&quot;78 min&quot;</td><td>&quot;Children &amp; Fam…</td></tr><tr><td>&quot;s8796&quot;</td><td>&quot;TV Show&quot;</td><td>&quot;Yu-Gi-Oh! Arc-…</td><td>&quot;Not Given&quot;</td><td>&quot;Japan&quot;</td><td>2018-05-01 00:00:00</td><td>2015</td><td>&quot;TV-Y7&quot;</td><td>&quot;2 Seasons&quot;</td><td>&quot;Anime Series, …</td></tr><tr><td>&quot;s8797&quot;</td><td>&quot;TV Show&quot;</td><td>&quot;Yunus Emre&quot;</td><td>&quot;Not Given&quot;</td><td>&quot;Turkey&quot;</td><td>2017-01-17 00:00:00</td><td>2016</td><td>&quot;TV-PG&quot;</td><td>&quot;2 Seasons&quot;</td><td>&quot;International …</td></tr><tr><td>&quot;s8798&quot;</td><td>&quot;TV Show&quot;</td><td>&quot;Zak Storm&quot;</td><td>&quot;Not Given&quot;</td><td>&quot;United States&quot;</td><td>2018-09-13 00:00:00</td><td>2016</td><td>&quot;TV-Y7&quot;</td><td>&quot;3 Seasons&quot;</td><td>&quot;Kids&#x27; TV&quot;</td></tr><tr><td>&quot;s8801&quot;</td><td>&quot;TV Show&quot;</td><td>&quot;Zindagi Gulzar…</td><td>&quot;Not Given&quot;</td><td>&quot;Pakistan&quot;</td><td>2016-12-15 00:00:00</td><td>2012</td><td>&quot;TV-PG&quot;</td><td>&quot;1 Season&quot;</td><td>&quot;International …</td></tr><tr><td>&quot;s8784&quot;</td><td>&quot;TV Show&quot;</td><td>&quot;Yoko&quot;</td><td>&quot;Not Given&quot;</td><td>&quot;Pakistan&quot;</td><td>2018-06-23 00:00:00</td><td>2016</td><td>&quot;TV-Y&quot;</td><td>&quot;1 Season&quot;</td><td>&quot;Kids&#x27; TV&quot;</td></tr><tr><td>&quot;s8786&quot;</td><td>&quot;TV Show&quot;</td><td>&quot;YOM&quot;</td><td>&quot;Not Given&quot;</td><td>&quot;Pakistan&quot;</td><td>2018-06-07 00:00:00</td><td>2016</td><td>&quot;TV-Y7&quot;</td><td>&quot;1 Season&quot;</td><td>&quot;Kids&#x27; TV&quot;</td></tr></tbody></table></div>"
      ],
      "text/plain": [
       "shape: (8_790, 10)\n",
       "┌─────────┬─────────┬───────────────────────┬─────────────────┬───┬──────────────┬────────┬───────────┬──────────────────────┐\n",
       "│ show_id ┆ type    ┆ title                 ┆ director        ┆ … ┆ release_year ┆ rating ┆ duration  ┆ listed_in            │\n",
       "│ ---     ┆ ---     ┆ ---                   ┆ ---             ┆   ┆ ---          ┆ ---    ┆ ---       ┆ ---                  │\n",
       "│ str     ┆ str     ┆ str                   ┆ str             ┆   ┆ i64          ┆ str    ┆ str       ┆ str                  │\n",
       "╞═════════╪═════════╪═══════════════════════╪═════════════════╪═══╪══════════════╪════════╪═══════════╪══════════════════════╡\n",
       "│ s1      ┆ Movie   ┆ Dick Johnson Is Dead  ┆ Kirsten Johnson ┆ … ┆ 2020         ┆ PG-13  ┆ 90 min    ┆ Documentaries        │\n",
       "│ s3      ┆ TV Show ┆ Ganglands             ┆ Julien Leclercq ┆ … ┆ 2021         ┆ TV-MA  ┆ 1 Season  ┆ Crime TV Shows,      │\n",
       "│         ┆         ┆                       ┆                 ┆   ┆              ┆        ┆           ┆ International TV…    │\n",
       "│ s6      ┆ TV Show ┆ Midnight Mass         ┆ Mike Flanagan   ┆ … ┆ 2021         ┆ TV-MA  ┆ 1 Season  ┆ TV Dramas, TV        │\n",
       "│         ┆         ┆                       ┆                 ┆   ┆              ┆        ┆           ┆ Horror, TV Mysteri…  │\n",
       "│ s14     ┆ Movie   ┆ Confessions of an     ┆ Bruno Garotti   ┆ … ┆ 2021         ┆ TV-PG  ┆ 91 min    ┆ Children & Family    │\n",
       "│         ┆         ┆ Invisible Girl        ┆                 ┆   ┆              ┆        ┆           ┆ Movies, Comedi…      │\n",
       "│ s8      ┆ Movie   ┆ Sankofa               ┆ Haile Gerima    ┆ … ┆ 1993         ┆ TV-MA  ┆ 125 min   ┆ Dramas, Independent  │\n",
       "│         ┆         ┆                       ┆                 ┆   ┆              ┆        ┆           ┆ Movies, Inte…        │\n",
       "│ …       ┆ …       ┆ …                     ┆ …               ┆ … ┆ …            ┆ …      ┆ …         ┆ …                    │\n",
       "│ s8797   ┆ TV Show ┆ Yunus Emre            ┆ Not Given       ┆ … ┆ 2016         ┆ TV-PG  ┆ 2 Seasons ┆ International TV     │\n",
       "│         ┆         ┆                       ┆                 ┆   ┆              ┆        ┆           ┆ Shows, TV Drama…     │\n",
       "│ s8798   ┆ TV Show ┆ Zak Storm             ┆ Not Given       ┆ … ┆ 2016         ┆ TV-Y7  ┆ 3 Seasons ┆ Kids' TV             │\n",
       "│ s8801   ┆ TV Show ┆ Zindagi Gulzar Hai    ┆ Not Given       ┆ … ┆ 2012         ┆ TV-PG  ┆ 1 Season  ┆ International TV     │\n",
       "│         ┆         ┆                       ┆                 ┆   ┆              ┆        ┆           ┆ Shows, Romantic…     │\n",
       "│ s8784   ┆ TV Show ┆ Yoko                  ┆ Not Given       ┆ … ┆ 2016         ┆ TV-Y   ┆ 1 Season  ┆ Kids' TV             │\n",
       "│ s8786   ┆ TV Show ┆ YOM                   ┆ Not Given       ┆ … ┆ 2016         ┆ TV-Y7  ┆ 1 Season  ┆ Kids' TV             │\n",
       "└─────────┴─────────┴───────────────────────┴─────────────────┴───┴──────────────┴────────┴───────────┴──────────────────────┘"
      ]
     },
     "execution_count": 144,
     "metadata": {},
     "output_type": "execute_result"
    }
   ],
   "source": [
    "df = df_raw.with_columns(\n",
    "    pl.col(\"date_added\").str.to_datetime(format=\"%m/%d/%Y\")\n",
    ")\n",
    "df"
   ]
  },
  {
   "cell_type": "code",
   "execution_count": 145,
   "id": "f1487523-106f-4125-9bdc-92d311e3562a",
   "metadata": {},
   "outputs": [],
   "source": [
    "df = df.cast({\"type\": pl.Enum([\"TV Show\", \"Movie\"]), \"director\": pl.Categorical, \"rating\": pl.Categorical,  \"country\": pl.Categorical,  \"listed_in\": pl.Categorical, \"release_year\": pl.UInt16})"
   ]
  },
  {
   "cell_type": "code",
   "execution_count": 146,
   "id": "9d86327b-7449-4381-956d-865b129a14b9",
   "metadata": {
    "scrolled": true
   },
   "outputs": [
    {
     "data": {
      "text/plain": [
       "[String,\n",
       " Enum(categories=['TV Show', 'Movie']),\n",
       " String,\n",
       " Categorical(ordering='physical'),\n",
       " Categorical(ordering='physical'),\n",
       " Datetime(time_unit='us', time_zone=None),\n",
       " UInt16,\n",
       " Categorical(ordering='physical'),\n",
       " String,\n",
       " Categorical(ordering='physical')]"
      ]
     },
     "execution_count": 146,
     "metadata": {},
     "output_type": "execute_result"
    }
   ],
   "source": [
    "df.dtypes"
   ]
  },
  {
   "cell_type": "code",
   "execution_count": 147,
   "id": "b4a417b6-82ce-4bba-be40-7e8c221b4519",
   "metadata": {},
   "outputs": [
    {
     "data": {
      "text/html": [
       "<div><style>\n",
       ".dataframe > thead > tr,\n",
       ".dataframe > tbody > tr {\n",
       "  text-align: right;\n",
       "  white-space: pre-wrap;\n",
       "}\n",
       "</style>\n",
       "<small>shape: (10, 2)</small><table border=\"1\" class=\"dataframe\"><thead><tr><th>director</th><th># of titles</th></tr><tr><td>cat</td><td>u32</td></tr></thead><tbody><tr><td>&quot;Not Given&quot;</td><td>2588</td></tr><tr><td>&quot;Rajiv Chilaka&quot;</td><td>20</td></tr><tr><td>&quot;Raúl Campos, J…</td><td>18</td></tr><tr><td>&quot;Alastair Fothe…</td><td>18</td></tr><tr><td>&quot;Suhas Kadav&quot;</td><td>16</td></tr><tr><td>&quot;Marcus Raboy&quot;</td><td>16</td></tr><tr><td>&quot;Jay Karas&quot;</td><td>14</td></tr><tr><td>&quot;Cathy Garcia-M…</td><td>13</td></tr><tr><td>&quot;Youssef Chahin…</td><td>12</td></tr><tr><td>&quot;Martin Scorses…</td><td>12</td></tr></tbody></table></div>"
      ],
      "text/plain": [
       "shape: (10, 2)\n",
       "┌────────────────────────┬─────────────┐\n",
       "│ director               ┆ # of titles │\n",
       "│ ---                    ┆ ---         │\n",
       "│ cat                    ┆ u32         │\n",
       "╞════════════════════════╪═════════════╡\n",
       "│ Not Given              ┆ 2588        │\n",
       "│ Rajiv Chilaka          ┆ 20          │\n",
       "│ Raúl Campos, Jan Suter ┆ 18          │\n",
       "│ Alastair Fothergill    ┆ 18          │\n",
       "│ Suhas Kadav            ┆ 16          │\n",
       "│ Marcus Raboy           ┆ 16          │\n",
       "│ Jay Karas              ┆ 14          │\n",
       "│ Cathy Garcia-Molina    ┆ 13          │\n",
       "│ Youssef Chahine        ┆ 12          │\n",
       "│ Martin Scorsese        ┆ 12          │\n",
       "└────────────────────────┴─────────────┘"
      ]
     },
     "execution_count": 147,
     "metadata": {},
     "output_type": "execute_result"
    }
   ],
   "source": [
    "top_directors = df.group_by(\"director\").agg(\n",
    "    pl.count(\"show_id\").alias(\"# of titles\"),\n",
    ").sort(\"# of titles\", descending=True)\n",
    "\n",
    "top_directors.head(10)"
   ]
  },
  {
   "cell_type": "code",
   "execution_count": 150,
   "id": "90ee1e31-cb4a-413e-b624-f652b366b4d8",
   "metadata": {
    "scrolled": true
   },
   "outputs": [
    {
     "data": {
      "text/html": [
       "<div><style>\n",
       ".dataframe > thead > tr,\n",
       ".dataframe > tbody > tr {\n",
       "  text-align: right;\n",
       "  white-space: pre-wrap;\n",
       "}\n",
       "</style>\n",
       "<small>shape: (0, 10)</small><table border=\"1\" class=\"dataframe\"><thead><tr><th>show_id</th><th>type</th><th>title</th><th>director</th><th>country</th><th>date_added</th><th>release_year</th><th>rating</th><th>duration</th><th>listed_in</th></tr><tr><td>str</td><td>enum</td><td>str</td><td>cat</td><td>cat</td><td>datetime[μs]</td><td>u16</td><td>cat</td><td>str</td><td>cat</td></tr></thead><tbody></tbody></table></div>"
      ],
      "text/plain": [
       "shape: (0, 10)\n",
       "┌─────────┬──────┬───────┬──────────┬───┬──────────────┬────────┬──────────┬───────────┐\n",
       "│ show_id ┆ type ┆ title ┆ director ┆ … ┆ release_year ┆ rating ┆ duration ┆ listed_in │\n",
       "│ ---     ┆ ---  ┆ ---   ┆ ---      ┆   ┆ ---          ┆ ---    ┆ ---      ┆ ---       │\n",
       "│ str     ┆ enum ┆ str   ┆ cat      ┆   ┆ u16          ┆ cat    ┆ str      ┆ cat       │\n",
       "╞═════════╪══════╪═══════╪══════════╪═══╪══════════════╪════════╪══════════╪═══════════╡\n",
       "└─────────┴──────┴───────┴──────────┴───┴──────────────┴────────┴──────────┴───────────┘"
      ]
     },
     "execution_count": 150,
     "metadata": {},
     "output_type": "execute_result"
    }
   ],
   "source": [
    "non_unique_rows = df.filter(df[\"title\"].is_duplicated())\n",
    "non_unique_rows"
   ]
  },
  {
   "cell_type": "code",
   "execution_count": 149,
   "id": "b482bf08-25af-4490-aa6f-76237613893f",
   "metadata": {
    "scrolled": true
   },
   "outputs": [
    {
     "data": {
      "text/html": [
       "<div><style>\n",
       ".dataframe > thead > tr,\n",
       ".dataframe > tbody > tr {\n",
       "  text-align: right;\n",
       "  white-space: pre-wrap;\n",
       "}\n",
       "</style>\n",
       "<small>shape: (8_787, 10)</small><table border=\"1\" class=\"dataframe\"><thead><tr><th>show_id</th><th>type</th><th>title</th><th>director</th><th>country</th><th>date_added</th><th>release_year</th><th>rating</th><th>duration</th><th>listed_in</th></tr><tr><td>str</td><td>enum</td><td>str</td><td>cat</td><td>cat</td><td>datetime[μs]</td><td>u16</td><td>cat</td><td>str</td><td>cat</td></tr></thead><tbody><tr><td>&quot;s3863&quot;</td><td>&quot;Movie&quot;</td><td>&quot;Despite Everyt…</td><td>&quot;Gabriela Tagli…</td><td>&quot;Spain&quot;</td><td>2019-05-03 00:00:00</td><td>2019</td><td>&quot;TV-MA&quot;</td><td>&quot;79 min&quot;</td><td>&quot;Comedies, Inte…</td></tr><tr><td>&quot;s7731&quot;</td><td>&quot;Movie&quot;</td><td>&quot;Personal Shopp…</td><td>&quot;Olivier Assaya…</td><td>&quot;France&quot;</td><td>2019-02-01 00:00:00</td><td>2016</td><td>&quot;R&quot;</td><td>&quot;105 min&quot;</td><td>&quot;Dramas, Intern…</td></tr><tr><td>&quot;s1342&quot;</td><td>&quot;Movie&quot;</td><td>&quot;Malcolm &amp; Mari…</td><td>&quot;Sam Levinson&quot;</td><td>&quot;United States&quot;</td><td>2021-02-05 00:00:00</td><td>2021</td><td>&quot;R&quot;</td><td>&quot;106 min&quot;</td><td>&quot;Dramas, Indepe…</td></tr><tr><td>&quot;s4815&quot;</td><td>&quot;Movie&quot;</td><td>&quot;W. Kamau Bell:…</td><td>&quot;Shannon Hartma…</td><td>&quot;United States&quot;</td><td>2018-06-26 00:00:00</td><td>2018</td><td>&quot;TV-MA&quot;</td><td>&quot;66 min&quot;</td><td>&quot;Stand-Up Comed…</td></tr><tr><td>&quot;s1201&quot;</td><td>&quot;TV Show&quot;</td><td>&quot;Waffles + Moch…</td><td>&quot;Not Given&quot;</td><td>&quot;United States&quot;</td><td>2021-03-16 00:00:00</td><td>2021</td><td>&quot;TV-Y&quot;</td><td>&quot;1 Season&quot;</td><td>&quot;Kids&#x27; TV&quot;</td></tr><tr><td>&quot;s3363&quot;</td><td>&quot;Movie&quot;</td><td>&quot;Arsenio Hall: …</td><td>&quot;Brian Volk-Wei…</td><td>&quot;United States&quot;</td><td>2019-10-29 00:00:00</td><td>2019</td><td>&quot;TV-MA&quot;</td><td>&quot;63 min&quot;</td><td>&quot;Stand-Up Comed…</td></tr><tr><td>&quot;s7970&quot;</td><td>&quot;Movie&quot;</td><td>&quot;Secret in Thei…</td><td>&quot;Billy Ray&quot;</td><td>&quot;United States&quot;</td><td>2018-04-01 00:00:00</td><td>2015</td><td>&quot;PG-13&quot;</td><td>&quot;111 min&quot;</td><td>&quot;Dramas, Thrill…</td></tr><tr><td>&quot;s8485&quot;</td><td>&quot;Movie&quot;</td><td>&quot;The Rift: The …</td><td>&quot;Dejan Zečević&quot;</td><td>&quot;Serbia&quot;</td><td>2018-02-26 00:00:00</td><td>2016</td><td>&quot;TV-MA&quot;</td><td>&quot;92 min&quot;</td><td>&quot;Horror Movies,…</td></tr><tr><td>&quot;s6959&quot;</td><td>&quot;Movie&quot;</td><td>&quot;Her&quot;</td><td>&quot;Spike Jonze&quot;</td><td>&quot;United States&quot;</td><td>2018-07-29 00:00:00</td><td>2013</td><td>&quot;R&quot;</td><td>&quot;126 min&quot;</td><td>&quot;Dramas, Romant…</td></tr><tr><td>&quot;s1712&quot;</td><td>&quot;TV Show&quot;</td><td>&quot;Graceful Frien…</td><td>&quot;Not Given&quot;</td><td>&quot;South Korea&quot;</td><td>2020-11-12 00:00:00</td><td>2020</td><td>&quot;TV-MA&quot;</td><td>&quot;1 Season&quot;</td><td>&quot;Crime TV Shows…</td></tr><tr><td>&quot;s7014&quot;</td><td>&quot;Movie&quot;</td><td>&quot;How the Grinch…</td><td>&quot;Ron Howard&quot;</td><td>&quot;United States&quot;</td><td>2017-06-01 00:00:00</td><td>2000</td><td>&quot;PG&quot;</td><td>&quot;105 min&quot;</td><td>&quot;Children &amp; Fam…</td></tr><tr><td>&quot;s7375&quot;</td><td>&quot;Movie&quot;</td><td>&quot;Madre&quot;</td><td>&quot;Aaron Burns&quot;</td><td>&quot;Chile&quot;</td><td>2017-08-26 00:00:00</td><td>2016</td><td>&quot;TV-MA&quot;</td><td>&quot;95 min&quot;</td><td>&quot;International …</td></tr><tr><td>&hellip;</td><td>&hellip;</td><td>&hellip;</td><td>&hellip;</td><td>&hellip;</td><td>&hellip;</td><td>&hellip;</td><td>&hellip;</td><td>&hellip;</td><td>&hellip;</td></tr><tr><td>&quot;s3630&quot;</td><td>&quot;Movie&quot;</td><td>&quot;Otherhood&quot;</td><td>&quot;Not Given&quot;</td><td>&quot;United Kingdom…</td><td>2019-08-02 00:00:00</td><td>2019</td><td>&quot;R&quot;</td><td>&quot;101 min&quot;</td><td>&quot;Comedies&quot;</td></tr><tr><td>&quot;s7193&quot;</td><td>&quot;Movie&quot;</td><td>&quot;Kickboxer: Ven…</td><td>&quot;John Stockwell…</td><td>&quot;United States&quot;</td><td>2016-12-08 00:00:00</td><td>2016</td><td>&quot;TV-MA&quot;</td><td>&quot;90 min&quot;</td><td>&quot;Action &amp; Adven…</td></tr><tr><td>&quot;s660&quot;</td><td>&quot;TV Show&quot;</td><td>&quot;Bangkok Love S…</td><td>&quot;Not Given&quot;</td><td>&quot;Thailand&quot;</td><td>2021-06-19 00:00:00</td><td>2018</td><td>&quot;TV-14&quot;</td><td>&quot;1 Season&quot;</td><td>&quot;International …</td></tr><tr><td>&quot;s4408&quot;</td><td>&quot;TV Show&quot;</td><td>&quot;Treehouse Dete…</td><td>&quot;Not Given&quot;</td><td>&quot;South Korea&quot;</td><td>2018-11-09 00:00:00</td><td>2018</td><td>&quot;TV-Y&quot;</td><td>&quot;2 Seasons&quot;</td><td>&quot;Kids&#x27; TV, TV T…</td></tr><tr><td>&quot;s1839&quot;</td><td>&quot;Movie&quot;</td><td>&quot;In a Valley of…</td><td>&quot;Ti West&quot;</td><td>&quot;United States&quot;</td><td>2020-10-16 00:00:00</td><td>2016</td><td>&quot;R&quot;</td><td>&quot;104 min&quot;</td><td>&quot;Action &amp; Adven…</td></tr><tr><td>&quot;s4520&quot;</td><td>&quot;Movie&quot;</td><td>&quot;The Kindergart…</td><td>&quot;Sara Colangelo…</td><td>&quot;United States&quot;</td><td>2018-10-12 00:00:00</td><td>2018</td><td>&quot;R&quot;</td><td>&quot;97 min&quot;</td><td>&quot;Dramas, Indepe…</td></tr><tr><td>&quot;s1789&quot;</td><td>&quot;Movie&quot;</td><td>&quot;Nobody Sleeps …</td><td>&quot;Bartosz M. Kow…</td><td>&quot;Poland&quot;</td><td>2020-10-28 00:00:00</td><td>2020</td><td>&quot;TV-MA&quot;</td><td>&quot;103 min&quot;</td><td>&quot;Horror Movies,…</td></tr><tr><td>&quot;s7245&quot;</td><td>&quot;Movie&quot;</td><td>&quot;Kurt &amp; Courtne…</td><td>&quot;Nick Broomfiel…</td><td>&quot;United Kingdom…</td><td>2019-01-08 00:00:00</td><td>1998</td><td>&quot;R&quot;</td><td>&quot;95 min&quot;</td><td>&quot;Documentaries,…</td></tr><tr><td>&quot;s1578&quot;</td><td>&quot;Movie&quot;</td><td>&quot;Emicida: AmarE…</td><td>&quot;Not Given&quot;</td><td>&quot;Brazil&quot;</td><td>2020-12-08 00:00:00</td><td>2020</td><td>&quot;TV-MA&quot;</td><td>&quot;90 min&quot;</td><td>&quot;Documentaries,…</td></tr><tr><td>&quot;s804&quot;</td><td>&quot;TV Show&quot;</td><td>&quot;Ouran High Sch…</td><td>&quot;Takuya Igarash…</td><td>&quot;Japan&quot;</td><td>2021-06-02 00:00:00</td><td>2006</td><td>&quot;TV-PG&quot;</td><td>&quot;1 Season&quot;</td><td>&quot;Anime Series, …</td></tr><tr><td>&quot;s1854&quot;</td><td>&quot;Movie&quot;</td><td>&quot;Rooting for Ro…</td><td>&quot;Pavitra Chalam…</td><td>&quot;India&quot;</td><td>2020-10-15 00:00:00</td><td>2020</td><td>&quot;TV-PG&quot;</td><td>&quot;42 min&quot;</td><td>&quot;Documentaries,…</td></tr><tr><td>&quot;s2208&quot;</td><td>&quot;Movie&quot;</td><td>&quot;Animal Cracker…</td><td>&quot;Tony Bancroft,…</td><td>&quot;China&quot;</td><td>2020-07-24 00:00:00</td><td>2020</td><td>&quot;TV-Y7&quot;</td><td>&quot;106 min&quot;</td><td>&quot;Children &amp; Fam…</td></tr></tbody></table></div>"
      ],
      "text/plain": [
       "shape: (8_787, 10)\n",
       "┌─────────┬─────────┬─────────────────────┬─────────────────────┬───┬──────────────┬────────┬──────────┬─────────────────────┐\n",
       "│ show_id ┆ type    ┆ title               ┆ director            ┆ … ┆ release_year ┆ rating ┆ duration ┆ listed_in           │\n",
       "│ ---     ┆ ---     ┆ ---                 ┆ ---                 ┆   ┆ ---          ┆ ---    ┆ ---      ┆ ---                 │\n",
       "│ str     ┆ enum    ┆ str                 ┆ cat                 ┆   ┆ u16          ┆ cat    ┆ str      ┆ cat                 │\n",
       "╞═════════╪═════════╪═════════════════════╪═════════════════════╪═══╪══════════════╪════════╪══════════╪═════════════════════╡\n",
       "│ s3863   ┆ Movie   ┆ Despite Everything  ┆ Gabriela Tagliavini ┆ … ┆ 2019         ┆ TV-MA  ┆ 79 min   ┆ Comedies,           │\n",
       "│         ┆         ┆                     ┆                     ┆   ┆              ┆        ┆          ┆ International       │\n",
       "│         ┆         ┆                     ┆                     ┆   ┆              ┆        ┆          ┆ Movies, …           │\n",
       "│ s7731   ┆ Movie   ┆ Personal Shopper    ┆ Olivier Assayas     ┆ … ┆ 2016         ┆ R      ┆ 105 min  ┆ Dramas,             │\n",
       "│         ┆         ┆                     ┆                     ┆   ┆              ┆        ┆          ┆ International       │\n",
       "│         ┆         ┆                     ┆                     ┆   ┆              ┆        ┆          ┆ Movies, Th…         │\n",
       "│ s1342   ┆ Movie   ┆ Malcolm & Marie     ┆ Sam Levinson        ┆ … ┆ 2021         ┆ R      ┆ 106 min  ┆ Dramas, Independent │\n",
       "│         ┆         ┆                     ┆                     ┆   ┆              ┆        ┆          ┆ Movies              │\n",
       "│ s4815   ┆ Movie   ┆ W. Kamau Bell:      ┆ Shannon Hartman     ┆ … ┆ 2018         ┆ TV-MA  ┆ 66 min   ┆ Stand-Up Comedy     │\n",
       "│         ┆         ┆ Private School Ne…  ┆                     ┆   ┆              ┆        ┆          ┆                     │\n",
       "│ s1201   ┆ TV Show ┆ Waffles + Mochi     ┆ Not Given           ┆ … ┆ 2021         ┆ TV-Y   ┆ 1 Season ┆ Kids' TV            │\n",
       "│ …       ┆ …       ┆ …                   ┆ …                   ┆ … ┆ …            ┆ …      ┆ …        ┆ …                   │\n",
       "│ s7245   ┆ Movie   ┆ Kurt & Courtney     ┆ Nick Broomfield     ┆ … ┆ 1998         ┆ R      ┆ 95 min   ┆ Documentaries,      │\n",
       "│         ┆         ┆                     ┆                     ┆   ┆              ┆        ┆          ┆ Music & Musicals    │\n",
       "│ s1578   ┆ Movie   ┆ Emicida: AmarElo -  ┆ Not Given           ┆ … ┆ 2020         ┆ TV-MA  ┆ 90 min   ┆ Documentaries,      │\n",
       "│         ┆         ┆ It’s All For …      ┆                     ┆   ┆              ┆        ┆          ┆ International Mov…  │\n",
       "│ s804    ┆ TV Show ┆ Ouran High School   ┆ Takuya Igarashi     ┆ … ┆ 2006         ┆ TV-PG  ┆ 1 Season ┆ Anime Series,       │\n",
       "│         ┆         ┆ Host Club           ┆                     ┆   ┆              ┆        ┆          ┆ Romantic TV Shows,… │\n",
       "│ s1854   ┆ Movie   ┆ Rooting for Roona   ┆ Pavitra Chalam,     ┆ … ┆ 2020         ┆ TV-PG  ┆ 42 min   ┆ Documentaries,      │\n",
       "│         ┆         ┆                     ┆ Akshay Shankar      ┆   ┆              ┆        ┆          ┆ International Mov…  │\n",
       "│ s2208   ┆ Movie   ┆ Animal Crackers     ┆ Tony Bancroft,      ┆ … ┆ 2020         ┆ TV-Y7  ┆ 106 min  ┆ Children & Family   │\n",
       "│         ┆         ┆                     ┆ Scott Christian S…  ┆   ┆              ┆        ┆          ┆ Movies, Comedi…     │\n",
       "└─────────┴─────────┴─────────────────────┴─────────────────────┴───┴──────────────┴────────┴──────────┴─────────────────────┘"
      ]
     },
     "execution_count": 149,
     "metadata": {},
     "output_type": "execute_result"
    }
   ],
   "source": [
    "df = df.unique(subset=[\"title\"],keep=\"first\")\n",
    "df"
   ]
  },
  {
   "cell_type": "code",
   "execution_count": 151,
   "id": "6e82010c-75ad-419d-a1b6-e73ff5b6beec",
   "metadata": {},
   "outputs": [],
   "source": [
    "total = df.height"
   ]
  },
  {
   "cell_type": "code",
   "execution_count": 152,
   "id": "b4e37d3a-905e-4da3-a4cc-93b4b5f82e96",
   "metadata": {},
   "outputs": [
    {
     "data": {
      "text/html": [
       "<div><style>\n",
       ".dataframe > thead > tr,\n",
       ".dataframe > tbody > tr {\n",
       "  text-align: right;\n",
       "  white-space: pre-wrap;\n",
       "}\n",
       "</style>\n",
       "<small>shape: (2, 2)</small><table border=\"1\" class=\"dataframe\"><thead><tr><th>type</th><th># of titles</th></tr><tr><td>enum</td><td>f64</td></tr></thead><tbody><tr><td>&quot;Movie&quot;</td><td>69.693866</td></tr><tr><td>&quot;TV Show&quot;</td><td>30.306134</td></tr></tbody></table></div>"
      ],
      "text/plain": [
       "shape: (2, 2)\n",
       "┌─────────┬─────────────┐\n",
       "│ type    ┆ # of titles │\n",
       "│ ---     ┆ ---         │\n",
       "│ enum    ┆ f64         │\n",
       "╞═════════╪═════════════╡\n",
       "│ Movie   ┆ 69.693866   │\n",
       "│ TV Show ┆ 30.306134   │\n",
       "└─────────┴─────────────┘"
      ]
     },
     "execution_count": 152,
     "metadata": {},
     "output_type": "execute_result"
    }
   ],
   "source": [
    "movies_vs_series = df.group_by(\"type\").agg(\n",
    "    (pl.count(\"show_id\").alias(\"# of titles\") / total) * 100,\n",
    ").sort(\"# of titles\", descending=True)\n",
    "\n",
    "movies_vs_series.head(10)"
   ]
  },
  {
   "cell_type": "markdown",
   "id": "5a9ac9c0-ecc8-42fa-b08a-a8477e28b2fb",
   "metadata": {
    "jp-MarkdownHeadingCollapsed": true
   },
   "source": [
    "## **References**"
   ]
  },
  {
   "cell_type": "markdown",
   "id": "858e9c6a-a06a-48ab-a60c-ce633ed57106",
   "metadata": {},
   "source": [
    "- https://pola-rs.github.io/polars/\n",
    "- https://realpython.com/polars-python/"
   ]
  }
 ],
 "metadata": {
  "kernelspec": {
   "display_name": "Python 3 (ipykernel)",
   "language": "python",
   "name": "python3"
  },
  "language_info": {
   "codemirror_mode": {
    "name": "ipython",
    "version": 3
   },
   "file_extension": ".py",
   "mimetype": "text/x-python",
   "name": "python",
   "nbconvert_exporter": "python",
   "pygments_lexer": "ipython3",
   "version": "3.8.0"
  }
 },
 "nbformat": 4,
 "nbformat_minor": 5
}
