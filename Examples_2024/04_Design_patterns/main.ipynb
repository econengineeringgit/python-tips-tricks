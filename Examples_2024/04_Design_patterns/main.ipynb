{
 "cells": [
  {
   "cell_type": "markdown",
   "metadata": {},
   "source": [
    "# Desing Patterns"
   ]
  },
  {
   "cell_type": "markdown",
   "metadata": {},
   "source": [
    "## Why?\n",
    "- Better structure for code\n",
    "- Good structure -> Expandability\n",
    "- Good structure -> Understandable code"
   ]
  },
  {
   "cell_type": "markdown",
   "metadata": {},
   "source": [
    "### Simple example (FACTORY)\n",
    "When you have more than one generator that needs the same variables and the same function calling."
   ]
  },
  {
   "cell_type": "code",
   "execution_count": 3,
   "metadata": {},
   "outputs": [],
   "source": [
    "from generator import generate_values"
   ]
  },
  {
   "cell_type": "code",
   "execution_count": 4,
   "metadata": {},
   "outputs": [
    {
     "name": "stdout",
     "output_type": "stream",
     "text": [
      "[7, 9, 7, 2, 0, 1, 1, 5, 2, 9, 3, 7, 7, 8, 12, 0, 0, 5, 4, 2, 0, 4, 10, 11, 3, 0, 8, 0, 10, 8, 2, 9, 4, 8, 10, 11, 9, 6, 12, 11, 9, 7, 12, 11, 1, 9, 5, 3, 11, 12]\n"
     ]
    }
   ],
   "source": [
    "print(generate_values(\"int\", 50, 0, 12))"
   ]
  },
  {
   "cell_type": "code",
   "execution_count": 5,
   "metadata": {},
   "outputs": [
    {
     "name": "stdout",
     "output_type": "stream",
     "text": [
      "[13.636075174442656, 9.81465105726667, 4.839959492035929, 26.734689964193446, 0.709195989280285, 13.892171274346861, 8.86982952215739, 14.972352027596527, 14.041106420535725, 5.058216954024913, 16.632496848898448, 10.589541017318592, 14.207145705459842, 2.585773253500791, 23.742729452175737, 3.3524801987530677, 13.483880302987096, 4.5521361529663205, 4.458392245546467, 12.861144430699419, 8.88221994661386, 17.231063242252816, 2.6593127886691934, 20.048179547275613, 27.17986955745337, 13.644263773155108, 20.98181547299522, 19.29771924542276, 3.8572033261747745, 7.904575606972028, 14.777910050874242, 14.574058772811654, 11.610876587042668, 15.818541146212251, 11.93061070750137, 15.957515633711935, 10.284828924322332, 11.080929799706363, 17.953610824713085, 26.349797238291334, 14.589861028210033, 14.569404235670461, 6.433819432268427, 2.7542488392328353, 17.89771217064191, 1.7475548691826532, 12.177459355794786, 9.096938429739996, 2.8928485662345955, 11.401148680947237]\n"
     ]
    }
   ],
   "source": [
    "print(generate_values(\"float\", 50, 0.43, 27.34))"
   ]
  },
  {
   "cell_type": "markdown",
   "metadata": {},
   "source": [
    "### Singleton\n",
    "When you need only one instance of a class."
   ]
  },
  {
   "cell_type": "code",
   "execution_count": 6,
   "metadata": {},
   "outputs": [
    {
     "name": "stdout",
     "output_type": "stream",
     "text": [
      "first name: first\n",
      "second name: first\n"
     ]
    }
   ],
   "source": [
    "from singleton import MyClass\n",
    "\n",
    "s = MyClass(\"first\")\n",
    "s2 = MyClass(\"second\")\n",
    "\n",
    "print(f\"first name: {s.name}\")\n",
    "print(f\"second name: {s2.name}\")"
   ]
  },
  {
   "cell_type": "code",
   "execution_count": 7,
   "metadata": {},
   "outputs": [
    {
     "name": "stdout",
     "output_type": "stream",
     "text": [
      "current: first\n"
     ]
    }
   ],
   "source": [
    "c = MyClass()\n",
    "print(f\"current: {c.name}\")"
   ]
  },
  {
   "cell_type": "markdown",
   "metadata": {},
   "source": [
    "## Pythonic design pattern"
   ]
  },
  {
   "cell_type": "markdown",
   "metadata": {},
   "source": [
    "### Bridge\n",
    "When a function inside a class can change during run time!"
   ]
  },
  {
   "cell_type": "code",
   "execution_count": null,
   "metadata": {},
   "outputs": [],
   "source": [
    "from bridge import Validate\n",
    "v = Validate(49)\n",
    "print(f\"{v.is_valid() = }\")"
   ]
  },
  {
   "cell_type": "code",
   "execution_count": null,
   "metadata": {},
   "outputs": [],
   "source": [
    "def less_than_50(value: int) -> bool:\n",
    "    return value < 50\n",
    "\n",
    "v.validate = less_than_50\n",
    "print(f\"{v.is_valid() = }\")\n",
    "\n",
    "def more_than_50(value: int) -> bool:\n",
    "    return value > 50\n",
    "\n",
    "v.validate = more_than_50\n",
    "print(f\"{v.is_valid() = }\")"
   ]
  },
  {
   "cell_type": "markdown",
   "metadata": {},
   "source": [
    "## Structural design patterns"
   ]
  },
  {
   "cell_type": "markdown",
   "metadata": {},
   "source": [
    "### MVC (Model-view-controller)"
   ]
  },
  {
   "cell_type": "markdown",
   "metadata": {},
   "source": [
    "### Plugin"
   ]
  }
 ],
 "metadata": {
  "kernelspec": {
   "display_name": "Python 3",
   "language": "python",
   "name": "python3"
  },
  "language_info": {
   "codemirror_mode": {
    "name": "ipython",
    "version": 3
   },
   "file_extension": ".py",
   "mimetype": "text/x-python",
   "name": "python",
   "nbconvert_exporter": "python",
   "pygments_lexer": "ipython3",
   "version": "3.12.0"
  }
 },
 "nbformat": 4,
 "nbformat_minor": 2
}
