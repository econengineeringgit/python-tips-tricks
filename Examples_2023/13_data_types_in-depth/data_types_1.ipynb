{
 "cells": [
  {
   "cell_type": "markdown",
   "metadata": {},
   "source": [
    "# Data types in Python"
   ]
  },
  {
   "cell_type": "markdown",
   "metadata": {},
   "source": [
    "## Tuple: immutable list?\n",
    "\n",
    "* Length will not change\n",
    "* Elements cannot be changed (unless they are mutable)\n",
    "* Uses less memory than lists"
   ]
  },
  {
   "cell_type": "code",
   "execution_count": 8,
   "metadata": {},
   "outputs": [],
   "source": [
    "a = (10, \"alpha\", [1, 2])\n",
    "b = (10, \"alpha\", [1, 2])\n",
    "b[-1].append(99)"
   ]
  },
  {
   "cell_type": "code",
   "execution_count": 10,
   "metadata": {},
   "outputs": [
    {
     "name": "stdout",
     "output_type": "stream",
     "text": [
      "(10, 'alpha', [1, 2])\n",
      "(10, 'alpha', [1, 2, 99])\n"
     ]
    }
   ],
   "source": [
    "a == b\n",
    "print(a)\n",
    "print(b)"
   ]
  },
  {
   "cell_type": "markdown",
   "metadata": {},
   "source": [
    "### Unpacking tuples"
   ]
  },
  {
   "cell_type": "code",
   "execution_count": 11,
   "metadata": {},
   "outputs": [
    {
     "name": "stdout",
     "output_type": "stream",
     "text": [
      "10 alpha [1, 2]\n"
     ]
    }
   ],
   "source": [
    "num, name, lst = a\n",
    "print(num, name, lst)"
   ]
  },
  {
   "cell_type": "code",
   "execution_count": 12,
   "metadata": {},
   "outputs": [
    {
     "name": "stdout",
     "output_type": "stream",
     "text": [
      "10 ['alpha', [1, 2]]\n"
     ]
    }
   ],
   "source": [
    "num, *rest = a\n",
    "print(num, rest)"
   ]
  },
  {
   "cell_type": "markdown",
   "metadata": {},
   "source": [
    "### Slicing - slice object"
   ]
  },
  {
   "cell_type": "code",
   "execution_count": 13,
   "metadata": {},
   "outputs": [
    {
     "data": {
      "text/plain": [
       "'bye'"
      ]
     },
     "execution_count": 13,
     "metadata": {},
     "output_type": "execute_result"
    }
   ],
   "source": [
    "s = \"bicycle\"\n",
    "s[::3]"
   ]
  },
  {
   "cell_type": "code",
   "execution_count": 14,
   "metadata": {},
   "outputs": [],
   "source": [
    "invoice = \"\"\"\n",
    "0.....6.................................40........52...55........\n",
    "1909  Pimoroni PiBrella                     $17.50    3    $52.50\n",
    "1489  6mm Tactile Switch x20                 $4.95    2     $9.90\n",
    "1510  Panavise Jr. - PV-201                 $28.00    1    $28.00\n",
    "1601  PiTFT Mini Kit 320x240                $34.95    1    $34.95\n",
    "\"\"\""
   ]
  },
  {
   "cell_type": "code",
   "execution_count": 16,
   "metadata": {},
   "outputs": [
    {
     "name": "stdout",
     "output_type": "stream",
     "text": [
      "slice(0, 6, None)\n",
      "    $17.50   Pimoroni PiBrella                 \n",
      "     $4.95   6mm Tactile Switch x20            \n",
      "    $28.00   Panavise Jr. - PV-201             \n",
      "    $34.95   PiTFT Mini Kit 320x240            \n",
      " \n"
     ]
    }
   ],
   "source": [
    "SKU = slice(0, 6)\n",
    "DESCRIPTION = slice(6, 40)\n",
    "UNIT_PRICE = slice(40, 52)\n",
    "QUANTITY = slice(52, 55)\n",
    "ITEM_TOTAL = slice(55, None)\n",
    "line_items = invoice.split(\"\\n\")[2:]\n",
    "print(SKU)\n",
    "for item in line_items:\n",
    "    print(item[UNIT_PRICE], item[DESCRIPTION])"
   ]
  },
  {
   "cell_type": "markdown",
   "metadata": {},
   "source": [
    "bugs / features?"
   ]
  },
  {
   "cell_type": "code",
   "execution_count": 2,
   "metadata": {},
   "outputs": [
    {
     "ename": "TypeError",
     "evalue": "'tuple' object does not support item assignment",
     "output_type": "error",
     "traceback": [
      "\u001b[1;31m---------------------------------------------------------------------------\u001b[0m",
      "\u001b[1;31mTypeError\u001b[0m                                 Traceback (most recent call last)",
      "Cell \u001b[1;32mIn[2], line 2\u001b[0m\n\u001b[0;32m      1\u001b[0m t \u001b[39m=\u001b[39m (\u001b[39m1\u001b[39m, \u001b[39m2\u001b[39m, [\u001b[39m30\u001b[39m, \u001b[39m40\u001b[39m])\n\u001b[1;32m----> 2\u001b[0m t[\u001b[39m2\u001b[39;49m] \u001b[39m+\u001b[39m\u001b[39m=\u001b[39m [\u001b[39m50\u001b[39m, \u001b[39m60\u001b[39m]\n",
      "\u001b[1;31mTypeError\u001b[0m: 'tuple' object does not support item assignment"
     ]
    }
   ],
   "source": [
    "t = (1, 2, [30, 40])\n",
    "t[2] += [50, 60]"
   ]
  },
  {
   "cell_type": "markdown",
   "metadata": {},
   "source": [
    "https://pythontutor.com/"
   ]
  },
  {
   "cell_type": "code",
   "execution_count": 18,
   "metadata": {},
   "outputs": [
    {
     "data": {
      "text/plain": [
       "[['_', '_', '_'], ['_', '_', '_'], ['_', '_', '_']]"
      ]
     },
     "execution_count": 18,
     "metadata": {},
     "output_type": "execute_result"
    }
   ],
   "source": [
    "board = [[\"_\"] * 3 for i in range(3)]\n",
    "board"
   ]
  },
  {
   "cell_type": "code",
   "execution_count": 19,
   "metadata": {},
   "outputs": [
    {
     "data": {
      "text/plain": [
       "[['_', '_', '_'], ['_', '_', 'X'], ['_', '_', '_']]"
      ]
     },
     "execution_count": 19,
     "metadata": {},
     "output_type": "execute_result"
    }
   ],
   "source": [
    "board[1][2] = \"X\"\n",
    "board"
   ]
  },
  {
   "cell_type": "code",
   "execution_count": 20,
   "metadata": {},
   "outputs": [
    {
     "data": {
      "text/plain": [
       "[['_', '_', '_'], ['_', '_', '_'], ['_', '_', '_']]"
      ]
     },
     "execution_count": 20,
     "metadata": {},
     "output_type": "execute_result"
    }
   ],
   "source": [
    "weird_board = [[\"_\"] * 3] * 3\n",
    "weird_board"
   ]
  },
  {
   "cell_type": "code",
   "execution_count": 22,
   "metadata": {},
   "outputs": [
    {
     "data": {
      "text/plain": [
       "[['_', '_', 'O'], ['_', '_', 'O'], ['_', '_', 'O']]"
      ]
     },
     "execution_count": 22,
     "metadata": {},
     "output_type": "execute_result"
    }
   ],
   "source": [
    "weird_board[1][2] = \"O\"\n",
    "weird_board"
   ]
  },
  {
   "cell_type": "code",
   "execution_count": 23,
   "metadata": {},
   "outputs": [
    {
     "name": "stdout",
     "output_type": "stream",
     "text": [
      "  1           0 LOAD_NAME                0 (s)\n",
      "              2 LOAD_NAME                1 (a)\n",
      "              4 DUP_TOP_TWO\n",
      "              6 BINARY_SUBSCR\n",
      "              8 LOAD_NAME                2 (b)\n",
      "             10 INPLACE_ADD\n",
      "             12 ROT_THREE\n",
      "             14 STORE_SUBSCR\n",
      "             16 LOAD_CONST               0 (None)\n",
      "             18 RETURN_VALUE\n"
     ]
    }
   ],
   "source": [
    "import dis\n",
    "\n",
    "dis.dis(\"s[a] += b\")"
   ]
  },
  {
   "cell_type": "markdown",
   "metadata": {},
   "source": [
    "## Dictionary (Mapping)"
   ]
  },
  {
   "cell_type": "code",
   "execution_count": 25,
   "metadata": {},
   "outputs": [],
   "source": [
    "# handling missing keys with setdefault\n",
    "text = \"This is a long text that is not very interesting. But it is a long text.\""
   ]
  },
  {
   "cell_type": "code",
   "execution_count": 36,
   "metadata": {},
   "outputs": [
    {
     "name": "stdout",
     "output_type": "stream",
     "text": [
      "{'This': [0], 'is': [1, 6, 12], 'a': [2, 13], 'long': [3, 14], 'text': [4], 'that': [5], 'not': [7], 'very': [8], 'interesting.': [9], 'But': [10], 'it': [11], 'text.': [15]}\n"
     ]
    }
   ],
   "source": [
    "word_positions = {}\n",
    "for index, word in enumerate(text.split()):\n",
    "    if word in word_positions:\n",
    "        word_positions[word].append(index)\n",
    "    else:\n",
    "        word_positions[word] = [index]\n",
    "print(word_positions)"
   ]
  },
  {
   "cell_type": "code",
   "execution_count": 37,
   "metadata": {},
   "outputs": [
    {
     "name": "stdout",
     "output_type": "stream",
     "text": [
      "{'This': [0], 'is': [1, 6, 12], 'a': [2, 13], 'long': [3, 14], 'text': [4], 'that': [5], 'not': [7], 'very': [8], 'interesting.': [9], 'But': [10], 'it': [11], 'text.': [15]}\n"
     ]
    }
   ],
   "source": [
    "word_positions = {}\n",
    "for index, word in enumerate(text.split()):\n",
    "    word_positions.setdefault(word, []).append(index)\n",
    "\n",
    "print(word_positions)"
   ]
  },
  {
   "cell_type": "code",
   "execution_count": 38,
   "metadata": {},
   "outputs": [
    {
     "name": "stdout",
     "output_type": "stream",
     "text": [
      "defaultdict(<class 'list'>, {'This': [0], 'is': [1, 6, 12], 'a': [2, 13], 'long': [3, 14], 'text': [4], 'that': [5], 'not': [7], 'very': [8], 'interesting.': [9], 'But': [10], 'it': [11], 'text.': [15]})\n"
     ]
    }
   ],
   "source": [
    "from collections import defaultdict\n",
    "\n",
    "word_positions_dd = defaultdict(list)\n",
    "for index, word in enumerate(text.split()):\n",
    "    word_positions_dd[word].append(index)\n",
    "\n",
    "print(word_positions_dd)"
   ]
  },
  {
   "cell_type": "code",
   "execution_count": 39,
   "metadata": {},
   "outputs": [
    {
     "name": "stdout",
     "output_type": "stream",
     "text": [
      "[1, 6, 12]\n"
     ]
    },
    {
     "ename": "KeyError",
     "evalue": "'missing'",
     "output_type": "error",
     "traceback": [
      "\u001b[1;31m---------------------------------------------------------------------------\u001b[0m",
      "\u001b[1;31mKeyError\u001b[0m                                  Traceback (most recent call last)",
      "Cell \u001b[1;32mIn[39], line 2\u001b[0m\n\u001b[0;32m      1\u001b[0m \u001b[39mprint\u001b[39m(word_positions[\u001b[39m\"\u001b[39m\u001b[39mis\u001b[39m\u001b[39m\"\u001b[39m])\n\u001b[1;32m----> 2\u001b[0m \u001b[39mprint\u001b[39m(word_positions[\u001b[39m\"\u001b[39;49m\u001b[39mmissing\u001b[39;49m\u001b[39m\"\u001b[39;49m])\n",
      "\u001b[1;31mKeyError\u001b[0m: 'missing'"
     ]
    }
   ],
   "source": [
    "print(word_positions[\"is\"])\n",
    "print(word_positions[\"missing\"])"
   ]
  },
  {
   "cell_type": "code",
   "execution_count": 40,
   "metadata": {},
   "outputs": [
    {
     "name": "stdout",
     "output_type": "stream",
     "text": [
      "[1, 6, 12]\n",
      "[]\n"
     ]
    }
   ],
   "source": [
    "print(word_positions_dd[\"is\"])\n",
    "print(word_positions_dd[\"missing\"])"
   ]
  },
  {
   "cell_type": "code",
   "execution_count": 41,
   "metadata": {},
   "outputs": [
    {
     "data": {
      "text/plain": [
       "defaultdict(list,\n",
       "            {'This': [0],\n",
       "             'is': [1, 6, 12],\n",
       "             'a': [2, 13],\n",
       "             'long': [3, 14],\n",
       "             'text': [4],\n",
       "             'that': [5],\n",
       "             'not': [7],\n",
       "             'very': [8],\n",
       "             'interesting.': [9],\n",
       "             'But': [10],\n",
       "             'it': [11],\n",
       "             'text.': [15],\n",
       "             'missing': []})"
      ]
     },
     "execution_count": 41,
     "metadata": {},
     "output_type": "execute_result"
    }
   ],
   "source": [
    "word_positions_dd"
   ]
  },
  {
   "cell_type": "markdown",
   "metadata": {},
   "source": [
    "### Dictionary views"
   ]
  },
  {
   "cell_type": "code",
   "execution_count": 42,
   "metadata": {},
   "outputs": [
    {
     "name": "stdout",
     "output_type": "stream",
     "text": [
      "dict_keys(['This', 'is', 'a', 'long', 'text', 'that', 'not', 'very', 'interesting.', 'But', 'it', 'text.'])\n",
      "dict_values([[0], [1, 6, 12], [2, 13], [3, 14], [4], [5], [7], [8], [9], [10], [11], [15]])\n",
      "dict_items([('This', [0]), ('is', [1, 6, 12]), ('a', [2, 13]), ('long', [3, 14]), ('text', [4]), ('that', [5]), ('not', [7]), ('very', [8]), ('interesting.', [9]), ('But', [10]), ('it', [11]), ('text.', [15])])\n"
     ]
    }
   ],
   "source": [
    "print(word_positions.keys())\n",
    "print(word_positions.values())\n",
    "print(word_positions.items())"
   ]
  },
  {
   "cell_type": "markdown",
   "metadata": {},
   "source": [
    "https://www.fluentpython.com/extra/internals-of-sets-and-dicts/"
   ]
  },
  {
   "cell_type": "code",
   "execution_count": 47,
   "metadata": {},
   "outputs": [
    {
     "data": {
      "text/plain": [
       "{'Fri', 'Mon', 'Thu', 'Tue', 'Wed'}"
      ]
     },
     "execution_count": 47,
     "metadata": {},
     "output_type": "execute_result"
    }
   ],
   "source": [
    "workdays = {\"Mon\", \"Tue\", \"Wed\", \"Thu\", \"Fri\"}\n",
    "workdays"
   ]
  },
  {
   "cell_type": "code",
   "execution_count": null,
   "metadata": {},
   "outputs": [],
   "source": []
  }
 ],
 "metadata": {
  "kernelspec": {
   "display_name": ".venv",
   "language": "python",
   "name": "python3"
  },
  "language_info": {
   "codemirror_mode": {
    "name": "ipython",
    "version": 3
   },
   "file_extension": ".py",
   "mimetype": "text/x-python",
   "name": "python",
   "nbconvert_exporter": "python",
   "pygments_lexer": "ipython3",
   "version": "3.8.10"
  }
 },
 "nbformat": 4,
 "nbformat_minor": 2
}
