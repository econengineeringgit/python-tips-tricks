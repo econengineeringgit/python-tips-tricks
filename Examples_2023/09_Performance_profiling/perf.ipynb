{
 "cells": [
  {
   "attachments": {},
   "cell_type": "markdown",
   "metadata": {},
   "source": [
    "## Timing"
   ]
  },
  {
   "cell_type": "code",
   "execution_count": 5,
   "metadata": {},
   "outputs": [],
   "source": [
    "import timeit\n",
    "import time\n"
   ]
  },
  {
   "cell_type": "code",
   "execution_count": 13,
   "metadata": {},
   "outputs": [],
   "source": [
    "def time_consuming_task(t=5):\n",
    "    print(f\"\\tworking hard... (for {t} s)\")\n",
    "    time.sleep(t)"
   ]
  },
  {
   "attachments": {},
   "cell_type": "markdown",
   "metadata": {},
   "source": [
    "### timeit"
   ]
  },
  {
   "cell_type": "code",
   "execution_count": 28,
   "metadata": {},
   "outputs": [],
   "source": [
    " numbers = [7, 6, 1, 4, 1, 8, 0, 6]"
   ]
  },
  {
   "cell_type": "code",
   "execution_count": 30,
   "metadata": {},
   "outputs": [
    {
     "name": "stdout",
     "output_type": "stream",
     "text": [
      "202 ns ± 5.7 ns per loop (mean ± std. dev. of 7 runs, 10,000,000 loops each)\n"
     ]
    }
   ],
   "source": [
    " %timeit set(numbers) # Only in ipynb"
   ]
  },
  {
   "cell_type": "code",
   "execution_count": 32,
   "metadata": {},
   "outputs": [
    {
     "data": {
      "text/plain": [
       "0.17570069999987936"
      ]
     },
     "execution_count": 32,
     "metadata": {},
     "output_type": "execute_result"
    }
   ],
   "source": [
    "timeit.timeit('{*[7, 6, 1, 4, 1, 8, 0, 6]}')"
   ]
  },
  {
   "attachments": {},
   "cell_type": "markdown",
   "metadata": {},
   "source": [
    "### time decorator"
   ]
  },
  {
   "cell_type": "code",
   "execution_count": 14,
   "metadata": {},
   "outputs": [],
   "source": [
    "import functools\n",
    "\n",
    "def timer(func):\n",
    "    @functools.wraps(func)\n",
    "    def wrapper_timer(*args, **kwargs):\n",
    "        tic = time.perf_counter()\n",
    "        value = func(*args, **kwargs)\n",
    "        toc = time.perf_counter()\n",
    "        elapsed_time = toc - tic\n",
    "        print(f\"Elapsed time: {elapsed_time:0.4f} seconds\")\n",
    "        return value\n",
    "    return wrapper_timer"
   ]
  },
  {
   "cell_type": "code",
   "execution_count": 15,
   "metadata": {},
   "outputs": [
    {
     "name": "stdout",
     "output_type": "stream",
     "text": [
      "working hard... (3 s)\n",
      "Elapsed time: 3.0122 seconds\n"
     ]
    }
   ],
   "source": [
    "@timer\n",
    "def do_task():\n",
    "    time_consuming_task(3)\n",
    "\n",
    "do_task()"
   ]
  },
  {
   "cell_type": "code",
   "execution_count": 17,
   "metadata": {},
   "outputs": [
    {
     "name": "stdout",
     "output_type": "stream",
     "text": [
      "working hard... (3 s)\n",
      "working hard... (1 s)\n",
      "working hard... (0.5 s)\n",
      "Elapsed time: 4.5322 seconds\n"
     ]
    }
   ],
   "source": [
    "@timer\n",
    "def do_tasks():\n",
    "    time_consuming_task(3)\n",
    "    time_consuming_task(1)\n",
    "    time_consuming_task(0.5)\n",
    "\n",
    "do_tasks()"
   ]
  },
  {
   "cell_type": "code",
   "execution_count": 19,
   "metadata": {},
   "outputs": [
    {
     "name": "stdout",
     "output_type": "stream",
     "text": [
      "working hard... (3 s)\n",
      "Elapsed time: 3.0103 seconds\n",
      "working hard... (1 s)\n",
      "Elapsed time: 1.0105 seconds\n",
      "working hard... (0.5 s)\n",
      "Elapsed time: 0.5123 seconds\n",
      "Elapsed time: 4.5337 seconds\n"
     ]
    }
   ],
   "source": [
    "@timer\n",
    "def do_tasks_detailed():\n",
    "    timed_task = timer(time_consuming_task)\n",
    "    timed_task(3)\n",
    "    timed_task(1)\n",
    "    timed_task(0.5)\n",
    "    \n",
    "do_tasks_detailed()"
   ]
  },
  {
   "cell_type": "code",
   "execution_count": 26,
   "metadata": {},
   "outputs": [],
   "source": [
    "import functools\n",
    "\n",
    "def timer2(func):\n",
    "    @functools.wraps(func)\n",
    "    def wrapper_timer(*args, **kwargs):\n",
    "        tic = time.perf_counter()\n",
    "        value = func(*args, **kwargs)\n",
    "        toc = time.perf_counter()\n",
    "        elapsed_time = toc - tic\n",
    "        print(f\"Elapsed time in {func.__name__}({args=}, {kwargs=}): {elapsed_time:0.4f} seconds\")\n",
    "        return value\n",
    "    return wrapper_timer"
   ]
  },
  {
   "cell_type": "code",
   "execution_count": 27,
   "metadata": {},
   "outputs": [
    {
     "name": "stdout",
     "output_type": "stream",
     "text": [
      "working hard... (3 s)\n",
      "Elapsed time in time_consuming_task(args=(3,), kwargs={}): 3.0026 seconds\n",
      "working hard... (1 s)\n",
      "Elapsed time in time_consuming_task(args=(1,), kwargs={}): 1.0084 seconds\n",
      "working hard... (0.5 s)\n",
      "Elapsed time in time_consuming_task(args=(0.5,), kwargs={}): 0.5151 seconds\n",
      "Elapsed time in do_tasks_detailed(args=(), kwargs={}): 4.5272 seconds\n"
     ]
    }
   ],
   "source": [
    "@timer2\n",
    "def do_tasks_detailed():\n",
    "    timed_task = timer2(time_consuming_task)\n",
    "    timed_task(3)\n",
    "    timed_task(1)\n",
    "    timed_task(0.5)\n",
    "    \n",
    "do_tasks_detailed()"
   ]
  }
 ],
 "metadata": {
  "kernelspec": {
   "display_name": "venv",
   "language": "python",
   "name": "python3"
  },
  "language_info": {
   "codemirror_mode": {
    "name": "ipython",
    "version": 3
   },
   "file_extension": ".py",
   "mimetype": "text/x-python",
   "name": "python",
   "nbconvert_exporter": "python",
   "pygments_lexer": "ipython3",
   "version": "3.8.10"
  },
  "orig_nbformat": 4
 },
 "nbformat": 4,
 "nbformat_minor": 2
}
