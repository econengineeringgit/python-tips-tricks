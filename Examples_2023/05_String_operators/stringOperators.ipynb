{
 "cells": [
  {
   "attachments": {},
   "cell_type": "markdown",
   "metadata": {},
   "source": [
    "# String operators"
   ]
  },
  {
   "attachments": {},
   "cell_type": "markdown",
   "metadata": {},
   "source": [
    "## Basic behaviour of strings"
   ]
  },
  {
   "attachments": {},
   "cell_type": "markdown",
   "metadata": {},
   "source": [
    "Concatenate two or more strings using the '+' operator."
   ]
  },
  {
   "cell_type": "code",
   "execution_count": 1,
   "metadata": {},
   "outputs": [
    {
     "data": {
      "text/plain": [
       "'Hello World'"
      ]
     },
     "execution_count": 1,
     "metadata": {},
     "output_type": "execute_result"
    }
   ],
   "source": [
    "string1 = \"Hello\"\n",
    "string2 = \"World\"\n",
    "string3 = string1 + \" \" + string2\n",
    "string3"
   ]
  },
  {
   "attachments": {},
   "cell_type": "markdown",
   "metadata": {},
   "source": [
    "Repeat a string a certain number of times using the '' operator."
   ]
  },
  {
   "cell_type": "code",
   "execution_count": 2,
   "metadata": {},
   "outputs": [
    {
     "data": {
      "text/plain": [
       "'Hello Hello Hello '"
      ]
     },
     "execution_count": 2,
     "metadata": {},
     "output_type": "execute_result"
    }
   ],
   "source": [
    "string1 = \"Hello \"\n",
    "string2 = string1 * 3\n",
    "string2"
   ]
  },
  {
   "attachments": {},
   "cell_type": "markdown",
   "metadata": {},
   "source": [
    "Length of a string"
   ]
  },
  {
   "cell_type": "code",
   "execution_count": 8,
   "metadata": {},
   "outputs": [
    {
     "data": {
      "text/plain": [
       "46"
      ]
     },
     "execution_count": 8,
     "metadata": {},
     "output_type": "execute_result"
    }
   ],
   "source": [
    "s = '''This is also a sting\n",
    "just in multiple lines...'''\n",
    "len(s)"
   ]
  },
  {
   "attachments": {},
   "cell_type": "markdown",
   "metadata": {},
   "source": [
    "Check if a string is a substring of another string using the `in` operator."
   ]
  },
  {
   "cell_type": "code",
   "execution_count": 3,
   "metadata": {},
   "outputs": [
    {
     "name": "stdout",
     "output_type": "stream",
     "text": [
      "found!\n"
     ]
    }
   ],
   "source": [
    "string1 = \"Hello World\"\n",
    "if \"World\" in string1:\n",
    "    print(\"found!\")\n",
    "else:\n",
    "    print(\"not found :(\")"
   ]
  },
  {
   "attachments": {},
   "cell_type": "markdown",
   "metadata": {},
   "source": [
    "Access individual characters in a string using indexing."
   ]
  },
  {
   "cell_type": "code",
   "execution_count": 6,
   "metadata": {},
   "outputs": [
    {
     "data": {
      "text/plain": [
       "'H'"
      ]
     },
     "execution_count": 6,
     "metadata": {},
     "output_type": "execute_result"
    }
   ],
   "source": [
    "string1[0] # Output: H"
   ]
  },
  {
   "cell_type": "code",
   "execution_count": 7,
   "metadata": {},
   "outputs": [
    {
     "data": {
      "text/plain": [
       "'d'"
      ]
     },
     "execution_count": 7,
     "metadata": {},
     "output_type": "execute_result"
    }
   ],
   "source": [
    "string1[-1] # Output: d (last character)"
   ]
  },
  {
   "attachments": {},
   "cell_type": "markdown",
   "metadata": {},
   "source": []
  },
  {
   "cell_type": "code",
   "execution_count": 22,
   "metadata": {},
   "outputs": [
    {
     "name": "stdout",
     "output_type": "stream",
     "text": [
      "Hello World\n",
      "Hello Hello Hello \n",
      "found!\n",
      "H\n",
      "d\n",
      "Hello\n",
      "World\n",
      "dlroW olleH\n",
      "My name is John,\n",
      "and I am 25 old.\n"
     ]
    }
   ],
   "source": [
    "# extract a substring from a string using slicing.\n",
    "string1 = \"Hello World\"\n",
    "print(string1[0:5]) # Output: Hello\n",
    "print(string1[6:]) # Output: World\n",
    "print(string1[::2]) # Output: 'HloWrd'\n",
    "print(string1[::-1]) # Output: dlroW olleH (reverse the string)\n",
    "\n",
    "# TODO: str is inmutable, so we can't change the value of a character in a string.\n",
    "\n",
    "# insert variables or values into a string using the '{}' operator and the 'format()' method.\n",
    "name = \"John\"\n",
    "age = 25\n",
    "print(\"My name is {},\".format(name))\n",
    "print(f\"and I am {age} old.\")\n",
    "# Output:\n",
    "# My name is 'John',\n",
    "# and I am 25 years old."
   ]
  },
  {
   "cell_type": "code",
   "execution_count": 21,
   "metadata": {},
   "outputs": [
    {
     "name": "stdout",
     "output_type": "stream",
     "text": [
      "Capitalized string: This is a sample string.\n",
      "Lowercase string: this is a sample string.\n",
      "Number of 's' in string: 4\n",
      "String ends with 'ing.': True\n",
      "Index of 'sample' in string: 10\n",
      "Replaced string: This is a example string.\n",
      "Split string: ['This', 'is', 'a', 'sample', 'string.']\n",
      "Joined string: This is a sample string.\n",
      "Stripped string: This is a sample string.\n"
     ]
    }
   ],
   "source": [
    "my_string = \"This is a sample string.\"\n",
    "\n",
    "print(\"Capitalized string:\", my_string.capitalize())\n",
    "print(\"Lowercase string:\", my_string.lower())\n",
    "# TODO string.upper(), # TODO string.swapcase(), # TODO string.title()\n",
    "print(\"Number of 's' in string:\", my_string.count(\"s\"))\n",
    "print(\"String ends with 'ing.':\", my_string.endswith(\"ing.\"))\n",
    "# TODO string.startswith()\n",
    "print(\"Index of 'sample' in string:\", my_string.find(\"sample\"))\n",
    "# TODO string.index()\n",
    "# TODO str.rfind(), # TODO str.rindex()\n",
    "print(\"Replaced string:\", my_string.replace(\"sample\", \"example\"))\n",
    "print(\"Split string:\", my_string.split())\n",
    "# TODO string.partition(),\n",
    "# TODO string.splitlines()\n",
    "\n",
    "\n",
    "my_list = [\"This\", \"is\", \"a\", \"sample\", \"string.\"]\n",
    "print(\"Joined string:\", \" \".join(my_list))\n",
    "my_string = \"   This is a sample string.   \"\n",
    "print(\"Stripped string:\", my_string.strip())\n",
    "# TODO strip a specific character from the string.\n",
    "# TODO string.lstrip(), # TODO string.rstrip()\n",
    "# TODO string.removeprefix(), # TODO string.removesuffix()\n"
   ]
  },
  {
   "cell_type": "code",
   "execution_count": 20,
   "metadata": {},
   "outputs": [
    {
     "name": "stdout",
     "output_type": "stream",
     "text": [
      "Centered string: ***This is a sample string.***\n",
      "Justified string: This is a sample string.----------------\n",
      "Padded string: 000000This is a sample string.\n"
     ]
    }
   ],
   "source": [
    "# arrange the text\n",
    "my_string = \"This is a sample string.\"\n",
    "\n",
    "# center the string within a specified width\n",
    "print(\"Centered string:\", my_string.center(30, \"*\"))\n",
    "# left-justify the string and add padding with '-'\n",
    "print(\"Justified string:\", my_string.ljust(40, '-'))\n",
    "# pad the string with zeros on the left side\n",
    "print(\"Padded string:\", my_string.zfill(30))"
   ]
  },
  {
   "cell_type": "code",
   "execution_count": 19,
   "metadata": {},
   "outputs": [
    {
     "name": "stdout",
     "output_type": "stream",
     "text": [
      "String contains only alphabetic characters: False\n",
      "String is a valid identifier: False\n",
      "Without vowel: Thxs xs x sxmplx strxng.\n",
      "Partitioned string: ('This is a ', 'sample', ' string.')\n"
     ]
    }
   ],
   "source": [
    "#some more complex examples\n",
    "my_string = \"This is a sample string.\"\n",
    "\n",
    "# check if the string contains only alphabetic characters\n",
    "print(\"String contains only alphabetic characters:\", my_string.isalpha())\n",
    "#TODO string.isalnum()\n",
    "#TODO string.isdecimal()\n",
    "#TODO string.islower()\n",
    "# check if the string is a valid identifier\n",
    "print(\"String is a valid identifier:\", my_string.isidentifier())\n",
    "# translate the string using a translation table\n",
    "vowel_table = str.maketrans(\"aeiouAEIOU\", \"xxxxxXXXXX\")\n",
    "print(\"Without vowel:\", my_string.translate(vowel_table))\n",
    "# partition the string into three parts based on the first occurrence of a separator\n",
    "print(\"Partitioned string:\", my_string.partition(\"sample\"))"
   ]
  },
  {
   "cell_type": "code",
   "execution_count": 17,
   "metadata": {},
   "outputs": [],
   "source": [
    "# More about strings in general:\n",
    "# https://www.tutorialspoint.com/python/python_strings.htm\n",
    "# More about string methods:\n",
    "# https://docs.python.org/3/library/stdtypes.html#string-methods"
   ]
  }
 ],
 "metadata": {
  "kernelspec": {
   "display_name": "Python 3",
   "language": "python",
   "name": "python3"
  },
  "language_info": {
   "codemirror_mode": {
    "name": "ipython",
    "version": 3
   },
   "file_extension": ".py",
   "mimetype": "text/x-python",
   "name": "python",
   "nbconvert_exporter": "python",
   "pygments_lexer": "ipython3",
   "version": "3.8.10"
  },
  "orig_nbformat": 4,
  "vscode": {
   "interpreter": {
    "hash": "2b0358443a849d46ec51c482154053f2e8e1c4a1401040f02828ec2fdaa9e544"
   }
  }
 },
 "nbformat": 4,
 "nbformat_minor": 2
}
