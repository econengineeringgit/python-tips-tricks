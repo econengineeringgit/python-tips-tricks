{
 "cells": [
  {
   "attachments": {},
   "cell_type": "markdown",
   "metadata": {},
   "source": [
    "# Regular expressions"
   ]
  },
  {
   "cell_type": "code",
   "execution_count": 85,
   "metadata": {},
   "outputs": [],
   "source": [
    "import re"
   ]
  },
  {
   "attachments": {},
   "cell_type": "markdown",
   "metadata": {},
   "source": [
    "### Basic regex syntax and rules\n",
    "##### More at: https://regex101.com/"
   ]
  },
  {
   "cell_type": "code",
   "execution_count": 86,
   "metadata": {},
   "outputs": [],
   "source": [
    "pattern = r\"abc\"  # Literal characters\n",
    "pattern = r\"\\$\"  # matching a dollar sign\n",
    "pattern = r\"\\\\d\"  # Escape sequences: matching the literal string \"\\d\"\n",
    "\n",
    "# Characters\n",
    "pattern = r\"\\d\"  # Predefined character class: matching digits\n",
    "pattern = r\"[aeiou]\"  # Custom character set: matching vowels\n",
    "pattern = r\"[^aeiou]\"  # Negation: matching non-vowels\n",
    "pattern = r\"colou?r\"  # ? (0 or 1): matching \"color\" and \"colour\"\n",
    "\n",
    "# Quantifiers\n",
    "pattern = r\"\\d*\"  # * (0 or more): matching any number of digits\n",
    "pattern = r\"\\d+\"  # + (1 or more): matching one or more digits\n",
    "pattern = r\"\\d{3,5}\"  # {m,n} (m to n occurrences): matching 3 to 5 digits"
   ]
  },
  {
   "cell_type": "code",
   "execution_count": 87,
   "metadata": {},
   "outputs": [
    {
     "name": "stdout",
     "output_type": "stream",
     "text": [
      "Matched string: fox\n",
      "Start position: 14\n",
      "End position: 17\n",
      "Match span: (14, 17)\n",
      "Original string: What does the fox say?\n",
      "Regex object: re.compile('fox')\n"
     ]
    }
   ],
   "source": [
    "text = \"What does the fox say?\"\n",
    "pattern = r\"fox\"\n",
    "regex_object = re.compile(pattern)\n",
    "\n",
    "# Find all matches\n",
    "matches = regex_object.findall(text)\n",
    "for match in regex_object.finditer(text):\n",
    "    print(\"Matched string:\", match.group())\n",
    "    print(\"Start position:\", match.start())\n",
    "    print(\"End position:\", match.end())\n",
    "    print(\"Match span:\", match.span())\n",
    "    print(\"Original string:\", match.string)\n",
    "    print(\"Regex object:\", match.re)\n",
    "    "
   ]
  },
  {
   "cell_type": "code",
   "execution_count": 88,
   "metadata": {},
   "outputs": [
    {
     "name": "stdout",
     "output_type": "stream",
     "text": [
      "Named groups: {'name': 'John Smith', 'phone': '555-1234'}\n"
     ]
    }
   ],
   "source": [
    "text = \"John Smith: 555-1234\"\n",
    "pattern = r\"(?P<name>\\w+ \\w+): (?P<phone>\\d{3}-\\d{4})\"\n",
    "regex_object = re.compile(pattern)\n",
    "match = regex_object.search(text)\n",
    "\n",
    "if match:\n",
    "    # Print the dictionary of named groups and their matches\n",
    "    print(\"Named groups:\", match.groupdict())"
   ]
  },
  {
   "attachments": {},
   "cell_type": "markdown",
   "metadata": {},
   "source": [
    "### Using a regex is safer"
   ]
  },
  {
   "cell_type": "code",
   "execution_count": 89,
   "metadata": {},
   "outputs": [
    {
     "name": "stdout",
     "output_type": "stream",
     "text": [
      "10_m06xR\n",
      "10_m06xR\n"
     ]
    }
   ],
   "source": [
    "text = \"G65_E_VL-VKBG_VS116OHVP45R_******_Param_10_m06xR\"\n",
    "\n",
    "parts = text.split(\"_\")\n",
    "substring = parts[-2] + \"_\" + parts[-1]\n",
    "print(substring)  # Output: \"10_m06xR\"\n",
    "\n",
    "pattern = r\"Param_(\\w+)\"\n",
    "regex_object = re.compile(pattern)\n",
    "match = regex_object.search(text)\n",
    "if match:\n",
    "    substring = match.group(1)\n",
    "    print(substring)  # Output: \"10_m06xR\"\n",
    "else:\n",
    "    print(match)"
   ]
  },
  {
   "cell_type": "code",
   "execution_count": 90,
   "metadata": {},
   "outputs": [
    {
     "name": "stdout",
     "output_type": "stream",
     "text": [
      "VS116OHVP45R_******\n",
      "None\n"
     ]
    }
   ],
   "source": [
    "text = \"G65_E_VL-VKBG_VS116OHVP45R_******\"\n",
    "parts = text.split(\"_\")\n",
    "substring = parts[-2] + \"_\" + parts[-1]\n",
    "print(substring) # Output: VS116OHVP45R_****** <- NOT WHAT WE WANT!\n",
    "\n",
    "pattern = r\"Param_(\\w+)\"\n",
    "regex_object3 = re.compile(pattern)\n",
    "match = regex_object3.search(text)\n",
    "if match:\n",
    "    substring4 = match.group(1)\n",
    "    print(substring4)\n",
    "else:\n",
    "    print(match)  # Output: None <- IS WHAT WE WANT!"
   ]
  },
  {
   "attachments": {},
   "cell_type": "markdown",
   "metadata": {},
   "source": [
    "### Character classes\n"
   ]
  },
  {
   "cell_type": "code",
   "execution_count": 91,
   "metadata": {},
   "outputs": [
    {
     "name": "stdout",
     "output_type": "stream",
     "text": [
      "['e', 'u', 'i', 'o', 'u', 'o', 'e', 'e', 'a', 'o']\n",
      "Th- q--ck f-x j-mps -v-r th- l-zy d-g!\n"
     ]
    }
   ],
   "source": [
    "text = \"The quick fox jumps over the lazy dog!\"\n",
    "pattern = r\"[aeiou]\"\n",
    "regex_object = re.compile(pattern)\n",
    "\n",
    "# Find matches\n",
    "matches = regex_object.findall(text)\n",
    "print(matches)  # Output: ['e', 'u', 'i', 'o', 'o', 'u', 'o', 'e', 'a', 'o']\n",
    "\n",
    "# Replace matches\n",
    "new_text = regex_object.sub(\"-\", text)\n",
    "print(new_text)  # Output: \"Th- q--ck br--wn f-x j-mps -v-r th- l-z- d-g.\"\n"
   ]
  },
  {
   "attachments": {},
   "cell_type": "markdown",
   "metadata": {},
   "source": [
    "### Quantifiers\n"
   ]
  },
  {
   "cell_type": "code",
   "execution_count": 92,
   "metadata": {},
   "outputs": [
    {
     "name": "stdout",
     "output_type": "stream",
     "text": [
      "['city', 'mouse', 'mouse', 'heart']\n",
      "Are you a ***** ***** or a country ***** at *****?\n"
     ]
    }
   ],
   "source": [
    "text = \"Are you a city mouse or a country mouse at heart?\"\n",
    "pattern = r\"\\b\\w{4,6}\\b\"\n",
    "regex_object = re.compile(pattern)\n",
    "\n",
    "# Find matches\n",
    "matches = regex_object.findall(text)\n",
    "print(matches)  # Output: ['city', 'mouse', 'mouse', 'heart']\n",
    "\n",
    "# Replace matches\n",
    "new_text = regex_object.sub(\"*****\", text)\n",
    "print(new_text)  # Output: Are you a ***** ***** or a country ***** at *****?"
   ]
  },
  {
   "attachments": {},
   "cell_type": "markdown",
   "metadata": {},
   "source": [
    "### Anchors"
   ]
  },
  {
   "cell_type": "code",
   "execution_count": 93,
   "metadata": {},
   "outputs": [
    {
     "name": "stdout",
     "output_type": "stream",
     "text": [
      "['The', 'dog!']\n"
     ]
    }
   ],
   "source": [
    "text = \"The quick fox jumps over the lazy dog!\"\n",
    "pattern = r\"^The|\\bdog\\!\"\n",
    "'''\n",
    "^The      Matches the string \"The\" only if it appears at the beginning of a line.\n",
    "|         = OR\n",
    "\\bdog\\!   Matches the string \"dog!\" only if it appears at the end of a word followed by \"!\".\n",
    "'''\n",
    "regex_object = re.compile(pattern, re.MULTILINE)\n",
    "\n",
    "matches = regex_object.findall(text)\n",
    "print(matches)  # Output: ['The', 'dog!']\n"
   ]
  },
  {
   "attachments": {},
   "cell_type": "markdown",
   "metadata": {},
   "source": [
    "### Groups"
   ]
  },
  {
   "cell_type": "code",
   "execution_count": 94,
   "metadata": {},
   "outputs": [
    {
     "name": "stdout",
     "output_type": "stream",
     "text": [
      "Name: Milán\n",
      "Age: 22\n"
     ]
    }
   ],
   "source": [
    "import re\n",
    "\n",
    "text = \"My name is Milán, and I'm 22 years old.\"\n",
    "pattern = r\"My name is (\\w+), and I'm (\\d+) years old\\.\"\n",
    "'''\n",
    "My name is  Matches \"My name is \".\n",
    "(\\w+)      Matches one or more word characters and captures them as a group.\n",
    ", and I'm  Matches the string \", and I'm \"\n",
    "(\\d+)      Matches one or more digits and captures them as a group.\n",
    "years old\\. Matches the string \"years old.\"\n",
    "'''\n",
    "regex_object = re.compile(pattern)\n",
    "\n",
    "# Find matches and get the captured groups\n",
    "match = regex_object.search(text)\n",
    "name = match.group(1)\n",
    "age = match.group(2)\n",
    "\n",
    "print(\"Name: \" + name)  # Output: Name: Milán\n",
    "print(\"Age: \" + age)    # Output: Age: 22"
   ]
  },
  {
   "attachments": {},
   "cell_type": "markdown",
   "metadata": {},
   "source": [
    "### Lookarounds"
   ]
  },
  {
   "cell_type": "code",
   "execution_count": 95,
   "metadata": {},
   "outputs": [
    {
     "name": "stdout",
     "output_type": "stream",
     "text": [
      "['fox']\n"
     ]
    }
   ],
   "source": [
    "text = \"The quick fox jumps over the lazy dog.\"\n",
    "pattern = r\"(?<=quick )fox\"\n",
    "# matches the word \"fox\" only if it comes after the word \"quick\" with a space.\n",
    "regex_object = re.compile(pattern)\n",
    "\n",
    "# Find matches\n",
    "matches = regex_object.findall(text)\n",
    "print(matches)  # Output: ['fox']"
   ]
  },
  {
   "attachments": {},
   "cell_type": "markdown",
   "metadata": {},
   "source": [
    "### FLags"
   ]
  },
  {
   "cell_type": "code",
   "execution_count": 96,
   "metadata": {},
   "outputs": [
    {
     "name": "stdout",
     "output_type": "stream",
     "text": [
      "['Hello']\n"
     ]
    }
   ],
   "source": [
    "text = \"Hello, world!\"\n",
    "pattern = r\"hello\"\n",
    "regex_object = re.compile(pattern, re.IGNORECASE)\n",
    "\n",
    "# Find matches\n",
    "matches = regex_object.findall(text)\n",
    "print(matches)  # Output: ['Hello']"
   ]
  },
  {
   "attachments": {},
   "cell_type": "markdown",
   "metadata": {},
   "source": [
    "### Different ways to match a patter"
   ]
  },
  {
   "cell_type": "code",
   "execution_count": 97,
   "metadata": {},
   "outputs": [
    {
     "name": "stdout",
     "output_type": "stream",
     "text": [
      "Found match: The\n",
      "Found match: quick\n",
      "Found matches: ['over', 'lazy']\n",
      "New text: The red fox jumps over the red dog.\n",
      "Words: ['The', 'quick', 'fox', 'jumps', 'over', 'the', 'lazy', 'dog', '']\n"
     ]
    }
   ],
   "source": [
    "text = \"The quick fox jumps over the lazy dog.\"\n",
    "\n",
    "# Match a pattern\n",
    "# match only looks for the pattern at the beginning of the string,\n",
    "# while search searches for the pattern throughout the entire string.\n",
    "pattern = r\"The\"\n",
    "match = re.match(pattern, text)\n",
    "if match:\n",
    "    print(\"Found match:\", match.group()) # Output: Found match: The\n",
    "\n",
    "# Search for a pattern\n",
    "pattern = r\"quick\"\n",
    "match = re.search(pattern, text)\n",
    "if match:\n",
    "    print(\"Found match:\", match.group()) # Output: Found match: quick\n",
    "\n",
    "# Find all occurrences of a pattern\n",
    "pattern = r\"\\b\\w{4}\\b\"\n",
    "matches = re.findall(pattern, text)\n",
    "print(\"Found matches:\", matches) # Output: Found matches: ['over', 'lazy']\n",
    "\n",
    "# Replace a pattern\n",
    "pattern = r\"quick|lazy\"\n",
    "new_text = re.sub(pattern, \"red\", text)\n",
    "print(\"New text:\", new_text) # Output: New text: The quick fox jumps over the red dog.\n",
    "\n",
    "# Split the text into a list of substrings using a pattern\n",
    "pattern = r\"\\W+\"\n",
    "words = re.split(pattern, text)\n",
    "print(\"Words:\", words) # Output: Words: ['The', 'quick', 'fox', 'jumps', 'over', 'the', 'lazy', 'dog', '']"
   ]
  }
 ],
 "metadata": {
  "kernelspec": {
   "display_name": "Python 3",
   "language": "python",
   "name": "python3"
  },
  "language_info": {
   "codemirror_mode": {
    "name": "ipython",
    "version": 3
   },
   "file_extension": ".py",
   "mimetype": "text/x-python",
   "name": "python",
   "nbconvert_exporter": "python",
   "pygments_lexer": "ipython3",
   "version": "3.10.5"
  },
  "orig_nbformat": 4,
  "vscode": {
   "interpreter": {
    "hash": "2b0358443a849d46ec51c482154053f2e8e1c4a1401040f02828ec2fdaa9e544"
   }
  }
 },
 "nbformat": 4,
 "nbformat_minor": 2
}
