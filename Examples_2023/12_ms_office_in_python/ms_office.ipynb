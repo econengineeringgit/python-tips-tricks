{
 "cells": [
  {
   "attachments": {},
   "cell_type": "markdown",
   "metadata": {},
   "source": [
    "# MS Office in Python"
   ]
  },
  {
   "attachments": {},
   "cell_type": "markdown",
   "metadata": {},
   "source": [
    "### python-docx for Word."
   ]
  },
  {
   "cell_type": "code",
   "execution_count": 45,
   "metadata": {},
   "outputs": [
    {
     "name": "stdout",
     "output_type": "stream",
     "text": [
      "File saved successfully.\n"
     ]
    }
   ],
   "source": [
    "from docx import Document\n",
    "\n",
    "# Create a new Document\n",
    "doc = Document()\n",
    "\n",
    "# Define the tests and their results\n",
    "tests = ['Success', 'Success', 'Fail', 'Success', 'Success', 'Fail', 'Fail', 'Fail', 'Success']\n",
    "\n",
    "# Write the tests and their results to the document\n",
    "for i, result in enumerate(tests, start=1):\n",
    "    doc.add_paragraph(f'Task {i}: {result}')\n",
    "\n",
    "# Save the document\n",
    "try:\n",
    "    doc.save('task_results.docx')\n",
    "    print('File saved successfully.')\n",
    "except PermissionError:\n",
    "    print('Please close the file first.')"
   ]
  },
  {
   "attachments": {},
   "cell_type": "markdown",
   "metadata": {},
   "source": [
    "### openpyxl for Excel."
   ]
  },
  {
   "cell_type": "code",
   "execution_count": 46,
   "metadata": {},
   "outputs": [
    {
     "name": "stdout",
     "output_type": "stream",
     "text": [
      "File saved successfully.\n"
     ]
    }
   ],
   "source": [
    "from openpyxl import Workbook\n",
    "\n",
    "# Create a new Workbook\n",
    "wb = Workbook()\n",
    "\n",
    "# Select active worksheet\n",
    "ws = wb.active\n",
    "\n",
    "# Define the headers and the data\n",
    "headers = ['Task 1', 'Task 2', 'Task 3', 'Task 4', 'Task 5', 'Task 6', 'Task 7', 'Task 8', 'Task 9']\n",
    "data = [\n",
    "    ['x', 'x', None, 'x', 'x', 'x', None, None, 'x'],\n",
    "    ['x', None, None, None, None, None, 'x', 'x', 'x'],\n",
    "    ['x', 'x', 'x', 'x', 'x', None, None, None, 'x'],\n",
    "]\n",
    "\n",
    "# Write the headers and the data to the worksheet\n",
    "ws.append([''] + headers)\n",
    "for i, row in enumerate(data, start=1):\n",
    "    ws.append([f'Test {i}'] + row)\n",
    "\n",
    "# Save the workbook\n",
    "try:\n",
    "    wb.save(\"versions_testing.xlsx\")\n",
    "    print('File saved successfully.')\n",
    "except PermissionError:\n",
    "    print('Please close the file first.')"
   ]
  },
  {
   "attachments": {},
   "cell_type": "markdown",
   "metadata": {},
   "source": [
    "### python-pptx for PowerPoint."
   ]
  },
  {
   "cell_type": "code",
   "execution_count": 47,
   "metadata": {},
   "outputs": [
    {
     "name": "stdout",
     "output_type": "stream",
     "text": [
      "Presentation for Test 1 saved successfully.\n",
      "Presentation for Test 2 saved successfully.\n",
      "Presentation for Test 3 saved successfully.\n"
     ]
    }
   ],
   "source": [
    "from openpyxl import load_workbook\n",
    "from docx import Document\n",
    "from pptx import Presentation\n",
    "from pptx.util import Inches\n",
    "from pptx.chart.data import CategoryChartData\n",
    "from pptx.enum.chart import XL_CHART_TYPE\n",
    "from pptx.util import Inches, Pt\n",
    "\n",
    "'''\n",
    "collect the tests and tasks from the Excel file\n",
    "'''\n",
    "wb = load_workbook('versions_testing.xlsx')\n",
    "ws = wb.active\n",
    "tests = {}\n",
    "for row in ws.iter_rows(min_row=2, max_row=ws.max_row):\n",
    "    tasks = []\n",
    "    for cell in row:\n",
    "        # NOTICE: in python if the first check is false, the second one is not evaluated\n",
    "        if cell.value is not None and cell.value.lower() == 'x':\n",
    "            tasks.append(str(cell.column - 1))\n",
    "    tests[row[0].value] = tasks\n",
    "\n",
    "'''\n",
    "collect the paragraphs from the document\n",
    "'''\n",
    "doc = Document('task_results.docx')\n",
    "test_paragraphs = {}\n",
    "for i, p in enumerate(doc.paragraphs):\n",
    "    test_name = \"Task \" + str(i + 1)\n",
    "    test_paragraphs[test_name] = p.text\n",
    "\n",
    "'''\n",
    "create a presentation for each test\n",
    "'''\n",
    "for test, tasks in tests.items():\n",
    "    presentation = Presentation()\n",
    "\n",
    "    # add a slide with title layout\n",
    "    slide_layout = presentation.slide_layouts[0]  # title slide layout\n",
    "    slide = presentation.slides.add_slide(slide_layout)\n",
    "    slide.shapes.add_picture('econ_symbol_color.jpg', Inches(0.2), Inches(0.2), width=Inches(0.5), \n",
    "                             height=Inches(0.5))  # replace with your image file\n",
    "\n",
    "    # add a title and a subtitle to the slide\n",
    "    title = slide.shapes.title\n",
    "    title.text = f\"{test} Summary\"\n",
    "    subtitle = slide.placeholders[1]\n",
    "    subtitle.text = \"A summary of test results with a chart.\"\n",
    "\n",
    "    # Add a slide with a title and content layout\n",
    "    slide_layout = presentation.slide_layouts[5] # layout 5 has a title only\n",
    "    slide = presentation.slides.add_slide(slide_layout)\n",
    "    slide.shapes.add_picture('econ_symbol_color.jpg', Inches(0.2), Inches(0.2), width=Inches(0.5), \n",
    "                             height=Inches(0.5))  # replace with your image file\n",
    "\n",
    "    # Add a title to the slide\n",
    "    title = slide.shapes.title\n",
    "    title.text = f\"{test} Results\"\n",
    "\n",
    "    # Filter tests based on Excel file\n",
    "    filtered_tests = [test_paragraphs[f\"Task {task}\"] for task in tasks]\n",
    "    # Same thing without list comprehension:\n",
    "    # filtered_tests = []\n",
    "    # for task in tasks:\n",
    "    #     test_key = f\"Test {task}\"\n",
    "    #     test_value = test_paragraphs[test_key]\n",
    "    #     filtered_tests.append(test_value)\n",
    "\n",
    "    # Add a table to the slide with an additional row for headers\n",
    "    rows, cols = len(filtered_tests) + 1, 2\n",
    "\n",
    "    # add table to slide\n",
    "    table = slide.shapes.add_table(rows, cols, Inches(0.5), Inches(2.0), Inches(4.0), \n",
    "                                   Inches(4.0)).table\n",
    "\n",
    "    # Add headers to the table \n",
    "    table.cell(0, 0).text = \"Task name\"\n",
    "    table.cell(0, 1).text = \"Result\"\n",
    "\n",
    "    # Fill the table with the tests from the Word document\n",
    "    for i, filtered_test in enumerate(filtered_tests, start=1):  # start from 1 to skip headers\n",
    "        test_name, result = filtered_test.split(\": \")\n",
    "        table.cell(i, 0).text = test_name\n",
    "        table.cell(i, 1).text = result\n",
    "\n",
    "    # define chart data ---------------------\n",
    "    chart_data = CategoryChartData()\n",
    "    chart_data.categories = ['Success', 'Fail']\n",
    "\n",
    "    success_count = sum('Success' in test for test in filtered_tests)\n",
    "    fail_count = sum('Fail' in test for test in filtered_tests)\n",
    "    chart_data.add_series('Series', (success_count, fail_count))\n",
    "\n",
    "    # create chart on slide --------------------\n",
    "    x, y, cx, cy = Inches(5), Inches(2), Inches(4), Inches(4)\n",
    "    chart = slide.shapes.add_chart(\n",
    "        XL_CHART_TYPE.COLUMN_CLUSTERED, x, y, cx, cy, chart_data\n",
    "    ).chart\n",
    "\n",
    "    chart.has_legend = False\n",
    "    chart.series[0].has_data_labels = True\n",
    "    chart.series[0].data_labels.number_format = '0'\n",
    "\n",
    "    # Set font size for the chart title\n",
    "    chart.chart_title.text_frame.text = \"Test Results Chart\"\n",
    "    chart.chart_title.text_frame.paragraphs[0].runs[0].font.size = Pt(16)\n",
    "\n",
    "    # Save the presentation\n",
    "    try:\n",
    "        formatted_test_name = test.replace(' ', '_').lower() # Just to make the file name look nicer\n",
    "        presentation.save(f\"{formatted_test_name}_presentation.pptx\")\n",
    "        print(f\"Presentation for {test} saved successfully.\")\n",
    "    except PermissionError:\n",
    "        print(f\"Presentation {test} is open, you have to close it first!\")"
   ]
  }
 ],
 "metadata": {
  "kernelspec": {
   "display_name": ".venv",
   "language": "python",
   "name": "python3"
  },
  "language_info": {
   "codemirror_mode": {
    "name": "ipython",
    "version": 3
   },
   "file_extension": ".py",
   "mimetype": "text/x-python",
   "name": "python",
   "nbconvert_exporter": "python",
   "pygments_lexer": "ipython3",
   "version": "3.8.0"
  },
  "orig_nbformat": 4
 },
 "nbformat": 4,
 "nbformat_minor": 2
}
