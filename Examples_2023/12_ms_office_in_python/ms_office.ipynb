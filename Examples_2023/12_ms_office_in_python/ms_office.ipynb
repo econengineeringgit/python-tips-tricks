{
 "cells": [
  {
   "attachments": {},
   "cell_type": "markdown",
   "metadata": {},
   "source": [
    "# MS Office in Python"
   ]
  },
  {
   "attachments": {},
   "cell_type": "markdown",
   "metadata": {},
   "source": [
    "### python-docx for Word."
   ]
  },
  {
   "cell_type": "code",
   "execution_count": 5,
   "metadata": {},
   "outputs": [
    {
     "name": "stdout",
     "output_type": "stream",
     "text": [
      "File saved successfully.\n"
     ]
    }
   ],
   "source": [
    "from docx import Document\n",
    "\n",
    "# Create a new Document\n",
    "doc = Document()\n",
    "\n",
    "# Define the tests and their results\n",
    "tests = ['Success', 'Success', 'Fail', 'Success', 'Success', 'Fail', 'Fail', 'Success', 'Success']\n",
    "\n",
    "# Write the tests and their results to the document\n",
    "for i, result in enumerate(tests, start=1):\n",
    "    doc.add_paragraph(f'Task {i}: {result}')\n",
    "\n",
    "# Save the document\n",
    "try:\n",
    "    doc.save('task_results.docx')\n",
    "    print('File saved successfully.')\n",
    "except PermissionError:\n",
    "    print('Please close the file first.')"
   ]
  },
  {
   "attachments": {},
   "cell_type": "markdown",
   "metadata": {},
   "source": [
    "### openpyxl for Excel."
   ]
  },
  {
   "cell_type": "code",
   "execution_count": 6,
   "metadata": {},
   "outputs": [
    {
     "name": "stdout",
     "output_type": "stream",
     "text": [
      "File saved successfully.\n"
     ]
    }
   ],
   "source": [
    "from openpyxl import Workbook\n",
    "\n",
    "# Create a new Workbook\n",
    "wb = Workbook()\n",
    "\n",
    "# Select active worksheet\n",
    "ws = wb.active\n",
    "\n",
    "# Define the headers and the data\n",
    "headers = ['Task 1', 'Task 2', 'Task 3', 'Task 4', 'Task 5', 'Task 6', 'Task 7', 'Task 8', 'Task 9']\n",
    "data = [\n",
    "    ['x', 'x', None, 'x', 'x', 'x', None, None, 'x'],\n",
    "    ['x', None, None, None, None, None, 'x', 'x', 'x'],\n",
    "    ['x', 'x', 'x', 'x', 'x', None, None, None, 'x'],\n",
    "]\n",
    "\n",
    "# Write the headers and the data to the worksheet\n",
    "ws.append([''] + headers)\n",
    "for i, row in enumerate(data, start=1):\n",
    "    ws.append([f'Test {i}'] + row)\n",
    "\n",
    "# Save the workbook\n",
    "try:\n",
    "    wb.save(\"versions_testing.xlsx\")\n",
    "    print('File saved successfully.')\n",
    "except PermissionError:\n",
    "    print('Please close the file first.')"
   ]
  },
  {
   "attachments": {},
   "cell_type": "markdown",
   "metadata": {},
   "source": [
    "### python-pptx for PowerPoint."
   ]
  },
  {
   "cell_type": "code",
   "execution_count": 7,
   "metadata": {},
   "outputs": [
    {
     "name": "stdout",
     "output_type": "stream",
     "text": [
      "Presentation for Test 1 saved successfully.\n",
      "Presentation for Test 2 saved successfully.\n",
      "Presentation for Test 3 saved successfully.\n"
     ]
    }
   ],
   "source": [
    "from openpyxl import load_workbook\n",
    "from docx import Document\n",
    "from pptx import Presentation\n",
    "from pptx.util import Inches\n",
    "\n",
    "'''\n",
    "collect the tests and tasks from the Excel file\n",
    "'''\n",
    "wb = load_workbook('versions_testing.xlsx')\n",
    "ws = wb.active\n",
    "tests = {}\n",
    "for row in ws.iter_rows(min_row=2, max_row=ws.max_row):\n",
    "    tasks = []\n",
    "    for cell in row:\n",
    "        # NOTICE: in python if the first check is false, the second one is not evaluated\n",
    "        if cell.value is not None and cell.value.lower() == 'x':\n",
    "            tasks.append(str(cell.column - 1))\n",
    "    tests[row[0].value] = tasks\n",
    "\n",
    "'''\n",
    "collect the paragraphs from the document\n",
    "'''\n",
    "doc = Document('task_results.docx')\n",
    "test_paragraphs = {}\n",
    "for i, p in enumerate(doc.paragraphs):\n",
    "    test_name = \"Task \" + str(i + 1)\n",
    "    test_paragraphs[test_name] = p.text\n",
    "\n",
    "'''\n",
    "create a presentation for each test\n",
    "'''\n",
    "for test, tasks in tests.items():\n",
    "    presentation = Presentation()\n",
    "\n",
    "    # Add a slide with a title and content layout\n",
    "    slide_layout = presentation.slide_layouts[5] # chose this because layout 5 has a title only\n",
    "    slide = presentation.slides.add_slide(slide_layout)\n",
    "\n",
    "    # Add a title to the slide\n",
    "    title = slide.shapes.title\n",
    "    title.text = f\"{test} Results\"\n",
    "\n",
    "    # Filter tests based on Excel file\n",
    "    filtered_tests = [test_paragraphs[f\"Task {task}\"] for task in tasks]\n",
    "    '''\n",
    "    Same thing without list comprehension:\n",
    "    filtered_tests = []\n",
    "    for task in tasks:\n",
    "        test_key = f\"Test {task}\"\n",
    "        test_value = test_paragraphs[test_key]\n",
    "        filtered_tests.append(test_value)\n",
    "    '''\n",
    "\n",
    "    # Add a table to the slide with an additional row for headers\n",
    "    rows, cols = len(filtered_tests) + 1, 2\n",
    "\n",
    "    # NOTICE: we can assign values to several variables this way in one line\n",
    "    left = top = Inches(3.0)\n",
    "    width = height = Inches(4.0)\n",
    "\n",
    "    # add table to slide\n",
    "    table = slide.shapes.add_table(rows, cols, left, top, width, height).table\n",
    "\n",
    "    # Add headers to the table \n",
    "    table.cell(0, 0).text = \"Task name\"\n",
    "    table.cell(0, 1).text = \"Result\"\n",
    "\n",
    "    # Fill the table with the tests from the Word document\n",
    "    for i, filtered_test in enumerate(filtered_tests, start=1):  # start enumeration from 1 to skip headers\n",
    "        test_name, result = filtered_test.split(\": \")\n",
    "        table.cell(i, 0).text = test_name\n",
    "        table.cell(i, 1).text = result\n",
    "\n",
    "    # Save the presentation\n",
    "    try:\n",
    "        formatted_test_name = test.replace(' ', '_').lower() # Just to make the file name look nicer\n",
    "        presentation.save(f\"{formatted_test_name}_presentation.pptx\")\n",
    "        print(f\"Presentation for {test} saved successfully.\")\n",
    "    except PermissionError:\n",
    "        print(f\"Presentation {test} is open, you have to close it first!\")"
   ]
  }
 ],
 "metadata": {
  "kernelspec": {
   "display_name": ".venv",
   "language": "python",
   "name": "python3"
  },
  "language_info": {
   "codemirror_mode": {
    "name": "ipython",
    "version": 3
   },
   "file_extension": ".py",
   "mimetype": "text/x-python",
   "name": "python",
   "nbconvert_exporter": "python",
   "pygments_lexer": "ipython3",
   "version": "3.8.0"
  },
  "orig_nbformat": 4
 },
 "nbformat": 4,
 "nbformat_minor": 2
}
