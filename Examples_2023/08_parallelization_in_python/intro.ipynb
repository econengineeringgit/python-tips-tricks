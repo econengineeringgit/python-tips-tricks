{
 "cells": [
  {
   "attachments": {},
   "cell_type": "markdown",
   "id": "b2502d88",
   "metadata": {},
   "source": [
    "# Multithreading: io\n",
    "\n",
    "# Multiprocessing: calculation"
   ]
  },
  {
   "cell_type": "code",
   "execution_count": 10,
   "id": "d0ba1373",
   "metadata": {},
   "outputs": [],
   "source": [
    "import time"
   ]
  },
  {
   "cell_type": "code",
   "execution_count": 11,
   "id": "99e03183",
   "metadata": {},
   "outputs": [
    {
     "name": "stdout",
     "output_type": "stream",
     "text": [
      "For input '31', result: 1346269\n",
      "For input '32', result: 2178309\n",
      "For input '33', result: 3524578\n",
      "For input '34', result: 5702887\n",
      "For input '35', result: 9227465\n",
      "Elapsed time: 6.541872978210449s\n"
     ]
    }
   ],
   "source": [
    "def Fibonacci(n):\n",
    "    if n == 0:\n",
    "        return 0\n",
    "    elif n == 1 or n == 2:\n",
    "        return 1\n",
    "    else:\n",
    "        return Fibonacci(n-1) + Fibonacci(n-2)\n",
    "    \n",
    "inputs = [31, 32, 33, 34, 35]\n",
    "start = time.time()\n",
    "for inp in inputs:\n",
    "    print(f\"For input '{inp}', result: {Fibonacci(inp)}\")\n",
    "print(f\"Elapsed time: {time.time() - start}s\")"
   ]
  },
  {
   "cell_type": "code",
   "execution_count": 15,
   "id": "b98d9789",
   "metadata": {
    "scrolled": true
   },
   "outputs": [],
   "source": [
    "import threading\n",
    "\n",
    "inputs = [31, 32, 33, 34, 35]\n",
    "\n",
    "threads = []\n",
    "for inp in inputs:\n",
    "    t = threading.Thread(target=Fibonacci, args=(inp, ))\n",
    "    threads.append(t)\n",
    "\n",
    "for t in threads:\n",
    "    t.start()"
   ]
  },
  {
   "cell_type": "code",
   "execution_count": 17,
   "id": "bd4a722c",
   "metadata": {},
   "outputs": [
    {
     "name": "stdout",
     "output_type": "stream",
     "text": [
      "[]\n"
     ]
    }
   ],
   "source": [
    "inputs = [31, 32, 33, 34, 35]\n",
    "\n",
    "def f1(n, res):\n",
    "    time.sleep(1)\n",
    "    res.append(n + 3)\n",
    "\n",
    "threads = []\n",
    "results = []\n",
    "for inp in inputs:\n",
    "    t = threading.Thread(target=f1, args=(inp, results))\n",
    "    threads.append(t)\n",
    "\n",
    "for t in threads:\n",
    "    t.start()\n",
    "    \n",
    "print(results)"
   ]
  },
  {
   "cell_type": "code",
   "execution_count": 18,
   "id": "46957d81",
   "metadata": {},
   "outputs": [
    {
     "name": "stdout",
     "output_type": "stream",
     "text": [
      "Thread: 1 ended.\n",
      "Thread: 2 ended.\n",
      "Thread: 3 ended.\n",
      "Thread: 4 ended.\n",
      "Thread: 5 ended.\n",
      "Elapsed time: 5.587685585021973s\n"
     ]
    }
   ],
   "source": [
    "inputs = [31, 32, 33, 34, 35]\n",
    "\n",
    "threads = []\n",
    "for inp in inputs:\n",
    "    t = threading.Thread(target=Fibonacci, args=(inp, ))\n",
    "    threads.append(t)\n",
    "\n",
    "for t in threads:\n",
    "    t.start()\n",
    "    \n",
    "start = time.time()\n",
    "for tIdx, t in enumerate(threads):\n",
    "    t.join()\n",
    "    print(f\"Thread: {tIdx + 1} ended.\")\n",
    "print(f\"Elapsed time: {time.time() - start}s\")"
   ]
  },
  {
   "cell_type": "code",
   "execution_count": 19,
   "id": "cc6e855b",
   "metadata": {},
   "outputs": [
    {
     "name": "stdout",
     "output_type": "stream",
     "text": [
      "Thread: 1 ended.\n",
      "Thread: 2 ended.\n",
      "Thread: 3 ended.\n",
      "Thread: 4 ended.\n",
      "Thread: 5 ended.\n",
      "Elapsed time: 1.0112831592559814s\n",
      "Results: [35, 36, 38, 37, 34]\n"
     ]
    }
   ],
   "source": [
    "inputs = [31, 32, 33, 34, 35]\n",
    "\n",
    "def f2(n, res):\n",
    "    time.sleep(1)\n",
    "    res.append(n + 3)\n",
    "\n",
    "threads = []\n",
    "results = []\n",
    "for inp in inputs:\n",
    "    t = threading.Thread(target=f2, args=(inp, results))\n",
    "    threads.append(t)\n",
    "\n",
    "for t in threads:\n",
    "    t.start()\n",
    "    \n",
    "start = time.time()\n",
    "for tIdx, t in enumerate(threads):\n",
    "    t.join()\n",
    "    print(f\"Thread: {tIdx + 1} ended.\")\n",
    "print(f\"Elapsed time: {time.time() - start}s\")\n",
    "print(f\"Results: {results}\")"
   ]
  },
  {
   "cell_type": "code",
   "execution_count": 20,
   "id": "f55ec6fd",
   "metadata": {},
   "outputs": [
    {
     "name": "stdout",
     "output_type": "stream",
     "text": [
      "Results: [35, 38, 34, 37, 36]\n",
      "Elapsed time: 1.0259919166564941s\n"
     ]
    }
   ],
   "source": [
    "inputs = [31, 32, 33, 34, 35]\n",
    "\n",
    "threads = []\n",
    "results = []\n",
    "for inp in inputs:\n",
    "    t = threading.Thread(target=f2, args=(inp, results))\n",
    "    threads.append(t)\n",
    "\n",
    "for t in threads:\n",
    "    t.start()\n",
    "    \n",
    "start = time.time()\n",
    "\n",
    "while len(results) != len(threads):\n",
    "    pass\n",
    "\n",
    "print(f\"Results: {results}\")\n",
    "\n",
    "print(f\"Elapsed time: {time.time() - start}s\")"
   ]
  },
  {
   "cell_type": "code",
   "execution_count": null,
   "id": "ce2b4d8f",
   "metadata": {},
   "outputs": [],
   "source": [
    "\"\"\"\n",
    "WARNING: It will not run!\n",
    "Can not use multiprocessing inside jupyter!\n",
    "\"\"\"\n",
    "\n",
    "\n",
    "import multiprocessing as mp\n",
    "\n",
    "inputs = [31, 32, 33, 34, 35]\n",
    "    \n",
    "with mp.Pool() as p:\n",
    "    p.map(Fibonacci, inputs)"
   ]
  },
  {
   "cell_type": "code",
   "execution_count": null,
   "id": "c9861481",
   "metadata": {},
   "outputs": [],
   "source": []
  }
 ],
 "metadata": {
  "kernelspec": {
   "display_name": "Python 3 (ipykernel)",
   "language": "python",
   "name": "python3"
  },
  "language_info": {
   "codemirror_mode": {
    "name": "ipython",
    "version": 3
   },
   "file_extension": ".py",
   "mimetype": "text/x-python",
   "name": "python",
   "nbconvert_exporter": "python",
   "pygments_lexer": "ipython3",
   "version": "3.8.10"
  }
 },
 "nbformat": 4,
 "nbformat_minor": 5
}
